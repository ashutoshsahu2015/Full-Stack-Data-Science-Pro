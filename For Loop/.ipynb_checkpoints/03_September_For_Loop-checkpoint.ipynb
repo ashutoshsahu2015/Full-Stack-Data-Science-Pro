{
 "cells": [
  {
   "cell_type": "markdown",
   "id": "063026a3",
   "metadata": {},
   "source": [
    "## Basic Level"
   ]
  },
  {
   "cell_type": "markdown",
   "id": "8d52ed69",
   "metadata": {},
   "source": [
    "### 1. Write a Python program to print the numbers from 1 to 10 using a `for` loop."
   ]
  },
  {
   "cell_type": "code",
   "execution_count": 1,
   "id": "575863dc",
   "metadata": {},
   "outputs": [
    {
     "name": "stdout",
     "output_type": "stream",
     "text": [
      "1 2 3 4 5 6 7 8 9 10 "
     ]
    }
   ],
   "source": [
    "## Use for loop and iterate it from 1 to 10\n",
    "for i in range(1,11):\n",
    "    print(i, end = \" \")"
   ]
  },
  {
   "cell_type": "markdown",
   "id": "65248725",
   "metadata": {},
   "source": [
    "### 2. Create a program that calculates the sum of all numbers in a list using a `for` loop."
   ]
  },
  {
   "cell_type": "code",
   "execution_count": 2,
   "id": "e78d577e",
   "metadata": {},
   "outputs": [
    {
     "name": "stdout",
     "output_type": "stream",
     "text": [
      "45\n"
     ]
    }
   ],
   "source": [
    "## Declare the list \n",
    "my_list = [1,2,3,4,5,6,7,8,9]\n",
    "\n",
    "# Declare the total variable\n",
    "total = 0\n",
    "\n",
    "# Iterate through every element and add it in total\n",
    "for element in my_list:\n",
    "    total +=element\n",
    "    \n",
    "print(total)"
   ]
  },
  {
   "cell_type": "markdown",
   "id": "c6534eb8",
   "metadata": {},
   "source": [
    "### 3. Write a program to print the characters of a string in reverse order using a `for` loop."
   ]
  },
  {
   "cell_type": "code",
   "execution_count": 3,
   "id": "2d011262",
   "metadata": {},
   "outputs": [
    {
     "name": "stdout",
     "output_type": "stream",
     "text": [
      "ecneicS ataD gninrael ma I"
     ]
    }
   ],
   "source": [
    "## Declare the string\n",
    "input_str = \"I am learning Data Science\"\n",
    "\n",
    "# Iterate from backwards to forward\n",
    "for i in range(len(input_str)-1,-1,-1):\n",
    "    print(input_str[i],end='')"
   ]
  },
  {
   "cell_type": "markdown",
   "id": "d832a2e7",
   "metadata": {},
   "source": [
    "### 4. Develop a program that finds the factorial of a given number using a `for` loop."
   ]
  },
  {
   "cell_type": "code",
   "execution_count": 4,
   "id": "d27c4af3",
   "metadata": {},
   "outputs": [
    {
     "name": "stdout",
     "output_type": "stream",
     "text": [
      "The factorial of 5 is :  120\n"
     ]
    }
   ],
   "source": [
    "## Assuming value of n \n",
    "n = 5\n",
    "\n",
    "## Declare the total variable\n",
    "total = 1\n",
    "\n",
    "## Go from 1 to n and multiply number with total\n",
    "for i in range(1,n+1):\n",
    "    total *=i\n",
    "\n",
    "print('The factorial of',n,'is : ',total)"
   ]
  },
  {
   "cell_type": "markdown",
   "id": "d8da1f61",
   "metadata": {},
   "source": [
    "### 5. Create a program to print the multiplication table of a given number using a `for` loop."
   ]
  },
  {
   "cell_type": "code",
   "execution_count": 5,
   "id": "2cd0b9e4",
   "metadata": {},
   "outputs": [
    {
     "name": "stdout",
     "output_type": "stream",
     "text": [
      "14 X 1 = 14\n",
      "14 X 2 = 28\n",
      "14 X 3 = 42\n",
      "14 X 4 = 56\n",
      "14 X 5 = 70\n",
      "14 X 6 = 84\n",
      "14 X 7 = 98\n",
      "14 X 8 = 112\n",
      "14 X 9 = 126\n",
      "14 X 10 = 140\n"
     ]
    }
   ],
   "source": [
    "## Assuming value of n\n",
    "n = 14\n",
    "\n",
    "for i in range(1,11):\n",
    "    print(n,\"X\",i,\"=\",n*i)"
   ]
  },
  {
   "cell_type": "markdown",
   "id": "69e6385a",
   "metadata": {},
   "source": [
    "### 6. Write a program that counts the number of even and odd numbers in a list using a `for` loop."
   ]
  },
  {
   "cell_type": "code",
   "execution_count": 6,
   "id": "31e0711d",
   "metadata": {},
   "outputs": [
    {
     "name": "stdout",
     "output_type": "stream",
     "text": [
      "Even number count are: 4\n",
      "Odd number count are: 5\n"
     ]
    }
   ],
   "source": [
    "## Declare the list\n",
    "my_list = [1,2,3,4,5,6,7,8,9]\n",
    "\n",
    "## Declare the even and odd count variable\n",
    "even = 0\n",
    "odd = 0\n",
    "\n",
    "## iterate through every element in the list and find out whether it is even or odd?\n",
    "for element in my_list:\n",
    "    if element%2==0:\n",
    "        even+=1\n",
    "    else:\n",
    "        odd +=1\n",
    "        \n",
    "print(\"Even number count are:\",even)\n",
    "print(\"Odd number count are:\",odd)"
   ]
  },
  {
   "cell_type": "markdown",
   "id": "3d24652f",
   "metadata": {},
   "source": [
    "### 7. Develop a program that prints the squares of numbers from 1 to 5 using a `for` loop."
   ]
  },
  {
   "cell_type": "code",
   "execution_count": 7,
   "id": "c5bb5d15",
   "metadata": {},
   "outputs": [
    {
     "name": "stdout",
     "output_type": "stream",
     "text": [
      "1\n",
      "4\n",
      "9\n",
      "16\n",
      "25\n"
     ]
    }
   ],
   "source": [
    "## Code logic to print the square\n",
    "\n",
    "for i in range(1,6):\n",
    "    print(i**2)"
   ]
  },
  {
   "cell_type": "markdown",
   "id": "b1ee2a36",
   "metadata": {},
   "source": [
    "### 8. Create a program to find the length of a string without using the `len()` function."
   ]
  },
  {
   "cell_type": "code",
   "execution_count": 8,
   "id": "864ba2da",
   "metadata": {},
   "outputs": [
    {
     "name": "stdout",
     "output_type": "stream",
     "text": [
      "The length of the string is: 26\n"
     ]
    }
   ],
   "source": [
    "# Assuming input string\n",
    "input_str = \"I am learning Data Science\"\n",
    "\n",
    "## Declare the count variable\n",
    "count = 0\n",
    "\n",
    "## iterate through every char and increase the count\n",
    "for char in input_str:\n",
    "    count +=1\n",
    "    \n",
    "print(\"The length of the string is:\",count)"
   ]
  },
  {
   "cell_type": "markdown",
   "id": "5fe7ceff",
   "metadata": {},
   "source": [
    "\n",
    "### 9. Write a program that calculates the average of a list of numbers using a `for` loop."
   ]
  },
  {
   "cell_type": "code",
   "execution_count": 9,
   "id": "9b3b3ed9",
   "metadata": {},
   "outputs": [
    {
     "name": "stdout",
     "output_type": "stream",
     "text": [
      "Average of list is : 18.333333333333332\n"
     ]
    }
   ],
   "source": [
    "## Assuming input list\n",
    "my_list = [1,2,3,4,5,6,7,8,9]\n",
    "\n",
    "## total variable\n",
    "\n",
    "for element in my_list:\n",
    "    total +=element\n",
    "\n",
    "print(\"Average of list is :\",(total/len(my_list)))"
   ]
  },
  {
   "cell_type": "markdown",
   "id": "53dd2553",
   "metadata": {},
   "source": [
    "### 10. Develop a program that prints the first `n` Fibonacci numbers using a `for` loop."
   ]
  },
  {
   "cell_type": "code",
   "execution_count": 10,
   "id": "94b9c7b5",
   "metadata": {},
   "outputs": [
    {
     "name": "stdout",
     "output_type": "stream",
     "text": [
      "0,1,1,2,3,5,8,13,"
     ]
    }
   ],
   "source": [
    "## Assuming the value of n \n",
    "n = 8\n",
    "\n",
    "## Initialize the variable\n",
    "a,b = 0,1\n",
    "\n",
    "print(a,end= \",\")\n",
    "for i in range(n-1):\n",
    "    a,b = b,a+b\n",
    "    print(a,end = \",\")"
   ]
  },
  {
   "cell_type": "markdown",
   "id": "172fc37a",
   "metadata": {},
   "source": [
    "## Intermediate Level:"
   ]
  },
  {
   "cell_type": "markdown",
   "id": "05ed8ec4",
   "metadata": {},
   "source": [
    "### 11. Write a program to check if a given list contains any duplicates using a `for` loop."
   ]
  },
  {
   "cell_type": "code",
   "execution_count": 11,
   "id": "94817493",
   "metadata": {},
   "outputs": [
    {
     "name": "stdout",
     "output_type": "stream",
     "text": [
      "List contain the duplicates.\n"
     ]
    }
   ],
   "source": [
    "## Assuming the input list \n",
    "my_list = [1,2,3,4,5,6,3]\n",
    "\n",
    "\n",
    "check = False\n",
    "\n",
    "## Use two for loop to iterate and check\n",
    "for i in range(0,len(my_list)):\n",
    "    for j in range(i+1,len(my_list)):\n",
    "        if my_list[i] ==my_list[j]:\n",
    "            check = True\n",
    "\n",
    "if check:\n",
    "    print(\"List contain the duplicates.\")\n",
    "else:\n",
    "    print(\"List doesn't contain the duplicates.\")"
   ]
  },
  {
   "cell_type": "markdown",
   "id": "2128467b",
   "metadata": {},
   "source": [
    "### 12. Create a program that prints the prime numbers in a given range using a `for` loop."
   ]
  },
  {
   "cell_type": "code",
   "execution_count": 12,
   "id": "2da261a8",
   "metadata": {},
   "outputs": [
    {
     "name": "stdout",
     "output_type": "stream",
     "text": [
      "23 29 31 37 41 43 47 53 59 61 67 71 73 79 83 89 97 "
     ]
    }
   ],
   "source": [
    "## Range input for prime numbers\n",
    "low_range = 20\n",
    "high_range = 100\n",
    "\n",
    "## Loop through low range to high range and \n",
    "for num in range(low_range,high_range+1):\n",
    "    if num > 1:\n",
    "        for i in range(2, int(num**0.5) + 1):\n",
    "            if num % i == 0:\n",
    "                break\n",
    "        else:\n",
    "            print(num,end= \" \")"
   ]
  },
  {
   "cell_type": "markdown",
   "id": "4e0377bb",
   "metadata": {},
   "source": [
    "### 13. Develop a program that counts the number of vowels in a string using a `for` loop."
   ]
  },
  {
   "cell_type": "code",
   "execution_count": 13,
   "id": "f7ddb2a4",
   "metadata": {},
   "outputs": [
    {
     "name": "stdout",
     "output_type": "stream",
     "text": [
      "The vowel count are : 10\n"
     ]
    }
   ],
   "source": [
    "## Assumming the input variable\n",
    "input_str = \"I am learning the data science\"\n",
    "\n",
    "## Declare count variable\n",
    "vowel_count = 0\n",
    "\n",
    "# Iterate every char in string and check whether it is vowel and if yes increase the count variable\n",
    "for char in input_str:\n",
    "    if char in ['a','e','i','o','u']:\n",
    "        vowel_count+=1\n",
    "\n",
    "print(\"The vowel count are :\",vowel_count)"
   ]
  },
  {
   "cell_type": "markdown",
   "id": "09f8de55",
   "metadata": {},
   "source": [
    "### 14. Write a program to find the maximum element in a 2D list using a nested `for` loop."
   ]
  },
  {
   "cell_type": "code",
   "execution_count": 14,
   "id": "f744b60b",
   "metadata": {},
   "outputs": [
    {
     "name": "stdout",
     "output_type": "stream",
     "text": [
      "Maximum element : 87\n"
     ]
    }
   ],
   "source": [
    "## Assuming the user input\n",
    "input_list = [1,7,[67,2,5],[34,56,8,],[87,44,9]]\n",
    "\n",
    "#Maximum value\n",
    "maximum = 0\n",
    "\n",
    "## Iterate through every element in the list and if element is list then iterate through it and find the maximum\n",
    "for element in input_list:\n",
    "    if isinstance(element,list):\n",
    "        for i in element:\n",
    "            if i > maximum:\n",
    "                maximum = i\n",
    "    elif element > maximum:\n",
    "        maximum = element\n",
    "\n",
    "## Maximum element\n",
    "print(\"Maximum element :\",maximum)"
   ]
  },
  {
   "cell_type": "markdown",
   "id": "7f5d27cc",
   "metadata": {},
   "source": [
    "### 15. Create a program that removes all occurrences of a specific element from a list using a `for` loop."
   ]
  },
  {
   "cell_type": "code",
   "execution_count": 15,
   "id": "49eedf93",
   "metadata": {},
   "outputs": [
    {
     "name": "stdout",
     "output_type": "stream",
     "text": [
      "[1, 3, 4, 5, 6, 7, 11, 12, 45]\n"
     ]
    }
   ],
   "source": [
    "## Assuming the user input \n",
    "input_list = [1,2,3,4,5,6,7,2,11,12,2,45,2]\n",
    "\n",
    "## elements to remove\n",
    "element = 2\n",
    "\n",
    "#modified list\n",
    "modified = []\n",
    "\n",
    "## Iterate through every item in list and check for equal with element to remove\n",
    "for item in input_list:\n",
    "    if item != element:\n",
    "        modified.append(item)\n",
    "\n",
    "print(modified)"
   ]
  },
  {
   "cell_type": "markdown",
   "id": "a3e7616f",
   "metadata": {},
   "source": [
    "### 16. Develop a program that generates a multiplication table for numbers from 1 to 5 using a nested `for` loop."
   ]
  },
  {
   "cell_type": "code",
   "execution_count": 16,
   "id": "7be58abc",
   "metadata": {},
   "outputs": [
    {
     "name": "stdout",
     "output_type": "stream",
     "text": [
      "----------\n",
      "1 X 1 = 1\n",
      "1 X 2 = 2\n",
      "1 X 3 = 3\n",
      "1 X 4 = 4\n",
      "1 X 5 = 5\n",
      "1 X 6 = 6\n",
      "1 X 7 = 7\n",
      "1 X 8 = 8\n",
      "1 X 9 = 9\n",
      "1 X 10 = 10\n",
      "----------\n",
      "2 X 1 = 2\n",
      "2 X 2 = 4\n",
      "2 X 3 = 6\n",
      "2 X 4 = 8\n",
      "2 X 5 = 10\n",
      "2 X 6 = 12\n",
      "2 X 7 = 14\n",
      "2 X 8 = 16\n",
      "2 X 9 = 18\n",
      "2 X 10 = 20\n",
      "----------\n",
      "3 X 1 = 3\n",
      "3 X 2 = 6\n",
      "3 X 3 = 9\n",
      "3 X 4 = 12\n",
      "3 X 5 = 15\n",
      "3 X 6 = 18\n",
      "3 X 7 = 21\n",
      "3 X 8 = 24\n",
      "3 X 9 = 27\n",
      "3 X 10 = 30\n",
      "----------\n",
      "4 X 1 = 4\n",
      "4 X 2 = 8\n",
      "4 X 3 = 12\n",
      "4 X 4 = 16\n",
      "4 X 5 = 20\n",
      "4 X 6 = 24\n",
      "4 X 7 = 28\n",
      "4 X 8 = 32\n",
      "4 X 9 = 36\n",
      "4 X 10 = 40\n",
      "----------\n",
      "5 X 1 = 5\n",
      "5 X 2 = 10\n",
      "5 X 3 = 15\n",
      "5 X 4 = 20\n",
      "5 X 5 = 25\n",
      "5 X 6 = 30\n",
      "5 X 7 = 35\n",
      "5 X 8 = 40\n",
      "5 X 9 = 45\n",
      "5 X 10 = 50\n"
     ]
    }
   ],
   "source": [
    "## Logic to create a table \n",
    "for i in range(1,6):\n",
    "    print('-'*10)\n",
    "    for j in range(1,11):\n",
    "        print(i,\"X\",j,'=',i*j)"
   ]
  },
  {
   "cell_type": "markdown",
   "id": "c1c09349",
   "metadata": {},
   "source": [
    "### 17. Write a program that converts a list of Fahrenheit temperatures to Celsius using a `for` loop."
   ]
  },
  {
   "cell_type": "code",
   "execution_count": 17,
   "id": "bae3f9a7",
   "metadata": {},
   "outputs": [
    {
     "name": "stdout",
     "output_type": "stream",
     "text": [
      "[-12.22, -6.67, -1.11, 4.44, 10.0, 15.56, 21.11, 26.67, 32.22, 37.78]\n"
     ]
    }
   ],
   "source": [
    "import numpy as np\n",
    "## Assuming the Fahrenheit temperature list\n",
    "fahrenheit_list = [10,20,30,40,50,60,70,80,90,100]\n",
    "\n",
    "## Celsius list\n",
    "celsius_list = []\n",
    "\n",
    "## Iterate through every element, change it for celsius and then add it to celsius list\n",
    "for element in fahrenheit_list:\n",
    "    celsius_list.append(np.round((element-32)*(5/9),2))\n",
    "\n",
    "print(celsius_list)"
   ]
  },
  {
   "cell_type": "markdown",
   "id": "ef451a98",
   "metadata": {},
   "source": [
    "### 18. Create a program to print the common elements from two lists using a `for` loop."
   ]
  },
  {
   "cell_type": "code",
   "execution_count": 18,
   "id": "67b7c840",
   "metadata": {},
   "outputs": [
    {
     "name": "stdout",
     "output_type": "stream",
     "text": [
      "[5, 6]\n"
     ]
    }
   ],
   "source": [
    "## Assuming the input list \n",
    "my_list = [1,2,3,4,5,6]\n",
    "my_list1 = [5,6,7,8,9]\n",
    "\n",
    "## Common list\n",
    "common = []\n",
    "\n",
    "# Iterate through list\n",
    "for element in my_list:\n",
    "    if element in my_list1:\n",
    "        common.append(element)\n",
    "        \n",
    "print(common)"
   ]
  },
  {
   "cell_type": "markdown",
   "id": "5a732f40",
   "metadata": {},
   "source": [
    "### 19. Develop a program that prints the pattern of right-angled triangles using a `for` loop. Use ‘*’ to draw the pattern"
   ]
  },
  {
   "cell_type": "code",
   "execution_count": 19,
   "id": "d32d5d6d",
   "metadata": {},
   "outputs": [
    {
     "name": "stdout",
     "output_type": "stream",
     "text": [
      "*\n",
      "**\n",
      "***\n",
      "****\n",
      "*****\n"
     ]
    }
   ],
   "source": [
    " for i in range(1, 6):\n",
    "        for j in range(i):\n",
    "            print(\"*\", end=\"\")\n",
    "        print()"
   ]
  },
  {
   "cell_type": "markdown",
   "id": "4797f0b8",
   "metadata": {},
   "source": [
    "### 20. Write a program to find the greatest common divisor (GCD) of two numbers using a `for` loop."
   ]
  },
  {
   "cell_type": "code",
   "execution_count": 20,
   "id": "241f5e3c",
   "metadata": {},
   "outputs": [
    {
     "name": "stdout",
     "output_type": "stream",
     "text": [
      " GCD is:  5\n"
     ]
    }
   ],
   "source": [
    "## Assuming the user input\n",
    "number1 = 15\n",
    "number2 = 10\n",
    "\n",
    "for i in range(number1-1,2,-1):\n",
    "    if number1%i == 0 and number2%i==0:\n",
    "        print(\" GCD is: \",i)\n",
    "        break"
   ]
  },
  {
   "cell_type": "markdown",
   "id": "5c86347d",
   "metadata": {},
   "source": [
    "## Advanced Level"
   ]
  },
  {
   "cell_type": "markdown",
   "id": "c9c46c0a",
   "metadata": {},
   "source": [
    "### 21. Create a program that calculates the sum of the digits of numbers in a list using a list comprehension."
   ]
  },
  {
   "cell_type": "code",
   "execution_count": 21,
   "id": "b31a34fc",
   "metadata": {},
   "outputs": [
    {
     "name": "stdout",
     "output_type": "stream",
     "text": [
      "[2, 3, 4, 5, 6, 7, 8, 9]\n"
     ]
    }
   ],
   "source": [
    "## Assuming the input list\n",
    "mylist = [101,102,103,104,105,106,107,108]\n",
    "\n",
    "## Using List comphrension\n",
    "total = [sum(int(digit) for digit in str(number)) for number in mylist]\n",
    "\n",
    "print(total)"
   ]
  },
  {
   "cell_type": "markdown",
   "id": "1a80140f",
   "metadata": {},
   "source": [
    "### 22. Write a program to find the prime factors of a given number using a `for` loop and list comprehension."
   ]
  },
  {
   "cell_type": "code",
   "execution_count": 22,
   "id": "5d5cb4e4",
   "metadata": {},
   "outputs": [
    {
     "name": "stdout",
     "output_type": "stream",
     "text": [
      "[2, 3, 4, 6, 12]\n"
     ]
    }
   ],
   "source": [
    "## Assuming the user input\n",
    "num = 12\n",
    "\n",
    "## find prime factors uising list comphrension\n",
    "prime_factor = [ x for x in range(2,num+1) if num%x==0 and all(x%i ==0 for i in range(2,int(x**0.5)+1))]\n",
    "\n",
    "print(prime_factor)"
   ]
  },
  {
   "cell_type": "markdown",
   "id": "11c40d22",
   "metadata": {},
   "source": [
    "### 23. Develop a program that extracts unique elements from a list and stores them in a new list using a list comprehension."
   ]
  },
  {
   "cell_type": "code",
   "execution_count": 23,
   "id": "3bd54bdf",
   "metadata": {},
   "outputs": [
    {
     "name": "stdout",
     "output_type": "stream",
     "text": [
      "[1, 2, 3, 4, 5, 8, 9]\n"
     ]
    }
   ],
   "source": [
    "## Assuming list input\n",
    "mylist = [1,2,3,4,5,2,4,5,8,9,1]\n",
    "\n",
    "unique = []\n",
    "\n",
    "## List comphrension\n",
    "test = [unique.append(number) for number in mylist if number not in unique]\n",
    "\n",
    "print(unique)"
   ]
  },
  {
   "cell_type": "markdown",
   "id": "cbd01843",
   "metadata": {},
   "source": [
    "### 24. Create a program that generates a list of all palindromic numbers up to a specified limit using a list comprehension."
   ]
  },
  {
   "cell_type": "code",
   "execution_count": 24,
   "id": "b2560ed3",
   "metadata": {},
   "outputs": [
    {
     "name": "stdout",
     "output_type": "stream",
     "text": [
      "[1, 2, 3, 4, 5, 6, 7, 8, 9, 11, 22, 33]\n"
     ]
    }
   ],
   "source": [
    "## Assuming user input\n",
    "limit = 41\n",
    "\n",
    "palindromic_number = [i for i in range(1,limit+1) if str(i)==str(i)[::-1]]\n",
    "\n",
    "print(palindromic_number)"
   ]
  },
  {
   "cell_type": "markdown",
   "id": "794d1cfc",
   "metadata": {},
   "source": [
    "### 25. Write a program to flatten a nested list using list comprehension."
   ]
  },
  {
   "cell_type": "code",
   "execution_count": 25,
   "id": "d478ff41",
   "metadata": {},
   "outputs": [
    {
     "name": "stdout",
     "output_type": "stream",
     "text": [
      "[1, 2, 3, 4, 5, 6, 7, 8]\n"
     ]
    }
   ],
   "source": [
    "nested_list = [[1, 2, 3], [4, 5], [6, 7, 8]]\n",
    "\n",
    "flattened_list = [element for sublist in nested_list for element in sublist]\n",
    "\n",
    "print(flattened_list)"
   ]
  },
  {
   "cell_type": "markdown",
   "id": "7fd11580",
   "metadata": {},
   "source": [
    "### 26. Develop a program that computes the sum of even and odd numbers in a list separately using list comprehension."
   ]
  },
  {
   "cell_type": "code",
   "execution_count": 26,
   "id": "c79c512e",
   "metadata": {},
   "outputs": [
    {
     "name": "stdout",
     "output_type": "stream",
     "text": [
      "[2, 4, 6, 8]\n",
      "[1, 3, 5, 7, 9]\n"
     ]
    }
   ],
   "source": [
    "## Assuming user input\n",
    "numbers = [1,2,3,4,5,6,7,8,9]\n",
    "\n",
    "## Using the list comphrension\n",
    "even_number = [x for x in numbers if x%2==0]\n",
    "odd_number = [x for x in numbers if x%2!=0]\n",
    "\n",
    "print(even_number)\n",
    "print(odd_number)"
   ]
  },
  {
   "cell_type": "markdown",
   "id": "99dafaa0",
   "metadata": {},
   "source": [
    "### 27. Create a program that generates a list of squares of odd numbers between 1 and 10 using list comprehension."
   ]
  },
  {
   "cell_type": "code",
   "execution_count": 27,
   "id": "df92304a",
   "metadata": {},
   "outputs": [
    {
     "name": "stdout",
     "output_type": "stream",
     "text": [
      "[1, 9, 25, 49, 81]\n"
     ]
    }
   ],
   "source": [
    "## Calculate the square for odd number using list comphrension\n",
    "odd_number = [x**2 for x in range(1,11) if x%2!=0]\n",
    "\n",
    "print(odd_number)"
   ]
  },
  {
   "cell_type": "markdown",
   "id": "ae382e01",
   "metadata": {},
   "source": [
    "### 28. Write a program that combines two lists into a dictionary using list comprehension."
   ]
  },
  {
   "cell_type": "code",
   "execution_count": 28,
   "id": "2addee8a",
   "metadata": {},
   "outputs": [
    {
     "name": "stdout",
     "output_type": "stream",
     "text": [
      "{'a': 1, 'b': 2, 'c': 3, 'd': 4}\n"
     ]
    }
   ],
   "source": [
    "## Assuming the key and value list input\n",
    "key_list = ['a','b','c','d']\n",
    "value_list = [1,2,3,4]\n",
    "\n",
    "#Combine key value from list into dictionary\n",
    "dictionary = {key:value for key,value in zip(key_list,value_list)}\n",
    "\n",
    "print(dictionary)"
   ]
  },
  {
   "cell_type": "markdown",
   "id": "2ada71d4",
   "metadata": {},
   "source": [
    "### 29. Develop a program that extracts the vowels from a string and stores them in a list using list comprehension."
   ]
  },
  {
   "cell_type": "code",
   "execution_count": 29,
   "id": "b9dc252c",
   "metadata": {},
   "outputs": [
    {
     "name": "stdout",
     "output_type": "stream",
     "text": [
      "['u', 'o']\n"
     ]
    }
   ],
   "source": [
    "## Assuming the input string\n",
    "input_str = \"Ashutosh\"\n",
    "\n",
    "## List comphresion logic for get vowel\n",
    "vowel = [char for char in input_str if char in ['a','e','i','o','u']]\n",
    "\n",
    "print(vowel)"
   ]
  },
  {
   "cell_type": "markdown",
   "id": "2d111d0e",
   "metadata": {},
   "source": [
    "### 30. Create a program that removes all non-numeric characters from a list of strings using list comprehension."
   ]
  },
  {
   "cell_type": "code",
   "execution_count": 30,
   "id": "f2ce0258",
   "metadata": {},
   "outputs": [
    {
     "name": "stdout",
     "output_type": "stream",
     "text": [
      "['123', '456', '789']\n"
     ]
    }
   ],
   "source": [
    "## Assuming string input\n",
    "input_str =['123abc','456def','xyz789']\n",
    "\n",
    "## Using the list comphresion to get all numeric characters\n",
    "numeric =[ ''.join(char for char in word if char.isdigit()) for word in input_str]\n",
    "\n",
    "print(numeric)"
   ]
  },
  {
   "cell_type": "markdown",
   "id": "d43fe922",
   "metadata": {},
   "source": [
    "## Challenge Level"
   ]
  },
  {
   "cell_type": "markdown",
   "id": "fc4f6766",
   "metadata": {},
   "source": [
    "### 31. Write a program to generate a list of prime numbers using the Sieve of Eratosthenes algorithm and list comprehension."
   ]
  },
  {
   "cell_type": "code",
   "execution_count": 31,
   "id": "6de63d4c",
   "metadata": {},
   "outputs": [
    {
     "name": "stdout",
     "output_type": "stream",
     "text": [
      "[2, 3, 5, 7, 11, 13, 17, 19, 23, 29, 31, 37]\n"
     ]
    }
   ],
   "source": [
    "## Assuming the user input \n",
    "n = 40\n",
    "\n",
    "## Sieve of Eratosthenes Algorithm\n",
    "## Create a boolean list to mark prime and non-prime numbers\n",
    "is_prime =[True] *(n+1)\n",
    "is_prime[0]=is_prime[1]= False\n",
    "\n",
    "# Use algorithm to mark non-prime numbers\n",
    "for i in range(2,int(n**0.5)+1):\n",
    "    if is_prime[i]:\n",
    "        for j in range(i*i,n+1,i):\n",
    "            is_prime[j] = False\n",
    "\n",
    "## Use the list comphrension\n",
    "primes = [i for i in range(2,n+1) if is_prime[i]]\n",
    "\n",
    "print(primes)"
   ]
  },
  {
   "cell_type": "markdown",
   "id": "a79e6ff5",
   "metadata": {},
   "source": [
    "### 32. Create a program that generates a list of all Pythagorean triplets up to a specified limit using list comprehension."
   ]
  },
  {
   "cell_type": "code",
   "execution_count": 32,
   "id": "f5205faa",
   "metadata": {},
   "outputs": [
    {
     "name": "stdout",
     "output_type": "stream",
     "text": [
      "[(3, 4, 5), (5, 12, 13), (6, 8, 10), (8, 15, 17), (9, 12, 15), (12, 16, 20)]\n"
     ]
    }
   ],
   "source": [
    "## Assuming user input \n",
    "limit = 20\n",
    "\n",
    "## Using the list comphrension to generate Pythagorean triplets\n",
    "triplets = [(a,b,c) for a in range(1,limit+1) for b in range(a,limit+1) for c in range(b,limit+1) if a**2+b**2 ==c**2]\n",
    "\n",
    "print(triplets)"
   ]
  },
  {
   "cell_type": "markdown",
   "id": "1fad6b40",
   "metadata": {},
   "source": [
    "### 33. Develop a program that generates a list of all possible combinations of two lists using list comprehension."
   ]
  },
  {
   "cell_type": "code",
   "execution_count": 33,
   "id": "b2a7b174",
   "metadata": {},
   "outputs": [
    {
     "name": "stdout",
     "output_type": "stream",
     "text": [
      "[(1, 'x'), (1, 'y'), (1, 'z'), (2, 'x'), (2, 'y'), (2, 'z'), (3, 'x'), (3, 'y'), (3, 'z'), (4, 'x'), (4, 'y'), (4, 'z')]\n"
     ]
    }
   ],
   "source": [
    "## Assuming lists input\n",
    "list1 = [1,2,3,4]\n",
    "list2 = ['x','y','z']\n",
    "\n",
    "## Use the list comphrension for combinations\n",
    "combinations =[(x,y) for x in list1 for y in list2]\n",
    "\n",
    "print(combinations)"
   ]
  },
  {
   "cell_type": "markdown",
   "id": "1e96fc31",
   "metadata": {},
   "source": [
    "### 34. Write a program that calculates the mean, median, and mode of a list of numbers using list comprehension."
   ]
  },
  {
   "cell_type": "code",
   "execution_count": 34,
   "id": "70f79aaa",
   "metadata": {},
   "outputs": [
    {
     "name": "stdout",
     "output_type": "stream",
     "text": [
      "Mean is: 4.625\n",
      "Median: 4.0\n",
      "Mode : [4]\n"
     ]
    }
   ],
   "source": [
    "## Assuming the number list \n",
    "numbers = [1,2,3,4,5,6,7,8,9,1,4,5,4,4,7,4]\n",
    "\n",
    "#Mean \n",
    "print('Mean is:',sum(numbers)/len(numbers))\n",
    "\n",
    "## Median\n",
    "\n",
    "sorted_numbers = sorted(numbers)\n",
    "n = len(sorted_numbers)\n",
    "\n",
    "if n % 2 == 1:\n",
    "# If the list has an odd number of elements, return the middle element\n",
    "    median = sorted_numbers[n // 2]\n",
    "    \n",
    "else:\n",
    "    # If the list has an even number of elements, return the average of the two middle elements\n",
    "    middle1 = sorted_numbers[(n // 2) - 1]\n",
    "    middle2 = sorted_numbers[n // 2]\n",
    "    median = (middle1 + middle2) / 2\n",
    "\n",
    "print('Median:',median)\n",
    "\n",
    "## Mode\n",
    "num_counts = {}\n",
    "\n",
    "# Count the occurrences of each number in the list\n",
    "for num in numbers:\n",
    "    if num in num_counts:\n",
    "        num_counts[num] += 1\n",
    "    else:\n",
    "        num_counts[num] = 1\n",
    "\n",
    "# Find the mode(s) by finding the number(s) with the highest count\n",
    "max_count = max(num_counts.values())\n",
    "mode = [num for num, count in num_counts.items() if count == max_count]\n",
    "# Input the number of rows for Pascal's triangle\n",
    "num_rows = 5\n",
    "print('Mode :',mode)"
   ]
  },
  {
   "cell_type": "markdown",
   "id": "b6b712c3",
   "metadata": {},
   "source": [
    "### 35. Create a program that generates Pascal's triangle up to a specified number of rows using list comprehension."
   ]
  },
  {
   "cell_type": "code",
   "execution_count": 35,
   "id": "83a3e15e",
   "metadata": {},
   "outputs": [
    {
     "name": "stdout",
     "output_type": "stream",
     "text": [
      "[1]\n",
      "[1, 1]\n",
      "[1, 2, 1]\n",
      "[1, 3, 3, 1]\n",
      "[1, 4, 6, 4, 1]\n"
     ]
    }
   ],
   "source": [
    "# Input the number of rows for Pascal's triangle\n",
    "num_rows = 5\n",
    "\n",
    "## Generate Pascal Triangle\n",
    "\n",
    "# Initialize Pascal's triangle with the first row\n",
    "triangle = [[1]]\n",
    "\n",
    "# Generate the remaining rows of Pascal's triangle\n",
    "for i in range(1, num_rows):\n",
    "# Use list comprehension to calculate each row\n",
    "    row = [1] + [triangle[i - 1][j - 1] + triangle[i - 1][j] for j in range(1, i)] + [1]\n",
    "    triangle.append(row)\n",
    "\n",
    "for row in triangle:\n",
    "    print(row)"
   ]
  },
  {
   "cell_type": "markdown",
   "id": "3ebad7c7",
   "metadata": {},
   "source": [
    "### 36. Develop a program that calculates the sum of the digits of a factorial of numbers from 1 to 5 using list comprehension."
   ]
  },
  {
   "cell_type": "code",
   "execution_count": 36,
   "id": "fb64f4c6",
   "metadata": {},
   "outputs": [
    {
     "name": "stdout",
     "output_type": "stream",
     "text": [
      "[1, 2, 6, 24, 120]\n",
      "[1, 2, 6, 6, 3]\n"
     ]
    }
   ],
   "source": [
    "## function for the factorial calculation\n",
    "def factorial(n):\n",
    "    if n==0 or n==1:\n",
    "        return 1\n",
    "    else:\n",
    "        return n * factorial(n-1)\n",
    "    \n",
    "# Factorial list\n",
    "factorials = [factorial(i) for i in range(1,6)]\n",
    "\n",
    "#Sum of digits \n",
    "sum_of_digits = [sum(int(digit) for digit in str(factorial)) for factorial in factorials]\n",
    "\n",
    "print(factorials)\n",
    "print(sum_of_digits)"
   ]
  },
  {
   "cell_type": "markdown",
   "id": "8576ca58",
   "metadata": {},
   "source": [
    "### 37. Write a program that finds the longest word in a sentence using list comprehension."
   ]
  },
  {
   "cell_type": "code",
   "execution_count": 37,
   "id": "6e6a6db1",
   "metadata": {},
   "outputs": [
    {
     "name": "stdout",
     "output_type": "stream",
     "text": [
      "['learning']\n"
     ]
    }
   ],
   "source": [
    "## Input list sentence\n",
    "sentence = \"I am learning Data science\"\n",
    "\n",
    "## Split the sentence into word\n",
    "words = sentence.split()\n",
    "\n",
    "## Longest word \n",
    "longest = [word for word in words if len(word)==max(len(word) for word in words)]\n",
    "\n",
    "print(longest)"
   ]
  },
  {
   "cell_type": "markdown",
   "id": "3bbf91ff",
   "metadata": {},
   "source": [
    "### 38. Create a program that filters a list of strings to include only those with more than three vowels using list comprehension."
   ]
  },
  {
   "cell_type": "code",
   "execution_count": 38,
   "id": "0a99bdb2",
   "metadata": {},
   "outputs": [
    {
     "name": "stdout",
     "output_type": "stream",
     "text": [
      "['aashutosh']\n"
     ]
    }
   ],
   "source": [
    "## Sample list of words\n",
    "word_list =['apple','banana','grapes','cherry','pear','strawberry','aashutosh']\n",
    "\n",
    "def count_vowels(word):\n",
    "    vowels ='AEIOUaeiou'\n",
    "    return sum(1 for char in word if char in vowels)\n",
    "\n",
    "## Filter word with more than 3 vowels\n",
    "word_list = [word for word in word_list if count_vowels(word)>3]\n",
    "\n",
    "print(word_list)"
   ]
  },
  {
   "cell_type": "markdown",
   "id": "0c43d125",
   "metadata": {},
   "source": [
    "### 39. Develop a program that calculates the sum of the digits of numbers from 1 to 1000 using list comprehension."
   ]
  },
  {
   "cell_type": "code",
   "execution_count": 39,
   "id": "abe446cf",
   "metadata": {},
   "outputs": [
    {
     "name": "stdout",
     "output_type": "stream",
     "text": [
      "13501\n"
     ]
    }
   ],
   "source": [
    "## Use the list comphrension to calculate the sum of digits for numbers from 1 to 1000\n",
    "sum_of_digits = [sum(int(digit) for digit in str(num)) for num in range(1,1001)]\n",
    "\n",
    "#Total of all item in list\n",
    "total = sum(sum_of_digits)\n",
    "\n",
    "print(total)"
   ]
  },
  {
   "cell_type": "markdown",
   "id": "0637f871",
   "metadata": {},
   "source": [
    "### 40. Write a program that generates a list of prime palindromic numbers using list comprehension."
   ]
  },
  {
   "cell_type": "code",
   "execution_count": 40,
   "id": "42c926c5",
   "metadata": {},
   "outputs": [
    {
     "name": "stdout",
     "output_type": "stream",
     "text": [
      "Prime palindromic numbers from 1 to 1000: [2, 3, 5, 7, 11, 101, 131, 151, 181, 191, 313, 353, 373, 383, 727, 757, 787, 797, 919, 929]\n"
     ]
    }
   ],
   "source": [
    "# Function to check if a number is prime\n",
    "def is_prime(n):\n",
    "    if n <= 1:\n",
    "        return False\n",
    "    if n <= 3:\n",
    "        return True\n",
    "    if n % 2 == 0 or n % 3 == 0:\n",
    "        return False\n",
    "    i = 5\n",
    "    while i * i <= n:\n",
    "        if n % i == 0 or n % (i + 2) == 0:\n",
    "            return False\n",
    "        i += 6\n",
    "    return True\n",
    "\n",
    "# Use list comprehension to generate prime palindromic numbers\n",
    "prime_palindromic_numbers = [num for num in range(1, 1001) if str(num) == str(num)[::-1] and is_prime(num)]\n",
    "\n",
    "# Print the list of prime palindromic numbers\n",
    "print(\"Prime palindromic numbers from 1 to 1000:\", prime_palindromic_numbers)"
   ]
  }
 ],
 "metadata": {
  "kernelspec": {
   "display_name": "Python 3 (ipykernel)",
   "language": "python",
   "name": "python3"
  },
  "language_info": {
   "codemirror_mode": {
    "name": "ipython",
    "version": 3
   },
   "file_extension": ".py",
   "mimetype": "text/x-python",
   "name": "python",
   "nbconvert_exporter": "python",
   "pygments_lexer": "ipython3",
   "version": "3.9.17"
  }
 },
 "nbformat": 4,
 "nbformat_minor": 5
}
