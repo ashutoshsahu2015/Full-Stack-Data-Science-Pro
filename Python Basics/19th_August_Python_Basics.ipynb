{
 "cells": [
  {
   "cell_type": "markdown",
   "id": "0e9801e5",
   "metadata": {},
   "source": [
    "## Python Basics Variable"
   ]
  },
  {
   "cell_type": "markdown",
   "id": "68d4e1de",
   "metadata": {},
   "source": [
    "### 1. Declare two variables, `x` and `y`, and assign them integer values. Swap the values of these variables without using any temporary variable."
   ]
  },
  {
   "cell_type": "code",
   "execution_count": 1,
   "id": "935289c0",
   "metadata": {},
   "outputs": [
    {
     "name": "stdout",
     "output_type": "stream",
     "text": [
      "Value Before Swapping : x =  20 ,y =  30\n",
      "Value After Swapping : x =  30 ,y =  20\n"
     ]
    }
   ],
   "source": [
    "## Declare the variables\n",
    "x = 20\n",
    "y = 30\n",
    "print(\"Value Before Swapping : x = \",x,\",y = \",y)\n",
    "\n",
    "# Swapping the variables\n",
    "x,y = y,x\n",
    "\n",
    "print(\"Value After Swapping : x = \",x,\",y = \",y)"
   ]
  },
  {
   "cell_type": "markdown",
   "id": "1ea3920f",
   "metadata": {},
   "source": [
    "### 2. Create a program that calculates the area of a rectangle. Take the length and width as inputs from the user and store them in variables. Calculate and display the area."
   ]
  },
  {
   "cell_type": "code",
   "execution_count": 2,
   "id": "157a533b",
   "metadata": {},
   "outputs": [
    {
     "name": "stdout",
     "output_type": "stream",
     "text": [
      "Enter the length of the rectangle : 60\n",
      "Enter the width of the rectangle :  30\n",
      "Area of the rectangle :  1800.0\n"
     ]
    }
   ],
   "source": [
    "# Get the length and width for rectangle from the user as input\n",
    "length = float(input(\"Enter the length of the rectangle : \"))\n",
    "width = float(input(\"Enter the width of the rectangle :  \"))\n",
    "\n",
    "# Calculate the area\n",
    "area = length * width\n",
    "\n",
    "#Print the result\n",
    "print(\"Area of the rectangle : \",area)"
   ]
  },
  {
   "cell_type": "markdown",
   "id": "8f95a8ad",
   "metadata": {},
   "source": [
    "### 3.Write a Python program that converts temperatures from Celsius to Fahrenheit. Take the temperature in Celsius as input, store it in a variable, convert it to Fahrenheit, and display the result."
   ]
  },
  {
   "cell_type": "code",
   "execution_count": 3,
   "id": "328f9437",
   "metadata": {},
   "outputs": [
    {
     "name": "stdout",
     "output_type": "stream",
     "text": [
      "Enter the Temperature in Celsius  : 26\n",
      " The temperature is  78.8 in Fahrenheit.\n"
     ]
    }
   ],
   "source": [
    "# Getting the input for temperature from user\n",
    "temp_celsius = float(input(\"Enter the Temperature in Celsius  : \"))\n",
    "\n",
    "# Convert the temperature from Celsius to fahrenheit\n",
    "temp_fahrenheit = (temp_celsius * 9/5) + 32\n",
    "\n",
    "print(\" The temperature is \",temp_fahrenheit, \"in Fahrenheit.\")"
   ]
  },
  {
   "cell_type": "markdown",
   "id": "63d5af6d",
   "metadata": {},
   "source": [
    "## String Based Questions"
   ]
  },
  {
   "cell_type": "markdown",
   "id": "7fd211fd",
   "metadata": {},
   "source": [
    "### 1. Write a Python program that takes a string as input and prints the length of the string."
   ]
  },
  {
   "cell_type": "code",
   "execution_count": 4,
   "id": "b5fa9382",
   "metadata": {},
   "outputs": [
    {
     "name": "stdout",
     "output_type": "stream",
     "text": [
      "Enter the string :Ashutosh\n",
      "The length of the input string is: 8\n"
     ]
    }
   ],
   "source": [
    "# Getting the input from user\n",
    "input_str = input(\"Enter the string :\")\n",
    "\n",
    "# Calculating the length of the string\n",
    "str_len = len(input_str)\n",
    "\n",
    "# Display the results\n",
    "print(\"The length of the input string is:\",str_len)"
   ]
  },
  {
   "cell_type": "markdown",
   "id": "5f8faf61",
   "metadata": {},
   "source": [
    "### 2. Create a program that takes a sentence from the user and counts the number of vowels (a, e, i, o, u) in the string."
   ]
  },
  {
   "cell_type": "code",
   "execution_count": 5,
   "id": "4d4b17e1",
   "metadata": {},
   "outputs": [
    {
     "name": "stdout",
     "output_type": "stream",
     "text": [
      "Enter the sentence :PW Skills Data Science Course \n",
      "Number of Vowels : 9\n"
     ]
    }
   ],
   "source": [
    "# Getting input from the user\n",
    "input_sentence = input(\"Enter the sentence :\")\n",
    "\n",
    "count = 0\n",
    "\n",
    "# Check for vowels in the below loop\n",
    "for char in input_sentence:\n",
    "    \n",
    "    char_low = char.lower()\n",
    "    \n",
    "    if char_low in \"aeiou\":\n",
    "        count+=1\n",
    "\n",
    "#Printing the number of vowels        \n",
    "print(\"Number of Vowels :\",count)"
   ]
  },
  {
   "cell_type": "markdown",
   "id": "4164a835",
   "metadata": {},
   "source": [
    "### 3. Given a string, reverse the order of characters using string slicing and print the reversed string."
   ]
  },
  {
   "cell_type": "code",
   "execution_count": 6,
   "id": "12746a13",
   "metadata": {},
   "outputs": [
    {
     "name": "stdout",
     "output_type": "stream",
     "text": [
      "Enter the string : Data Science\n",
      "Reverse String is :  ecneicS ataD\n"
     ]
    }
   ],
   "source": [
    "# Getting string input from user\n",
    "input_str = input(\"Enter the string : \")\n",
    "\n",
    "#Reversing the string\n",
    "reverse_str = input_str[::-1]\n",
    "\n",
    "#Display the reverse string\n",
    "print(\"Reverse String is : \",reverse_str)"
   ]
  },
  {
   "cell_type": "markdown",
   "id": "877e908c",
   "metadata": {},
   "source": [
    "### 4. Write a program that takes a string as input and checks if it is a palindrome (reads the same forwards and backwards)."
   ]
  },
  {
   "cell_type": "code",
   "execution_count": 7,
   "id": "c701c5eb",
   "metadata": {},
   "outputs": [
    {
     "name": "stdout",
     "output_type": "stream",
     "text": [
      "Enter the string:madam\n",
      " The input string is a palindrome.\n"
     ]
    }
   ],
   "source": [
    "# Input from the user\n",
    "input_str = input(\"Enter the string:\")\n",
    "\n",
    "# Remove spaces and covert the string into lowercase\n",
    "input_str = input_str.replace(\" \",\"\").lower()\n",
    "\n",
    "#Reversing the string\n",
    "reverse_str = input_str[::-1]\n",
    "\n",
    "# check for equality\n",
    "if input_str == reverse_str:\n",
    "    print(\" The input string is a palindrome.\")\n",
    "\n",
    "else:\n",
    "    print(\"The input string is not a palindrome\")"
   ]
  },
  {
   "cell_type": "markdown",
   "id": "dd17dae2",
   "metadata": {},
   "source": [
    "### 5. Create a program that takes a string as input and removes all the spaces from it. Print the modified string without spaces."
   ]
  },
  {
   "cell_type": "code",
   "execution_count": 8,
   "id": "d216d1c2",
   "metadata": {},
   "outputs": [
    {
     "name": "stdout",
     "output_type": "stream",
     "text": [
      "Enter the string:Ashutosh Sahu\n",
      "Modified String is : AshutoshSahu\n"
     ]
    }
   ],
   "source": [
    "# Input from the user\n",
    "input_str = input(\"Enter the string:\")\n",
    "\n",
    "\n",
    "correct_str = \"\"\n",
    "\n",
    "# Check for spaces in the below for loop\n",
    "for char in input_str:\n",
    "    if char !=\" \":\n",
    "        correct_str +=char\n",
    "        \n",
    "print(\"Modified String is :\",correct_str)"
   ]
  },
  {
   "cell_type": "code",
   "execution_count": null,
   "id": "a8ecb7cb",
   "metadata": {},
   "outputs": [],
   "source": []
  }
 ],
 "metadata": {
  "kernelspec": {
   "display_name": "Python 3 (ipykernel)",
   "language": "python",
   "name": "python3"
  },
  "language_info": {
   "codemirror_mode": {
    "name": "ipython",
    "version": 3
   },
   "file_extension": ".py",
   "mimetype": "text/x-python",
   "name": "python",
   "nbconvert_exporter": "python",
   "pygments_lexer": "ipython3",
   "version": "3.9.17"
  }
 },
 "nbformat": 4,
 "nbformat_minor": 5
}
