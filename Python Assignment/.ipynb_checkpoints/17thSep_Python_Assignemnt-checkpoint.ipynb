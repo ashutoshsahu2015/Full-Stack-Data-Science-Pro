{
 "cells": [
  {
   "cell_type": "markdown",
   "id": "5ae3469e",
   "metadata": {},
   "source": [
    "## For Loop :-"
   ]
  },
  {
   "cell_type": "markdown",
   "id": "f447e13d",
   "metadata": {},
   "source": [
    "### 1.Write a Python program to print numbers from 1 to 10 using a for loop."
   ]
  },
  {
   "cell_type": "code",
   "execution_count": 1,
   "id": "abd71a49",
   "metadata": {},
   "outputs": [
    {
     "name": "stdout",
     "output_type": "stream",
     "text": [
      "1\n",
      "2\n",
      "3\n",
      "4\n",
      "5\n",
      "6\n",
      "7\n",
      "8\n",
      "9\n",
      "10\n"
     ]
    }
   ],
   "source": [
    "# For loop for printing \n",
    "\n",
    "for number in range(10):\n",
    "    print(number+1)"
   ]
  },
  {
   "cell_type": "markdown",
   "id": "f8365e38",
   "metadata": {},
   "source": [
    "### 2.Explain the difference between a for loop and a while loop in Python."
   ]
  },
  {
   "cell_type": "markdown",
   "id": "3fe26dd2",
   "metadata": {},
   "source": [
    "The main difference between a for loop and while loop is we use for loop when the number of iterations is already known. However while loop is used when number of iterations are unknown."
   ]
  },
  {
   "cell_type": "markdown",
   "id": "966b46ce",
   "metadata": {},
   "source": [
    "### 3.Write a Python program to calculate the sum of all numbers from 1 to 100 using a for loop."
   ]
  },
  {
   "cell_type": "code",
   "execution_count": 3,
   "id": "673af9a7",
   "metadata": {},
   "outputs": [
    {
     "name": "stdout",
     "output_type": "stream",
     "text": [
      "Sum:  5050\n"
     ]
    }
   ],
   "source": [
    "## initalize the sum variable\n",
    "total = 0\n",
    "\n",
    "for number in range(1,101):\n",
    "    total+=number\n",
    "\n",
    "print('Sum: ',total)"
   ]
  },
  {
   "cell_type": "markdown",
   "id": "a2e402b6",
   "metadata": {},
   "source": [
    "### 4.How do you iterate through a list using a for loop in Python?"
   ]
  },
  {
   "cell_type": "code",
   "execution_count": 5,
   "id": "249b3047",
   "metadata": {},
   "outputs": [
    {
     "name": "stdout",
     "output_type": "stream",
     "text": [
      "1\n",
      "2\n",
      "3\n",
      "4\n",
      "5\n",
      "6\n",
      "7\n",
      "8\n"
     ]
    }
   ],
   "source": [
    "## Input list\n",
    "input_list = [1,2,3,4,5,6,7,8]\n",
    "\n",
    "for number in input_list:\n",
    "    print(number)"
   ]
  },
  {
   "cell_type": "markdown",
   "id": "2be41c8f",
   "metadata": {},
   "source": [
    "### 5.Write a Python program to find the product of all elements in a list using a for loop."
   ]
  },
  {
   "cell_type": "code",
   "execution_count": 7,
   "id": "eb25aa02",
   "metadata": {},
   "outputs": [
    {
     "name": "stdout",
     "output_type": "stream",
     "text": [
      "Product of list is : 120\n"
     ]
    }
   ],
   "source": [
    "## total variable inialization\n",
    "total = 1\n",
    "\n",
    "## Input list\n",
    "input_list = [1,2,3,4,5]\n",
    "\n",
    "for number in input_list:\n",
    "    total *=number\n",
    "\n",
    "print('Product of list is :',total)"
   ]
  },
  {
   "cell_type": "markdown",
   "id": "816f6478",
   "metadata": {},
   "source": [
    "### 6.Create a Python program that prints all even numbers from 1 to 20 using a for loop."
   ]
  },
  {
   "cell_type": "code",
   "execution_count": 8,
   "id": "b889dde9",
   "metadata": {},
   "outputs": [
    {
     "name": "stdout",
     "output_type": "stream",
     "text": [
      "2\n",
      "4\n",
      "6\n",
      "8\n",
      "10\n",
      "12\n",
      "14\n",
      "16\n",
      "18\n",
      "20\n"
     ]
    }
   ],
   "source": [
    "## for loop\n",
    "\n",
    "for number in range(1,21):\n",
    "    if number%2==0:\n",
    "        print(number)"
   ]
  },
  {
   "cell_type": "markdown",
   "id": "85e53dc8",
   "metadata": {},
   "source": [
    "### 7.Write a Python program that calculates the factorial of a number using a for loop."
   ]
  },
  {
   "cell_type": "code",
   "execution_count": 10,
   "id": "ae2176ee",
   "metadata": {},
   "outputs": [
    {
     "name": "stdout",
     "output_type": "stream",
     "text": [
      "Enter the number :4\n",
      "Factorial of 4 is: 24\n"
     ]
    }
   ],
   "source": [
    "## Asking user input\n",
    "number = int(input(\"Enter the number :\"))\n",
    "\n",
    "## Factorical variable\n",
    "factorial = 1\n",
    "             \n",
    "for i in range(number,1,-1):\n",
    "    factorial = factorial * i\n",
    "\n",
    "print(f'Factorial of {number} is:',factorial)"
   ]
  },
  {
   "cell_type": "markdown",
   "id": "06c020f4",
   "metadata": {},
   "source": [
    "### 8.How can you iterate through the characters of a string using a for loop in Python?"
   ]
  },
  {
   "cell_type": "code",
   "execution_count": 2,
   "id": "b687ae22",
   "metadata": {},
   "outputs": [
    {
     "name": "stdout",
     "output_type": "stream",
     "text": [
      "D\n",
      "a\n",
      "t\n",
      "a\n",
      " \n",
      "S\n",
      "c\n",
      "i\n",
      "e\n",
      "n\n",
      "c\n",
      "e\n"
     ]
    }
   ],
   "source": [
    "## Assuming input string \n",
    "string = 'Data Science'\n",
    "\n",
    "# Using for loop to iterate through characters of a string\n",
    "for char in string:\n",
    "    print(char)"
   ]
  },
  {
   "cell_type": "markdown",
   "id": "b3c66d33",
   "metadata": {},
   "source": [
    "### 9.Write a Python program to find the largest number in a list using a for loop."
   ]
  },
  {
   "cell_type": "code",
   "execution_count": 3,
   "id": "a39b5260",
   "metadata": {},
   "outputs": [
    {
     "name": "stdout",
     "output_type": "stream",
     "text": [
      "Largest number is : 98\n"
     ]
    }
   ],
   "source": [
    "## Input list assumption\n",
    "list_input = [23,4,8,67,34,23,98,76,24]\n",
    "\n",
    "## Largest variable initalization\n",
    "largest = 0\n",
    "\n",
    "for number in list_input:\n",
    "    if number > largest:\n",
    "        largest = number\n",
    "        \n",
    "print('Largest number is :',largest)"
   ]
  },
  {
   "cell_type": "markdown",
   "id": "47d7b7ea",
   "metadata": {},
   "source": [
    "### 10.Create a Python program that prints the Fibonacci sequence up to a specified limit using a for loop."
   ]
  },
  {
   "cell_type": "code",
   "execution_count": 14,
   "id": "687eaf64",
   "metadata": {},
   "outputs": [
    {
     "name": "stdout",
     "output_type": "stream",
     "text": [
      "Fibonacci sequence up to 10 terms: [0, 1, 1, 2, 3, 5, 8]\n"
     ]
    }
   ],
   "source": [
    "limit = 10  \n",
    "fibonacci = [0, 1]\n",
    "for i in range(2, 1000000000):\n",
    "    next_num = fibonacci[i-1] + fibonacci[i-2]\n",
    "    if next_num <= limit:\n",
    "        fibonacci.append(next_num)\n",
    "    else:\n",
    "        break\n",
    "print(\"Fibonacci sequence up to\", limit, \"terms:\", fibonacci)"
   ]
  },
  {
   "cell_type": "markdown",
   "id": "869f05ba",
   "metadata": {},
   "source": [
    "### 11.Write a Python program to count the number of vowels in a given string using a for loop."
   ]
  },
  {
   "cell_type": "code",
   "execution_count": 4,
   "id": "d97b9250",
   "metadata": {},
   "outputs": [
    {
     "name": "stdout",
     "output_type": "stream",
     "text": [
      "Vowel count is : 13\n"
     ]
    }
   ],
   "source": [
    "## Input string assumption\n",
    "string = \"We are learning Data Science in Python\"\n",
    "\n",
    "#Vowel count\n",
    "vowel = 0\n",
    "\n",
    "for char in string:\n",
    "    if char in ['a','e','i','o','u']:\n",
    "        vowel+=1\n",
    "\n",
    "print('Vowel count is :',vowel)"
   ]
  },
  {
   "cell_type": "markdown",
   "id": "d873675b",
   "metadata": {},
   "source": [
    "### 12.Create a Python program that generates a multiplication table for a given number using a for loop."
   ]
  },
  {
   "cell_type": "code",
   "execution_count": 6,
   "id": "09f1abc9",
   "metadata": {},
   "outputs": [
    {
     "name": "stdout",
     "output_type": "stream",
     "text": [
      "Enter the number to generate the multiplication table :5\n",
      "5 * 1 = 5\n",
      "5 * 2 = 10\n",
      "5 * 3 = 15\n",
      "5 * 4 = 20\n",
      "5 * 5 = 25\n",
      "5 * 6 = 30\n",
      "5 * 7 = 35\n",
      "5 * 8 = 40\n",
      "5 * 9 = 45\n",
      "5 * 10 = 50\n"
     ]
    }
   ],
   "source": [
    "# Asking user input\n",
    "number = int(input('Enter the number to generate the multiplication table :'))\n",
    "\n",
    "for i in range(1,11):\n",
    "    print(f'{number} * {i} =',number*i)"
   ]
  },
  {
   "cell_type": "markdown",
   "id": "c81c3b0a",
   "metadata": {},
   "source": [
    "### 13.Write a Python program to reverse a list using a for loop."
   ]
  },
  {
   "cell_type": "code",
   "execution_count": 14,
   "id": "ca9d704d",
   "metadata": {},
   "outputs": [
    {
     "name": "stdout",
     "output_type": "stream",
     "text": [
      "[5, 4, 3, 2, 1]\n"
     ]
    }
   ],
   "source": [
    "## Assuming input list \n",
    "input_list = [1,2,3,4,5]\n",
    "\n",
    "#Reverse list\n",
    "reverse_list = []\n",
    "\n",
    "for item in input_list:\n",
    "    reverse_list.insert(0,item)\n",
    "\n",
    "print(reverse_list)"
   ]
  },
  {
   "cell_type": "markdown",
   "id": "81d988bd",
   "metadata": {},
   "source": [
    "### 14.Write a Python program to find the common elements between two lists using a for loop."
   ]
  },
  {
   "cell_type": "code",
   "execution_count": 15,
   "id": "e9629e2f",
   "metadata": {},
   "outputs": [
    {
     "name": "stdout",
     "output_type": "stream",
     "text": [
      "Common List : [3, 4, 5]\n"
     ]
    }
   ],
   "source": [
    "## Input lists \n",
    "list1 = [1,2,3,4,5]\n",
    "list2 = [3,4,5,6,7,8]\n",
    "\n",
    "# Common list\n",
    "common_list = []\n",
    "\n",
    "for item in list1:\n",
    "    if item in list2:\n",
    "        common_list.append(item)\n",
    "\n",
    "print('Common List :',common_list)"
   ]
  },
  {
   "cell_type": "markdown",
   "id": "b30644c3",
   "metadata": {},
   "source": [
    "### 15.Explain how to use a for loop to iterate through the keys and values of a dictionary in Python."
   ]
  },
  {
   "cell_type": "code",
   "execution_count": 6,
   "id": "8b818902",
   "metadata": {},
   "outputs": [
    {
     "name": "stdout",
     "output_type": "stream",
     "text": [
      "one : 1\n",
      "two : 2\n",
      "three : 3\n",
      "four : 4\n",
      "five : 5\n"
     ]
    }
   ],
   "source": [
    "##Assume input dictionary\n",
    "\n",
    "dictionary = {'one':1,'two':2,'three':3,'four':4,'five':5}\n",
    "\n",
    "for key,value in dictionary.items():\n",
    "    print(f'{key} : {value}')"
   ]
  },
  {
   "cell_type": "markdown",
   "id": "a6903ebc",
   "metadata": {},
   "source": [
    "### 16.Write a Python program to find the GCD (Greatest Common Divisor) of two numbers using a for loop."
   ]
  },
  {
   "cell_type": "code",
   "execution_count": 3,
   "id": "497906ab",
   "metadata": {},
   "outputs": [
    {
     "name": "stdout",
     "output_type": "stream",
     "text": [
      "Enter a number 1: 99\n",
      "Enter a number 2: 66\n",
      "Greatest common divisor of 99 and 66 is : 33\n"
     ]
    }
   ],
   "source": [
    "def find_gcd(number1, number2):\n",
    "    \n",
    "    # Check boundary condition\n",
    "    if number1 == 0:\n",
    "        return number2\n",
    "    elif number2 == 0:\n",
    "        return number1\n",
    "    \n",
    "    gcd = 1\n",
    "    small_num, large_num = min(number1, number2),  max(number1, number2)\n",
    "    \n",
    "    # Check if both numbers are divisible by current number if yes then return\n",
    "    for num in range(small_num, 1, -1):\n",
    "        if(large_num % num == 0 and small_num % num == 0):\n",
    "            gcd = num\n",
    "            break\n",
    "        \n",
    "    return gcd\n",
    "\n",
    "# Take input of numbers\n",
    "number_1 = int(input('Enter a number 1: '))\n",
    "number_2 = int(input('Enter a number 2: '))\n",
    "\n",
    "# Find gcd\n",
    "gcd = find_gcd(number_1, number_2)\n",
    "\n",
    "# Print result\n",
    "print(f'Greatest common divisor of {number_1} and {number_2} is : {gcd}')"
   ]
  },
  {
   "cell_type": "markdown",
   "id": "b61316fe",
   "metadata": {},
   "source": [
    "### 17.Create a Python program that checks if a string is a palindrome using a for loop."
   ]
  },
  {
   "cell_type": "code",
   "execution_count": 11,
   "id": "5d472dac",
   "metadata": {},
   "outputs": [
    {
     "name": "stdout",
     "output_type": "stream",
     "text": [
      "It's a palindrome.\n"
     ]
    }
   ],
   "source": [
    "# Input list assumption\n",
    "text = \"racecar\" \n",
    "\n",
    "is_palindrome = True\n",
    "\n",
    "for i in range(len(text) // 2):\n",
    "    if text[i] != text[-i - 1]:\n",
    "        is_palindrome = False\n",
    "        break\n",
    "\n",
    "if is_palindrome:\n",
    "    print(\"It's a palindrome.\")\n",
    "else:\n",
    "    print(\"It's not a palindrome.\")"
   ]
  },
  {
   "cell_type": "markdown",
   "id": "c168c594",
   "metadata": {},
   "source": [
    "### 18.Write a Python program to remove duplicates from a list using a for loop."
   ]
  },
  {
   "cell_type": "code",
   "execution_count": 6,
   "id": "1cd35f06",
   "metadata": {},
   "outputs": [
    {
     "name": "stdout",
     "output_type": "stream",
     "text": [
      "[1, 3, 6, 9, 2, 4, 5, 7, 8]\n"
     ]
    }
   ],
   "source": [
    "## Input list assumption\n",
    "\n",
    "my_list = [1,2,3,4,5,6,7,8,9,2,4,5,7,8]\n",
    "\n",
    "\n",
    "## For loop logic to remove duplicate\n",
    "for item in my_list:\n",
    "    if my_list.count(item) > 1:\n",
    "        my_list.remove(item)\n",
    "    \n",
    "## Printing the final list\n",
    "print(my_list)"
   ]
  },
  {
   "cell_type": "markdown",
   "id": "bee63652",
   "metadata": {},
   "source": [
    "### 19.Create a Python program that counts the number of words in a sentence using a for loop."
   ]
  },
  {
   "cell_type": "code",
   "execution_count": 10,
   "id": "4e5c90a0",
   "metadata": {},
   "outputs": [
    {
     "name": "stdout",
     "output_type": "stream",
     "text": [
      "Number of word in a sentence : 7\n"
     ]
    }
   ],
   "source": [
    "## Input sentence assumption\n",
    "string = 'I am learning Python and Data Science'\n",
    "\n",
    "# count variable\n",
    "count = 0\n",
    "\n",
    "## split the sentence in word list\n",
    "string_list = string.split()\n",
    "\n",
    "## for looop to count the word\n",
    "for word in string_list:\n",
    "    count +=1\n",
    "\n",
    "# final output\n",
    "print(f\"Number of word in a sentence : {count}\")"
   ]
  },
  {
   "cell_type": "markdown",
   "id": "69f29c06",
   "metadata": {},
   "source": [
    "### 20.Write a Python program to find the sum of all odd numbers from 1 to 50 using a for loop."
   ]
  },
  {
   "cell_type": "code",
   "execution_count": 15,
   "id": "6a7b6262",
   "metadata": {},
   "outputs": [
    {
     "name": "stdout",
     "output_type": "stream",
     "text": [
      "The sum of all the odd numbers are : 625\n"
     ]
    }
   ],
   "source": [
    "# total variable\n",
    "total = 0\n",
    "\n",
    "for number in range(1,50):\n",
    "    if number%2 !=0:\n",
    "        total = total + number\n",
    "        \n",
    "print(f\"The sum of all the odd numbers are : {total}\")"
   ]
  },
  {
   "cell_type": "markdown",
   "id": "3dd668ff",
   "metadata": {},
   "source": [
    "### 21.Write a Python program that checks if a given year is a leap year using a for loop."
   ]
  },
  {
   "cell_type": "code",
   "execution_count": 2,
   "id": "6edf655b",
   "metadata": {},
   "outputs": [
    {
     "name": "stdout",
     "output_type": "stream",
     "text": [
      "Enter year: 2024\n",
      "Year 2024 is a leap year.\n"
     ]
    }
   ],
   "source": [
    "def is_leap_year(year: int) -> bool:\n",
    "    '''\n",
    "    Function checks if the year is leap year or not\n",
    "    '''\n",
    "    if year % 4 == 0:\n",
    "        return True\n",
    "    else:\n",
    "        return False\n",
    "    \n",
    "# Take input of year\n",
    "year = int(input('Enter year: '))\n",
    "\n",
    "# Print\n",
    "if is_leap_year(year):\n",
    "    print(f'Year {year} is a leap year.')\n",
    "else:\n",
    "    print(f'Year {year} is a not leap year.')"
   ]
  },
  {
   "cell_type": "markdown",
   "id": "f5b8f331",
   "metadata": {},
   "source": [
    "### 22.Create a Python program that calculates the square root of a number using a for loop."
   ]
  },
  {
   "cell_type": "code",
   "execution_count": 5,
   "id": "907d3dee",
   "metadata": {},
   "outputs": [
    {
     "name": "stdout",
     "output_type": "stream",
     "text": [
      "Enter the number:16\n",
      "Sqrt of the number 16 is : 4.0\n"
     ]
    }
   ],
   "source": [
    "# Function to calculate the Square Root\n",
    "def calculate_square_root(number):\n",
    "    \n",
    "    # Check if the number is non-negative\n",
    "    if number < 0:\n",
    "        print(\"Cannot calculate the square root of a negative number.\")\n",
    "    else:\n",
    "        # Initial guess for the square root\n",
    "        probable_sqrt = number / 2.0\n",
    "        \n",
    "        # Number of iterations for approximation - we can adjust this value for accuracy\n",
    "        num_iterations = 10  \n",
    "        \n",
    "        # Use a for loop to iteratively improve the approximation\n",
    "        for _ in range(num_iterations):\n",
    "            probable_sqrt = 0.5 * (probable_sqrt + number / probable_sqrt)\n",
    "            \n",
    "        return probable_sqrt\n",
    "\n",
    "# Take input from user\n",
    "number = int(input('Enter the number:'))\n",
    "\n",
    "# Find sqrt\n",
    "sqrt_of_num = calculate_square_root(number)\n",
    "\n",
    "# Print\n",
    "print(f'Sqrt of the number {number} is : {sqrt_of_num}')"
   ]
  },
  {
   "cell_type": "markdown",
   "id": "14fdc719",
   "metadata": {},
   "source": [
    "### 23.Write a Python program to find the LCM (Least Common Multiple) of two numbers using a for loop."
   ]
  },
  {
   "cell_type": "code",
   "execution_count": 20,
   "id": "02d923c7",
   "metadata": {},
   "outputs": [
    {
     "name": "stdout",
     "output_type": "stream",
     "text": [
      "LCM of 12 and 18 is : 36\n"
     ]
    }
   ],
   "source": [
    "# LCM is the smallest common multiple of both numbers, we start with max numbers and towards num1*num2\n",
    "\n",
    "def find_lcm(num1,num2):\n",
    "    \n",
    "    max_num = max(num1,num2)\n",
    "    \n",
    "    for lcm in range(max_num, (num1*num2) +1,max_num):\n",
    "        if lcm%num1 ==0 and lcm%num2==0:\n",
    "            return lcm\n",
    "\n",
    "# Input number assumption\n",
    "number1,number2 = 12,18\n",
    "\n",
    "# Find the LCM\n",
    "lcm_result = find_lcm(number1,number2)\n",
    "\n",
    "print(f'LCM of {number1} and {number2} is : {lcm_result}')"
   ]
  },
  {
   "cell_type": "markdown",
   "id": "346176b9",
   "metadata": {},
   "source": [
    "## If else :"
   ]
  },
  {
   "cell_type": "markdown",
   "id": "f7eeaf94",
   "metadata": {},
   "source": [
    "### 1.Write a Python program to check if a number is positive, negative, or zero using an if-else statement."
   ]
  },
  {
   "cell_type": "code",
   "execution_count": 17,
   "id": "a3920cf1",
   "metadata": {},
   "outputs": [
    {
     "name": "stdout",
     "output_type": "stream",
     "text": [
      "-3 is negative number.\n"
     ]
    }
   ],
   "source": [
    "## Input number assumption\n",
    "number = -3\n",
    "\n",
    "## If else logic for all the three(positive,zero,negative) conditions\n",
    "if number >0:\n",
    "    print(f\"{number} is positive number.\")\n",
    "\n",
    "elif number ==0:\n",
    "    print(f\"{number} is zero.\")\n",
    "    \n",
    "else:\n",
    "    print(f\"{number} is negative number.\")"
   ]
  },
  {
   "cell_type": "markdown",
   "id": "fa33a141",
   "metadata": {},
   "source": [
    "### 2.Create a Python program that checks if a given number is even or odd using an if-else statement."
   ]
  },
  {
   "cell_type": "code",
   "execution_count": 18,
   "id": "7e739381",
   "metadata": {},
   "outputs": [
    {
     "name": "stdout",
     "output_type": "stream",
     "text": [
      "34 is even number.\n"
     ]
    }
   ],
   "source": [
    "## Input number assumption\n",
    "number = 34\n",
    "\n",
    "## if else logic for even-odd\n",
    "if number%2==0:\n",
    "    print(f\"{number} is even number.\")\n",
    "\n",
    "else:\n",
    "    print(f\"{number} is odd number.\")"
   ]
  },
  {
   "cell_type": "markdown",
   "id": "8afc0d53",
   "metadata": {},
   "source": [
    "### 3.How can you use nested if-else statements in Python, and provide an example?"
   ]
  },
  {
   "cell_type": "markdown",
   "id": "04f4bee5",
   "metadata": {},
   "source": [
    "Nested if-else statements in Python allow you to have if-else statement inside another. This is useful for situations where you need to make multiple conditional checks when other check is passed."
   ]
  },
  {
   "cell_type": "markdown",
   "id": "c455d2be",
   "metadata": {},
   "source": [
    "For example, we can use the nested if-else statements to find the largest of three numbers"
   ]
  },
  {
   "cell_type": "code",
   "execution_count": 8,
   "id": "451a7c7b",
   "metadata": {},
   "outputs": [
    {
     "name": "stdout",
     "output_type": "stream",
     "text": [
      "Largest number among the three number is : 6\n"
     ]
    }
   ],
   "source": [
    "## Number Assumption\n",
    "number1,number2,number3 = 4,5,6\n",
    "\n",
    "## Nested if else logic\n",
    "if number1 > number2 :\n",
    "    if number1 > number3:\n",
    "        print(f'Largest number among the three numbers is : {number1}')\n",
    "    else:\n",
    "        print(f'Largest number among the three numbers is : {number3}')\n",
    "\n",
    "else:\n",
    "    if number2 > number3:\n",
    "        print(f'Largest number among the three numbers is : {number2}')\n",
    "    else:\n",
    "        print(f'Largest number among the three number is : {number3}')"
   ]
  },
  {
   "cell_type": "markdown",
   "id": "363abbd1",
   "metadata": {},
   "source": [
    "### 4.Write a Python program to determine the largest of three numbers using if-else."
   ]
  },
  {
   "cell_type": "code",
   "execution_count": 19,
   "id": "5e419fde",
   "metadata": {},
   "outputs": [
    {
     "name": "stdout",
     "output_type": "stream",
     "text": [
      "3 is greater number.\n"
     ]
    }
   ],
   "source": [
    "## Input assumption of three numbers\n",
    "number1,number2,number3 = 1,2,3\n",
    "\n",
    "## compare the number using if else logic\n",
    "if number1>number2 and number1>number3:\n",
    "    print(f\"{number1} is greater number.\")\n",
    "\n",
    "elif number2> number1 and number2 > number3:\n",
    "    print(f\"{number2} is greater number.\")\n",
    "\n",
    "else:\n",
    "    print(f\"{number3} is greater number.\")"
   ]
  },
  {
   "cell_type": "markdown",
   "id": "28500e0b",
   "metadata": {},
   "source": [
    "### 5.Write a Python program that calculates the absolute value of a number using if-else."
   ]
  },
  {
   "cell_type": "code",
   "execution_count": 9,
   "id": "ab2a88d5",
   "metadata": {},
   "outputs": [
    {
     "name": "stdout",
     "output_type": "stream",
     "text": [
      "4\n"
     ]
    }
   ],
   "source": [
    "## Assuming number input\n",
    "number = -4\n",
    "\n",
    "## Code logic for absolute number\n",
    "if number<0:\n",
    "    print(-number)\n",
    "\n",
    "else:\n",
    "    print(number)"
   ]
  },
  {
   "cell_type": "markdown",
   "id": "a6b0b0fe",
   "metadata": {},
   "source": [
    "### 6.Create a Python program that checks if a given character is a vowel or consonant using if-else."
   ]
  },
  {
   "cell_type": "code",
   "execution_count": 21,
   "id": "4cc77482",
   "metadata": {},
   "outputs": [
    {
     "name": "stdout",
     "output_type": "stream",
     "text": [
      "g is a consonant.\n"
     ]
    }
   ],
   "source": [
    "# Assumption of input character\n",
    "character = 'g'\n",
    "\n",
    "# if else logic for vowel check and else condition\n",
    "if character in 'aeiou':\n",
    "    print(f'{character} is a vowel.')\n",
    "\n",
    "else:\n",
    "    print(f'{character} is a consonant.')"
   ]
  },
  {
   "cell_type": "markdown",
   "id": "2b82e01f",
   "metadata": {},
   "source": [
    "### 7.Write a Python program to determine if a user is eligible to vote based on their age using if-else."
   ]
  },
  {
   "cell_type": "code",
   "execution_count": 22,
   "id": "5434600f",
   "metadata": {},
   "outputs": [
    {
     "name": "stdout",
     "output_type": "stream",
     "text": [
      "User is eligible to vote.\n"
     ]
    }
   ],
   "source": [
    "# Assumption on user age input\n",
    "age = 45\n",
    "\n",
    "## if else logic for age check\n",
    "if age >=18:\n",
    "    print('User is eligible to vote.')\n",
    "\n",
    "else:\n",
    "    print('User is not eligible to vote.')"
   ]
  },
  {
   "cell_type": "markdown",
   "id": "1944182b",
   "metadata": {},
   "source": [
    "### 8.Create a Python program that calculates the discount amount based on the purchase amount using if-else."
   ]
  },
  {
   "cell_type": "code",
   "execution_count": 16,
   "id": "72e518c7",
   "metadata": {},
   "outputs": [
    {
     "name": "stdout",
     "output_type": "stream",
     "text": [
      "Discount is : 200.0\n"
     ]
    }
   ],
   "source": [
    "## Range Assumption\n",
    "## Above 500: 2%\n",
    "## Between 500-1000: 5%\n",
    "## Between 1000-5000: 10%\n",
    "## Above 5000: 15%\n",
    "\n",
    "purchase_amount = 2000\n",
    "\n",
    "if purchase_amount >0 and purchase_amount<500:\n",
    "    print(\"Discount is :\",purchase_amount*0.02)\n",
    "\n",
    "elif purchase_amount >500 and purchase_amount < 1000:\n",
    "    print(\"Discount is :\",purchase_amount * 0.05)\n",
    "    \n",
    "elif purchase_amount >1000 and purchase_amount < 5000:\n",
    "    print('Discount is :',purchase_amount * 0.1)\n",
    "    \n",
    "else:\n",
    "    print('Discount is :',purchase_amount*0.15)"
   ]
  },
  {
   "cell_type": "markdown",
   "id": "fc1954d4",
   "metadata": {},
   "source": [
    "### 9.Write a Python program to check if a number is within a specified range using if-else."
   ]
  },
  {
   "cell_type": "code",
   "execution_count": 26,
   "id": "da981f16",
   "metadata": {},
   "outputs": [
    {
     "name": "stdout",
     "output_type": "stream",
     "text": [
      "Number is in range 50-60.\n"
     ]
    }
   ],
   "source": [
    "# Assumption range are 1-10,11-20,21-30,31-40,41-50,51-60,61-70,71-80,81-90,91-100 or above\n",
    "# Input user assumption\n",
    "number = 50\n",
    "\n",
    "if number in range(0,10):\n",
    "    print('Number is in range 0-10.')\n",
    "\n",
    "elif number in range(10,20):\n",
    "    print('Number is in range 10-20.')\n",
    "\n",
    "elif number in range(20,30):\n",
    "    print('Number is in range 20-30.')\n",
    "\n",
    "elif number in range(30,40):\n",
    "    print('Number is in range 30-40.')\n",
    "\n",
    "elif number in range(40,50):\n",
    "    print('Number is in range 40-50.')\n",
    "\n",
    "elif number in range(50,60):\n",
    "    print('Number is in range 50-60.')\n",
    "\n",
    "elif number in range(60,70):\n",
    "    print('Number is in range 60-70.')\n",
    "\n",
    "elif number in range(70,80):\n",
    "    print('Number is in range 70-80.')\n",
    "\n",
    "elif number in range(80,90):\n",
    "    print('Number is in range 80-90.')\n",
    "\n",
    "elif number in range(90,101):\n",
    "    print('Number is in range 90-100.')\n",
    "    \n",
    "else:\n",
    "    print('Number is above 100.')"
   ]
  },
  {
   "cell_type": "markdown",
   "id": "6a9be909",
   "metadata": {},
   "source": [
    "### 10.Create a Python program that determines the grade of a student based on their score using if-else."
   ]
  },
  {
   "cell_type": "code",
   "execution_count": 13,
   "id": "f30a6f6f",
   "metadata": {},
   "outputs": [
    {
     "name": "stdout",
     "output_type": "stream",
     "text": [
      "Grade C.\n"
     ]
    }
   ],
   "source": [
    "## Assumption is above 90- Grade A, Above 80 - Grade B, Above 60 - Grade C and Below 60 is grade D\n",
    "score = 74\n",
    "\n",
    "## Use the if and then elif statement to check for score and then assign grade\n",
    "if score > 90:\n",
    "    print(\" Grade A.\")\n",
    "\n",
    "elif score > 80:\n",
    "    print(\"Grade B.\")\n",
    "\n",
    "elif score > 60:\n",
    "    print(\"Grade C.\")\n",
    "\n",
    "else:\n",
    "    print(\"Grade D.\")"
   ]
  },
  {
   "cell_type": "markdown",
   "id": "f50f4510",
   "metadata": {},
   "source": [
    "### 11.Write a Python program to check if a string is empty or not using if-else."
   ]
  },
  {
   "cell_type": "code",
   "execution_count": 23,
   "id": "3f7cfc2f",
   "metadata": {},
   "outputs": [
    {
     "name": "stdout",
     "output_type": "stream",
     "text": [
      "Empty string.\n"
     ]
    }
   ],
   "source": [
    "# Assumption of input string\n",
    "string = \"\"\n",
    "\n",
    "## if else check on length of string\n",
    "if len(string) ==0:\n",
    "    print('Empty string.')\n",
    "\n",
    "else:\n",
    "    print('Non-Empty String.')"
   ]
  },
  {
   "cell_type": "markdown",
   "id": "30c6ee04",
   "metadata": {},
   "source": [
    "### 12.Create a Python program that identifies the type of a triangle (e.g., equilateral, isosceles, or scalene) based on input values using if-else."
   ]
  },
  {
   "cell_type": "code",
   "execution_count": 10,
   "id": "8a4d5083",
   "metadata": {},
   "outputs": [
    {
     "name": "stdout",
     "output_type": "stream",
     "text": [
      "Isosceles triangle.\n"
     ]
    }
   ],
   "source": [
    "## Assuming the user input\n",
    "side1 = 14\n",
    "side2 = 15\n",
    "side3 = 14\n",
    "\n",
    "## check for equalness for triangle sides\n",
    "if side1 == side2 == side3:\n",
    "    print(\"Equilateral triangle.\")\n",
    "\n",
    "elif side1 == side2 or side2==side3 or side1==side3:\n",
    "    print(\"Isosceles triangle.\")\n",
    "\n",
    "else:\n",
    "    print(\"Scalene Triangle.\")"
   ]
  },
  {
   "cell_type": "markdown",
   "id": "ee9485f7",
   "metadata": {},
   "source": [
    "### 13.Write a Python program to determine the day of the week based on a user-provided number using if-else."
   ]
  },
  {
   "cell_type": "code",
   "execution_count": 12,
   "id": "72422011",
   "metadata": {},
   "outputs": [
    {
     "name": "stdout",
     "output_type": "stream",
     "text": [
      "Wednesday\n"
     ]
    }
   ],
   "source": [
    "## User input\n",
    "day_input =3\n",
    "\n",
    "if day_input ==1:\n",
    "    print(\"Monday\")\n",
    "elif day_input ==2:\n",
    "    print(\"Tuesday\")\n",
    "elif day_input ==3:\n",
    "    print(\"Wednesday\")\n",
    "elif day_input ==4:\n",
    "    print(\"Thursday\")\n",
    "elif day_input ==5:\n",
    "    print(\"Friday\")\n",
    "elif day_input ==6:\n",
    "    print('Saturday')\n",
    "else:\n",
    "    print('Sunday')"
   ]
  },
  {
   "cell_type": "markdown",
   "id": "bf68048a",
   "metadata": {},
   "source": [
    "### 14.Create a Python program that checks if a given year is a leap year using both if-else and a function."
   ]
  },
  {
   "cell_type": "code",
   "execution_count": 6,
   "id": "c33bf183",
   "metadata": {},
   "outputs": [
    {
     "name": "stdout",
     "output_type": "stream",
     "text": [
      "Enter year: 2004\n",
      "Year 2004 is a leap year.\n"
     ]
    }
   ],
   "source": [
    "# Leap year is a year which is divisible by 4\n",
    "\n",
    "# Take input of year\n",
    "year = int(input('Enter year: '))\n",
    "\n",
    "if year % 4 == 0:\n",
    "    print(f'Year {year} is a leap year.')\n",
    "else:\n",
    "    print(f'Year {year} is a not leap year.')"
   ]
  },
  {
   "cell_type": "markdown",
   "id": "8a43a9de",
   "metadata": {},
   "source": [
    "### 15.How do you use the \"assert\" statement in Python to add debugging checks within if-else blocks?"
   ]
  },
  {
   "cell_type": "markdown",
   "id": "f7b11dd3",
   "metadata": {},
   "source": [
    "The assert statement in Python is used to perform debugging checks. It allows you to verify if certain conditions are met at specific points in your code. If the condition is True, the program continues as usual. If it's False, an AssertionError is raised, which can help you identify and debug issues."
   ]
  },
  {
   "cell_type": "markdown",
   "id": "516026bc",
   "metadata": {},
   "source": [
    "'assert' is a way to catch logical errors during development, and it's typically disabled in production code for performance reasons.\n",
    "\n",
    "As shown in example in code cell. Result will be error raised."
   ]
  },
  {
   "cell_type": "code",
   "execution_count": 7,
   "id": "5d21fbf8",
   "metadata": {},
   "outputs": [
    {
     "ename": "AssertionError",
     "evalue": "Division by zero is not allowed!",
     "output_type": "error",
     "traceback": [
      "\u001b[1;31m---------------------------------------------------------------------------\u001b[0m",
      "\u001b[1;31mAssertionError\u001b[0m                            Traceback (most recent call last)",
      "Cell \u001b[1;32mIn[7], line 10\u001b[0m\n\u001b[0;32m      7\u001b[0m num1 \u001b[38;5;241m=\u001b[39m \u001b[38;5;241m10\u001b[39m\n\u001b[0;32m      8\u001b[0m num2 \u001b[38;5;241m=\u001b[39m \u001b[38;5;241m0\u001b[39m\n\u001b[1;32m---> 10\u001b[0m result \u001b[38;5;241m=\u001b[39m \u001b[43mdivide\u001b[49m\u001b[43m(\u001b[49m\u001b[43mnum1\u001b[49m\u001b[43m,\u001b[49m\u001b[43m \u001b[49m\u001b[43mnum2\u001b[49m\u001b[43m)\u001b[49m\n\u001b[0;32m     11\u001b[0m \u001b[38;5;28mprint\u001b[39m(\u001b[38;5;124mf\u001b[39m\u001b[38;5;124m\"\u001b[39m\u001b[38;5;124mThe result of division is: \u001b[39m\u001b[38;5;132;01m{\u001b[39;00mresult\u001b[38;5;132;01m}\u001b[39;00m\u001b[38;5;124m\"\u001b[39m)\n",
      "Cell \u001b[1;32mIn[7], line 3\u001b[0m, in \u001b[0;36mdivide\u001b[1;34m(a, b)\u001b[0m\n\u001b[0;32m      1\u001b[0m \u001b[38;5;28;01mdef\u001b[39;00m \u001b[38;5;21mdivide\u001b[39m(a, b):\n\u001b[0;32m      2\u001b[0m     \u001b[38;5;66;03m# below code will throw error if b is zero\u001b[39;00m\n\u001b[1;32m----> 3\u001b[0m     \u001b[38;5;28;01massert\u001b[39;00m b \u001b[38;5;241m!=\u001b[39m \u001b[38;5;241m0\u001b[39m, \u001b[38;5;124m\"\u001b[39m\u001b[38;5;124mDivision by zero is not allowed!\u001b[39m\u001b[38;5;124m\"\u001b[39m\n\u001b[0;32m      4\u001b[0m     \u001b[38;5;28;01mreturn\u001b[39;00m a \u001b[38;5;241m/\u001b[39m b\n",
      "\u001b[1;31mAssertionError\u001b[0m: Division by zero is not allowed!"
     ]
    }
   ],
   "source": [
    "def divide(a, b):\n",
    "    # below code will throw error if b is zero\n",
    "    assert b != 0, \"Division by zero is not allowed!\"\n",
    "    return a / b\n",
    "\n",
    "# Example usage\n",
    "num1 = 10\n",
    "num2 = 0\n",
    "\n",
    "result = divide(num1, num2)\n",
    "print(f\"The result of division is: {result}\")"
   ]
  },
  {
   "cell_type": "markdown",
   "id": "df3edf21",
   "metadata": {},
   "source": [
    "### 16.Create a Python program that determines the eligibility of a person for a senior citizen discount based on age using if-else."
   ]
  },
  {
   "cell_type": "code",
   "execution_count": 17,
   "id": "3452a0dc",
   "metadata": {},
   "outputs": [
    {
     "name": "stdout",
     "output_type": "stream",
     "text": [
      "Senior Citizen.\n"
     ]
    }
   ],
   "source": [
    "# Senior citizen age assumption is 60 or above.\n",
    "# User input age assumption\n",
    "age = 67\n",
    "\n",
    "if age >=60:\n",
    "    print('Senior Citizen.')\n",
    "\n",
    "else:\n",
    "    print('Not a senior citizen.')"
   ]
  },
  {
   "cell_type": "markdown",
   "id": "3e12b519",
   "metadata": {},
   "source": [
    "### 17.Write a Python program to categorize a given character as uppercase, lowercase, or neither using if-else."
   ]
  },
  {
   "cell_type": "code",
   "execution_count": 15,
   "id": "d9b9fd87",
   "metadata": {},
   "outputs": [
    {
     "name": "stdout",
     "output_type": "stream",
     "text": [
      "Special Character\n"
     ]
    }
   ],
   "source": [
    "## Assuming user input\n",
    "char = '@'\n",
    "\n",
    "if char.isupper():\n",
    "    print('Uppercase')\n",
    "\n",
    "elif char.islower():\n",
    "    print('Lowercase')\n",
    "\n",
    "else:\n",
    "    print('Special Character')"
   ]
  },
  {
   "cell_type": "markdown",
   "id": "0fdbeb25",
   "metadata": {},
   "source": [
    "### 18.Write a Python program to determine the roots of a quadratic equation using if-else."
   ]
  },
  {
   "cell_type": "code",
   "execution_count": 8,
   "id": "d3d9dce9",
   "metadata": {},
   "outputs": [
    {
     "name": "stdout",
     "output_type": "stream",
     "text": [
      "Roots are complex.\n",
      "x = (-2.5+0.8660254037844386j) or x = (-2.5-0.8660254037844386j)\n"
     ]
    }
   ],
   "source": [
    "import math\n",
    "import cmath\n",
    "# Using cmath - to get the complex number (from negative sqaure root)\n",
    "\n",
    "# Function - prints the roots and related info\n",
    "def print_roots_of_quadratic_equation(a, b, c):\n",
    "    if a == 0:\n",
    "        print('Not a valid Quadratic equation.')\n",
    "    else:\n",
    "        # D = b2 - 4ac\n",
    "        D = (b ** 2) - (4 * a * c)\n",
    "\n",
    "        if D == 0:\n",
    "            root = (-b  / (2 * a))\n",
    "            print('Roots are real and same.')\n",
    "            print(f'x = {root}')\n",
    "        elif D > 0:\n",
    "            square_root_D = math.sqrt(D)\n",
    "            root1 = (-b + square_root_D)/(2 * a)\n",
    "            root2 = (-b - square_root_D)/(2 * a)\n",
    "            print('Roots are real and different.')\n",
    "            print(f'x = {root1} or x = {root2}')\n",
    "        else:\n",
    "            square_root_D = cmath.sqrt(D)\n",
    "            root1 = (-b + square_root_D)/(2 * a)\n",
    "            root2 = (-b - square_root_D)/(2 * a)\n",
    "            print('Roots are complex.')\n",
    "            print(f'x = {root1} or x = {root2}')\n",
    "\n",
    "\n",
    "# Compute and print result\n",
    "print_roots_of_quadratic_equation(1, 5, 7)"
   ]
  },
  {
   "cell_type": "markdown",
   "id": "4e4204f3",
   "metadata": {},
   "source": [
    "### 19.Create a Python program that checks if a given year is a century year or not using if-else."
   ]
  },
  {
   "cell_type": "code",
   "execution_count": 9,
   "id": "e6651bc7",
   "metadata": {},
   "outputs": [
    {
     "name": "stdout",
     "output_type": "stream",
     "text": [
      "200 is a century year.\n"
     ]
    }
   ],
   "source": [
    "# Input year assumption\n",
    "year = 200\n",
    "\n",
    "# Logic for the century year\n",
    "if year%100==0:\n",
    "    print(f'{year} is a century year.')\n",
    "\n",
    "else:\n",
    "    print(f'{year} is not a century year.')"
   ]
  },
  {
   "cell_type": "markdown",
   "id": "f42e2ec0",
   "metadata": {},
   "source": [
    "### 20.Write a Python program to determine if a given number is a perfect square using if-else."
   ]
  },
  {
   "cell_type": "code",
   "execution_count": 2,
   "id": "5b671f0a",
   "metadata": {},
   "outputs": [
    {
     "name": "stdout",
     "output_type": "stream",
     "text": [
      "16 is a perfect square,\n",
      "25 is a perfect square,\n",
      "10 is not a perfect square.\n"
     ]
    }
   ],
   "source": [
    "# Input number assumption\n",
    "number1 = 16\n",
    "number2 = 25\n",
    "number3 = 10\n",
    "\n",
    "# logic for check for perfect square check\n",
    "def perfect_square_check(number):\n",
    "    \n",
    "    sqrt = int(number **0.5)\n",
    "    \n",
    "    if sqrt **2 == number:\n",
    "        print(f'{number} is a perfect square,')\n",
    "    \n",
    "    else:\n",
    "        print(f'{number} is not a perfect square.')\n",
    "\n",
    "## Function call for check\n",
    "perfect_square_check(number1)\n",
    "perfect_square_check(number2)\n",
    "perfect_square_check(number3)"
   ]
  },
  {
   "cell_type": "markdown",
   "id": "10501714",
   "metadata": {},
   "source": [
    "### 21.Explain the purpose of the \"continue\" and \"break\" statements within if-else loops."
   ]
  },
  {
   "cell_type": "markdown",
   "id": "36943f90",
   "metadata": {},
   "source": [
    "The 'continue' and 'break' statements are control flow statements in Python that alter the flow of execution in loops (example for and while loops) and conditional statements (if-else blocks)."
   ]
  },
  {
   "cell_type": "markdown",
   "id": "3ba5e2e1",
   "metadata": {},
   "source": [
    "#### Continue Statement:\n",
    "The continue statement is used to skip the rest of the loop's code for the current iteration, and to move on to the next iteration.\n",
    "\n",
    "#### Break Statement:\n",
    "The break statement is used to exist a loop immediately and prematurely, even if the loop condition is still true.\n",
    "\n",
    "Examples are avaible below:"
   ]
  },
  {
   "cell_type": "code",
   "execution_count": 5,
   "id": "cb37fb87",
   "metadata": {},
   "outputs": [
    {
     "name": "stdout",
     "output_type": "stream",
     "text": [
      "0\n",
      "1\n",
      "2\n",
      "4\n"
     ]
    }
   ],
   "source": [
    "# Below code print 0 to 4 and skip 3\n",
    "for i in range(5):\n",
    "    if i == 3:\n",
    "        continue\n",
    "    print(i)"
   ]
  },
  {
   "cell_type": "code",
   "execution_count": 7,
   "id": "1d55d368",
   "metadata": {},
   "outputs": [
    {
     "name": "stdout",
     "output_type": "stream",
     "text": [
      "0\n",
      "1\n",
      "2\n"
     ]
    }
   ],
   "source": [
    "#Below code is prints 0 to 2 and break after 2\n",
    "for i in range(5):\n",
    "    if i == 3:\n",
    "        break\n",
    "    print(i)"
   ]
  },
  {
   "cell_type": "markdown",
   "id": "5cdc172b",
   "metadata": {},
   "source": [
    "### 22.Create a Python program that calculates the BMI (Body Mass Index) of a person based on their weight and height using if-else."
   ]
  },
  {
   "cell_type": "code",
   "execution_count": 9,
   "id": "cf2fef8d",
   "metadata": {},
   "outputs": [
    {
     "name": "stdout",
     "output_type": "stream",
     "text": [
      "Enter the weight in kgs : 74\n",
      "Enter the height in meters: 1.72\n",
      "Your BMI is : 25.013520822065985\n",
      "You are overweight\n"
     ]
    }
   ],
   "source": [
    "## Define the function to calculate the BMI\n",
    "def calculate_bmi(weight,height):\n",
    "    return weight/(height**2)\n",
    "\n",
    "def health_recommendation(bmi):\n",
    "    if bmi < 18.5:\n",
    "        return \"You are underweight\"\n",
    "    elif 18.5 <= bmi <24.9:\n",
    "        return \"Your BMI is within the healthy range\"\n",
    "    elif 25 <=bmi < 29.9:\n",
    "        return \"You are overweight\"\n",
    "    else:\n",
    "        return \"You are obese\"\n",
    "\n",
    "#Take the user input\n",
    "weight = float(input(\"Enter the weight in kgs : \"))\n",
    "height = float(input(\"Enter the height in meters: \"))\n",
    "\n",
    "#Calculate the BMI\n",
    "bmi = calculate_bmi(weight,height)\n",
    "\n",
    "# Display the BMI and recommendations\n",
    "print(f'Your BMI is : {bmi}')\n",
    "print(health_recommendation(bmi))"
   ]
  },
  {
   "cell_type": "markdown",
   "id": "0d17195f",
   "metadata": {},
   "source": [
    "### 23.How can you use the \"filter()\" function with if-else statements to filter elements from a list?"
   ]
  },
  {
   "cell_type": "code",
   "execution_count": 12,
   "id": "c1155a27",
   "metadata": {},
   "outputs": [
    {
     "name": "stdout",
     "output_type": "stream",
     "text": [
      "[2, 4, 6, 8]\n"
     ]
    }
   ],
   "source": [
    "def is_even(number):\n",
    "    if number%2 == 0:\n",
    "        return True\n",
    "    else:\n",
    "        return False\n",
    "\n",
    "# Create a list of numbers\n",
    "numbers = [1,2,3,4,5,6,7,8,9]\n",
    "\n",
    "# Use filter with function having if-else\n",
    "even_nunbers = filter(is_even,numbers)\n",
    "\n",
    "print(list(even_nunbers))"
   ]
  },
  {
   "cell_type": "markdown",
   "id": "b5ca3561",
   "metadata": {},
   "source": [
    "### 24.Write a Python program to determine if a given number is prime or not using if-else."
   ]
  },
  {
   "cell_type": "code",
   "execution_count": 16,
   "id": "d839aac1",
   "metadata": {},
   "outputs": [
    {
     "name": "stdout",
     "output_type": "stream",
     "text": [
      "37 is  a prime number\n"
     ]
    }
   ],
   "source": [
    "import math\n",
    "# Input number assumption\n",
    "number = 37\n",
    "\n",
    "# check for prime conditions\n",
    "\n",
    "if number<=1:\n",
    "    print(f'{number} is not prime.')\n",
    "\n",
    "else:\n",
    "    range_num = math.floor(number/2) + 1\n",
    "    for i in range(2,range_num):\n",
    "        if (number%i == 0):\n",
    "            print(f'{number} is not a prime number')\n",
    "        \n",
    "    print(f'{number} is  a prime number')"
   ]
  },
  {
   "cell_type": "markdown",
   "id": "9cc7acdd",
   "metadata": {},
   "source": [
    "## Map :-"
   ]
  },
  {
   "cell_type": "markdown",
   "id": "382924b4",
   "metadata": {},
   "source": [
    "### 1.Explain the purpose of the `map()` function in Python and provide an example of how it can be used to apply a function to each element of an iterable."
   ]
  },
  {
   "cell_type": "markdown",
   "id": "a891a80e",
   "metadata": {},
   "source": [
    "The map() function in python is used to apply a specified function to every element in an iterable(like a list) and return a new iterable containing the result of the function applied to each element.\n",
    "\n",
    "Example are shown in below code:"
   ]
  },
  {
   "cell_type": "code",
   "execution_count": 17,
   "id": "a833dfa3",
   "metadata": {},
   "outputs": [
    {
     "name": "stdout",
     "output_type": "stream",
     "text": [
      "[1, 4, 9, 16, 25, 36, 49, 64, 81]\n"
     ]
    }
   ],
   "source": [
    "# Number list \n",
    "number = [1,2,3,4,5,6,7,8,9]\n",
    "\n",
    "# function to square a number\n",
    "def square_number(n):\n",
    "    return n**2\n",
    "\n",
    "# Apply a function using map to every element of number list\n",
    "square_list = list(map(square_number,number))\n",
    "\n",
    "print(square_list)"
   ]
  },
  {
   "cell_type": "markdown",
   "id": "18e98311",
   "metadata": {},
   "source": [
    "### 2.Write a Python program that uses the `map()` function to square each element of a list of numbers."
   ]
  },
  {
   "cell_type": "code",
   "execution_count": 30,
   "id": "5bafd002",
   "metadata": {},
   "outputs": [
    {
     "name": "stdout",
     "output_type": "stream",
     "text": [
      "[1, 4, 9, 16, 25, 36, 49, 64, 81, 100]\n"
     ]
    }
   ],
   "source": [
    "# Assumption of list number\n",
    "number = [1,2,3,4,5,6,7,8,9,10]\n",
    "\n",
    "# Map function to get square\n",
    "square = list(map( lambda x: x*x , number))\n",
    "\n",
    "print(square)"
   ]
  },
  {
   "cell_type": "markdown",
   "id": "67214316",
   "metadata": {},
   "source": [
    "### 3.How does the `map()` function differ from a list comprehension in Python, and when would you choose one over the other?"
   ]
  },
  {
   "cell_type": "markdown",
   "id": "41cd5399",
   "metadata": {},
   "source": [
    "Both map and list comphrension serve similar purposes i.e. they allow you to transform data in an iterable.\n",
    "\n",
    "#### map():\n",
    "\n",
    "It's a built in python function that applies a specified function to each item in an input list(or other iterable) and returns an iterator. Map uses lazy evaluation which means it calculates the elements one at a time as they are needed. This can be more memory-efficient for large datasets.\n",
    "\n",
    "#### List comphrension:\n",
    "\n",
    "It's a concise way to create a new list by applying an expression to each item in an input list(or other iterable) and specifying a condition. In terms of performance, list comphrension are generally faster than map because they are optimized for the specific task of creating a list.\n",
    "\n",
    "#### When to choose one over the other:\n",
    "- Use map() when you are working with largest datasets and want to optimize memory usage.\n",
    "- Use list comphrension when you want a more readable and expressive way to create a new list."
   ]
  },
  {
   "cell_type": "markdown",
   "id": "f423803f",
   "metadata": {},
   "source": [
    "### 4.Create a Python program that uses the `map()` function to convert a list of names to uppercase."
   ]
  },
  {
   "cell_type": "code",
   "execution_count": 32,
   "id": "007351af",
   "metadata": {},
   "outputs": [
    {
     "name": "stdout",
     "output_type": "stream",
     "text": [
      "['RAM', 'SHYAM', 'RADHA', 'SITA']\n"
     ]
    }
   ],
   "source": [
    "# Name list assumption\n",
    "name_list = ['ram','shyam','radha','sita']\n",
    "\n",
    "# Uppercase change\n",
    "function = lambda name : str.upper(name)\n",
    "\n",
    "uppercase = list(map(function,name_list))\n",
    "\n",
    "print(uppercase)"
   ]
  },
  {
   "cell_type": "markdown",
   "id": "ee1aafd4",
   "metadata": {},
   "source": [
    "### 5.Write a Python program that uses the `map()` function to calculate the length of each word in a list of strings."
   ]
  },
  {
   "cell_type": "code",
   "execution_count": 2,
   "id": "62e2987c",
   "metadata": {},
   "outputs": [
    {
     "name": "stdout",
     "output_type": "stream",
     "text": [
      "[3, 5, 5, 4]\n"
     ]
    }
   ],
   "source": [
    "# Name list assumption\n",
    "name_list = ['ram','shyam','radha','sita']\n",
    "\n",
    "# Length function\n",
    "function = lambda x : len(x)\n",
    "\n",
    "len_list = list(map(function,name_list))\n",
    "\n",
    "print(len_list)"
   ]
  },
  {
   "cell_type": "markdown",
   "id": "fe0c8625",
   "metadata": {},
   "source": [
    "### 6.How can you use the `map()` function to apply a custom function to elements of multiple lists simultaneously in Python?"
   ]
  },
  {
   "cell_type": "code",
   "execution_count": 19,
   "id": "1524a53c",
   "metadata": {},
   "outputs": [
    {
     "name": "stdout",
     "output_type": "stream",
     "text": [
      "[2, 4, 6, 8, 10]\n"
     ]
    }
   ],
   "source": [
    "# Function to add the number\n",
    "def add(a,b):\n",
    "    return a+b\n",
    "\n",
    "# Create a list\n",
    "list1= [1,2,3,4,5]\n",
    "list2 = [1,2,3,4,5]\n",
    "\n",
    "## Apply custom function on given lists\n",
    "result = list(map(add, list1,list2))\n",
    "\n",
    "print(result)"
   ]
  },
  {
   "cell_type": "markdown",
   "id": "34550f3b",
   "metadata": {},
   "source": [
    "### 7.Create a Python program that uses `map()` to convert a list of temperatures from Celsius to Fahrenheit."
   ]
  },
  {
   "cell_type": "code",
   "execution_count": 3,
   "id": "7cedf53d",
   "metadata": {},
   "outputs": [
    {
     "name": "stdout",
     "output_type": "stream",
     "text": [
      "[50.0, 68.0, 86.0, 104.0, 122.0]\n"
     ]
    }
   ],
   "source": [
    "# Input list assumption\n",
    "celsius = [10,20,30,40,50]\n",
    "\n",
    "# Logic from celsius to fahrenheit\n",
    "function = lambda x : (x * (9/5)) +32\n",
    "\n",
    "fahrenheit_list = list(map(function,celsius))\n",
    "\n",
    "print(fahrenheit_list)"
   ]
  },
  {
   "cell_type": "markdown",
   "id": "683f442f",
   "metadata": {},
   "source": [
    "### 8.Write a Python program that uses the `map()` function to round each element of a list of floating-point numbers to the nearest integer."
   ]
  },
  {
   "cell_type": "code",
   "execution_count": 22,
   "id": "2a2c5cf5",
   "metadata": {},
   "outputs": [
    {
     "name": "stdout",
     "output_type": "stream",
     "text": [
      "[1, 2, 3, 4, 5, 6, 7, 8, 9]\n"
     ]
    }
   ],
   "source": [
    "# Create list of float number\n",
    "floating_numbers = [1.12,2.23,3.34,4.45,5.36,6.16,7.38,8.29,9.23]\n",
    "\n",
    "## Convert a nearest list\n",
    "integer_numbers = list(map(round, floating_numbers))\n",
    "\n",
    "print(integer_numbers)"
   ]
  },
  {
   "cell_type": "markdown",
   "id": "39ce8b46",
   "metadata": {},
   "source": [
    "## Reduce :-"
   ]
  },
  {
   "cell_type": "markdown",
   "id": "88e1efe2",
   "metadata": {},
   "source": [
    "### 1.What is the `reduce()` function in Python, and what module should you import to use it? Provide an example of its basic usage."
   ]
  },
  {
   "cell_type": "markdown",
   "id": "746e5bdf",
   "metadata": {},
   "source": [
    "The reduce function in Python is a built-in function provided by the functools module. It is used to apply a specified function to an iterable (e.g. a list) cumulatively to reduce it to a single value.\n",
    "\n",
    "To use the reduce function, we need to import it from the functools module.\n",
    "\n",
    "Example of the basic usage on reduce function:"
   ]
  },
  {
   "cell_type": "code",
   "execution_count": 24,
   "id": "463f7bef",
   "metadata": {},
   "outputs": [
    {
     "name": "stdout",
     "output_type": "stream",
     "text": [
      "15\n"
     ]
    }
   ],
   "source": [
    "from functools import reduce\n",
    "\n",
    "#number list\n",
    "number = [1,2,3,4,5]\n",
    "\n",
    "# Function to add two number\n",
    "def add(x,y): \n",
    "    return x+y\n",
    "\n",
    "# Use reduce to apply the function to the list\n",
    "result = reduce(add,number)\n",
    "\n",
    "print(result)"
   ]
  },
  {
   "cell_type": "markdown",
   "id": "0d05fbc2",
   "metadata": {},
   "source": [
    "### 2.Write a Python program that uses the `reduce()` function to find the product of all elements in a list."
   ]
  },
  {
   "cell_type": "code",
   "execution_count": 5,
   "id": "12d74605",
   "metadata": {},
   "outputs": [
    {
     "name": "stdout",
     "output_type": "stream",
     "text": [
      "24\n"
     ]
    }
   ],
   "source": [
    "from functools import reduce\n",
    "\n",
    "#Input list assumption\n",
    "number_list = [1,2,3,4]\n",
    "\n",
    "\n",
    "product = reduce((lambda x,y : x*y),number_list)\n",
    "\n",
    "print(product)"
   ]
  },
  {
   "cell_type": "markdown",
   "id": "588bf073",
   "metadata": {},
   "source": [
    "### 3.Create a Python program that uses `reduce()` to find the maximum element in a list of numbers."
   ]
  },
  {
   "cell_type": "code",
   "execution_count": 25,
   "id": "315a7c6c",
   "metadata": {},
   "outputs": [
    {
     "name": "stdout",
     "output_type": "stream",
     "text": [
      "5\n"
     ]
    }
   ],
   "source": [
    "# Import reduce function\n",
    "from functools import reduce\n",
    "\n",
    "# Create a list of number\n",
    "number =[1,2,5,3,4]\n",
    "\n",
    "#Maximum number\n",
    "max_num = reduce(lambda x,y: x if x>y else y, number)\n",
    "\n",
    "print(max_num)"
   ]
  },
  {
   "cell_type": "markdown",
   "id": "177f1668",
   "metadata": {},
   "source": [
    "### 4.How can you use the `reduce()` function to concatenate a list of strings into a single string?"
   ]
  },
  {
   "cell_type": "code",
   "execution_count": 28,
   "id": "9c891c49",
   "metadata": {},
   "outputs": [
    {
     "name": "stdout",
     "output_type": "stream",
     "text": [
      "I am learning a Data Science\n"
     ]
    }
   ],
   "source": [
    "# Import reduce function\n",
    "from functools import reduce\n",
    "\n",
    "# Create a list of string\n",
    "string = ['I','am','learning','a','Data','Science']\n",
    "\n",
    "# Concate\n",
    "concatenated = reduce(lambda x,y: x+\" \"+y,string)\n",
    "\n",
    "print(concatenated)"
   ]
  },
  {
   "cell_type": "markdown",
   "id": "7609a32c",
   "metadata": {},
   "source": [
    "### 5.Write a Python program that calculates the factorial of a number using the `reduce()` function."
   ]
  },
  {
   "cell_type": "code",
   "execution_count": 36,
   "id": "2f572b3e",
   "metadata": {},
   "outputs": [
    {
     "name": "stdout",
     "output_type": "stream",
     "text": [
      "120\n"
     ]
    }
   ],
   "source": [
    "# Import reduce function\n",
    "from functools import reduce\n",
    "\n",
    "#number input assumption\n",
    "number = 5\n",
    "\n",
    "#Reduce function\n",
    "def factorial(n):\n",
    "    return reduce(lambda x,y:x*y,range(1,n+1))\n",
    "\n",
    "result = factorial(number)\n",
    "\n",
    "print(result)"
   ]
  },
  {
   "cell_type": "markdown",
   "id": "33d9ddbe",
   "metadata": {},
   "source": [
    "### 6.Create a Python program that uses `reduce()` to find the GCD (Greatest Common Divisor) of a list of numbers."
   ]
  },
  {
   "cell_type": "code",
   "execution_count": null,
   "id": "1b9fdef2",
   "metadata": {},
   "outputs": [],
   "source": []
  },
  {
   "cell_type": "markdown",
   "id": "0db0c925",
   "metadata": {},
   "source": [
    "### 7.Write a Python program that uses the `reduce()` function to find the sum of the digits of a given number."
   ]
  },
  {
   "cell_type": "code",
   "execution_count": null,
   "id": "ac65d05c",
   "metadata": {},
   "outputs": [],
   "source": []
  },
  {
   "cell_type": "markdown",
   "id": "14a80447",
   "metadata": {},
   "source": [
    "## Filter :-"
   ]
  },
  {
   "cell_type": "markdown",
   "id": "0ec9b176",
   "metadata": {},
   "source": [
    "### 1.Explain the purpose of the `filter()` function in Python and provide an example of how it can be used to filter elements from an iterable."
   ]
  },
  {
   "cell_type": "code",
   "execution_count": null,
   "id": "5d240d7a",
   "metadata": {},
   "outputs": [],
   "source": []
  },
  {
   "cell_type": "markdown",
   "id": "ca8ef47e",
   "metadata": {},
   "source": [
    "### 2.Write a Python program that uses the `filter()` function to select even numbers from a list of integers."
   ]
  },
  {
   "cell_type": "code",
   "execution_count": null,
   "id": "04b2fde5",
   "metadata": {},
   "outputs": [],
   "source": []
  },
  {
   "cell_type": "markdown",
   "id": "5c90c956",
   "metadata": {},
   "source": [
    "### 3.Create a Python program that uses the `filter()` function to select names that start with a specific letter from a list of strings."
   ]
  },
  {
   "cell_type": "code",
   "execution_count": null,
   "id": "0e868218",
   "metadata": {},
   "outputs": [],
   "source": []
  },
  {
   "cell_type": "markdown",
   "id": "50abeac1",
   "metadata": {},
   "source": [
    "### 4.Write a Python program that uses the `filter()` function to select prime numbers from a list of integers."
   ]
  },
  {
   "cell_type": "code",
   "execution_count": null,
   "id": "c006c71e",
   "metadata": {},
   "outputs": [],
   "source": []
  },
  {
   "cell_type": "markdown",
   "id": "24b29b61",
   "metadata": {},
   "source": [
    "### 5.How can you use the `filter()` function to remove None values from a list in Python?"
   ]
  },
  {
   "cell_type": "code",
   "execution_count": null,
   "id": "7170aeda",
   "metadata": {},
   "outputs": [],
   "source": []
  },
  {
   "cell_type": "markdown",
   "id": "7316174c",
   "metadata": {},
   "source": [
    "### 6.Create a Python program that uses `filter()` to select words longer than a certain length from a list of strings."
   ]
  },
  {
   "cell_type": "code",
   "execution_count": null,
   "id": "124d3ca6",
   "metadata": {},
   "outputs": [],
   "source": []
  },
  {
   "cell_type": "markdown",
   "id": "d15f9f14",
   "metadata": {},
   "source": [
    "### 7.Write a Python program that uses the `filter()` function to select elements greater than a specified threshold from a list of values."
   ]
  },
  {
   "cell_type": "code",
   "execution_count": null,
   "id": "bb56a371",
   "metadata": {},
   "outputs": [],
   "source": []
  },
  {
   "cell_type": "markdown",
   "id": "28f26b74",
   "metadata": {},
   "source": [
    "## Recursion:-"
   ]
  },
  {
   "cell_type": "markdown",
   "id": "9ebc97f4",
   "metadata": {},
   "source": [
    "### 1.Explain the concept of recursion in Python. How does it differ from iteration?"
   ]
  },
  {
   "cell_type": "code",
   "execution_count": null,
   "id": "946b0bad",
   "metadata": {},
   "outputs": [],
   "source": []
  },
  {
   "cell_type": "markdown",
   "id": "ca5494e6",
   "metadata": {},
   "source": [
    "### 2.Write a Python program to calculate the factorial of a number using recursion."
   ]
  },
  {
   "cell_type": "code",
   "execution_count": null,
   "id": "588f5625",
   "metadata": {},
   "outputs": [],
   "source": []
  },
  {
   "cell_type": "markdown",
   "id": "ffb6368d",
   "metadata": {},
   "source": [
    "### 3.Create a recursive Python function to find the nth Fibonacci number."
   ]
  },
  {
   "cell_type": "code",
   "execution_count": null,
   "id": "09c989ea",
   "metadata": {},
   "outputs": [],
   "source": []
  },
  {
   "cell_type": "markdown",
   "id": "837b63ac",
   "metadata": {},
   "source": [
    "### 4.Write a recursive Python function to calculate the sum of all elements in a list."
   ]
  },
  {
   "cell_type": "code",
   "execution_count": null,
   "id": "0adfcb2c",
   "metadata": {},
   "outputs": [],
   "source": []
  },
  {
   "cell_type": "markdown",
   "id": "4510c5ad",
   "metadata": {},
   "source": [
    "### 5.How can you prevent a recursive function from running indefinitely, causing a stack overflow error?"
   ]
  },
  {
   "cell_type": "code",
   "execution_count": null,
   "id": "5711696e",
   "metadata": {},
   "outputs": [],
   "source": []
  },
  {
   "cell_type": "markdown",
   "id": "60ae7221",
   "metadata": {},
   "source": [
    "### 6.Create a recursive Python function to find the greatest common divisor (GCD) of two numbers using the Euclidean algorithm."
   ]
  },
  {
   "cell_type": "code",
   "execution_count": null,
   "id": "a64db58b",
   "metadata": {},
   "outputs": [],
   "source": []
  },
  {
   "cell_type": "markdown",
   "id": "b8eefc5f",
   "metadata": {},
   "source": [
    "### 7.Write a recursive Python function to reverse a string."
   ]
  },
  {
   "cell_type": "code",
   "execution_count": null,
   "id": "d99e9686",
   "metadata": {},
   "outputs": [],
   "source": []
  },
  {
   "cell_type": "markdown",
   "id": "2c95d048",
   "metadata": {},
   "source": [
    "### 8.Create a recursive Python function to calculate the power of a number (x^n)."
   ]
  },
  {
   "cell_type": "code",
   "execution_count": null,
   "id": "68c681b1",
   "metadata": {},
   "outputs": [],
   "source": []
  },
  {
   "cell_type": "markdown",
   "id": "d0f62dbd",
   "metadata": {},
   "source": [
    "### 9.Write a recursive Python function to find all permutations of a given string."
   ]
  },
  {
   "cell_type": "code",
   "execution_count": null,
   "id": "2f973697",
   "metadata": {},
   "outputs": [],
   "source": []
  },
  {
   "cell_type": "markdown",
   "id": "3e69ad0e",
   "metadata": {},
   "source": [
    "### 10.Write a recursive Python function to check if a string is a palindrome."
   ]
  },
  {
   "cell_type": "code",
   "execution_count": null,
   "id": "3162505d",
   "metadata": {},
   "outputs": [],
   "source": []
  },
  {
   "cell_type": "markdown",
   "id": "3fcbdb7f",
   "metadata": {},
   "source": [
    "### 11.Create a recursive Python function to generate all possible combinations of a list of elements."
   ]
  },
  {
   "cell_type": "code",
   "execution_count": null,
   "id": "770ce56a",
   "metadata": {},
   "outputs": [],
   "source": []
  },
  {
   "cell_type": "markdown",
   "id": "c903e718",
   "metadata": {},
   "source": [
    "## Basics of Functions:"
   ]
  },
  {
   "cell_type": "markdown",
   "id": "260e8410",
   "metadata": {},
   "source": [
    "### 1.What is a function in Python, and why is it used?"
   ]
  },
  {
   "cell_type": "code",
   "execution_count": null,
   "id": "1ce11e73",
   "metadata": {},
   "outputs": [],
   "source": []
  },
  {
   "cell_type": "markdown",
   "id": "23f6c8f7",
   "metadata": {},
   "source": [
    "### 2.How do you define a function in Python? Provide an example."
   ]
  },
  {
   "cell_type": "code",
   "execution_count": null,
   "id": "2ca39a7e",
   "metadata": {},
   "outputs": [],
   "source": []
  },
  {
   "cell_type": "markdown",
   "id": "4231e9d0",
   "metadata": {},
   "source": [
    "### 3.Explain the difference between a function definition and a function call."
   ]
  },
  {
   "cell_type": "code",
   "execution_count": null,
   "id": "6fcc13fc",
   "metadata": {},
   "outputs": [],
   "source": []
  },
  {
   "cell_type": "markdown",
   "id": "d72e72c2",
   "metadata": {},
   "source": [
    "### 4.Write a Python program that defines a function to calculate the sum of two numbers and then calls the function."
   ]
  },
  {
   "cell_type": "code",
   "execution_count": null,
   "id": "dc642c4f",
   "metadata": {},
   "outputs": [],
   "source": []
  },
  {
   "cell_type": "markdown",
   "id": "bfb268ec",
   "metadata": {},
   "source": [
    "### 5.What is a function signature, and what information does it typically include?"
   ]
  },
  {
   "cell_type": "code",
   "execution_count": null,
   "id": "f89fe5e0",
   "metadata": {},
   "outputs": [],
   "source": []
  },
  {
   "cell_type": "markdown",
   "id": "0e4104c3",
   "metadata": {},
   "source": [
    "### 6.Create a Python function that takes two arguments and returns their product."
   ]
  },
  {
   "cell_type": "code",
   "execution_count": null,
   "id": "2469103b",
   "metadata": {},
   "outputs": [],
   "source": []
  },
  {
   "cell_type": "markdown",
   "id": "2ca894aa",
   "metadata": {},
   "source": [
    "## Function Parameters and Arguments:"
   ]
  },
  {
   "cell_type": "markdown",
   "id": "63adc4ea",
   "metadata": {},
   "source": [
    "### 1.Explain the concepts of formal parameters and actual arguments in Python functions."
   ]
  },
  {
   "cell_type": "code",
   "execution_count": null,
   "id": "8b3acafc",
   "metadata": {},
   "outputs": [],
   "source": []
  },
  {
   "cell_type": "markdown",
   "id": "45b01310",
   "metadata": {},
   "source": [
    "### 2.Write a Python program that defines a function with default argument values."
   ]
  },
  {
   "cell_type": "code",
   "execution_count": null,
   "id": "2187d27a",
   "metadata": {},
   "outputs": [],
   "source": []
  },
  {
   "cell_type": "markdown",
   "id": "6fdaeac0",
   "metadata": {},
   "source": [
    "### 3.How do you use keyword arguments in Python function calls? Provide an example."
   ]
  },
  {
   "cell_type": "code",
   "execution_count": null,
   "id": "d4036097",
   "metadata": {},
   "outputs": [],
   "source": []
  },
  {
   "cell_type": "markdown",
   "id": "bf356bab",
   "metadata": {},
   "source": [
    "### 4.Create a Python function that accepts a variable number of arguments and calculates their sum."
   ]
  },
  {
   "cell_type": "code",
   "execution_count": null,
   "id": "8a5615c7",
   "metadata": {},
   "outputs": [],
   "source": []
  },
  {
   "cell_type": "markdown",
   "id": "4717a67f",
   "metadata": {},
   "source": [
    "### 5.What is the purpose of the `*args` and `**kwargs` syntax in function parameter lists?"
   ]
  },
  {
   "cell_type": "code",
   "execution_count": null,
   "id": "286c31fa",
   "metadata": {},
   "outputs": [],
   "source": []
  },
  {
   "cell_type": "markdown",
   "id": "38e07372",
   "metadata": {},
   "source": [
    "## Return Values and Scoping:"
   ]
  },
  {
   "cell_type": "markdown",
   "id": "16794abd",
   "metadata": {},
   "source": [
    "### 1.Describe the role of the `return` statement in Python functions and provide examples."
   ]
  },
  {
   "cell_type": "code",
   "execution_count": null,
   "id": "da8a935a",
   "metadata": {},
   "outputs": [],
   "source": []
  },
  {
   "cell_type": "markdown",
   "id": "9a32cb7e",
   "metadata": {},
   "source": [
    "### 2.Explain the concept of variable scope in Python, including local and global variables."
   ]
  },
  {
   "cell_type": "code",
   "execution_count": null,
   "id": "d06eee67",
   "metadata": {},
   "outputs": [],
   "source": []
  },
  {
   "cell_type": "markdown",
   "id": "620c69fb",
   "metadata": {},
   "source": [
    "### 3.Write a Python program that demonstrates the use of global variables within functions."
   ]
  },
  {
   "cell_type": "code",
   "execution_count": null,
   "id": "aaecb5a5",
   "metadata": {},
   "outputs": [],
   "source": []
  },
  {
   "cell_type": "markdown",
   "id": "f248d9c0",
   "metadata": {},
   "source": [
    "### 4.Create a Python function that calculates the factorial of a number and returns it."
   ]
  },
  {
   "cell_type": "code",
   "execution_count": null,
   "id": "c187f160",
   "metadata": {},
   "outputs": [],
   "source": []
  },
  {
   "cell_type": "markdown",
   "id": "84d4a833",
   "metadata": {},
   "source": [
    "### 5.How can you access variables defined outside a function from within the function?"
   ]
  },
  {
   "cell_type": "code",
   "execution_count": null,
   "id": "7f10fbce",
   "metadata": {},
   "outputs": [],
   "source": []
  },
  {
   "cell_type": "markdown",
   "id": "3173412d",
   "metadata": {},
   "source": [
    "## Lambda Functions and Higher-Order Functions:"
   ]
  },
  {
   "cell_type": "markdown",
   "id": "7023b40f",
   "metadata": {},
   "source": [
    "### 1.What are lambda functions in Python, and when are they typically used?"
   ]
  },
  {
   "cell_type": "code",
   "execution_count": null,
   "id": "9f7c0656",
   "metadata": {},
   "outputs": [],
   "source": []
  },
  {
   "cell_type": "markdown",
   "id": "3cf6b206",
   "metadata": {},
   "source": [
    "### 2.Write a Python program that uses lambda functions to sort a list of tuples based on the second element."
   ]
  },
  {
   "cell_type": "code",
   "execution_count": null,
   "id": "78cf7983",
   "metadata": {},
   "outputs": [],
   "source": []
  },
  {
   "cell_type": "markdown",
   "id": "997639a6",
   "metadata": {},
   "source": [
    "### 3.Explain the concept of higher-order functions in Python, and provide an example."
   ]
  },
  {
   "cell_type": "code",
   "execution_count": null,
   "id": "472ff982",
   "metadata": {},
   "outputs": [],
   "source": []
  },
  {
   "cell_type": "markdown",
   "id": "f1422c13",
   "metadata": {},
   "source": [
    "### 4.Create a Python function that takes a list of numbers and a function as arguments, applying the function to each element in the list."
   ]
  },
  {
   "cell_type": "code",
   "execution_count": null,
   "id": "f7de7489",
   "metadata": {},
   "outputs": [],
   "source": []
  },
  {
   "cell_type": "markdown",
   "id": "2292df58",
   "metadata": {},
   "source": [
    "## Built-in Functions:"
   ]
  },
  {
   "cell_type": "markdown",
   "id": "4769303d",
   "metadata": {},
   "source": [
    "### 1.Describe the role of built-in functions like `len()`, `max()`, and `min()` in Python."
   ]
  },
  {
   "cell_type": "code",
   "execution_count": null,
   "id": "c6ff387a",
   "metadata": {},
   "outputs": [],
   "source": []
  },
  {
   "cell_type": "markdown",
   "id": "a1fdb91b",
   "metadata": {},
   "source": [
    "### 2.Write a Python program that uses the `map()` function to apply a function to each element of a list."
   ]
  },
  {
   "cell_type": "code",
   "execution_count": null,
   "id": "7917187f",
   "metadata": {},
   "outputs": [],
   "source": []
  },
  {
   "cell_type": "markdown",
   "id": "0208f744",
   "metadata": {},
   "source": [
    "### 3.How does the `filter()` function work in Python, and when would you use it?"
   ]
  },
  {
   "cell_type": "code",
   "execution_count": null,
   "id": "60c47353",
   "metadata": {},
   "outputs": [],
   "source": []
  },
  {
   "cell_type": "markdown",
   "id": "bfff176e",
   "metadata": {},
   "source": [
    "### 4.Create a Python program that uses the `reduce()` function to find the product of all elements in a list."
   ]
  },
  {
   "cell_type": "code",
   "execution_count": null,
   "id": "2b1c32b1",
   "metadata": {},
   "outputs": [],
   "source": []
  },
  {
   "cell_type": "markdown",
   "id": "d20ab25e",
   "metadata": {},
   "source": [
    "## Function Documentation and Best Practices:"
   ]
  },
  {
   "cell_type": "markdown",
   "id": "a7571a45",
   "metadata": {},
   "source": [
    "### 1.Explain the purpose of docstrings in Python functions and how to write them."
   ]
  },
  {
   "cell_type": "code",
   "execution_count": null,
   "id": "60c8d29f",
   "metadata": {},
   "outputs": [],
   "source": []
  },
  {
   "cell_type": "markdown",
   "id": "6ca02a1d",
   "metadata": {},
   "source": [
    "### 2.Describe some best practices for naming functions and variables in Python, including naming conventions and guidelines."
   ]
  },
  {
   "cell_type": "code",
   "execution_count": null,
   "id": "71efc420",
   "metadata": {},
   "outputs": [],
   "source": []
  }
 ],
 "metadata": {
  "kernelspec": {
   "display_name": "Python 3 (ipykernel)",
   "language": "python",
   "name": "python3"
  },
  "language_info": {
   "codemirror_mode": {
    "name": "ipython",
    "version": 3
   },
   "file_extension": ".py",
   "mimetype": "text/x-python",
   "name": "python",
   "nbconvert_exporter": "python",
   "pygments_lexer": "ipython3",
   "version": "3.9.7"
  }
 },
 "nbformat": 4,
 "nbformat_minor": 5
}
