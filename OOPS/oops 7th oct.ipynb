{
 "cells": [
  {
   "cell_type": "code",
   "execution_count": 9,
   "id": "8b6a7b1a-3ff5-4b22-be3e-d3b2d7aa7e3a",
   "metadata": {},
   "outputs": [],
   "source": [
    "class a :\n",
    "    \n",
    "    def test(self):\n",
    "        print(\"this test method is a part of class a\")\n",
    "        \n",
    "    def test1(self):\n",
    "        print(\"this is test1 from class a \")"
   ]
  },
  {
   "cell_type": "code",
   "execution_count": 10,
   "id": "8e4d306f-fdb4-47a0-a93d-597f5b21d30b",
   "metadata": {},
   "outputs": [],
   "source": [
    "obj_a = a()"
   ]
  },
  {
   "cell_type": "code",
   "execution_count": 11,
   "id": "81ef5597-cf96-4ed9-a4f6-21e2e93aca70",
   "metadata": {},
   "outputs": [
    {
     "name": "stdout",
     "output_type": "stream",
     "text": [
      "this test method is a part of class a\n"
     ]
    }
   ],
   "source": [
    "obj_a.test()"
   ]
  },
  {
   "cell_type": "code",
   "execution_count": 16,
   "id": "11ee63d6-433d-48dc-ada0-5dd6771310ba",
   "metadata": {},
   "outputs": [],
   "source": [
    "class b(a) :\n",
    "    def test1b(self):\n",
    "        print(\"this is a part of class b \")"
   ]
  },
  {
   "cell_type": "code",
   "execution_count": 17,
   "id": "badaedfe-57d1-43c6-9193-e5afb0f31dbc",
   "metadata": {},
   "outputs": [],
   "source": [
    "obj_b = b()"
   ]
  },
  {
   "cell_type": "code",
   "execution_count": 18,
   "id": "3ce19f61-ba8e-4050-9d4d-614adfd964c5",
   "metadata": {},
   "outputs": [
    {
     "name": "stdout",
     "output_type": "stream",
     "text": [
      "this test method is a part of class a\n"
     ]
    }
   ],
   "source": [
    "obj_b.test()"
   ]
  },
  {
   "cell_type": "code",
   "execution_count": 19,
   "id": "5e473fae-e094-4407-99df-16a04ab4c80a",
   "metadata": {},
   "outputs": [
    {
     "name": "stdout",
     "output_type": "stream",
     "text": [
      "this is test1 from class a \n"
     ]
    }
   ],
   "source": [
    "obj_b.test1()"
   ]
  },
  {
   "cell_type": "code",
   "execution_count": null,
   "id": "02a8f055-535f-4bc2-adc1-575445f82570",
   "metadata": {},
   "outputs": [],
   "source": [
    "obj_b."
   ]
  },
  {
   "cell_type": "code",
   "execution_count": 21,
   "id": "59361cd3-c0c4-4ddd-abac-cbe3275ade5f",
   "metadata": {},
   "outputs": [],
   "source": [
    "class lecture:\n",
    "    \n",
    "    def topic(self):\n",
    "        print(\"todays class we are discussing about inheritance condept in oops\")\n",
    "        \n",
    "    def timing(self):\n",
    "        print(\"timing for todays class is 9 AM IST\")\n",
    "        \n",
    "    def end_time(self):\n",
    "        print(\"today i will try to end class bit early\")"
   ]
  },
  {
   "cell_type": "code",
   "execution_count": 23,
   "id": "6e3dd2de-883e-4e9e-98a0-4a7089af1627",
   "metadata": {},
   "outputs": [],
   "source": [
    "class student(lecture):\n",
    "    \n",
    "    def student_details(self):\n",
    "        print(\"this class will give you a student details\")"
   ]
  },
  {
   "cell_type": "code",
   "execution_count": 24,
   "id": "c2ad2a89-0f29-4410-86c4-e33f47b4186d",
   "metadata": {},
   "outputs": [],
   "source": [
    "naval = student()"
   ]
  },
  {
   "cell_type": "code",
   "execution_count": 25,
   "id": "38c86e7f-5560-464a-b597-c88a74819f1a",
   "metadata": {},
   "outputs": [
    {
     "name": "stdout",
     "output_type": "stream",
     "text": [
      "todays class we are discussing about inheritance condept in oops\n"
     ]
    }
   ],
   "source": [
    "naval.topic()"
   ]
  },
  {
   "cell_type": "code",
   "execution_count": 26,
   "id": "02efc8a4-f995-4f85-87d2-620ccc0f61fa",
   "metadata": {},
   "outputs": [
    {
     "name": "stdout",
     "output_type": "stream",
     "text": [
      "timing for todays class is 9 AM IST\n"
     ]
    }
   ],
   "source": [
    "satish = student()\n",
    "satish.timing()"
   ]
  },
  {
   "cell_type": "code",
   "execution_count": 28,
   "id": "03932972-a58b-46e5-a3f8-ffc43c84ce53",
   "metadata": {},
   "outputs": [],
   "source": [
    "class teacher(student):\n",
    "    def details(self):\n",
    "        print(\"this will give you a details about teacher\")"
   ]
  },
  {
   "cell_type": "code",
   "execution_count": 29,
   "id": "fff36c1b-f1e9-467e-b29f-c304aa9feec9",
   "metadata": {},
   "outputs": [
    {
     "name": "stdout",
     "output_type": "stream",
     "text": [
      "timing for todays class is 9 AM IST\n"
     ]
    }
   ],
   "source": [
    "sudh = teacher()\n",
    "sudh.timing()"
   ]
  },
  {
   "cell_type": "code",
   "execution_count": 39,
   "id": "a5e8c94b-de62-4ef5-8eba-81259d83dd3d",
   "metadata": {},
   "outputs": [],
   "source": [
    "class lecture:\n",
    "    def topic(self):\n",
    "        print(\"todays class we are discussing about inheritance condept in oops\")\n",
    "        \n",
    "    def timing(self):\n",
    "        print(\"timing for todays class is 9 AM IST\")\n",
    "        \n",
    "    def end_time(self):\n",
    "        print(\"today i will try to end class bit early\")"
   ]
  },
  {
   "cell_type": "code",
   "execution_count": 40,
   "id": "2007141c-1b71-4cd4-9bed-a3cd8d851baa",
   "metadata": {},
   "outputs": [],
   "source": [
    "class student:\n",
    "    \n",
    "    def student_details(self):\n",
    "        print(\"this class will give you a student details\")\n",
    "        \n",
    "    def timing(self):\n",
    "        print(\"this is a timing fun from student class\")\n",
    "        "
   ]
  },
  {
   "cell_type": "code",
   "execution_count": 48,
   "id": "272860d3-1fac-475b-8c09-0490069224bc",
   "metadata": {},
   "outputs": [],
   "source": [
    "class teacher(lecture,student):\n",
    "    def details(self):\n",
    "        print(\"this will give you a details about teacher\")"
   ]
  },
  {
   "cell_type": "code",
   "execution_count": 49,
   "id": "f4a9ae16-f0e3-4a4a-a003-38773611cd2a",
   "metadata": {},
   "outputs": [],
   "source": [
    "krish = teacher()"
   ]
  },
  {
   "cell_type": "code",
   "execution_count": 50,
   "id": "6dc85f37-219e-4c72-927c-9aebb550fea9",
   "metadata": {},
   "outputs": [
    {
     "name": "stdout",
     "output_type": "stream",
     "text": [
      "timing for todays class is 9 AM IST\n"
     ]
    }
   ],
   "source": [
    "krish.timing()"
   ]
  },
  {
   "cell_type": "code",
   "execution_count": 37,
   "id": "8bcbac88-9172-4a31-a191-9c4b9a1c6eac",
   "metadata": {},
   "outputs": [
    {
     "name": "stdout",
     "output_type": "stream",
     "text": [
      "this class will give you a student details\n"
     ]
    }
   ],
   "source": [
    "krish.student_details()"
   ]
  },
  {
   "cell_type": "markdown",
   "id": "86b47d4f-860e-4702-83a0-0145887ab41a",
   "metadata": {},
   "source": [
    "### Problem 1: Bank Account Create a class representing a bank account with attributes like account number, account holder name, and balance. Implement methods to deposit and withdraw money from the account."
   ]
  },
  {
   "cell_type": "code",
   "execution_count": 5,
   "id": "2581135b",
   "metadata": {},
   "outputs": [
    {
     "name": "stdout",
     "output_type": "stream",
     "text": [
      "Successfully Depostied 50000 in your bank account. New balance for account is : 50000\n",
      "Successfully Depostied 20000 in your bank account. New balance for account is : 20000\n",
      "\n",
      "\n",
      "Successfully withdraw 12000 from your bank account. New Balance for account is : 38000\n",
      "Insufficient balance in the bank account.\n"
     ]
    }
   ],
   "source": [
    "## Bank Account Class\n",
    "class BankAccount:\n",
    "    \n",
    "    # Constructor to initalize the variables\n",
    "    def __init__(self, account_number, account_holdername,balance =0):\n",
    "        self.__account_number = account_number\n",
    "        self.__account_holdername = account_holdername\n",
    "        self.__balance = balance\n",
    "    \n",
    "    ## Deposit method\n",
    "    def deposit(self, amount):\n",
    "        self.__balance = self.__balance + amount\n",
    "        print(f'Successfully Depostied {amount} in your bank account. New balance for account is : {self.__balance}')\n",
    "    \n",
    "    ## Withraw method\n",
    "    def withdraw(self,amount):\n",
    "        if self.__balance >amount:\n",
    "            self.__balance = self.__balance - amount\n",
    "            print(f'Successfully withdraw {amount} from your bank account. New Balance for account is : {self.__balance}')\n",
    "    \n",
    "        else:\n",
    "            print('Insufficient balance in the bank account.')\n",
    "\n",
    "    ## Print Balance\n",
    "    def get_balance(self):\n",
    "        return self.__balance\n",
    "\n",
    "## Calling the object for BankAccount class\n",
    "acc1 = BankAccount('HDFC123','Ashutosh')\n",
    "acc2 = BankAccount('HDFC5678','Mayur')\n",
    "\n",
    "## Calling the deposit method\n",
    "acc1.deposit(50000)\n",
    "acc2.deposit(20000)\n",
    "\n",
    "print('\\n')\n",
    "\n",
    "## Calling the withdraw method\n",
    "acc1.withdraw(12000)\n",
    "acc2.withdraw(300000)"
   ]
  },
  {
   "cell_type": "markdown",
   "id": "5a04fcc1",
   "metadata": {},
   "source": [
    "### Problem 2: Employee Management Create a class representing an employee with attributes like employee ID, name, and salary. Implement methods to calculate the yearly bonus and display employee details."
   ]
  },
  {
   "cell_type": "code",
   "execution_count": 8,
   "id": "b80ab861",
   "metadata": {},
   "outputs": [
    {
     "name": "stdout",
     "output_type": "stream",
     "text": [
      "Employee Id : 1 , Name : Ashutosh , Salary : 100000\n",
      "Employee Id : 2 , Name : Anudeepa , Salary : 200000\n",
      "Employee Id : 3 , Name : Riya , Salary : 300000\n",
      "\n",
      "Bonus for Employee 1 : 5000.0\n",
      "Bonus for Employee 2 : 20000.0\n",
      "Bonus for Employee 3 : 45000.0\n"
     ]
    }
   ],
   "source": [
    "class Employee:\n",
    "    \n",
    "    # Constructor to initialize the class variables\n",
    "    def __init__(self,employeeId, name, salary):\n",
    "        self.__employeeId = employeeId\n",
    "        self.__name = name\n",
    "        self.__salary = salary\n",
    "    \n",
    "    # Display Employee Details method\n",
    "    def display_details(self):\n",
    "        print(f'Employee Id : {self.__employeeId} , Name : {self.__name} , Salary : {self.__salary}')\n",
    "    \n",
    "    #Calculate Bonus method\n",
    "    def caluclate_bonus(self,bonusPercentage):\n",
    "        bonus = self.__salary * (bonusPercentage/100)\n",
    "        return bonus\n",
    "\n",
    "# Employee creation\n",
    "employee1 = Employee(1,'Ashutosh',100000)\n",
    "employee2 = Employee(2,'Anudeepa',200000)\n",
    "employee3 = Employee(3,'Riya',300000)\n",
    "\n",
    "# Calling the display details method\n",
    "employee1.display_details()\n",
    "employee2.display_details()\n",
    "employee3.display_details()\n",
    "\n",
    "print()\n",
    "\n",
    "# Calculating the bonus for each employee\n",
    "print(f'Bonus for Employee 1 : {employee1.caluclate_bonus(5)}')\n",
    "print(f'Bonus for Employee 2 : {employee2.caluclate_bonus(10)}')\n",
    "print(f'Bonus for Employee 3 : {employee3.caluclate_bonus(15)}')"
   ]
  },
  {
   "cell_type": "markdown",
   "id": "16735640",
   "metadata": {},
   "source": [
    "### Problem 3: Vehicle Rental Create a class representing a vehicle rental system. Implement methods to rent a vehicle, return a vehicle, and display available vehicles."
   ]
  },
  {
   "cell_type": "code",
   "execution_count": 1,
   "id": "2c611faa",
   "metadata": {},
   "outputs": [],
   "source": [
    "class VehicleRentalSystem:\n",
    "    \n",
    "    # Constructor for available vehicle\n",
    "    def __init__(self):\n",
    "        self.available_vehicles = {}\n",
    "        \n",
    "    # Add vehicle method\n",
    "    def add_vehicles(self, vehicle_id, vehicle_type):\n",
    "        if vehicle_id not in self.available_vehicles:\n",
    "            self.available_vehicles[vehicle_id] = vehicle_type\n",
    "            print(f'Added {vehicle_type} (ID: {vehicle_id}) to the available vehicles.')\n",
    "        \n",
    "        else:\n",
    "            print('Vehicle already available.')\n",
    "            \n",
    "    # Rent Vehicle Method\n",
    "    def rent_vehicles(self, vehicle_id):\n",
    "        if vehicle_id in self.available_vehicles:\n",
    "            vehicle_type = self.available_vehicles.pop(vehicle_id)\n",
    "            print(f'Rented {vehicle_type} (ID : {vehicle_id})')\n",
    "            \n",
    "    # Display Vehicle Method\n",
    "    def display_vehicles(self):\n",
    "        if not self.available_vehicles:\n",
    "            print('No Vehicles Availables')\n",
    "        else:\n",
    "            print('Available Vehicles : ')\n",
    "            for vehicle_id, vehicle_type in self.available_vehicles.items():\n",
    "                print(f'ID : {vehicle_id}, Vehicle Type : {vehicle_type}')\n",
    "                \n",
    "    # Return Vehicle Method\n",
    "    def return_vehicle(self, vehicle_id, vehicle_type):\n",
    "        if vehicle_id not in self.available_vehicles:\n",
    "            self.available_vehicles[vehicle_id] = vehicle_type\n",
    "            print(f'Added {vehicle_type} (ID : {vehicle_id}) to the available vehicles.')\n",
    "        else:\n",
    "            print('Vehicle Already available.')"
   ]
  },
  {
   "cell_type": "code",
   "execution_count": 2,
   "id": "68a242c7",
   "metadata": {},
   "outputs": [],
   "source": [
    "## Object Creation\n",
    "rental_system = VehicleRentalSystem()"
   ]
  },
  {
   "cell_type": "code",
   "execution_count": 3,
   "id": "01bc123b",
   "metadata": {},
   "outputs": [
    {
     "name": "stdout",
     "output_type": "stream",
     "text": [
      "No Vehicles Availables\n"
     ]
    }
   ],
   "source": [
    "# Display the currently available vehicle\n",
    "rental_system.display_vehicles()"
   ]
  },
  {
   "cell_type": "code",
   "execution_count": 5,
   "id": "e832a43d",
   "metadata": {},
   "outputs": [
    {
     "name": "stdout",
     "output_type": "stream",
     "text": [
      "Added Maruthi Breeza (ID: 1) to the available vehicles.\n",
      "Added Creta (ID: 2) to the available vehicles.\n",
      "Added SP-125 bike (ID: 3) to the available vehicles.\n",
      "Added Activa Scooty (ID: 4) to the available vehicles.\n",
      "Added Innova (ID: 5) to the available vehicles.\n"
     ]
    }
   ],
   "source": [
    "# Add few vehicle in the system through the object\n",
    "\n",
    "rental_system.add_vehicles('1', 'Maruthi Breeza')\n",
    "rental_system.add_vehicles('2','Creta')\n",
    "rental_system.add_vehicles('3','SP-125 bike')\n",
    "rental_system.add_vehicles('4','Activa Scooty')\n",
    "rental_system.add_vehicles('5','Innova')"
   ]
  },
  {
   "cell_type": "code",
   "execution_count": 6,
   "id": "8f4b8210",
   "metadata": {},
   "outputs": [
    {
     "name": "stdout",
     "output_type": "stream",
     "text": [
      "Available Vehicles : \n",
      "ID : 1, Vehicle Type : Maruthi Breeza\n",
      "ID : 2, Vehicle Type : Creta\n",
      "ID : 3, Vehicle Type : SP-125 bike\n",
      "ID : 4, Vehicle Type : Activa Scooty\n",
      "ID : 5, Vehicle Type : Innova\n"
     ]
    }
   ],
   "source": [
    "# Display available vehicle after adding it\n",
    "rental_system.display_vehicles()"
   ]
  },
  {
   "cell_type": "code",
   "execution_count": 7,
   "id": "51ce0f39",
   "metadata": {},
   "outputs": [
    {
     "name": "stdout",
     "output_type": "stream",
     "text": [
      "Rented SP-125 bike (ID : 3)\n"
     ]
    }
   ],
   "source": [
    "# Rent one vehicle\n",
    "rental_system.rent_vehicles('3')"
   ]
  },
  {
   "cell_type": "code",
   "execution_count": 9,
   "id": "c2f915c1",
   "metadata": {},
   "outputs": [
    {
     "name": "stdout",
     "output_type": "stream",
     "text": [
      "Available Vehicles : \n",
      "ID : 1, Vehicle Type : Maruthi Breeza\n",
      "ID : 2, Vehicle Type : Creta\n",
      "ID : 4, Vehicle Type : Activa Scooty\n",
      "ID : 5, Vehicle Type : Innova\n"
     ]
    }
   ],
   "source": [
    "# Available Vehicle after renting one vehicle\n",
    "rental_system.display_vehicles()"
   ]
  },
  {
   "cell_type": "code",
   "execution_count": 10,
   "id": "c77b8ff4",
   "metadata": {},
   "outputs": [
    {
     "name": "stdout",
     "output_type": "stream",
     "text": [
      "Added SP-125 bike (ID : 3) to the available vehicles.\n"
     ]
    }
   ],
   "source": [
    "# Return the rented vehicle\n",
    "rental_system.return_vehicle('3','SP-125 bike')"
   ]
  },
  {
   "cell_type": "code",
   "execution_count": 12,
   "id": "3d8241b8",
   "metadata": {},
   "outputs": [
    {
     "name": "stdout",
     "output_type": "stream",
     "text": [
      "Available Vehicles : \n",
      "ID : 1, Vehicle Type : Maruthi Breeza\n",
      "ID : 2, Vehicle Type : Creta\n",
      "ID : 4, Vehicle Type : Activa Scooty\n",
      "ID : 5, Vehicle Type : Innova\n",
      "ID : 3, Vehicle Type : SP-125 bike\n"
     ]
    }
   ],
   "source": [
    "# Available vehicle list after adding the returned vehicle\n",
    "rental_system.display_vehicles()"
   ]
  },
  {
   "cell_type": "markdown",
   "id": "6eb57213",
   "metadata": {},
   "source": [
    "### Problem 4: Library Catalog Create classes representing a library and a book. Implement methods to add books to the library, borrow books, and display available books."
   ]
  },
  {
   "cell_type": "code",
   "execution_count": 17,
   "id": "9ed0262d",
   "metadata": {},
   "outputs": [],
   "source": [
    "class LibraryCatalog:\n",
    "    \n",
    "    # Constructor\n",
    "    def __init__(self):\n",
    "        self.availabe_books = {}\n",
    "        \n",
    "    # Add book method\n",
    "    def add_books(self,book_id,book_name):\n",
    "        if book_id not in self.availabe_books:\n",
    "            self.availabe_books[book_id] = book_name\n",
    "            print(f'{book_name} is added in Book Catalog.')\n",
    "        else:\n",
    "            print(f'{book_name} is already availabe in Store.')\n",
    "    \n",
    "    # Borrow book method\n",
    "    def borrow_books(self,book_id):\n",
    "        if book_id in self.availabe_books:\n",
    "            book_name = self.availabe_books.pop(book_id)\n",
    "            print(f'{book_name} borrowed successfully.')\n",
    "        else:\n",
    "            print(f'{book_name} is already borrowed by someone.')\n",
    "    \n",
    "    # Display books\n",
    "    def display_books(self):\n",
    "        if not self.availabe_books:\n",
    "            print('No Books Available.')\n",
    "        else:\n",
    "            for book_name in self.availabe_books.items():\n",
    "                print(f'Book Name : ',book_name)"
   ]
  },
  {
   "cell_type": "code",
   "execution_count": 18,
   "id": "c448de18",
   "metadata": {},
   "outputs": [],
   "source": [
    "# Creating the library system object\n",
    "lb = LibraryCatalog()"
   ]
  },
  {
   "cell_type": "code",
   "execution_count": 19,
   "id": "f3e26fd0",
   "metadata": {},
   "outputs": [
    {
     "name": "stdout",
     "output_type": "stream",
     "text": [
      "Atomic Habits is added in Book Catalog.\n",
      "Think Like A Monk is added in Book Catalog.\n",
      "Physcology of Money is added in Book Catalog.\n",
      "Alhemist is added in Book Catalog.\n"
     ]
    }
   ],
   "source": [
    "# Add the book to Library system\n",
    "lb.add_books('1','Atomic Habits')\n",
    "lb.add_books('2','Think Like A Monk')\n",
    "lb.add_books('3','Physcology of Money')\n",
    "lb.add_books('4','Alhemist')"
   ]
  },
  {
   "cell_type": "code",
   "execution_count": 20,
   "id": "f82bc1f9",
   "metadata": {},
   "outputs": [
    {
     "name": "stdout",
     "output_type": "stream",
     "text": [
      "Book Name :  ('1', 'Atomic Habits')\n",
      "Book Name :  ('2', 'Think Like A Monk')\n",
      "Book Name :  ('3', 'Physcology of Money')\n",
      "Book Name :  ('4', 'Alhemist')\n"
     ]
    }
   ],
   "source": [
    "# Display the added books\n",
    "lb.display_books()"
   ]
  },
  {
   "cell_type": "code",
   "execution_count": 21,
   "id": "23de6848",
   "metadata": {},
   "outputs": [
    {
     "name": "stdout",
     "output_type": "stream",
     "text": [
      "Think Like A Monk borrowed successfully.\n"
     ]
    }
   ],
   "source": [
    "# Borrow one book\n",
    "lb.borrow_books(\"2\")"
   ]
  },
  {
   "cell_type": "code",
   "execution_count": 22,
   "id": "43f5ab0b",
   "metadata": {},
   "outputs": [
    {
     "name": "stdout",
     "output_type": "stream",
     "text": [
      "Book Name :  ('1', 'Atomic Habits')\n",
      "Book Name :  ('3', 'Physcology of Money')\n",
      "Book Name :  ('4', 'Alhemist')\n"
     ]
    }
   ],
   "source": [
    "# Display books list after borrowing one book\n",
    "lb.display_books()"
   ]
  },
  {
   "cell_type": "markdown",
   "id": "7d27e20b",
   "metadata": {},
   "source": [
    "### Problem 5: Product Inventory Create classes representing a product and an inventory system. Implement methods to add products to the inventory, update product quantity, and display available products."
   ]
  },
  {
   "cell_type": "code",
   "execution_count": null,
   "id": "7ca15f63",
   "metadata": {},
   "outputs": [],
   "source": []
  },
  {
   "cell_type": "markdown",
   "id": "749ecb3c",
   "metadata": {},
   "source": [
    "### Problem 6: Shape Calculation Create a class representing a shape with attributes like length, width, and height. Implement methods to calculate the area and perimeter of the shape."
   ]
  },
  {
   "cell_type": "code",
   "execution_count": null,
   "id": "1aaf28d1",
   "metadata": {},
   "outputs": [],
   "source": []
  },
  {
   "cell_type": "markdown",
   "id": "c114b1ee",
   "metadata": {},
   "source": [
    "### Problem 7: Student Management Create a class representing a student with attributes like student ID, name, and grades. Implement methods to calculate the average grade and display student details."
   ]
  },
  {
   "cell_type": "code",
   "execution_count": 26,
   "id": "7ec38410",
   "metadata": {},
   "outputs": [],
   "source": [
    "class Student :\n",
    "    \n",
    "    # Constructor\n",
    "    def __init__(self,student_id, student_name, grades):\n",
    "        self.studentId = student_id\n",
    "        self.name = student_name\n",
    "        self.grades = grades\n",
    "    \n",
    "    # Calculate average grade method\n",
    "    def calculate_grade(self):\n",
    "        if len(self.grades) == 0:\n",
    "            return 0\n",
    "        total = sum(self.grades)\n",
    "        return total/len(self.grades)\n",
    "    \n",
    "    # Calculate display student detail method\n",
    "    def display_details(self):\n",
    "        print(f'Student Name : {self.name}')\n",
    "        print(f'Student Id : {self.studentId}')\n",
    "        print(f'Grades : {self.grades}')\n",
    "        print(f'Average Grades : {self.calculate_grade()}')\n"
   ]
  },
  {
   "cell_type": "code",
   "execution_count": 27,
   "id": "f53be2f5",
   "metadata": {},
   "outputs": [
    {
     "name": "stdout",
     "output_type": "stream",
     "text": [
      "Student Name : Shivam\n",
      "Student Id : 1\n",
      "Grades : [90, 89, 79, 83, 94]\n",
      "Average Grades : 87.0\n",
      "\n",
      "Student Name : Ashutosh\n",
      "Student Id : 2\n",
      "Grades : [94, 99, 96, 91, 87]\n",
      "Average Grades : 93.4\n"
     ]
    }
   ],
   "source": [
    "## Create student objects\n",
    "student1 = Student(1, 'Shivam',[90,89,79,83,94])\n",
    "student2 = Student(2,'Ashutosh',[94,99,96,91,87])\n",
    "\n",
    "# Display student details that will also calculate the average grade and display the same\n",
    "student1.display_details()\n",
    "print(\"\")\n",
    "student2.display_details()"
   ]
  },
  {
   "cell_type": "markdown",
   "id": "f6eda542",
   "metadata": {},
   "source": [
    "### Problem 8: Email Management Create a class representing an email with attributes like sender, recipient, and subject. Implement methods to send an email and display email details."
   ]
  },
  {
   "cell_type": "code",
   "execution_count": null,
   "id": "41059030",
   "metadata": {},
   "outputs": [],
   "source": []
  },
  {
   "cell_type": "markdown",
   "id": "10344aed",
   "metadata": {},
   "source": [
    "### Problem 9: Social Media Profile Create a class representing a social media profile with attributes like username and posts. Implement methods to add posts, display posts, and search for posts by keyword."
   ]
  },
  {
   "cell_type": "code",
   "execution_count": null,
   "id": "d77b8248",
   "metadata": {},
   "outputs": [],
   "source": []
  },
  {
   "cell_type": "markdown",
   "id": "b48b97ae",
   "metadata": {},
   "source": [
    "### Problem 10: ToDo List Create a class representing a ToDo list with attributes like tasks and due dates. Implement methods to add tasks, mark tasks as completed, and display pending tasks."
   ]
  },
  {
   "cell_type": "code",
   "execution_count": null,
   "id": "f028833a",
   "metadata": {},
   "outputs": [],
   "source": []
  }
 ],
 "metadata": {
  "kernelspec": {
   "display_name": "Python 3 (ipykernel)",
   "language": "python",
   "name": "python3"
  },
  "language_info": {
   "codemirror_mode": {
    "name": "ipython",
    "version": 3
   },
   "file_extension": ".py",
   "mimetype": "text/x-python",
   "name": "python",
   "nbconvert_exporter": "python",
   "pygments_lexer": "ipython3",
   "version": "3.9.7"
  }
 },
 "nbformat": 4,
 "nbformat_minor": 5
}
