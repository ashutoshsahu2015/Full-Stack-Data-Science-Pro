{
 "cells": [
  {
   "cell_type": "markdown",
   "id": "f4bc155d",
   "metadata": {},
   "source": [
    "## Constructor:"
   ]
  },
  {
   "cell_type": "markdown",
   "id": "e5ff6aa7",
   "metadata": {},
   "source": [
    "### 1. What is a constructor in Python? Explain its purpose and usage."
   ]
  },
  {
   "cell_type": "markdown",
   "id": "032cfcdf",
   "metadata": {},
   "source": [
    "A constructor is a special method within a class that is automatically called when a new instance(object) of the class is created. It is defined with the name `__init__`. The purpose of a constructor is to initialize the attributes of the object with initial values.\n",
    " \n",
    "### Purpose of Constructor:\n",
    "\n",
    "1. #### Initialization : \n",
    "    \n",
    "    The main purpose of a constructor is to initialize the attributes of an object with specific values.\n",
    "\n",
    "2. #### Setting Default Values : \n",
    "\n",
    "    It allows you to set default values for object attributes.\n",
    "\n",
    "### Usage of Constructor:\n",
    "\n",
    "1. ####  Syntax : \n",
    "\n",
    "    The constructor is defined with the name `__init__` with a class.\n",
    "\n",
    "2. #### Parameters : \n",
    "\n",
    "    It takes self as first parameter(which refers to the instance being created) and other parameters to initialize the attributes.\n",
    "\n",
    "3. #### Attribute Assignment :\n",
    "\n",
    "    Inside the constructor, you can assign initial values to the attributes using self.attribute_name = initial_value."
   ]
  },
  {
   "cell_type": "code",
   "execution_count": 1,
   "id": "3aa7fcbc",
   "metadata": {},
   "outputs": [],
   "source": [
    "# Example of constructor\n",
    "class Person :\n",
    "    \n",
    "    def __init__(self):\n",
    "        self.name = \"Person\"\n",
    "        self.age = 26\n",
    "        \n",
    "p1 = Person()"
   ]
  },
  {
   "cell_type": "markdown",
   "id": "20786d2b",
   "metadata": {},
   "source": [
    "### 2. Differentiate between a parameterless constructor and a parameterized constructor in Python."
   ]
  },
  {
   "cell_type": "markdown",
   "id": "dcd5296c",
   "metadata": {},
   "source": [
    "#### Parameterless constructor  - (Also known as a default constructor)\n",
    "\n",
    "- Takes no parameters other than the mandatory `self` parameter, which refers to the instance of the class.\n",
    "- Used when you want to initialize attributes with default values.\n",
    "\n",
    "Example: Person class with parameterless constructor as shown below:"
   ]
  },
  {
   "cell_type": "code",
   "execution_count": 2,
   "id": "a23acc2d",
   "metadata": {},
   "outputs": [],
   "source": [
    "# Example of parameterless constructor\n",
    "class Person: \n",
    "    \n",
    "    def __init__(self):\n",
    "        self.name = \"Ashutosh\"\n",
    "        self.age = 26\n",
    "        \n",
    "p1 = Person()"
   ]
  },
  {
   "cell_type": "markdown",
   "id": "9af80e28",
   "metadata": {},
   "source": [
    "#### Parameterized Constructor - (Also known as a custom or explicit constructor)\n",
    "\n",
    "- Takes parameters other than `self` to initialize the attributes of the class.\n",
    "- Used when you want to initialize attributes with specific values provided during object creation.\n",
    "\n",
    "Example: Person class with parameterized constructor as shown below:"
   ]
  },
  {
   "cell_type": "code",
   "execution_count": 3,
   "id": "dc143c0a",
   "metadata": {},
   "outputs": [],
   "source": [
    "class Person :\n",
    "    \n",
    "    def __init__(self, name, age):\n",
    "        self.name = name\n",
    "        self.age = age\n",
    "        \n",
    "p2 = Person('Ashu',26)"
   ]
  },
  {
   "cell_type": "markdown",
   "id": "4d55fe7f",
   "metadata": {},
   "source": [
    "### 3. How do you define a constructor in a Python class? Provide an example."
   ]
  },
  {
   "cell_type": "markdown",
   "id": "597a3463",
   "metadata": {},
   "source": [
    "A constructor is defined using a special method named `__init__`. It is called automatically when you create an instance of a class.\n",
    "\n",
    "Example: Student class with default constructor:"
   ]
  },
  {
   "cell_type": "code",
   "execution_count": 4,
   "id": "9ea65f23",
   "metadata": {},
   "outputs": [],
   "source": [
    "class Student:\n",
    "    \n",
    "    def __init__(self):\n",
    "        self.name = 'Ashu'\n",
    "        self.age = 26\n",
    "        self.rollNo = 1"
   ]
  },
  {
   "cell_type": "markdown",
   "id": "c0b0c9ce",
   "metadata": {},
   "source": [
    "### 4. Explain the `__init__` method in Python and its role in constructors."
   ]
  },
  {
   "cell_type": "markdown",
   "id": "5c22d703",
   "metadata": {},
   "source": [
    "The `__init__` method in Python is a special method(or magic method) used to initialize attributes of an object when it is created. It is commonly referred to as the constructor because it gets called automatically when you create an instance of a class."
   ]
  },
  {
   "cell_type": "markdown",
   "id": "510ae16d",
   "metadata": {},
   "source": [
    "### 5. In a class named `Person`, create a constructor that initializes the `name` and `age` attributes. Provide an example of creating an object of this class."
   ]
  },
  {
   "cell_type": "code",
   "execution_count": 5,
   "id": "1fa31787",
   "metadata": {},
   "outputs": [
    {
     "name": "stdout",
     "output_type": "stream",
     "text": [
      "Name : Ashutosh, Age : 26 yrs.\n"
     ]
    }
   ],
   "source": [
    "class Person:\n",
    "    \n",
    "    # Constructor\n",
    "    def __init__(self,name,age):\n",
    "        self.name  = name\n",
    "        self.age = age\n",
    "        \n",
    "    # print magic method    \n",
    "    def __str__(self):\n",
    "        return f'Name : {self.name}, Age : {self.age} yrs.'\n",
    "    \n",
    "p1 = Person('Ashutosh',26)\n",
    "\n",
    "print(p1)"
   ]
  },
  {
   "cell_type": "markdown",
   "id": "1d2b17f0",
   "metadata": {},
   "source": [
    "### 6. How can you call a constructor explicitly in Python? Give an example."
   ]
  },
  {
   "cell_type": "markdown",
   "id": "0993880e",
   "metadata": {},
   "source": [
    "We typically don't call a constructor explicity as it is automatically called when an instance of a class is created. However, if we need to call the constructor explicitly for any reason, we can do so.\n",
    "\n",
    "1. First of all we create a instance of a class using the dunder method `__new__` this will create an instance but not call the constructor implicity.\n",
    "\n",
    "2. Then we explicitly call the `__init__` dunder method using the instance created above in the step 1.\n",
    "\n",
    "Example :"
   ]
  },
  {
   "cell_type": "code",
   "execution_count": 6,
   "id": "c43c0f35",
   "metadata": {},
   "outputs": [
    {
     "name": "stdout",
     "output_type": "stream",
     "text": [
      "Student Name : Ashutosh , Roll No : 1\n"
     ]
    }
   ],
   "source": [
    "class Student: \n",
    "\n",
    "    # Constructor\n",
    "    def __init__(self, name, roll_no):\n",
    "        self.name = name\n",
    "        self.rollno = roll_no\n",
    "        \n",
    "    # Print magic method\n",
    "    def __str__(self):\n",
    "        return f\"Student Name : {self.name} , Roll No : {self.rollno}\"\n",
    "\n",
    "# Creating instance without calling constructor\n",
    "student1 = Student.__new__(Student)\n",
    "\n",
    "# Explicity calling __init__ (constructor)\n",
    "Student.__init__(student1,'Ashutosh',1)\n",
    "\n",
    "# Print the object\n",
    "print(student1)"
   ]
  },
  {
   "cell_type": "markdown",
   "id": "4da66afe",
   "metadata": {},
   "source": [
    "### 7. What is the significance of the `self` parameter in Python constructors? Explain with an example."
   ]
  },
  {
   "cell_type": "markdown",
   "id": "cfb33989",
   "metadata": {},
   "source": [
    "The `self` parameter in constructors and methods serves as a reference to the instance of the class itself. It allows you to access and modify attributes or even call/access methods of the object within the class.\n",
    "\n",
    "Example:"
   ]
  },
  {
   "cell_type": "code",
   "execution_count": 10,
   "id": "9d4c7e17",
   "metadata": {},
   "outputs": [
    {
     "name": "stdout",
     "output_type": "stream",
     "text": [
      "Hi, My Name is : Ashu and I am 26 years old.\n"
     ]
    }
   ],
   "source": [
    "class Person:\n",
    "    \n",
    "    # Constructor\n",
    "    def __init__(self,name,age):\n",
    "        self.name = name\n",
    "        self.age = age\n",
    "        # calling the details method\n",
    "        print(self.get_details())\n",
    "        \n",
    "    # Get details\n",
    "    def get_details(self):\n",
    "        return f\"Hi, My Name is : {self.name} and I am {self.age} years old.\"\n",
    "\n",
    "# Create a person object\n",
    "p1 = Person('Ashu',26)"
   ]
  },
  {
   "cell_type": "markdown",
   "id": "70a0d432",
   "metadata": {},
   "source": [
    "### 8. Discuss the concept of default constructors in Python. When are they used?"
   ]
  },
  {
   "cell_type": "markdown",
   "id": "64f30792",
   "metadata": {},
   "source": [
    "In Python, there are no explicit constructors as such. Instead, python provides a default constructor implicitly, which is the `__init__` method, and this gets called automatically when you create an instance of a class.\n",
    "\n",
    "The `__init__` method can be thought of as the default constructor because it serves the purpose of initializing the attributes of an object. If you don't define a custom `__init__` method in your class, python provides a default one for you.\n",
    "\n",
    "###### Example of class without explicit `__init__` method:"
   ]
  },
  {
   "cell_type": "code",
   "execution_count": 13,
   "id": "c6be8d50",
   "metadata": {},
   "outputs": [
    {
     "data": {
      "text/plain": [
       "5"
      ]
     },
     "execution_count": 13,
     "metadata": {},
     "output_type": "execute_result"
    }
   ],
   "source": [
    "class Calculator :\n",
    "    \n",
    "    # Add method\n",
    "    def add(self, a,b):\n",
    "        return a + b\n",
    "    \n",
    "    # subtract method\n",
    "    def subtract(self,a,b):\n",
    "        return a-b\n",
    "    \n",
    "    # Multiply method\n",
    "    def mul(self,a,b):\n",
    "        return a * b\n",
    "    \n",
    "# Create an object/instance using default constructor\n",
    "calc = Calculator()\n",
    "\n",
    "calc.add(2,3)"
   ]
  },
  {
   "cell_type": "markdown",
   "id": "81931ca3",
   "metadata": {},
   "source": [
    "##### Example of class with explicit __init__ method but default constructor (no params):"
   ]
  },
  {
   "cell_type": "code",
   "execution_count": 15,
   "id": "090fc006",
   "metadata": {},
   "outputs": [
    {
     "name": "stdout",
     "output_type": "stream",
     "text": [
      "Name : Ashutosh, Age : 26 years.\n"
     ]
    }
   ],
   "source": [
    "class Person :\n",
    "    \n",
    "    # Constructor \n",
    "    def __init__(self):\n",
    "        self.name = 'Ashutosh'\n",
    "        self.age = 26\n",
    "        \n",
    "    # Print magic method\n",
    "    def __str__(self):\n",
    "        return f\"Name : {self.name}, Age : {self.age} years.\"\n",
    "    \n",
    "# Creating an instance \n",
    "person = Person()\n",
    "\n",
    "print(person)"
   ]
  },
  {
   "cell_type": "markdown",
   "id": "6fd505b9",
   "metadata": {},
   "source": [
    "### 9. Create a Python class called `Rectangle` with a constructor that initializes the `width` and `height` attributes. Provide a method to calculate the area of the rectangle."
   ]
  },
  {
   "cell_type": "code",
   "execution_count": 16,
   "id": "f2849921",
   "metadata": {},
   "outputs": [
    {
     "data": {
      "text/plain": [
       "20"
      ]
     },
     "execution_count": 16,
     "metadata": {},
     "output_type": "execute_result"
    }
   ],
   "source": [
    "class Rectangle:\n",
    "    \n",
    "    # Constructor\n",
    "    def __init__(self, width, height):\n",
    "        self.width = width\n",
    "        self.height = height\n",
    "    \n",
    "    # Calculate the area of rectangle\n",
    "    def calculate_area(self):\n",
    "        return self.width * self.height\n",
    "    \n",
    "# Create an instance \n",
    "rect = Rectangle(4,5)\n",
    "\n",
    "# Calculate area of rectangle\n",
    "rect.calculate_area()"
   ]
  },
  {
   "cell_type": "markdown",
   "id": "20f1df32",
   "metadata": {},
   "source": [
    "### 10. How can you have multiple constructors in a Python class? Explain with an example."
   ]
  },
  {
   "cell_type": "markdown",
   "id": "5cc50697",
   "metadata": {},
   "source": [
    "In python, you can't have multiple constructors as in some other programming languages. However, you can achieve similar functionality by using default parameter values and optional arguments.\n",
    "\n",
    "Example of Rectangele class from above question:"
   ]
  },
  {
   "cell_type": "code",
   "execution_count": 21,
   "id": "83f7328d",
   "metadata": {},
   "outputs": [
    {
     "name": "stdout",
     "output_type": "stream",
     "text": [
      "Area of Rectangle : 12\n",
      "Area of Square : 16\n",
      "Area of Rectangle 3 : 0\n"
     ]
    }
   ],
   "source": [
    "class Rectangle :\n",
    "    \n",
    "    # Constructor\n",
    "    def __init__(self, width = None, height = None):\n",
    "        \n",
    "        if width is not None and height is not None:\n",
    "            self.width =  width\n",
    "            self.height = height\n",
    "        \n",
    "        elif width is not None:\n",
    "            self.width = width\n",
    "            self.height = width\n",
    "        \n",
    "        elif height is not None:\n",
    "            self.width = height\n",
    "            self.height = height\n",
    "        \n",
    "        else:\n",
    "            self.width = 0\n",
    "            self.height = 0\n",
    "            \n",
    "    # Calculate the area \n",
    "    def calculate_area(self):\n",
    "        return self.width * self.height\n",
    "    \n",
    "# Creating an instance of the class\n",
    "rectangle1 = Rectangle(3,4)\n",
    "\n",
    "rectangle2 = Rectangle(4)\n",
    "\n",
    "rectangle3 = Rectangle()\n",
    "\n",
    "print(f'Area of Rectangle : {rectangle1.calculate_area()}')\n",
    "print(f'Area of Square : {rectangle2.calculate_area()}')\n",
    "print(f'Area of Rectangle 3 : {rectangle3.calculate_area()}')"
   ]
  },
  {
   "cell_type": "markdown",
   "id": "b888b57c",
   "metadata": {},
   "source": [
    "### 11. What is method overloading, and how is it related to constructors in Python?"
   ]
  },
  {
   "cell_type": "markdown",
   "id": "03e4bc21",
   "metadata": {},
   "source": [
    "Method overloading is a feature that allows a class to have multiple methods with the same name but different parameter lists. This means you can define multiple versions of a method, each accepting different arguments. In Python, however if you define multiple methods with the same name in a class, the last one defined will override the previous ones.\n",
    "\n",
    "However, you can achieve similar functionality through default parameter values and optional arguments. This way ,a single method can handle different argument combinations.\n",
    "\n",
    "In case of constructors in Python, you can use default parameters values to simulate constructor overloading. By providing default values for constructor parameters, you can create instances of a class with different initial states based on the arguments provided during object creation.\n",
    "\n",
    "Examples as below:"
   ]
  },
  {
   "cell_type": "code",
   "execution_count": 22,
   "id": "a6972f1e",
   "metadata": {},
   "outputs": [
    {
     "name": "stdout",
     "output_type": "stream",
     "text": [
      "Area of Rectangle : 12\n",
      "Area of Square : 16\n",
      "Area of Rectangle 3 : 0\n"
     ]
    }
   ],
   "source": [
    "class Rectangle :\n",
    "    \n",
    "    # Constructor\n",
    "    def __init__(self, width = None, height = None):\n",
    "        \n",
    "        if width is not None and height is not None:\n",
    "            self.width =  width\n",
    "            self.height = height\n",
    "        \n",
    "        elif width is not None:\n",
    "            self.width = width\n",
    "            self.height = width\n",
    "        \n",
    "        elif height is not None:\n",
    "            self.width = height\n",
    "            self.height = height\n",
    "        \n",
    "        else:\n",
    "            self.width = 0\n",
    "            self.height = 0\n",
    "            \n",
    "    # Calculate the area \n",
    "    def calculate_area(self):\n",
    "        return self.width * self.height\n",
    "    \n",
    "# Creating an instance of the class\n",
    "rectangle1 = Rectangle(3,4)\n",
    "\n",
    "rectangle2 = Rectangle(4)\n",
    "\n",
    "rectangle3 = Rectangle()\n",
    "\n",
    "print(f'Area of Rectangle : {rectangle1.calculate_area()}')\n",
    "print(f'Area of Square : {rectangle2.calculate_area()}')\n",
    "print(f'Area of Rectangle 3 : {rectangle3.calculate_area()}')"
   ]
  },
  {
   "cell_type": "markdown",
   "id": "4ce7bf0b",
   "metadata": {},
   "source": [
    "### 12. Explain the use of the `super()` function in Python constructors. Provide an example."
   ]
  },
  {
   "cell_type": "markdown",
   "id": "e08fac69",
   "metadata": {},
   "source": [
    "The `super()` function in Python is a way to access methods and attributes from a parent class(superclass) within a child class(subclass). It is typically used to invoke the behavior of the parent class, especially in the context of constructors of the child class. \n",
    "\n",
    "In the case of constructors, `super()` is commonly used to ensure that attributes inherited from the parent class are properly initialized before adding new attributes specific to the child class.\n",
    "\n",
    "Example as below:\n"
   ]
  },
  {
   "cell_type": "code",
   "execution_count": 23,
   "id": "5e6b94bd",
   "metadata": {},
   "outputs": [
    {
     "name": "stdout",
     "output_type": "stream",
     "text": [
      "Sammy\n",
      "Labrador\n"
     ]
    }
   ],
   "source": [
    "class Animal:\n",
    "    def __init__(self,name):\n",
    "        self.name = name\n",
    "        \n",
    "class Dog(Animal):\n",
    "    def __init__(self,name,breed):\n",
    "        super().__init__(name)\n",
    "        self.breed = breed\n",
    "        \n",
    "# Creating a Dog instance\n",
    "dog = Dog('Sammy','Labrador')\n",
    "\n",
    "print(dog.name)\n",
    "print(dog.breed)"
   ]
  },
  {
   "cell_type": "markdown",
   "id": "89680d8c",
   "metadata": {},
   "source": [
    "### 13. Create a class called `Book` with a constructor that initializes the `title`, `author`, and `published_year` attributes. Provide a method to display book details."
   ]
  },
  {
   "cell_type": "code",
   "execution_count": 24,
   "id": "0fcc0977",
   "metadata": {},
   "outputs": [
    {
     "name": "stdout",
     "output_type": "stream",
     "text": [
      "Title : Think Like a Monk\n",
      "Author : Jay Shetty\n",
      "Published Year : 2021\n"
     ]
    }
   ],
   "source": [
    "class Book:\n",
    "    \n",
    "    # Constructor\n",
    "    def __init__(self, title, author, published_year):\n",
    "        self.title = title\n",
    "        self.author = author\n",
    "        self.publishedYear = published_year\n",
    "        \n",
    "    # Display book details\n",
    "    def display_details(self):\n",
    "        print(f\"Title : {self.title}\")\n",
    "        print(f\"Author : {self.author}\")\n",
    "        print(f\"Published Year : {self.publishedYear}\")\n",
    "\n",
    "# Creating a class instance\n",
    "book = Book('Think Like a Monk','Jay Shetty',2021)\n",
    "\n",
    "# Book details method\n",
    "book.display_details()"
   ]
  },
  {
   "cell_type": "markdown",
   "id": "c38377fe",
   "metadata": {},
   "source": [
    "### 14. Discuss the differences between constructors and regular methods in Python classes."
   ]
  },
  {
   "cell_type": "markdown",
   "id": "cd394181",
   "metadata": {},
   "source": [
    "Constructors and regular methods are both functions defined within a class in Python, but they serve different purposes and have distinct characteristics as below:\n",
    "\n",
    "<table>\n",
    "    <tr>\n",
    "        <th></th>\n",
    "        <th>Constructor</th>\n",
    "        <th>Regular Methods</th>\n",
    "    </tr>\n",
    "    <tr>\n",
    "        <td><b>Purpose</b></td>\n",
    "        <td>Purpose of a constructor is to initialize the attributes of an object when it is created. It is automatically called when you create an instance of a class.</td>\n",
    "        <td>Regular Methods performs operations or provide functionality related to the class. You need to explicity call regular methods after the object has been created to perform specific actions.</td>\n",
    "    </tr>\n",
    "    <tr>\n",
    "        <td>Naming</td>\n",
    "        <td>The constructor has a special predefined name `__init__`</td>\n",
    "        <td>Regular methods can have any valid method name.</td>\n",
    "    </tr>\n",
    "    <tr>\n",
    "        <td>Return Value</td>\n",
    "        <td>Constructor doesn't have a return statement.</td>\n",
    "        <td>Regular methods can have a return statement to return a value.</td>\n",
    "    </tr>\n",
    "    <tr>\n",
    "        <td>Multiple Definitions</td>\n",
    "        <td>There can be only one constructor (`__init__`) in a class.</td>\n",
    "        <td>You can define multiple regular methods in a class. </td>\n",
    "    </tr>\n",
    "   \n",
    "</table>"
   ]
  },
  {
   "cell_type": "markdown",
   "id": "cd87a892",
   "metadata": {},
   "source": [
    "### 15. Explain the role of the `self` parameter in instance variable initialization within a constructor."
   ]
  },
  {
   "cell_type": "markdown",
   "id": "2975ce38",
   "metadata": {},
   "source": [
    "The `self` parameter in Python is a convention used to represent the instance of a class within its methods, including the constructor (`__init__`). It allows you to access and manipulates the attributes and methods of the object within the class.\n",
    "\n",
    "Within a constructor, `self` is used to differentiate between the attributes of the instance being created and any other variables with the same name. It helps bind attributes to the specific instance of the class.\n",
    "\n",
    "- Creating Attributes: Inside the `__init__` method, you defined the attributes(instance variables) that you want each object of the class to have.\n",
    "\n",
    "\n",
    "- Accessing Attributes : To set the values of these attributes , you use `self.attribute_name = value`\n",
    "\n",
    "\n",
    "- Avoiding Name Conflicts : The use of `self` ensures that you are working with the attributes of the instance being created, even if there are other variables in the class or method with the same name like arguments name(parameters name).\n",
    "\n",
    "\n",
    "- Binding Attributes to the Instance : When you create an instance of the class, `self` is automatically assigned to refer to that instance. This ensures that any attribute assigned using `self` is specific to that particular instance."
   ]
  },
  {
   "cell_type": "code",
   "execution_count": 25,
   "id": "0a726d14",
   "metadata": {},
   "outputs": [
    {
     "name": "stdout",
     "output_type": "stream",
     "text": [
      "Name : Ashu , Age : 26 years.\n"
     ]
    }
   ],
   "source": [
    "class Person:\n",
    "    \n",
    "    # Constructor \n",
    "    def __init__(self,name,age):\n",
    "        self.name = name\n",
    "        self.age = age\n",
    "    \n",
    "    def __str__(self):\n",
    "        return f\"Name : {self.name} , Age : {self.age} years.\"\n",
    "    \n",
    "# Creating a instance\n",
    "person = Person('Ashu',26)\n",
    "\n",
    "print(person)"
   ]
  },
  {
   "cell_type": "markdown",
   "id": "0e3d95d8",
   "metadata": {},
   "source": [
    "### 16. How do you prevent a class from having multiple instances by using constructors in Python? Provide an example."
   ]
  },
  {
   "cell_type": "markdown",
   "id": "eb93ab11",
   "metadata": {},
   "source": [
    "In Python 3, you can implement the Singleton pattern using a metaclass. A metaclass is a class for classes, allowing you to customize class creation.\n",
    "\n",
    "Example of how you can implement the Singleton pattern in Python 3:"
   ]
  },
  {
   "cell_type": "code",
   "execution_count": 27,
   "id": "af38711c",
   "metadata": {
    "scrolled": true
   },
   "outputs": [
    {
     "name": "stdout",
     "output_type": "stream",
     "text": [
      "Instance 1\n",
      "Instance 1\n"
     ]
    }
   ],
   "source": [
    "class SingletonMeta(type):\n",
    "    _instances = {}\n",
    "    \n",
    "    def __call__(cls,*args,**kwargs):\n",
    "        if cls not in cls._instances:\n",
    "            cls._instances[cls] = super().__call__(*args,**kwargs)\n",
    "        return cls._instances[cls]\n",
    "    \n",
    "# Actual Singleton class\n",
    "class Singleton(metaclass = SingletonMeta):\n",
    "    def __init__(self,data):\n",
    "        self.data = data\n",
    "        \n",
    "# Creating the instances of Singleton Class\n",
    "singleton1 = Singleton(\"Instance 1\")\n",
    "singleton2 = Singleton(\"Instance 2\")\n",
    "\n",
    "print(singleton1.data)\n",
    "print(singleton2.data)"
   ]
  },
  {
   "cell_type": "markdown",
   "id": "474aef17",
   "metadata": {},
   "source": [
    "We can also use the decorator similar to Meta class used above. Example below:"
   ]
  },
  {
   "cell_type": "code",
   "execution_count": 28,
   "id": "8cf55ef5",
   "metadata": {},
   "outputs": [
    {
     "name": "stdout",
     "output_type": "stream",
     "text": [
      "Instance 1\n",
      "Instance 1\n"
     ]
    }
   ],
   "source": [
    "def singleton(class_):\n",
    "    instances = {}\n",
    "\n",
    "    def ensure_singleton_instance(*args, **kwargs):\n",
    "        if class_ not in instances:\n",
    "            instances[class_] = class_(*args, **kwargs)\n",
    "        return instances[class_]\n",
    "\n",
    "    return ensure_singleton_instance\n",
    "\n",
    "# using decorator below\n",
    "@singleton\n",
    "class Singleton:\n",
    "    def __init__(self, data):\n",
    "        self.data = data\n",
    "\n",
    "# Creating instances of Singleton\n",
    "singleton1 = Singleton(\"Instance 1\")\n",
    "singleton2 = Singleton(\"Instance 2\")\n",
    "\n",
    "print(singleton1.data)\n",
    "print(singleton2.data)"
   ]
  },
  {
   "cell_type": "markdown",
   "id": "84fe2b6e",
   "metadata": {},
   "source": [
    "### 17. Create a Python class called `Student` with a constructor that takes a list of subjects as a parameter and initializes the `subjects` attribute."
   ]
  },
  {
   "cell_type": "code",
   "execution_count": 29,
   "id": "b70ac13c",
   "metadata": {},
   "outputs": [
    {
     "name": "stdout",
     "output_type": "stream",
     "text": [
      "Subjects:\n",
      "ML\n",
      "Data Science\n",
      "AI\n",
      "Deep Learning\n"
     ]
    }
   ],
   "source": [
    "class Student: \n",
    "    \n",
    "    # Constructor \n",
    "    def __init__(self,subjects):\n",
    "        self.subjects = subjects\n",
    "        \n",
    "    # Display subjects\n",
    "    def display_subjects(self):\n",
    "        print(\"Subjects:\")\n",
    "        for subject in self.subjects:\n",
    "            print(subject)\n",
    "            \n",
    "# Creating an instance of Student\n",
    "student = Student(['ML','Data Science','AI','Deep Learning'])\n",
    "\n",
    "# Calling the display subjects method\n",
    "student.display_subjects()"
   ]
  },
  {
   "cell_type": "markdown",
   "id": "7f5aff17",
   "metadata": {},
   "source": [
    "### 18. What is the purpose of the `__del__` method in Python classes, and how does it relate to constructors?"
   ]
  },
  {
   "cell_type": "markdown",
   "id": "9f63e57b",
   "metadata": {},
   "source": [
    "The `__del__` method (destructor) in python is used to define the destruction logic for objects of a class. It's called automatically when an object is about to be destroyed, which typically occurs when there are no more references to the object. The purpose of the `__del__` method is to perform any necessary cleanup or finalization before the object is removed from memory.\n",
    "\n",
    "While constructors (`__init__` method) are used for initializing object attributes and setting up the initial state of an object, the `__del__` method is used for performing cleanup tasks or releasing resources associated with the object.\n",
    "\n",
    "Example showing constructor and destructor functionality below:"
   ]
  },
  {
   "cell_type": "code",
   "execution_count": 32,
   "id": "619b9b84",
   "metadata": {},
   "outputs": [
    {
     "name": "stdout",
     "output_type": "stream",
     "text": [
      "Objects Student1 created.\n",
      "Objects Student2 created.\n",
      "\n",
      "Object Student1 is being destroyed.\n",
      "Object Student2 is being destroyed.\n"
     ]
    }
   ],
   "source": [
    "class Student:\n",
    "    \n",
    "    # Constructor\n",
    "    def __init__(self,name):\n",
    "        self.name = name\n",
    "        print(f\"Objects {self.name} created.\")\n",
    "    \n",
    "    # Destructor\n",
    "    def __del__(self):\n",
    "        print(f\"Object {self.name} is being destroyed.\")\n",
    "    \n",
    "# Creating instances of class\n",
    "obj1 = Student('Student1')\n",
    "obj2 = Student('Student2')\n",
    "\n",
    "print()\n",
    "\n",
    "# Deleting a reference\n",
    "del obj1\n",
    "del obj2"
   ]
  },
  {
   "cell_type": "markdown",
   "id": "d68399c3",
   "metadata": {},
   "source": [
    "### 19. Explain the use of constructor chaining in Python. Provide a practical example."
   ]
  },
  {
   "cell_type": "markdown",
   "id": "a0927eb0",
   "metadata": {},
   "source": [
    "Constructor chaining in Python refers to the ability of a subclass to call the constructor of its parent class. This allows you to reuse the initialization logic defined in the parent class's constructor (`__init__` using `super()`) when creating instances of the subclass.\n",
    "\n",
    "Example:"
   ]
  },
  {
   "cell_type": "code",
   "execution_count": 33,
   "id": "560bd6db",
   "metadata": {},
   "outputs": [
    {
     "name": "stdout",
     "output_type": "stream",
     "text": [
      "Sammy\n",
      "Labrador\n"
     ]
    }
   ],
   "source": [
    "class Animal:\n",
    "    \n",
    "    # Constructor \n",
    "    def __init__(self,name):\n",
    "        self.name = name\n",
    "        \n",
    "class Dog(Animal):\n",
    "    \n",
    "    # Constructor\n",
    "    def __init__(self,name,breed):\n",
    "        super().__init__(name)\n",
    "        self.breed = breed\n",
    "    \n",
    "    # Creating a Dog instance\n",
    "    dog = Dog(\"Sammy\",'Labrador')\n",
    "    \n",
    "# Printing name and breed\n",
    "print(dog.name)\n",
    "print(dog.breed)"
   ]
  },
  {
   "cell_type": "markdown",
   "id": "c101fcd1",
   "metadata": {},
   "source": [
    "### 20. Create a Python class called `Car` with a default constructor that initializes the `make` and `model` attributes. Provide a method to display car information."
   ]
  },
  {
   "cell_type": "code",
   "execution_count": 34,
   "id": "3915cc32",
   "metadata": {},
   "outputs": [
    {
     "name": "stdout",
     "output_type": "stream",
     "text": [
      "Car make : Hyundai , Model : Ironiq 5\n"
     ]
    }
   ],
   "source": [
    "class Car:\n",
    "    \n",
    "    # Constructor \n",
    "    def __init__(self):\n",
    "        self.make = \"Hyundai\"\n",
    "        self.model = \"Ironiq 5\"\n",
    "    \n",
    "    # Display details\n",
    "    def display_details(self):\n",
    "        print(f'Car make : {self.make} , Model : {self.model}')\n",
    "    \n",
    "# Create an instance\n",
    "car1 = Car()\n",
    "\n",
    "car1.display_details()"
   ]
  },
  {
   "cell_type": "code",
   "execution_count": 35,
   "id": "25714682",
   "metadata": {},
   "outputs": [
    {
     "name": "stdout",
     "output_type": "stream",
     "text": [
      "Car make: Hyundai, Model: Ioniq 5\n"
     ]
    }
   ],
   "source": [
    "class Car:\n",
    "\n",
    "    # Default constructor (parameterized) initializing value of make and model\n",
    "    def __init__(self, make, model):\n",
    "        self.make = make\n",
    "        self.model = model\n",
    "\n",
    "    def display_details(self):\n",
    "        print(f'Car make: {self.make}, Model: {self.model}')\n",
    "\n",
    "# Create an instance\n",
    "car1 = Car(\"Hyundai\", \"Ioniq 5\")\n",
    "\n",
    "car1.display_details()"
   ]
  },
  {
   "cell_type": "markdown",
   "id": "914ba5dc",
   "metadata": {},
   "source": [
    "## Inheritance:"
   ]
  },
  {
   "cell_type": "markdown",
   "id": "d788c894",
   "metadata": {},
   "source": [
    "### 1. What is inheritance in Python? Explain its significance in object-oriented programming."
   ]
  },
  {
   "cell_type": "markdown",
   "id": "4d7a2d5d",
   "metadata": {},
   "source": [
    "<b>Inheritance :</b> Inheritance is a fundamental concept in object-oriented programming (OOP) that allows one class( the subclass or derived class) to inherit the properties and behaviors of another class ( the superclass or base class). Inheritance is a mechanism that models the \"is-a\" relationship, where a subclass is a specialized version of its superclass.\n",
    "\n",
    "<b>Inheritance in Python : In Python, you define inheritance by creating a new class and specifying the base class it inherits from inside paranthese. The subclass then inherits attributes and methods from the superclass.</b>\n",
    "\n",
    "#### Significance of Inheritance:\n",
    "\n",
    "- <b>Code Reusability: </b> Inheritance promotes code usability by allowing you to reuse existing code from a superclass in a new class.\n",
    "\n",
    "- <b>Extensibility : </b> You can create more specialized classes (subclasses) by inheriting from a more general class (superclass). This enables you to extend or override the behaviors of the superclass to fit the specific needs of the subclass.\n",
    "\n",
    "- <b>Hierarchy and Organization: </b> Inheritance allows you to create hierarchical structures of classes, making the code more organized and easy to understand. It models the real-world relationships between objects.\n",
    "\n",
    "Real World example of Dog class and cat class inherting from animal class:"
   ]
  },
  {
   "cell_type": "code",
   "execution_count": 39,
   "id": "f14c3c4e",
   "metadata": {},
   "outputs": [
    {
     "name": "stdout",
     "output_type": "stream",
     "text": [
      "Dog says : Woof !!! \n",
      "Cat says : Meow !!!\n"
     ]
    }
   ],
   "source": [
    "# Parent class\n",
    "class Animal :\n",
    "    \n",
    "    # Constructor\n",
    "    def __init__(self,species):\n",
    "        self.species = species\n",
    "        \n",
    "    # Speak method\n",
    "    def speak(self):\n",
    "        pass\n",
    "    \n",
    "# Inheritance \n",
    "class Dog(Animal):\n",
    "    \n",
    "    # method overriding\n",
    "    def speak(self):\n",
    "        return \"Woof !!! \"\n",
    "    \n",
    "# Inheritance\n",
    "class Cat(Animal):\n",
    "    \n",
    "    # Method overriding\n",
    "    def speak(self):\n",
    "        return \"Meow !!!\"\n",
    "    \n",
    "# Creating instances of subclasses\n",
    "dog = Dog(\"Dog\")\n",
    "cat = Cat(\"Cat\")\n",
    "\n",
    "# Calling the speak method\n",
    "print(f\"{dog.species} says : {dog.speak()}\")\n",
    "print(f\"{cat.species} says : {cat.speak()}\")"
   ]
  },
  {
   "cell_type": "markdown",
   "id": "fa12e3c9",
   "metadata": {},
   "source": [
    "### 2. Differentiate between single inheritance and multiple inheritance in Python. Provide examples for each."
   ]
  },
  {
   "cell_type": "markdown",
   "id": "5ab3ddcc",
   "metadata": {},
   "source": [
    "In python, inheritance can be categorized into two main types: Single Inheritance and Multiple Inheritance. Let's differentiate between these two types and provide examples for each:\n",
    "\n",
    "#### Single Inheritance:\n",
    "\n",
    "Single Inheritance is a type of inheritance where a subclass (derived class) inherits from a single superclass (base class). It forms a linearly hierarchy of classes.\n",
    "\n",
    "Example:"
   ]
  },
  {
   "cell_type": "code",
   "execution_count": 43,
   "id": "671c2585",
   "metadata": {},
   "outputs": [
    {
     "name": "stdout",
     "output_type": "stream",
     "text": [
      "Dog says : Woof !!!\n"
     ]
    }
   ],
   "source": [
    "# Parent class\n",
    "class Animal :\n",
    "    \n",
    "    # Constructor\n",
    "    def __init__(self,species):\n",
    "        self.species = species\n",
    "        \n",
    "    # Speak method\n",
    "    def speak(self):\n",
    "        pass\n",
    "    \n",
    "# Inheritance \n",
    "class Dog(Animal):\n",
    "    \n",
    "    # method overriding\n",
    "    def speak(self):\n",
    "        return \"Woof !!!\"\n",
    "    \n",
    "# Creating instance of subclass\n",
    "dog = Dog(\"Dog\")\n",
    "\n",
    "# Calling the speak method\n",
    "print(f\"{dog.species} says : {dog.speak()}\")"
   ]
  },
  {
   "cell_type": "markdown",
   "id": "350c849c",
   "metadata": {},
   "source": [
    "#### Multiple Inheritance:\n",
    "\n",
    "Multiple Inheritance is a type of inheritance where a subclass (derived class) can inherit from more than one superclass( base class). This allows a class to inherit attributes and methods from multiple sources."
   ]
  },
  {
   "cell_type": "code",
   "execution_count": 45,
   "id": "596ed5cb",
   "metadata": {},
   "outputs": [
    {
     "name": "stdout",
     "output_type": "stream",
     "text": [
      "Method from Parent1\n",
      "Method from Parent2\n",
      "Method from Child\n"
     ]
    }
   ],
   "source": [
    "class Parent1 :\n",
    "    \n",
    "    # Method1 \n",
    "    def method1(self):\n",
    "        return \"Method from Parent1\"\n",
    "    \n",
    "class Parent2:\n",
    "    \n",
    "    # Method2\n",
    "    def method2(self):\n",
    "        return \"Method from Parent2\"\n",
    "    \n",
    "class Child (Parent1, Parent2):\n",
    "    \n",
    "    def method3(self):\n",
    "        return \"Method from Child\"\n",
    "\n",
    "# Creating an instance of child\n",
    "child = Child()\n",
    "\n",
    "# Calling every method from different parent and child class\n",
    "print(child.method1())\n",
    "print(child.method2())\n",
    "print(child.method3())"
   ]
  },
  {
   "cell_type": "markdown",
   "id": "7267cb21",
   "metadata": {},
   "source": [
    "### 3. Create a Python class called `Vehicle` with attributes `color` and `speed`. Then, create a child class called `Car` that inherits from `Vehicle` and adds a `brand` attribute. Provide an example of creating a `Car` object."
   ]
  },
  {
   "cell_type": "code",
   "execution_count": 47,
   "id": "41bb6d37",
   "metadata": {},
   "outputs": [
    {
     "name": "stdout",
     "output_type": "stream",
     "text": [
      "Color: Black\n",
      "Speed: 140\n",
      "Brand: BMW\n"
     ]
    }
   ],
   "source": [
    "class Vehicle:\n",
    "    \n",
    "    # Constructor\n",
    "    def __init__(self,color, speed):\n",
    "        self.color = color\n",
    "        self.speed = speed\n",
    "    \n",
    "class Car(Vehicle):\n",
    "    \n",
    "    # Constructor\n",
    "    def __init__(self, color, speed, brand):\n",
    "        super().__init__(color,speed)\n",
    "        self.brand = brand\n",
    "        \n",
    "# Creating an instance of Car \n",
    "my_car = Car(\"Black\",140,\"BMW\")\n",
    "\n",
    "print(f\"Color: {my_car.color}\")\n",
    "print(f\"Speed: {my_car.speed}\")\n",
    "print(f\"Brand: {my_car.brand}\")"
   ]
  },
  {
   "cell_type": "markdown",
   "id": "d246711e",
   "metadata": {},
   "source": [
    "### 4. Explain the concept of method overriding in inheritance. Provide a practical example."
   ]
  },
  {
   "cell_type": "markdown",
   "id": "ddeffd77",
   "metadata": {},
   "source": [
    "<b>Method Overriding</b> is a concept in inheritance where a subclass provides its own implementation of a method that is already defined in its superclass. This allows the subclass to customize or extend the behavior of the inherited method while retaining the method's name and signature.\n",
    "\n",
    "Key Points about method overriding:\n",
    "\n",
    "- The overridden method in the subclass must have the same name, parameters and return type as the method in the superclass.\n",
    "\n",
    "\n",
    "- The super() function can be used to call the overridden method in the superclass within the sublcass's overridden method.\n",
    "\n",
    "\n",
    "- Method overriding is a form of runtime polymorphism, where the same method name can behave differently based on the object's actual class.\n",
    "\n",
    "\n",
    "Example of Overriding:"
   ]
  },
  {
   "cell_type": "code",
   "execution_count": 50,
   "id": "a7584977",
   "metadata": {},
   "outputs": [
    {
     "name": "stdout",
     "output_type": "stream",
     "text": [
      "Circle Area :  78.5\n",
      "Square Area :  16\n"
     ]
    }
   ],
   "source": [
    "class Shape:\n",
    "    \n",
    "    # Area method\n",
    "    def area(self):\n",
    "        pass\n",
    "    \n",
    "class Circle(Shape):\n",
    "    \n",
    "    # Constructor for Circle class\n",
    "    def __init__(self, radius):\n",
    "        self.radius = radius\n",
    "    \n",
    "    # Area method\n",
    "    def area(self):\n",
    "        return 3.14 * self.radius * self.radius\n",
    "    \n",
    "class Square(Shape):\n",
    "    \n",
    "    # Constructor for Square class\n",
    "    def __init__(self,side):\n",
    "        self.side = side\n",
    "    \n",
    "    #Area method\n",
    "    def area(self):\n",
    "        return self.side * self.side\n",
    "\n",
    "# Creating the instance of both class\n",
    "circle = Circle(5)\n",
    "square = Square(4)\n",
    "\n",
    "# Calculate the area\n",
    "print(\"Circle Area : \",circle.area())\n",
    "print(\"Square Area : \", square.area())"
   ]
  },
  {
   "cell_type": "markdown",
   "id": "68c7845d",
   "metadata": {},
   "source": [
    "### 5. How can you access the methods and attributes of a parent class from a child class in Python? Give an example."
   ]
  },
  {
   "cell_type": "markdown",
   "id": "5373344d",
   "metadata": {},
   "source": [
    "In Python, you can access the methods and attributes of a parent(superclass or base class) from a child (subclass or derived class) using the super() function. The super() function provides a way to call methods and access attributes of the parent class within the child class.\n",
    "\n",
    "Example:"
   ]
  },
  {
   "cell_type": "code",
   "execution_count": 61,
   "id": "7c8cc496",
   "metadata": {},
   "outputs": [
    {
     "name": "stdout",
     "output_type": "stream",
     "text": [
      " Make :BMW\n",
      " Model : Black \n",
      " Color : Automatic \n",
      " Category: SUV\n"
     ]
    }
   ],
   "source": [
    "class Vehicle:\n",
    "    \n",
    "    # Constructor \n",
    "    def __init__(self, make, model , color):\n",
    "        self.make = make\n",
    "        self.model = model\n",
    "        self.color = color\n",
    "    \n",
    "    # Get details\n",
    "    def get_details(self):\n",
    "        return f' Make :{self.make}\\n Model : {self.model} \\n Color : {self.color}'\n",
    "    \n",
    "class Car(Vehicle):\n",
    "    \n",
    "    # Constructor\n",
    "    def __init__(self,make, color, model, category):\n",
    "        super().__init__(make,model,color)\n",
    "        self.category = category\n",
    "        \n",
    "    def get_details(self):\n",
    "        vehicleDetails = super().get_details()\n",
    "        return f'{vehicleDetails} \\n Category: {self.category}'\n",
    "    \n",
    "# Instance of Car class\n",
    "car = Car(\"BMW\",\"Automatic\",'Black','SUV')\n",
    "\n",
    "# print the car details\n",
    "print(car.get_details())"
   ]
  },
  {
   "cell_type": "markdown",
   "id": "a644f064",
   "metadata": {},
   "source": [
    "### 6. Discuss the use of the `super()` function in Python inheritance. When and why is it used? Provide an example."
   ]
  },
  {
   "cell_type": "markdown",
   "id": "8d7528e5",
   "metadata": {},
   "source": [
    "The `super()` function in Python is used in the context of inheritance to call methods or access attributes from the parent class(superclass) within the child class (subclass). It is commonly used for the following purposes:\n",
    "\n",
    "- <b>Calling Superclass Constructors : </b> To invoke the constructor of the parent class, allowing the subclass to initialize its own attributes while retaining the attributes and behavior of the parent class.\n",
    "\n",
    "- <b>Method Overriding : </b> To call overridden methods from the parent class to include the behavior of the parent class before or after custom behavior defined in the child class.\n",
    "\n",
    "- <b>Cooperative Multiple Inheritance : </b> In cases of multiple inheritance, where a class inherits from more than one superclass, `super()` helps resolve method order conflicts and ensures proper method execution based on method resolution order.\n",
    "\n",
    "Example of usage of `super()`:\n"
   ]
  },
  {
   "cell_type": "code",
   "execution_count": 62,
   "id": "873809bb",
   "metadata": {},
   "outputs": [
    {
     "name": "stdout",
     "output_type": "stream",
     "text": [
      " Make :BMW\n",
      " Model : Black \n",
      " Color : Automatic \n",
      " Category: SUV\n"
     ]
    }
   ],
   "source": [
    "class Vehicle:\n",
    "    \n",
    "    # Constructor \n",
    "    def __init__(self, make, model , color):\n",
    "        self.make = make\n",
    "        self.model = model\n",
    "        self.color = color\n",
    "    \n",
    "    # Get details\n",
    "    def get_details(self):\n",
    "        return f' Make :{self.make}\\n Model : {self.model} \\n Color : {self.color}'\n",
    "    \n",
    "class Car(Vehicle):\n",
    "    \n",
    "    # Constructor\n",
    "    def __init__(self,make, color, model, category):\n",
    "        super().__init__(make,model,color)\n",
    "        self.category = category\n",
    "        \n",
    "    def get_details(self):\n",
    "        vehicleDetails = super().get_details()\n",
    "        return f'{vehicleDetails} \\n Category: {self.category}'\n",
    "    \n",
    "# Instance of Car class\n",
    "car = Car(\"BMW\",\"Automatic\",'Black','SUV')\n",
    "\n",
    "# print the car details\n",
    "print(car.get_details())"
   ]
  },
  {
   "cell_type": "markdown",
   "id": "115b31c5",
   "metadata": {},
   "source": [
    "### 7. Create a Python class called `Animal` with a method `speak()`. Then, create child classes `Dog` and `Cat` that inherit from `Animal` and override the `speak()` method. Provide an example of using these classes."
   ]
  },
  {
   "cell_type": "code",
   "execution_count": 63,
   "id": "268e99a7",
   "metadata": {},
   "outputs": [
    {
     "name": "stdout",
     "output_type": "stream",
     "text": [
      "Dog says : Woof !!! \n",
      "Cat says : Meow !!!\n"
     ]
    }
   ],
   "source": [
    "# Parent class\n",
    "class Animal :\n",
    "    \n",
    "    # Constructor\n",
    "    def __init__(self,species):\n",
    "        self.species = species\n",
    "        \n",
    "    # Speak method\n",
    "    def speak(self):\n",
    "        pass\n",
    "    \n",
    "# Inheritance \n",
    "class Dog(Animal):\n",
    "    \n",
    "    # method overriding\n",
    "    def speak(self):\n",
    "        return \"Woof !!! \"\n",
    "    \n",
    "# Inheritance\n",
    "class Cat(Animal):\n",
    "    \n",
    "    # Method overriding\n",
    "    def speak(self):\n",
    "        return \"Meow !!!\"\n",
    "    \n",
    "# Creating instances of subclasses\n",
    "dog = Dog(\"Dog\")\n",
    "cat = Cat(\"Cat\")\n",
    "\n",
    "# Calling the speak method\n",
    "print(f\"{dog.species} says : {dog.speak()}\")\n",
    "print(f\"{cat.species} says : {cat.speak()}\")"
   ]
  },
  {
   "cell_type": "markdown",
   "id": "fd7423d6",
   "metadata": {},
   "source": [
    "### 8. Explain the role of the `isinstance()` function in Python and how it relates to inheritance."
   ]
  },
  {
   "cell_type": "markdown",
   "id": "ab05ffbb",
   "metadata": {},
   "source": [
    "The `isinstance()` function in Python is used to determine if an object belongs to a particular class or a subclass. It checkes the type of an object and returns True if the object is an instance of the specified class or a subclass of that class.\n",
    "\n",
    "The `isinstance()` function plays a key role in inheritance by allowing you to test whether an object is an instance of a specified class or one of its subclasses. It is often used for the following purposes:\n",
    "\n",
    "<b>Type Checking: </b> To ensure that an object is of the expected type before performing operations on it. This helps prevents errors and unexpected behavior.\n",
    "\n",
    "<b>Polymorphism : </b> To enable the use of objects of different classes in a generic way, as long as they share a common superclass. This is a fundamental concept in object-oriented programming and is closely related to inheritnace.\n",
    "\n",
    "Example:"
   ]
  },
  {
   "cell_type": "code",
   "execution_count": 66,
   "id": "9a90178d",
   "metadata": {},
   "outputs": [
    {
     "name": "stdout",
     "output_type": "stream",
     "text": [
      "True\n",
      "True\n",
      "False\n",
      "True\n"
     ]
    }
   ],
   "source": [
    "# Parent class\n",
    "class Animal :\n",
    "    \n",
    "    # Speak method\n",
    "    def speak(self):\n",
    "        pass\n",
    "    \n",
    "# Inheritance \n",
    "class Dog(Animal):\n",
    "    \n",
    "    # method overriding\n",
    "    def speak(self):\n",
    "        return \"Woof !!! \"\n",
    "    \n",
    "# Inheritance\n",
    "class Cat(Animal):\n",
    "    \n",
    "    # Method overriding\n",
    "    def speak(self):\n",
    "        return \"Meow !!!\"\n",
    "    \n",
    "# Creating instances of subclasses\n",
    "dog = Dog()\n",
    "cat = Cat()\n",
    "\n",
    "# Checking the type using isinstance\n",
    "print(isinstance(dog, Animal))\n",
    "print(isinstance(cat, Animal))\n",
    "print(isinstance(cat, Dog))\n",
    "print(isinstance(dog,Dog))"
   ]
  },
  {
   "cell_type": "markdown",
   "id": "0708c982",
   "metadata": {},
   "source": [
    "### 9. What is the purpose of the `issubclass()` function in Python? Provide an example."
   ]
  },
  {
   "cell_type": "markdown",
   "id": "b17935ac",
   "metadata": {},
   "source": [
    "The `issubclass()` function in Python is used to check if a given class is a subclass of a specified class or a subclass of any class in a tuple of classes. It returns True if the first class is a subclass of the second class or any class in the tuple, and False otherwise.\n",
    "\n",
    "Example:"
   ]
  },
  {
   "cell_type": "code",
   "execution_count": 69,
   "id": "5bda8ae0",
   "metadata": {},
   "outputs": [
    {
     "name": "stdout",
     "output_type": "stream",
     "text": [
      "True\n",
      "False\n",
      "True\n"
     ]
    }
   ],
   "source": [
    "class Animal:\n",
    "    pass\n",
    "\n",
    "class Dog(Animal):\n",
    "    pass\n",
    "\n",
    "# Checking if Dog is subclass of Animal\n",
    "print(issubclass(Dog, Animal))\n",
    "\n",
    "# Checking if Animal is subclass of Dog\n",
    "print(issubclass(Animal,Dog))\n",
    "\n",
    "# Checking if Animal is subclass of Dog\n",
    "print(issubclass(Dog,object))\n"
   ]
  },
  {
   "cell_type": "markdown",
   "id": "998eafa3",
   "metadata": {},
   "source": [
    "### 10. Discuss the concept of constructor inheritance in Python. How are constructors inherited in child classes?"
   ]
  },
  {
   "cell_type": "markdown",
   "id": "93110c88",
   "metadata": {},
   "source": [
    "In Python, constructor are inherited by default in child classses. This means that if a child class does not have its own `__init__` method, it will automatically inherit the `__init__` method of its parent class (superclass). If the child class does have its own `__init__` method, it will override the constructor of the parent class."
   ]
  },
  {
   "cell_type": "code",
   "execution_count": 77,
   "id": "10935b72",
   "metadata": {},
   "outputs": [
    {
     "name": "stdout",
     "output_type": "stream",
     "text": [
      "Species : Tom \n",
      "Breed : Golden Retriever\n",
      "Cat Species : Cat\n"
     ]
    }
   ],
   "source": [
    "# Parent class\n",
    "class Animal :\n",
    "    \n",
    "    # Constructor\n",
    "    def __init__(self,species):\n",
    "        self.species = species\n",
    "        \n",
    "    # Speak method\n",
    "    def speak(self):\n",
    "        pass\n",
    "    \n",
    "# Inheritance \n",
    "class Dog(Animal):\n",
    "    \n",
    "    # Constructor of Dog\n",
    "    def __init__(self,species, breed):\n",
    "        super().__init__(species)\n",
    "        self.breed = breed\n",
    "        \n",
    "    # method overriding\n",
    "    def speak(self):\n",
    "        return \"Woof !!! \"\n",
    "    \n",
    "# Inheritance\n",
    "class Cat(Animal):\n",
    "    \n",
    "    # Method overriding\n",
    "    def speak(self):\n",
    "        return \"Meow !!!\"\n",
    "    \n",
    "# Creating instances of subclasses\n",
    "dog = Dog(\"Tom\",\"Golden Retriever\")\n",
    "cat = Cat(\"Cat\")\n",
    "\n",
    "# Calling the speak method\n",
    "print(f\"Species : {dog.species} \\nBreed : {dog.breed}\")\n",
    "print(f\"Cat Species : {cat.species}\")"
   ]
  },
  {
   "cell_type": "markdown",
   "id": "5fb55e59",
   "metadata": {},
   "source": [
    "### 11. Create a Python class called `Shape` with a method `area()` that calculates the area of a shape. Then, create child classes `Circle` and `Rectangle` that inherit from `Shape` and implement the `area()` method accordingly. Provide an example."
   ]
  },
  {
   "cell_type": "code",
   "execution_count": 78,
   "id": "466a4ece",
   "metadata": {},
   "outputs": [
    {
     "name": "stdout",
     "output_type": "stream",
     "text": [
      "Area of the circle: 153.86\n",
      "Area of the rectangle: 108\n"
     ]
    }
   ],
   "source": [
    "class Shape:\n",
    "    # Define area method\n",
    "    def area(self):\n",
    "        pass\n",
    "\n",
    "# Circle clas inherited from Shape\n",
    "class Circle(Shape):\n",
    "    \n",
    "    # Constructor of circle class\n",
    "    def __init__(self, radius):\n",
    "        self.radius = radius\n",
    "\n",
    "    # Area method\n",
    "    def area(self):\n",
    "        return 3.14 * (self.radius ** 2)\n",
    "\n",
    "# Rectangle class inherited from Shape\n",
    "\n",
    "class Rectangle(Shape):\n",
    "\n",
    "    # Constructor of Rectangle class\n",
    "    def __init__(self, length, width):\n",
    "        self.length = length\n",
    "        self.width = width\n",
    "\n",
    "    # Area method\n",
    "    def area(self):\n",
    "        return self.length * self.width\n",
    "\n",
    "# Create Instances\n",
    "circle = Circle(7)\n",
    "rectangle = Rectangle(9, 12)\n",
    "\n",
    "## Calculate the Area of both class\n",
    "print(f\"Area of the circle: {circle.area()}\") \n",
    "print(f\"Area of the rectangle: {rectangle.area()}\")"
   ]
  },
  {
   "cell_type": "markdown",
   "id": "89de00a9",
   "metadata": {},
   "source": [
    "### 12. Explain the use of abstract base classes (ABCs) in Python and how they relate to inheritance. Provide an example using the `abc` module."
   ]
  },
  {
   "cell_type": "markdown",
   "id": "ce871ac2",
   "metadata": {},
   "source": [
    "<b>Abstract Base Classes </b>(ABCs) in Python provides a way to define a common interface for a group of related classes. They allow you to specify a set of methods that must be implemented by subclasses. In essence, ABCs define a contract that subclasses must adhere to.\n",
    "\n",
    "The abc module in Python's standard library is used to work with abstract base classes. It provides the ABC class and the absract method decorator, which are key components for creating and using abstract base classes.\n",
    "\n",
    "Example as below:\n"
   ]
  },
  {
   "cell_type": "code",
   "execution_count": 83,
   "id": "95923721",
   "metadata": {},
   "outputs": [
    {
     "name": "stdout",
     "output_type": "stream",
     "text": [
      "Can't instantiate abstract class Shape with abstract method area\n",
      "\n",
      "Area of the circle : 153.86\n",
      "Area of the Rectangle : 96\n"
     ]
    }
   ],
   "source": [
    "# Import module\n",
    "from abc import ABC, abstractmethod\n",
    "\n",
    "class Shape(ABC):\n",
    "    @abstractmethod\n",
    "    def area(self):\n",
    "        pass\n",
    "    \n",
    "# Inherit class\n",
    "class Circle(Shape):\n",
    "    \n",
    "    # Constrcutor\n",
    "    def __init__(self,radius):\n",
    "        self.radius = radius\n",
    "    \n",
    "    # Area method\n",
    "    def area(self):\n",
    "        return 3.14 * (self.radius **2)\n",
    "\n",
    "# Inherit class\n",
    "class Rectangle(Shape):\n",
    "    \n",
    "    # Constructor\n",
    "    def __init__(self,length, width):\n",
    "        self.length = length\n",
    "        self.width = width\n",
    "        \n",
    "    # Area method\n",
    "    def area(self):\n",
    "        return self.length * self.width\n",
    "    \n",
    "# Attempt to create an instance of Shape\n",
    "try:\n",
    "    shape = Shape()\n",
    "    \n",
    "except TypeError as e:\n",
    "    print(e)\n",
    "    \n",
    "circle = Circle(7)\n",
    "rectangle  = Rectangle(8,12)\n",
    "\n",
    "print() \n",
    "\n",
    "print(f\"Area of the circle : {circle.area()}\")\n",
    "print(f\"Area of the Rectangle : {rectangle.area()}\")"
   ]
  },
  {
   "cell_type": "markdown",
   "id": "b5b5024a",
   "metadata": {},
   "source": [
    "### 13. How can you prevent a child class from modifying certain attributes or methods inherited from a parent class in Python?"
   ]
  },
  {
   "cell_type": "markdown",
   "id": "ea45f900",
   "metadata": {},
   "source": [
    "You can prevent attributes to be modified or methods to be inherited by derived class by making them private by using name mangling.\n",
    "\n",
    "Example:"
   ]
  },
  {
   "cell_type": "code",
   "execution_count": 81,
   "id": "96c9e6b9",
   "metadata": {},
   "outputs": [
    {
     "name": "stdout",
     "output_type": "stream",
     "text": [
      "I am private attribute\n"
     ]
    }
   ],
   "source": [
    "class Parent:\n",
    "    \n",
    "    # Constrcutor having private attribute\n",
    "    def __init__(self):\n",
    "        self.__private_attribute = 'I am private attribute'\n",
    "        \n",
    "    # Print details method\n",
    "    def print_details(self):\n",
    "        print(self.__private_attribute)\n",
    "        \n",
    "# Inherit class\n",
    "class Child(Parent):\n",
    "    def __init__(self):\n",
    "        super().__init__()\n",
    "        self.__private_attribute = \"This won't affect the parent\"\n",
    "\n",
    "# child object\n",
    "child = Child()\n",
    "\n",
    "# print the details\n",
    "child.print_details()"
   ]
  },
  {
   "cell_type": "markdown",
   "id": "850e0cad",
   "metadata": {},
   "source": [
    "### 14. Create a Python class called `Employee` with attributes `name` and `salary`. Then, create a child class `Manager` that inherits from `Employee` and adds an attribute `department`. Provide an example."
   ]
  },
  {
   "cell_type": "code",
   "execution_count": 79,
   "id": "e8cc2fd2",
   "metadata": {},
   "outputs": [
    {
     "name": "stdout",
     "output_type": "stream",
     "text": [
      "Employee : Rohan, Salary : 50000\n",
      "Manager : Ashutosh, Salary : 80000, Department : IT\n"
     ]
    }
   ],
   "source": [
    "class Employee:\n",
    "    \n",
    "    # Constructor \n",
    "    def __init__(self, name, salary):\n",
    "        self.name = name\n",
    "        self.salary = salary\n",
    "\n",
    "# Inherit class\n",
    "class Manager(Employee):\n",
    "    \n",
    "    # Constructor\n",
    "    def __init__(self,name,salary,department):\n",
    "        super().__init__(name,salary)\n",
    "        self.department = department\n",
    "        \n",
    "# Create a object \n",
    "employee = Employee('Rohan',50000)\n",
    "manager = Manager('Ashutosh',80000,'IT')\n",
    "\n",
    "print(f\"Employee : {employee.name}, Salary : {employee.salary}\")\n",
    "print(f\"Manager : {manager.name}, Salary : {manager.salary}, Department : {manager.department}\")"
   ]
  },
  {
   "cell_type": "markdown",
   "id": "24739799",
   "metadata": {},
   "source": [
    "### 15. Discuss the concept of method overloading in Python inheritance. How does it differ from method overriding?"
   ]
  },
  {
   "cell_type": "markdown",
   "id": "3a8b86fe",
   "metadata": {},
   "source": [
    "The concept of method overloading in Python differs slightly from languages like Java or C++. In Python, you can't have multiple methods with the same name but different parameter lists in the same class.\n",
    "\n",
    "However, you can achieve similar functionality by using default arguments or variable-length argument lists.\n",
    "\n",
    "Example:"
   ]
  },
  {
   "cell_type": "code",
   "execution_count": 84,
   "id": "50450590",
   "metadata": {},
   "outputs": [
    {
     "name": "stdout",
     "output_type": "stream",
     "text": [
      "7\n",
      "12\n"
     ]
    }
   ],
   "source": [
    "class Calculator:\n",
    "    \n",
    "    # Add method\n",
    "    def add(self, a,b,c = None):\n",
    "        if c is not None:\n",
    "            return a+b+c\n",
    "        else:\n",
    "            return a+b\n",
    "        \n",
    "# Object creation\n",
    "calculator = Calculator()\n",
    "\n",
    "# calling the add method\n",
    "result1 = calculator.add(3,4)\n",
    "result2 = calculator.add(3,4,5)\n",
    "\n",
    "# print result\n",
    "print(result1)\n",
    "print(result2)"
   ]
  },
  {
   "cell_type": "markdown",
   "id": "c11f0a16",
   "metadata": {},
   "source": [
    "### 16. Explain the purpose of the `__init__()` method in Python inheritance and how it is utilized in child classes."
   ]
  },
  {
   "cell_type": "markdown",
   "id": "2d9c1661",
   "metadata": {},
   "source": [
    "The `__init__()` method also known as a constructor in Python is a special method that is automatically called when a new object is created from a class. It is used to initialize the object's attributes or perform any necessary setup for the object.\n",
    "\n",
    "In the context of inheritance, when a subclass is created, it can have its own `__init__()` method. If the subclass defines an `__init__()` method, it will override the `__init__()` method of the parent class. However, it's often desirable to also initialize the attributes inherited from the parent class.\n",
    "\n",
    "`super()` allows you to call a method or access an attribute of the parent class. Specially, `super().__init__()` is used in the child class's `__init__()` method to call the constructor of the parent class, ensuring that any necessary setup defined in the parent class's `__init__()` method is executed."
   ]
  },
  {
   "cell_type": "code",
   "execution_count": 86,
   "id": "6c9c1d55",
   "metadata": {},
   "outputs": [
    {
     "name": "stdout",
     "output_type": "stream",
     "text": [
      "Name : Ashutosh , Age : 26\n"
     ]
    }
   ],
   "source": [
    "class Parent:\n",
    "    \n",
    "    # Constructor\n",
    "    def __init__(self,name):\n",
    "        self.name = name\n",
    "        \n",
    "class Child(Parent):\n",
    "    \n",
    "    # Constrtuctor\n",
    "    def __init__(self,name,age):\n",
    "        super().__init__(name)\n",
    "        self.age = age\n",
    "    \n",
    "# Create instance\n",
    "child = Child('Ashutosh',26)\n",
    "\n",
    "print(f\"Name : {child.name} , Age : {child.age}\")"
   ]
  },
  {
   "cell_type": "markdown",
   "id": "9bb6877a",
   "metadata": {},
   "source": [
    "### 17. Create a Python class called `Bird` with a method `fly()`. Then, create child classes `Eagle` and `Sparrow` that inherit from `Bird` and implement the `fly()` method differently. Provide an example of using these classes."
   ]
  },
  {
   "cell_type": "code",
   "execution_count": 1,
   "id": "794b7873",
   "metadata": {},
   "outputs": [
    {
     "name": "stdout",
     "output_type": "stream",
     "text": [
      "The bird is flying.\n",
      "The eagle soars high in the sky.\n",
      "The sparrow flits from branch to branch.\n"
     ]
    }
   ],
   "source": [
    "class Bird:\n",
    "    \n",
    "    # fly method\n",
    "    def fly(self):\n",
    "        print(\"The bird is flying.\")\n",
    "    \n",
    "class Eagle(Bird):\n",
    "    \n",
    "    # Fly method for Eagle\n",
    "    def fly(self):\n",
    "        print(\"The eagle soars high in the sky.\")\n",
    "    \n",
    "class Sparrow(Bird):\n",
    "    \n",
    "    # Fly method of Sparrow\n",
    "    def fly(self):\n",
    "        print('The sparrow flits from branch to branch.')\n",
    "    \n",
    "# Create instance for each class\n",
    "bird = Bird()\n",
    "eagle = Eagle()\n",
    "sparrow = Sparrow()\n",
    "\n",
    "# Calling fly method from every class\n",
    "bird.fly()\n",
    "eagle.fly()\n",
    "sparrow.fly()"
   ]
  },
  {
   "cell_type": "markdown",
   "id": "b0eae77c",
   "metadata": {},
   "source": [
    "### 18. What is the \"diamond problem\" in multiple inheritance, and how does Python address it?"
   ]
  },
  {
   "cell_type": "markdown",
   "id": "4ba5e8f0",
   "metadata": {},
   "source": [
    "The \"diamond problem\" is a challenge that arises in programming languages that supports multiple inheritance. It occurs when a particular class inherits from two or more classes that have a common ancestor. This creates ambiguity for the compiler or interpreter in determining which version of a method or attribute to use.\n",
    "\n",
    "Example : Consider scenario A-->B-->D and A-->C-->D. Here, classes B and C both inherit from class A and class D inherits from both B and C. If both B and C define a method or attribute with the same name, there's ambiguity in D about which version of the method or attribute to use.\n",
    "\n",
    "Example of Diamond Problem:"
   ]
  },
  {
   "cell_type": "code",
   "execution_count": 4,
   "id": "4bdeba42",
   "metadata": {},
   "outputs": [
    {
     "name": "stdout",
     "output_type": "stream",
     "text": [
      "Father called.\n"
     ]
    }
   ],
   "source": [
    "class Person:\n",
    "    \n",
    "    # display method\n",
    "    def display(self):\n",
    "        print(\"Person called.\")\n",
    "\n",
    "class Father(Person):\n",
    "    \n",
    "    # display method of Father class\n",
    "    def display(self):\n",
    "        print(\"Father called.\")\n",
    "\n",
    "class Mother(Person):\n",
    "    \n",
    "    # display method of Mother class\n",
    "    def display(self):\n",
    "        print('Mother called.')\n",
    "        \n",
    "class Child(Father, Mother):\n",
    "    pass\n",
    "\n",
    "# Create an instance of Child Class\n",
    "child = Child()\n",
    "\n",
    "# calling the display method through child object\n",
    "child.display()"
   ]
  },
  {
   "cell_type": "markdown",
   "id": "0585a66d",
   "metadata": {},
   "source": [
    "#### Python's solution to Diamond Problem:\n",
    "\n",
    "The ambiguity that we noticed in the diamond problem, is something that becomes irrelevant once we talk about the Method Resolution Order in Python. This method resolution order is essentially an order in which a particular method is searched for in the hierarchy of classes in the case of inheritance. Python uses a specific order to search for methods or attributes in a multiple inheritance scenario. This order ensures that there is no ambuigity in determining which method or attribute to use.\n",
    "\n",
    "Python Method Resolution order algorithm ensures that methods are inherited in a consistent and predictable manner, and it prevents the diamond problem from occurring. It uses a depth-first, left-to-right approach to determine the method resolution order."
   ]
  },
  {
   "cell_type": "code",
   "execution_count": 5,
   "id": "dc4b498e",
   "metadata": {},
   "outputs": [
    {
     "data": {
      "text/plain": [
       "(__main__.Child, __main__.Father, __main__.Mother, __main__.Person, object)"
      ]
     },
     "execution_count": 5,
     "metadata": {},
     "output_type": "execute_result"
    }
   ],
   "source": [
    "Child.__mro__"
   ]
  },
  {
   "cell_type": "markdown",
   "id": "721102a2",
   "metadata": {},
   "source": [
    "Now here, in this order, we can observe that the class 'Father' comes before the class 'Mother'. This means that if we call the display() method on the class child, the python interpreter will invoke the display method of class 'Father'."
   ]
  },
  {
   "cell_type": "markdown",
   "id": "6082e01d",
   "metadata": {},
   "source": [
    "### 19. Discuss the concept of \"is-a\" and \"has-a\" relationships in inheritance, and provide examples of each."
   ]
  },
  {
   "cell_type": "markdown",
   "id": "8b1824fc",
   "metadata": {},
   "source": [
    "In object-oriented programming, \"is-a\" and \"has-a\" relationships are two fundamental concepts that describes the relationships between classes.\n",
    "\n",
    "1. <b>Is-a Relationship(Inheritance)</b> : An \"is-a\" relationship is established through inheritance. It signifies that a subclass is a specialized version of its superclass, inheriting its attributes and behaviors. It implies that an object of the subclass can be used whereever an object of the superclass is expected.\n",
    "\n",
    "For example, if you have a class Animal and a subclass Dog, you can say that \"a dog is an animal.\""
   ]
  },
  {
   "cell_type": "code",
   "execution_count": 8,
   "id": "96c4c4bb",
   "metadata": {},
   "outputs": [
    {
     "name": "stdout",
     "output_type": "stream",
     "text": [
      "Breathing\n",
      "Barking\n"
     ]
    }
   ],
   "source": [
    "class Animal:\n",
    "    \n",
    "    # define breathe method\n",
    "    def breathe(self):\n",
    "        print(\"Breathing\")\n",
    "    \n",
    "class Dog(Animal):\n",
    "    \n",
    "    # define bark method\n",
    "    def bark(self):\n",
    "        print(\"Barking\")\n",
    "        \n",
    "# Create an instance of dog class\n",
    "dog = Dog()\n",
    "\n",
    "# Calling both methods\n",
    "dog.breathe()\n",
    "dog.bark()"
   ]
  },
  {
   "cell_type": "markdown",
   "id": "5f909f51",
   "metadata": {},
   "source": [
    "2. <b>Has-a Relationship(Composition)</b>: A \"has-a\" relationship is established through composition, where one class contains an instance of another class as a member or attribute. It signifies that one class \"has\" another class as a part of its implementation.\n",
    "\n",
    "For example, a Car \"has\" a engine."
   ]
  },
  {
   "cell_type": "code",
   "execution_count": 9,
   "id": "c776d66c",
   "metadata": {},
   "outputs": [
    {
     "name": "stdout",
     "output_type": "stream",
     "text": [
      "Engine starting.\n",
      "Car Driving\n"
     ]
    }
   ],
   "source": [
    "class Engine:\n",
    "    \n",
    "    # Start method\n",
    "    def start(self):\n",
    "        print('Engine starting.')\n",
    "        \n",
    "class Car:\n",
    "    \n",
    "    # Constructor\n",
    "    def __init__(self):\n",
    "        self.engine = Engine()\n",
    "    \n",
    "    # Drive method\n",
    "    def drive(self):\n",
    "        self.engine.start()\n",
    "        print('Car Driving')\n",
    "    \n",
    "# Create an instance\n",
    "car = Car()\n",
    "car.drive()"
   ]
  },
  {
   "cell_type": "markdown",
   "id": "1afda3e4",
   "metadata": {},
   "source": [
    "### 20. Create a Python class hierarchy for a university system. Start with a base class `Person` and create child classes `Student` and `Professor`, each with their own attributes and methods. Provide an example of using these classes in a university context."
   ]
  },
  {
   "cell_type": "code",
   "execution_count": 15,
   "id": "57b30ad0",
   "metadata": {},
   "outputs": [
    {
     "name": "stdout",
     "output_type": "stream",
     "text": [
      "Hi, I'm Ashutosh and I'm 1 years old.\n",
      "Ashutosh is studying Data Science.\n",
      "\n",
      "Hi, I'm Madhav and I'm 34 years old.\n",
      "Professor Madhav is teaching Machine Learning in the Computer Engineering department.\n"
     ]
    }
   ],
   "source": [
    "# Base class\n",
    "class Person:\n",
    "    \n",
    "    # Constructor\n",
    "    def __init__(self,name,age):\n",
    "        self.name = name\n",
    "        self.age = age\n",
    "        \n",
    "    # introduce method\n",
    "    def introduce(self):\n",
    "        print(f\"Hi, I'm {self.name} and I'm {self.age} years old.\")\n",
    "        \n",
    "# Create child class\n",
    "class Student(Person):\n",
    "    \n",
    "    # Constructor\n",
    "    def __init__(self,name,age,studentId):\n",
    "        super().__init__(name,age)\n",
    "        self.studentId = studentId\n",
    "    \n",
    "    # Study method\n",
    "    def study(self,subject):\n",
    "        print(f\"{self.name} is studying {subject}.\")\n",
    "\n",
    "# Create another child class\n",
    "class Professor(Person):\n",
    "    \n",
    "    # Constructor\n",
    "    def __init__(self,name,age,employeeId, department):\n",
    "        super().__init__(name,age)\n",
    "        self.employeeId = employeeId\n",
    "        self.department = department\n",
    "        \n",
    "    def teach(self,subject):\n",
    "        print(f\"Professor {self.name} is teaching {subject} in the {self.department} department.\")\n",
    "        \n",
    "    \n",
    "# Create an instance of Student and Professor class\n",
    "student1 = Student('Ashutosh',1,\"100\")\n",
    "proffessor1 = Professor('Madhav',34,\"CS12\",'Computer Engineering')\n",
    "\n",
    "# Calling the introduce, study and teach method\n",
    "student1.introduce()\n",
    "student1.study(\"Data Science\")\n",
    "\n",
    "print()\n",
    "\n",
    "proffessor1.introduce()\n",
    "proffessor1.teach(\"Machine Learning\")\n",
    "        "
   ]
  },
  {
   "cell_type": "markdown",
   "id": "43683e16",
   "metadata": {},
   "source": [
    "## Encapsulation:"
   ]
  },
  {
   "cell_type": "markdown",
   "id": "0ff517a6",
   "metadata": {},
   "source": [
    "### 1. Explain the concept of encapsulation in Python. What is its role in object-oriented programming?"
   ]
  },
  {
   "cell_type": "markdown",
   "id": "9cf808a7",
   "metadata": {},
   "source": [
    "Encapsulation refers to the bundling of data(attributes) and the methods (functions) that operates on that data within a single unit, often referred to as a \"class\". The role of encapsulation in object-oriented programming(OOP) is to bundle data(attributes) and the methods (functions) that operate on that data within a single unit.\n",
    "\n",
    "The key points of encapsulation are:\n",
    "\n",
    "- <b>Data Hiding</b>: Encapsulation allows the internal statue of an object to be hidden from the outside world. This means that the data inside an object can only be accessed and modified through methods defined in the class.\n",
    "\n",
    "\n",
    "- <b>Access Control</b>: Encapsulation provides control over who can access or modify the data. By defining specific methods(getter and setters), a class can restrict direct access to its attributes, enforcing controlled interactions.\n",
    "\n",
    "\n",
    "- <b>Modularity and Maintainability</b>: Encapsulation promotes modularity by grouping related data and behavior together. This makes it easier to understand, maintain and modify the code, as changes are localized within the class.\n",
    "\n",
    "\n",
    "- <b>Prevents Unintended Modifications </b>: Encapsulation helps prevent unintended modifications to an object's state by providing a controlled interface for interfacing with the object. This reduces the risk of errors caused by unexpected changes in the data.\n",
    "\n",
    "\n",
    "In Python, encapsulation is achieved by using access modifiers such as underscores(`_` and `__`) to control visibility of attributes and methods. These are conventions as Python does not have strict access control like some other languages.\n",
    "\n",
    "Single underscore _attribue : Indicates a \"protected\" attribute. It meant to be used as a non-public part of the API, but it can still be accessed outside the class.\n",
    "\n",
    "Double underscore __attribute: Indicates a \"private\" attribute. It's name-mangled to make it harder to create subclasses that accidentally override private methods and attributes."
   ]
  },
  {
   "cell_type": "markdown",
   "id": "19bb335f",
   "metadata": {},
   "source": [
    "### 2. Describe the key principles of encapsulation, including access control and data hiding."
   ]
  },
  {
   "cell_type": "markdown",
   "id": "f2ec7355",
   "metadata": {},
   "source": [
    "Encapsulation refers to the bundling of data(attributes) and the methods (functions) that operates on that data within a single unit, often referred to as a \"class\". \n",
    "\n",
    "The key principles of encapsulation are:\n",
    "\n",
    "- <b>Data Hiding</b>: Encapsulation allows the internal statue of an object to be hidden from the outside world. This means that the data inside an object can only be accessed and modified through methods defined in the class.\n",
    "\n",
    "\n",
    "- <b>Access Control</b>: Encapsulation provides control over who can access or modify the data. By defining specific methods(getter and setters), a class can restrict direct access to its attributes, enforcing controlled interactions.\n",
    "\n",
    "\n",
    "- <b>Modularity and Maintainability</b>: Encapsulation promotes modularity by grouping related data and behavior together. This makes it easier to understand, maintain and modify the code, as changes are localized within the class.\n",
    "\n",
    "\n",
    "- <b>Prevents Unintended Modifications </b>: Encapsulation helps prevent unintended modifications to an object's state by providing a controlled interface for interfacing with the object. This reduces the risk of errors caused by unexpected changes in the data.\n",
    "\n",
    "\n",
    "- <b>Enhanced Security</b>: Encapsulation contributes to the security of a program by preventing direct access to sensitive data. It ensures that data can only be modified or accessed through desginated methods, reducing the risk of unauthorized changes.\n",
    "\n",
    "\n",
    "- <b>Code Resuability</b>: Encapsulation allows classes to be used as building blocks for creating more complex systems. Once a class is defined, it can be reused in different parts of a program or in different programs altogether.\n",
    "\n",
    "<b>Access Control and Data Hiding</b> In Python, encapsulation is achieved by using access modifiers such as underscores(`_` and `__`) to control the visibility of attributes and methods. These are conventions, as Python does not have strict access control like some other languages. \n",
    "\n",
    "- <b>Single underscore _attribute</b>: Indicates a \"protected\" attribute. It meant to be used as a non-public part of the API, but it can still be accessed outside the class.\n",
    "\n",
    "- <b>Double underscore __attribute</b>: Indicates a \"private\" attribute. It's name-mangled to make it harder to create subclasses that accidentally override private methods and attributes."
   ]
  },
  {
   "cell_type": "markdown",
   "id": "8420f32a",
   "metadata": {},
   "source": [
    "### 3. How can you achieve encapsulation in Python classes? Provide an example."
   ]
  },
  {
   "cell_type": "markdown",
   "id": "ff9dbb41",
   "metadata": {},
   "source": [
    "<b>Encapsulation</b> in Python classes can be achieved by using access modifiers such as underscores(_ and __) to control the visibility of attributes and methods. While Python does not have strict access control like some other languages, theses convention are used to indicate the intended level of visibility.\n",
    "\n",
    "\n",
    "- <b>Single underscore _attribute</b>: Indicates a \"protected\" attribute. It meant to be used as a non-public part of the API, but it can still be accessed outside the class.\n",
    "\n",
    "- <b>Double underscore __attribute</b>: Indicates a \"private\" attribute. It's name-mangled to make it harder to create subclasses that accidentally override private methods and attributes.\n",
    "\n",
    "Example:"
   ]
  },
  {
   "cell_type": "code",
   "execution_count": 21,
   "id": "ba8f05d7",
   "metadata": {},
   "outputs": [
    {
     "name": "stdout",
     "output_type": "stream",
     "text": [
      "Account Number: 1234\n",
      "Balance : 9500\n"
     ]
    }
   ],
   "source": [
    "class BankAccount:\n",
    "    \n",
    "    # Constructor\n",
    "    def __init__(self,accountNumber):\n",
    "        self._accountNumber = accountNumber\n",
    "        self.__balance = 0\n",
    "        \n",
    "    # Deposit method\n",
    "    def deposit(self, amount):\n",
    "        self.__balance += amount\n",
    "        \n",
    "    # Withdraw method\n",
    "    def withdraw(self,amount):\n",
    "        if self.__balance >= amount:\n",
    "            self.__balance -=amount\n",
    "        else:\n",
    "            print('Insufficient funds.')\n",
    "    \n",
    "    # Get Balance\n",
    "    def get_balance(self):\n",
    "        return self.__balance\n",
    "    \n",
    "    # Get Account Number\n",
    "    def get_account_number(self):\n",
    "        return self._accountNumber\n",
    "    \n",
    "# Creating an account\n",
    "account = BankAccount(\"1234\")\n",
    "\n",
    "# Calling the deposit and withdraw method\n",
    "account.deposit(10000)\n",
    "account.withdraw(500)\n",
    "\n",
    "# Calling the getter method of account number and balance\n",
    "print(f\"Account Number: {account.get_account_number()}\")\n",
    "print(f\"Balance : {account.get_balance()}\")"
   ]
  },
  {
   "cell_type": "markdown",
   "id": "2072ee5e",
   "metadata": {},
   "source": [
    "### 4. Discuss the difference between public, private, and protected access modifiers in Python."
   ]
  },
  {
   "cell_type": "markdown",
   "id": "44c1edb3",
   "metadata": {},
   "source": [
    "In Python, access modifiers are conventions used to indicate the intended level of visibility for attributes and methods within a class. These access modifiers help in maintaining code integrity and readability.\n",
    "\n",
    "- <b>Public (public)</b>:\n",
    "    - Attributes or methods with no underscores(`_`) prefix are considered as public.\n",
    "    - They can be accessed from outside the class as well as from within the class itself and its subclasses.\n",
    "    - Example `def method(self):`\n",
    "    \n",
    "    \n",
    "- <b>Protected (protected)</b>:\n",
    "    - Attributes or methods with single underscores(`_`) prefix are considered as protected.\n",
    "    - They are intended for internal use within the class and its subclasses.\n",
    "    - While they can be accessed from outside the class, it's a convention to treat them as non-public.\n",
    "    - Example `def _method(self):`\n",
    "    \n",
    "    \n",
    "- <b>Private (private)</b>:\n",
    "    - Attributes or methods with double underscores(`__`) prefix are considered as private.\n",
    "    - They are intended for internal use within the class only and are name-mangled to make it harder to create subclasses that accidentally override private methods and attributes.\n",
    "    - They cannot be accessed from outside the class.\n",
    "    - Example `def __method(self):`\n",
    "\n",
    "\n",
    "Example code:"
   ]
  },
  {
   "cell_type": "code",
   "execution_count": 9,
   "id": "262bb4e3",
   "metadata": {},
   "outputs": [
    {
     "name": "stdout",
     "output_type": "stream",
     "text": [
      "1\n",
      "2\n",
      "\n",
      "Public Method\n",
      "Protected Method\n"
     ]
    }
   ],
   "source": [
    "class Example:\n",
    "    \n",
    "    # constructor\n",
    "    def __init__(self):\n",
    "        self.public_attribute = 1\n",
    "        self._protected_attribute = 2\n",
    "        self.__private_attribute = 3\n",
    "        \n",
    "    # public method\n",
    "    def public_method(self):\n",
    "        return \"Public Method\"\n",
    "    \n",
    "    # protected method\n",
    "    def _protected_method(self):\n",
    "        return \"Protected Method\"\n",
    "    \n",
    "    # private method\n",
    "    def __private_method(self):\n",
    "        return \"Private Method\"\n",
    "    \n",
    "# Create an object\n",
    "obj = Example()\n",
    "\n",
    "# Accessing attribute\n",
    "print(obj.public_attribute)\n",
    "print(obj._protected_attribute)\n",
    "# print(obj.__private_attribute) # Cannot access the private attribute it will throw error\n",
    "\n",
    "print() \n",
    "\n",
    "# Accessing methods\n",
    "print(obj.public_method())\n",
    "print(obj._protected_method())\n",
    "# print(obj.public_method()) # Cannot access the private method it will throw error"
   ]
  },
  {
   "cell_type": "markdown",
   "id": "23343436",
   "metadata": {},
   "source": [
    "### 5. Create a Python class called `Person` with a private attribute `__name`. Provide methods to get and set the name attribute."
   ]
  },
  {
   "cell_type": "code",
   "execution_count": 13,
   "id": "62776fb0",
   "metadata": {},
   "outputs": [
    {
     "name": "stdout",
     "output_type": "stream",
     "text": [
      "Ashutosh\n",
      "\n",
      "Ashutosh Sahu\n"
     ]
    }
   ],
   "source": [
    "class Person:\n",
    "    \n",
    "    # Constructor\n",
    "    def __init__(self,name):\n",
    "        self.__name = name\n",
    "        \n",
    "    # Get name \n",
    "    def get_name(self):\n",
    "        return self.__name\n",
    "    \n",
    "    # Set name\n",
    "    def set_name(self,new_name):\n",
    "        self.__name = new_name\n",
    "        \n",
    "# Create an object of Person\n",
    "person = Person('Ashutosh')\n",
    "\n",
    "# Access the get method\n",
    "print(person.get_name())\n",
    "\n",
    "print()\n",
    "\n",
    "# Change the name using set method\n",
    "person.set_name('Ashutosh Sahu')\n",
    "print(person.get_name())"
   ]
  },
  {
   "cell_type": "markdown",
   "id": "90ac283c",
   "metadata": {},
   "source": [
    "### 6. Explain the purpose of getter and setter methods in encapsulation. Provide examples."
   ]
  },
  {
   "cell_type": "markdown",
   "id": "0e1c3902",
   "metadata": {},
   "source": [
    "Getter and Setter mehods are part of encapsulation in object-oriented programming. They provide controlled access to the attributes of a class allowing you to modify and retrieve their values. This helps maintain data integrity and enables you to add additional logic or validation when getting or setting attributes.\n",
    "\n",
    "#### Getter Methods(also known as Accessor Methods):\n",
    "\n",
    "- Getter Methods are used to retrieve the values of the private attributes.\n",
    "- They provide controlled read-only access to the attribute value.\n",
    "- They can include additional logic or validation before returning the value.\n",
    "\n",
    "#### Setter Methods(also known as Mutator Methods):\n",
    "\n",
    "- Setter Methods are used to modify the values of private attributes.\n",
    "- They provide controlled write-only access to attribute value.\n",
    "- They can include validation or additional logic to ensure that the new value is acceptable.\n",
    "\n",
    "Example Code:\n"
   ]
  },
  {
   "cell_type": "code",
   "execution_count": 16,
   "id": "8d548bc1",
   "metadata": {},
   "outputs": [
    {
     "name": "stdout",
     "output_type": "stream",
     "text": [
      "15\n",
      "10\n",
      "\n",
      "Area of Rectangle :  12\n"
     ]
    }
   ],
   "source": [
    "class Rectangle:\n",
    "    \n",
    "    # Constructor\n",
    "    def __init__(self, width, height):\n",
    "        self.__width = width\n",
    "        self.__height = height\n",
    "    \n",
    "    # Getter Methods\n",
    "    def get_width(self):\n",
    "        return self.__width\n",
    "    \n",
    "    def get_height(self):\n",
    "        return self.__height\n",
    "    \n",
    "    # Setter Methods\n",
    "    def set_width(self, width):\n",
    "        if width > 0:\n",
    "            self.__width = width\n",
    "\n",
    "    def set_height(self, height):\n",
    "        if height > 0:\n",
    "            self.__height = height\n",
    "\n",
    "    # Area method\n",
    "    def area(self):\n",
    "        return self.__width * self.__height\n",
    "    \n",
    "# Create an object\n",
    "rectangle = Rectangle(15,10)\n",
    "\n",
    "# Call the getter method\n",
    "print(rectangle.get_width())\n",
    "print(rectangle.get_height())\n",
    "\n",
    "# Calling the setter method\n",
    "rectangle.set_width(3)\n",
    "rectangle.set_height(4)\n",
    "\n",
    "print()\n",
    "\n",
    "# Area method\n",
    "print(\"Area of Rectangle : \",rectangle.area())"
   ]
  },
  {
   "cell_type": "markdown",
   "id": "a95e1e62",
   "metadata": {},
   "source": [
    "### 7. What is name mangling in Python, and how does it affect encapsulation?"
   ]
  },
  {
   "cell_type": "markdown",
   "id": "2724288f",
   "metadata": {},
   "source": [
    "Name mangling is a technique used in python to make attributes in a class more difficult to access from outside the class. It involves adding a prefix or suffix to an attribute name to make it harder to accidentally override or access it.\n",
    "\n",
    "In Python, name mangling is achieved by adding two underscores(__) before an attribute name. When this is done, the Python interpreter actually changes the name of the variable in a way that makes it harder to create subclasses that accidentally override private methods and attributes.\n",
    "\n",
    "Name mangling affects encapsulation by making it harder to accidentally override or access private attributes. It adds an extra level of protection, but it's important to note that it's still possible to access these attributes if you really want to.\n"
   ]
  },
  {
   "cell_type": "markdown",
   "id": "e25e3eb5",
   "metadata": {},
   "source": [
    "### 8. Create a Python class called `BankAccount` with private attributes for the account balance (`__balance`) and account number (`__account_number`). Provide methods for depositing and withdrawing money."
   ]
  },
  {
   "cell_type": "code",
   "execution_count": 24,
   "id": "a6e195f1",
   "metadata": {},
   "outputs": [
    {
     "name": "stdout",
     "output_type": "stream",
     "text": [
      "Account Number: 1234\n",
      "Balance : 0\n",
      "Updated Balance after deposit : 10000\n",
      "Updated Balance afte withdraw : 9500\n"
     ]
    }
   ],
   "source": [
    "class BankAccount:\n",
    "    \n",
    "    # Constructor\n",
    "    def __init__(self,accountNumber, initial_balance = 0):\n",
    "        self.__accountNumber = accountNumber\n",
    "        self.__balance = initial_balance\n",
    "        \n",
    "    # Deposit method\n",
    "    def deposit(self, amount):\n",
    "        if amount > 0:\n",
    "            self.__balance += amount\n",
    "        else:\n",
    "            print('Invalid Deposit Amount.')\n",
    "            \n",
    "    # Withdraw method\n",
    "    def withdraw(self,amount):\n",
    "        if 0< amount <= self.__balance:\n",
    "            self.__balance -=amount\n",
    "        else:\n",
    "            print('Insufficient funds.')\n",
    "    \n",
    "    # Get Balance\n",
    "    def get_balance(self):\n",
    "        return self.__balance\n",
    "    \n",
    "    # Get Account Number\n",
    "    def get_account_number(self):\n",
    "        return self.__accountNumber\n",
    "    \n",
    "# Creating an account\n",
    "account = BankAccount(\"1234\")\n",
    "\n",
    "# Calling the getter method of account number and balance\n",
    "print(f\"Account Number: {account.get_account_number()}\")\n",
    "print(f\"Balance : {account.get_balance()}\")\n",
    "\n",
    "# Calling the deposit method\n",
    "account.deposit(10000)\n",
    "print(\"Updated Balance after deposit :\",account.get_balance())\n",
    "\n",
    "# Calling the withdraw method\n",
    "account.withdraw(500)\n",
    "print(\"Updated Balance afte withdraw :\",account.get_balance())"
   ]
  },
  {
   "cell_type": "markdown",
   "id": "c053023a",
   "metadata": {},
   "source": [
    "### 9. Discuss the advantages of encapsulation in terms of code maintainability and security."
   ]
  },
  {
   "cell_type": "markdown",
   "id": "39b9b3dc",
   "metadata": {},
   "source": [
    "Encapsulation is a fundamental concept in object-oriented programming that offers several advantages in terms of code maintainability and security:\n",
    "\n",
    "1. <b>Code Maintainability</b>:\n",
    "\n",
    "- <b>Modularization</b>: Encapuslation allows you to modularize your code by defining a clear interface for interactions with objects. This makes it easier to understand, modify and extend your code.\n",
    "\n",
    "\n",
    "- <b>Reduced Complexity</b>: By hiding the internal implementation details of a class, encapsulation simplifies the interface and shileds the rest of the code from the complexist of the class's internals.\n",
    "\n",
    "\n",
    "- <b>Improved Readability</b>: Encapsulation promotes a clean separation between the public interface and private implementation, making the code more readable and comphrensible.\n",
    "\n",
    "\n",
    "2. <b>Security</b>:\n",
    "\n",
    "\n",
    "- <b>Controlled Access</b>: Encapuslation restricts access to certain attributes and methods by making them private or protected. This prevents unintended or unauthorized modifications, reducing the risk of bugs and security vulnerabilities.\n",
    "\n",
    "\n",
    "- <b>Data Validation</b>: Encapuslation allows you to add validation logic within setter methods, ensuring that only valid data is stored in object attributes. This is especially important for maintaining data integrity and security.\n",
    "\n",
    "\n",
    "- <b>Prevention of Unauthorized Modifications</b>: By hiding the internal state of an object and allowing controlled access, encapsulation helps prevent unintended or unauthorized modifications to an object's attributes."
   ]
  },
  {
   "cell_type": "markdown",
   "id": "465a83a8",
   "metadata": {},
   "source": [
    "### 10. How can you access private attributes in Python? Provide an example demonstrating the use of name mangling."
   ]
  },
  {
   "cell_type": "code",
   "execution_count": null,
   "id": "61313835",
   "metadata": {},
   "outputs": [],
   "source": []
  },
  {
   "cell_type": "markdown",
   "id": "2e084fb7",
   "metadata": {},
   "source": [
    "### 11. Create a Python class hierarchy for a school system, including classes for students, teachers, and courses, and implement encapsulation principles to protect sensitive information."
   ]
  },
  {
   "cell_type": "code",
   "execution_count": null,
   "id": "b91fa929",
   "metadata": {},
   "outputs": [],
   "source": []
  },
  {
   "cell_type": "markdown",
   "id": "e8887a7d",
   "metadata": {},
   "source": [
    "### 12. Explain the concept of property decorators in Python and how they relate to encapsulation."
   ]
  },
  {
   "cell_type": "code",
   "execution_count": null,
   "id": "5c732859",
   "metadata": {},
   "outputs": [],
   "source": []
  },
  {
   "cell_type": "markdown",
   "id": "d335f7b9",
   "metadata": {},
   "source": [
    "### 13. What is data hiding, and why is it important in encapsulation? Provide examples."
   ]
  },
  {
   "cell_type": "code",
   "execution_count": null,
   "id": "1efd0122",
   "metadata": {},
   "outputs": [],
   "source": []
  },
  {
   "cell_type": "markdown",
   "id": "8609acb6",
   "metadata": {},
   "source": [
    "### 14. Create a Python class called `Employee` with private attributes for salary (`__salary`) and employee ID (`__employee_id`). Provide a method to calculate yearly bonuses."
   ]
  },
  {
   "cell_type": "code",
   "execution_count": null,
   "id": "c81dab25",
   "metadata": {},
   "outputs": [],
   "source": []
  },
  {
   "cell_type": "markdown",
   "id": "aebf457c",
   "metadata": {},
   "source": [
    "### 15. Discuss the use of accessors and mutators in encapsulation. How do they help maintain control over attribute access?"
   ]
  },
  {
   "cell_type": "code",
   "execution_count": null,
   "id": "1dbfa1ac",
   "metadata": {},
   "outputs": [],
   "source": []
  },
  {
   "cell_type": "markdown",
   "id": "e44b4db2",
   "metadata": {},
   "source": [
    "### 16. What are the potential drawbacks or disadvantages of using encapsulation in Python?"
   ]
  },
  {
   "cell_type": "code",
   "execution_count": null,
   "id": "e685afd8",
   "metadata": {},
   "outputs": [],
   "source": []
  },
  {
   "cell_type": "markdown",
   "id": "06324f73",
   "metadata": {},
   "source": [
    "### 17. Create a Python class for a library system that encapsulates book information, including titles, authors, and availability status."
   ]
  },
  {
   "cell_type": "code",
   "execution_count": null,
   "id": "47895e9f",
   "metadata": {},
   "outputs": [],
   "source": []
  },
  {
   "cell_type": "markdown",
   "id": "9c7b2760",
   "metadata": {},
   "source": [
    "### 18. Explain how encapsulation enhances code reusability and modularity in Python programs."
   ]
  },
  {
   "cell_type": "code",
   "execution_count": null,
   "id": "362fce98",
   "metadata": {},
   "outputs": [],
   "source": []
  },
  {
   "cell_type": "markdown",
   "id": "08ef1e4b",
   "metadata": {},
   "source": [
    "### 19. Describe the concept of information hiding in encapsulation. Why is it essential in software development?"
   ]
  },
  {
   "cell_type": "code",
   "execution_count": null,
   "id": "0fbaa523",
   "metadata": {},
   "outputs": [],
   "source": []
  },
  {
   "cell_type": "markdown",
   "id": "736993e9",
   "metadata": {},
   "source": [
    "### 20. Create a Python class called `Customer` with private attributes for customer details like name, address,and contact information. Implement encapsulation to ensure data integrity and security."
   ]
  },
  {
   "cell_type": "code",
   "execution_count": null,
   "id": "e6de5521",
   "metadata": {},
   "outputs": [],
   "source": []
  },
  {
   "cell_type": "markdown",
   "id": "87240d79",
   "metadata": {},
   "source": [
    "## Polymorphism:"
   ]
  },
  {
   "cell_type": "markdown",
   "id": "a4752527",
   "metadata": {},
   "source": [
    "### 1. What is polymorphism in Python? Explain how it is related to object-oriented programming."
   ]
  },
  {
   "cell_type": "code",
   "execution_count": null,
   "id": "2fdbbc3b",
   "metadata": {},
   "outputs": [],
   "source": []
  },
  {
   "cell_type": "markdown",
   "id": "501750c8",
   "metadata": {},
   "source": [
    "### 2. Describe the difference between compile-time polymorphism and runtime polymorphism in Python."
   ]
  },
  {
   "cell_type": "code",
   "execution_count": null,
   "id": "58e4c079",
   "metadata": {},
   "outputs": [],
   "source": []
  },
  {
   "cell_type": "markdown",
   "id": "9f442a90",
   "metadata": {},
   "source": [
    "### 3. Create a Python class hierarchy for shapes (e.g., circle, square, triangle) and demonstrate polymorphism through a common method, such as `calculate_area()`."
   ]
  },
  {
   "cell_type": "code",
   "execution_count": null,
   "id": "a995ef79",
   "metadata": {},
   "outputs": [],
   "source": []
  },
  {
   "cell_type": "markdown",
   "id": "f3c78905",
   "metadata": {},
   "source": [
    "### 4. Explain the concept of method overriding in polymorphism. Provide an example."
   ]
  },
  {
   "cell_type": "code",
   "execution_count": null,
   "id": "f26d9220",
   "metadata": {},
   "outputs": [],
   "source": []
  },
  {
   "cell_type": "markdown",
   "id": "d1ae43a2",
   "metadata": {},
   "source": [
    "### 5. How is polymorphism different from method overloading in Python? Provide examples for both."
   ]
  },
  {
   "cell_type": "code",
   "execution_count": null,
   "id": "ffbb1b2d",
   "metadata": {},
   "outputs": [],
   "source": []
  },
  {
   "cell_type": "markdown",
   "id": "671dbdb0",
   "metadata": {},
   "source": [
    "### 6. Create a Python class called `Animal` with a method `speak()`. Then, create child classes like `Dog`, `Cat`, and `Bird`, each with their own `speak()` method. Demonstrate polymorphism by calling the `speak()` method on objects of different subclasses."
   ]
  },
  {
   "cell_type": "code",
   "execution_count": null,
   "id": "1a61a949",
   "metadata": {},
   "outputs": [],
   "source": []
  },
  {
   "cell_type": "markdown",
   "id": "e660f97a",
   "metadata": {},
   "source": [
    "### 7. Discuss the use of abstract methods and classes in achieving polymorphism in Python. Provide an example using the `abc` module."
   ]
  },
  {
   "cell_type": "code",
   "execution_count": null,
   "id": "d62bb96c",
   "metadata": {},
   "outputs": [],
   "source": []
  },
  {
   "cell_type": "markdown",
   "id": "03a13529",
   "metadata": {},
   "source": [
    "### 8. Create a Python class hierarchy for a vehicle system (e.g., car, bicycle, boat) and implement a polymorphic `start()` method that prints a message specific to each vehicle type."
   ]
  },
  {
   "cell_type": "code",
   "execution_count": null,
   "id": "b5b51693",
   "metadata": {},
   "outputs": [],
   "source": []
  },
  {
   "cell_type": "markdown",
   "id": "85736877",
   "metadata": {},
   "source": [
    "### 9. Explain the significance of the `isinstance()` and `issubclass()` functions in Python polymorphism."
   ]
  },
  {
   "cell_type": "code",
   "execution_count": null,
   "id": "a5d6fea0",
   "metadata": {},
   "outputs": [],
   "source": []
  },
  {
   "cell_type": "markdown",
   "id": "757ce308",
   "metadata": {},
   "source": [
    "### 10. What is the role of the `@abstractmethod` decorator in achieving polymorphism in Python? Provide an example."
   ]
  },
  {
   "cell_type": "code",
   "execution_count": null,
   "id": "d96091d1",
   "metadata": {},
   "outputs": [],
   "source": []
  },
  {
   "cell_type": "markdown",
   "id": "18399b07",
   "metadata": {},
   "source": [
    "### 11. Create a Python class called `Shape` with a polymorphic method `area()` that calculates the area of different shapes (e.g., circle, rectangle, triangle)."
   ]
  },
  {
   "cell_type": "code",
   "execution_count": null,
   "id": "635b2ee4",
   "metadata": {},
   "outputs": [],
   "source": []
  },
  {
   "cell_type": "markdown",
   "id": "b60ea2ef",
   "metadata": {},
   "source": [
    "### 12. Discuss the benefits of polymorphism in terms of code reusability and flexibility in Python programs."
   ]
  },
  {
   "cell_type": "code",
   "execution_count": null,
   "id": "97cb3504",
   "metadata": {},
   "outputs": [],
   "source": []
  },
  {
   "cell_type": "markdown",
   "id": "e9fa786f",
   "metadata": {},
   "source": [
    "### 13. Explain the use of the `super()` function in Python polymorphism. How does it help call methods of parent classes?"
   ]
  },
  {
   "cell_type": "code",
   "execution_count": null,
   "id": "7910e825",
   "metadata": {},
   "outputs": [],
   "source": []
  },
  {
   "cell_type": "markdown",
   "id": "cc3f5c5c",
   "metadata": {},
   "source": [
    "### 14. Create a Python class hierarchy for a banking system with various account types (e.g., savings, checking, credit card) and demonstrate polymorphism by implementing a common `withdraw()` method.\n"
   ]
  },
  {
   "cell_type": "code",
   "execution_count": null,
   "id": "f3eb081e",
   "metadata": {},
   "outputs": [],
   "source": []
  },
  {
   "cell_type": "markdown",
   "id": "3a01297d",
   "metadata": {},
   "source": [
    "### 15. Describe the concept of operator overloading in Python and how it relates to polymorphism. Provide examples using operators like `+` and `*`."
   ]
  },
  {
   "cell_type": "code",
   "execution_count": null,
   "id": "378a87f9",
   "metadata": {},
   "outputs": [],
   "source": []
  },
  {
   "cell_type": "markdown",
   "id": "71f8d2fe",
   "metadata": {},
   "source": [
    "### 16. What is dynamic polymorphism, and how is it achieved in Python?"
   ]
  },
  {
   "cell_type": "code",
   "execution_count": null,
   "id": "76adbec1",
   "metadata": {},
   "outputs": [],
   "source": []
  },
  {
   "cell_type": "markdown",
   "id": "18b87cc2",
   "metadata": {},
   "source": [
    "### 17. Create a Python class hierarchy for employees in a company (e.g., manager, developer, designer) and implement polymorphism through a common `calculate_salary()` method."
   ]
  },
  {
   "cell_type": "code",
   "execution_count": null,
   "id": "e2d5293d",
   "metadata": {},
   "outputs": [],
   "source": []
  },
  {
   "cell_type": "markdown",
   "id": "b43ee78f",
   "metadata": {},
   "source": [
    "### 18. Discuss the concept of function pointers and how they can be used to achieve polymorphism in Python."
   ]
  },
  {
   "cell_type": "code",
   "execution_count": null,
   "id": "0f7ee157",
   "metadata": {},
   "outputs": [],
   "source": []
  },
  {
   "cell_type": "markdown",
   "id": "28fa783b",
   "metadata": {},
   "source": [
    "### 19. Explain the role of interfaces and abstract classes in polymorphism, drawing comparisons between them."
   ]
  },
  {
   "cell_type": "code",
   "execution_count": null,
   "id": "2b29f841",
   "metadata": {},
   "outputs": [],
   "source": []
  },
  {
   "cell_type": "markdown",
   "id": "89882037",
   "metadata": {},
   "source": [
    "### 20. Create a Python class for a zoo simulation, demonstrating polymorphism with different animal types (e.g., eating, sleeping , making sounds)"
   ]
  },
  {
   "cell_type": "code",
   "execution_count": null,
   "id": "ff61e071",
   "metadata": {},
   "outputs": [],
   "source": []
  },
  {
   "cell_type": "markdown",
   "id": "a3fc8af3",
   "metadata": {},
   "source": [
    "## Abstraction:"
   ]
  },
  {
   "cell_type": "markdown",
   "id": "ed85ab08",
   "metadata": {},
   "source": [
    "### 1. What is abstraction in Python, and how does it relate to object-oriented programming?"
   ]
  },
  {
   "cell_type": "code",
   "execution_count": null,
   "id": "0fd83f8e",
   "metadata": {},
   "outputs": [],
   "source": []
  },
  {
   "cell_type": "markdown",
   "id": "4fe22e37",
   "metadata": {},
   "source": [
    "### 2. Describe the benefits of abstraction in terms of code organization and complexity reduction."
   ]
  },
  {
   "cell_type": "code",
   "execution_count": null,
   "id": "95fbea32",
   "metadata": {},
   "outputs": [],
   "source": []
  },
  {
   "cell_type": "markdown",
   "id": "c753abc8",
   "metadata": {},
   "source": [
    "### 3. Create a Python class called `Shape` with an abstract method `calculate_area()`. Then, create child classes (e.g., `Circle`, `Rectangle`) that implement the `calculate_area()` method. Provide an example of using these classes."
   ]
  },
  {
   "cell_type": "code",
   "execution_count": null,
   "id": "2905b97b",
   "metadata": {},
   "outputs": [],
   "source": []
  },
  {
   "cell_type": "markdown",
   "id": "b9f0c0ce",
   "metadata": {},
   "source": [
    "### 4. Explain the concept of abstract classes in Python and how they are defined using the `abc` module. Provide an example."
   ]
  },
  {
   "cell_type": "code",
   "execution_count": null,
   "id": "cd672fd4",
   "metadata": {},
   "outputs": [],
   "source": []
  },
  {
   "cell_type": "markdown",
   "id": "ef7027c2",
   "metadata": {},
   "source": [
    "### 5. How do abstract classes differ from regular classes in Python? Discuss their use cases."
   ]
  },
  {
   "cell_type": "code",
   "execution_count": null,
   "id": "c0eea384",
   "metadata": {},
   "outputs": [],
   "source": []
  },
  {
   "cell_type": "markdown",
   "id": "e3f4f806",
   "metadata": {},
   "source": [
    "### 6. Create a Python class for a bank account and demonstrate abstraction by hiding the account balance and providing methods to deposit and withdraw funds."
   ]
  },
  {
   "cell_type": "code",
   "execution_count": null,
   "id": "63722226",
   "metadata": {},
   "outputs": [],
   "source": []
  },
  {
   "cell_type": "markdown",
   "id": "5588a8ee",
   "metadata": {},
   "source": [
    "### 7. Discuss the concept of interface classes in Python and their role in achieving abstraction."
   ]
  },
  {
   "cell_type": "code",
   "execution_count": null,
   "id": "82fc53fd",
   "metadata": {},
   "outputs": [],
   "source": []
  },
  {
   "cell_type": "markdown",
   "id": "b8f87af5",
   "metadata": {},
   "source": [
    "### 8. Create a Python class hierarchy for animals and implement abstraction by defining common methods (e.g., `eat()`, `sleep()`) in an abstract base class."
   ]
  },
  {
   "cell_type": "code",
   "execution_count": null,
   "id": "e31d7dd3",
   "metadata": {},
   "outputs": [],
   "source": []
  },
  {
   "cell_type": "markdown",
   "id": "dd48a101",
   "metadata": {},
   "source": [
    "### 9. Explain the significance of encapsulation in achieving abstraction. Provide examples."
   ]
  },
  {
   "cell_type": "code",
   "execution_count": null,
   "id": "08b80252",
   "metadata": {},
   "outputs": [],
   "source": []
  },
  {
   "cell_type": "markdown",
   "id": "383f8cab",
   "metadata": {},
   "source": [
    "### 10. What is the purpose of abstract methods, and how do they enforce abstraction in Python classes?"
   ]
  },
  {
   "cell_type": "code",
   "execution_count": null,
   "id": "1b7091a8",
   "metadata": {},
   "outputs": [],
   "source": []
  },
  {
   "cell_type": "markdown",
   "id": "9ad0bed1",
   "metadata": {},
   "source": [
    "### 11. Create a Python class for a vehicle system and demonstrate abstraction by defining common methods (e.g., `start()`, `stop()`) in an abstract base class."
   ]
  },
  {
   "cell_type": "code",
   "execution_count": null,
   "id": "6107be2a",
   "metadata": {},
   "outputs": [],
   "source": []
  },
  {
   "cell_type": "markdown",
   "id": "d96636e3",
   "metadata": {},
   "source": [
    "### 12. Describe the use of abstract properties in Python and how they can be employed in abstract classes."
   ]
  },
  {
   "cell_type": "code",
   "execution_count": null,
   "id": "fe9e07e1",
   "metadata": {},
   "outputs": [],
   "source": []
  },
  {
   "cell_type": "markdown",
   "id": "538ef58a",
   "metadata": {},
   "source": [
    "### 13. Create a Python class hierarchy for employees in a company (e.g., manager, developer, designer) and implement abstraction by defining a common `get_salary()` method."
   ]
  },
  {
   "cell_type": "code",
   "execution_count": null,
   "id": "6cd7bce4",
   "metadata": {},
   "outputs": [],
   "source": []
  },
  {
   "cell_type": "markdown",
   "id": "3614bbd2",
   "metadata": {},
   "source": [
    "### 14. Discuss the differences between abstract classes and concrete classes in Python, including their instantiation."
   ]
  },
  {
   "cell_type": "code",
   "execution_count": null,
   "id": "12b07d1a",
   "metadata": {},
   "outputs": [],
   "source": []
  },
  {
   "cell_type": "markdown",
   "id": "97b1d49b",
   "metadata": {},
   "source": [
    "### 15. Explain the concept of abstract data types (ADTs) and their role in achieving abstraction in Python."
   ]
  },
  {
   "cell_type": "code",
   "execution_count": null,
   "id": "ec2bc019",
   "metadata": {},
   "outputs": [],
   "source": []
  },
  {
   "cell_type": "markdown",
   "id": "ef763848",
   "metadata": {},
   "source": [
    "### 16. Create a Python class for a computer system, demonstrating abstraction by defining common methods (e.g., `power_on()`, `shutdown()`) in an abstract base class."
   ]
  },
  {
   "cell_type": "code",
   "execution_count": null,
   "id": "15e73688",
   "metadata": {},
   "outputs": [],
   "source": []
  },
  {
   "cell_type": "markdown",
   "id": "ac909f64",
   "metadata": {},
   "source": [
    "### 17. Discuss the benefits of using abstraction in large-scale software development projects."
   ]
  },
  {
   "cell_type": "code",
   "execution_count": null,
   "id": "2aa13a13",
   "metadata": {},
   "outputs": [],
   "source": []
  },
  {
   "cell_type": "markdown",
   "id": "57d9bf57",
   "metadata": {},
   "source": [
    "### 18. Explain how abstraction enhances code reusability and modularity in Python programs."
   ]
  },
  {
   "cell_type": "code",
   "execution_count": null,
   "id": "b72edc43",
   "metadata": {},
   "outputs": [],
   "source": []
  },
  {
   "cell_type": "markdown",
   "id": "268a90b5",
   "metadata": {},
   "source": [
    "### 19. Create a Python class for a library system, implementing abstraction by defining common methods (e.g., `add_book()`, `borrow_book()`) in an abstract base class."
   ]
  },
  {
   "cell_type": "code",
   "execution_count": null,
   "id": "0bbf0681",
   "metadata": {},
   "outputs": [],
   "source": []
  },
  {
   "cell_type": "markdown",
   "id": "edb220e5",
   "metadata": {},
   "source": [
    "### 20. Describe the concept of method abstraction in Python and how it relates to polymorphism."
   ]
  },
  {
   "cell_type": "code",
   "execution_count": null,
   "id": "efe34186",
   "metadata": {},
   "outputs": [],
   "source": []
  },
  {
   "cell_type": "markdown",
   "id": "72a6d6a0",
   "metadata": {},
   "source": [
    "## Composition:"
   ]
  },
  {
   "cell_type": "markdown",
   "id": "68588a13",
   "metadata": {},
   "source": [
    "### 1. Explain the concept of composition in Python and how it is used to build complex objects from simpler ones."
   ]
  },
  {
   "cell_type": "code",
   "execution_count": null,
   "id": "3b123cc9",
   "metadata": {},
   "outputs": [],
   "source": []
  },
  {
   "cell_type": "markdown",
   "id": "bf1c8bd6",
   "metadata": {},
   "source": [
    "### 2. Describe the difference between composition and inheritance in object-oriented programming."
   ]
  },
  {
   "cell_type": "code",
   "execution_count": null,
   "id": "84be8531",
   "metadata": {},
   "outputs": [],
   "source": []
  },
  {
   "cell_type": "markdown",
   "id": "6ab9e3be",
   "metadata": {},
   "source": [
    "### 3. Create a Python class called `Author` with attributes for name and birthdate. Then, create a `Book` class that contains an instance of `Author` as a composition. Provide an example of creating a `Book` object."
   ]
  },
  {
   "cell_type": "code",
   "execution_count": null,
   "id": "883b0756",
   "metadata": {},
   "outputs": [],
   "source": []
  },
  {
   "cell_type": "markdown",
   "id": "e280675a",
   "metadata": {},
   "source": [
    "### 4. Discuss the benefits of using composition over inheritance in Python, especially in terms of code flexibility and reusability."
   ]
  },
  {
   "cell_type": "code",
   "execution_count": null,
   "id": "863663d5",
   "metadata": {},
   "outputs": [],
   "source": []
  },
  {
   "cell_type": "markdown",
   "id": "c5469c6a",
   "metadata": {},
   "source": [
    "### 5. How can you implement composition in Python classes? Provide examples of using composition to create complex objects."
   ]
  },
  {
   "cell_type": "code",
   "execution_count": null,
   "id": "bc5bc1f1",
   "metadata": {},
   "outputs": [],
   "source": []
  },
  {
   "cell_type": "markdown",
   "id": "cb3169ce",
   "metadata": {},
   "source": [
    "### 6. Create a Python class hierarchy for a music player system, using composition to represent playlists and songs."
   ]
  },
  {
   "cell_type": "code",
   "execution_count": null,
   "id": "9d59f1bb",
   "metadata": {},
   "outputs": [],
   "source": []
  },
  {
   "cell_type": "markdown",
   "id": "5f127f68",
   "metadata": {},
   "source": [
    "### 7. Explain the concept of \"has-a\" relationships in composition and how it helps design software systems."
   ]
  },
  {
   "cell_type": "code",
   "execution_count": null,
   "id": "53d81529",
   "metadata": {},
   "outputs": [],
   "source": []
  },
  {
   "cell_type": "markdown",
   "id": "79f0f397",
   "metadata": {},
   "source": [
    "### 8. Create a Python class for a computer system, using composition to represent components like CPU, RAM, and storage devices."
   ]
  },
  {
   "cell_type": "code",
   "execution_count": null,
   "id": "52244e30",
   "metadata": {},
   "outputs": [],
   "source": []
  },
  {
   "cell_type": "markdown",
   "id": "0779482f",
   "metadata": {},
   "source": [
    "### 9. Describe the concept of \"delegation\" in composition and how it simplifies the design of complex systems."
   ]
  },
  {
   "cell_type": "code",
   "execution_count": null,
   "id": "fd606759",
   "metadata": {},
   "outputs": [],
   "source": []
  },
  {
   "cell_type": "markdown",
   "id": "1fe1f3d7",
   "metadata": {},
   "source": [
    "### 10. Create a Python class for a car, using composition to represent components like the engine, wheels, and transmission."
   ]
  },
  {
   "cell_type": "code",
   "execution_count": null,
   "id": "3ccd65d7",
   "metadata": {},
   "outputs": [],
   "source": []
  },
  {
   "cell_type": "markdown",
   "id": "37f85554",
   "metadata": {},
   "source": [
    "### 11. How can you encapsulate and hide the details of composed objects in Python classes to maintain abstraction?"
   ]
  },
  {
   "cell_type": "code",
   "execution_count": null,
   "id": "acf29307",
   "metadata": {},
   "outputs": [],
   "source": []
  },
  {
   "cell_type": "markdown",
   "id": "88e3a88c",
   "metadata": {},
   "source": [
    "### 12. Create a Python class for a university course, using composition to represent students, instructors, and course materials."
   ]
  },
  {
   "cell_type": "code",
   "execution_count": null,
   "id": "df951518",
   "metadata": {},
   "outputs": [],
   "source": []
  },
  {
   "cell_type": "markdown",
   "id": "49916d22",
   "metadata": {},
   "source": [
    "### 13. Discuss the challenges and drawbacks of composition, such as increased complexity and potential for tight coupling between objects."
   ]
  },
  {
   "cell_type": "code",
   "execution_count": null,
   "id": "a4faba32",
   "metadata": {},
   "outputs": [],
   "source": []
  },
  {
   "cell_type": "markdown",
   "id": "dd67c67d",
   "metadata": {},
   "source": [
    "### 14. Create a Python class hierarchy for a restaurant system, using composition to represent menus, dishes, and ingredients."
   ]
  },
  {
   "cell_type": "code",
   "execution_count": null,
   "id": "d2116318",
   "metadata": {},
   "outputs": [],
   "source": []
  },
  {
   "cell_type": "markdown",
   "id": "4967e65e",
   "metadata": {},
   "source": [
    "### 15. Explain how composition enhances code maintainability and modularity in Python programs."
   ]
  },
  {
   "cell_type": "code",
   "execution_count": null,
   "id": "e1ba770c",
   "metadata": {},
   "outputs": [],
   "source": []
  },
  {
   "cell_type": "markdown",
   "id": "5214da6a",
   "metadata": {},
   "source": [
    "### 16. Create a Python class for a computer game character, using composition to represent attributes like weapons, armor, and inventory."
   ]
  },
  {
   "cell_type": "code",
   "execution_count": null,
   "id": "8fd8aaaa",
   "metadata": {},
   "outputs": [],
   "source": []
  },
  {
   "cell_type": "markdown",
   "id": "c36fe28b",
   "metadata": {},
   "source": [
    "### 17. Describe the concept of \"aggregation\" in composition and how it differs from simple composition."
   ]
  },
  {
   "cell_type": "code",
   "execution_count": null,
   "id": "5918cb10",
   "metadata": {},
   "outputs": [],
   "source": []
  },
  {
   "cell_type": "markdown",
   "id": "972c4928",
   "metadata": {},
   "source": [
    "### 18. Create a Python class for a house, using composition to represent rooms, furniture, and appliances."
   ]
  },
  {
   "cell_type": "code",
   "execution_count": null,
   "id": "2a5deb9c",
   "metadata": {},
   "outputs": [],
   "source": []
  },
  {
   "cell_type": "markdown",
   "id": "21505fce",
   "metadata": {},
   "source": [
    "### 19. How can you achieve flexibility in composed objects by allowing them to be replaced or modified dynamically at runtime?"
   ]
  },
  {
   "cell_type": "code",
   "execution_count": null,
   "id": "e01fd1c8",
   "metadata": {},
   "outputs": [],
   "source": []
  },
  {
   "cell_type": "markdown",
   "id": "3520b2bf",
   "metadata": {},
   "source": [
    "### 20. Create a Python class for a social media application, using composition to represent users, posts, and comments."
   ]
  },
  {
   "cell_type": "code",
   "execution_count": null,
   "id": "de969354",
   "metadata": {},
   "outputs": [],
   "source": []
  }
 ],
 "metadata": {
  "kernelspec": {
   "display_name": "Python 3 (ipykernel)",
   "language": "python",
   "name": "python3"
  },
  "language_info": {
   "codemirror_mode": {
    "name": "ipython",
    "version": 3
   },
   "file_extension": ".py",
   "mimetype": "text/x-python",
   "name": "python",
   "nbconvert_exporter": "python",
   "pygments_lexer": "ipython3",
   "version": "3.9.7"
  }
 },
 "nbformat": 4,
 "nbformat_minor": 5
}
