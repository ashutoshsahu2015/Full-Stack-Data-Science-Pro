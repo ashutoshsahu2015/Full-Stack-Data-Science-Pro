{
 "cells": [
  {
   "cell_type": "markdown",
   "id": "f4bc155d",
   "metadata": {},
   "source": [
    "## Constructor:"
   ]
  },
  {
   "cell_type": "markdown",
   "id": "e5ff6aa7",
   "metadata": {},
   "source": [
    "### 1. What is a constructor in Python? Explain its purpose and usage."
   ]
  },
  {
   "cell_type": "markdown",
   "id": "032cfcdf",
   "metadata": {},
   "source": [
    "A constructor is a special method within a class that is automatically called when a new instance(object) of the class is created. It is defined with the name `__init__`. The purpose of a constructor is to initialize the attributes of the object with initial values.\n",
    " \n",
    "### Purpose of Constructor:\n",
    "\n",
    "1. #### Initialization : \n",
    "    \n",
    "    The main purpose of a constructor is to initialize the attributes of an object with specific values.\n",
    "\n",
    "2. #### Setting Default Values : \n",
    "\n",
    "    It allows you to set default values for object attributes.\n",
    "\n",
    "### Usage of Constructor:\n",
    "\n",
    "1. ####  Syntax : \n",
    "\n",
    "    The constructor is defined with the name `__init__` with a class.\n",
    "\n",
    "2. #### Parameters : \n",
    "\n",
    "    It takes self as first parameter(which refers to the instance being created) and other parameters to initialize the attributes.\n",
    "\n",
    "3. #### Attribute Assignment :\n",
    "\n",
    "    Inside the constructor, you can assign initial values to the attributes using self.attribute_name = initial_value."
   ]
  },
  {
   "cell_type": "code",
   "execution_count": 1,
   "id": "3aa7fcbc",
   "metadata": {},
   "outputs": [],
   "source": [
    "# Example of constructor\n",
    "class Person :\n",
    "    \n",
    "    def __init__(self):\n",
    "        self.name = \"Person\"\n",
    "        self.age = 26\n",
    "        \n",
    "p1 = Person()"
   ]
  },
  {
   "cell_type": "markdown",
   "id": "20786d2b",
   "metadata": {},
   "source": [
    "### 2. Differentiate between a parameterless constructor and a parameterized constructor in Python."
   ]
  },
  {
   "cell_type": "markdown",
   "id": "dcd5296c",
   "metadata": {},
   "source": [
    "#### Parameterless constructor  - (Also known as a default constructor)\n",
    "\n",
    "- Takes no parameters other than the mandatory `self` parameter, which refers to the instance of the class.\n",
    "- Used when you want to initialize attributes with default values.\n",
    "\n",
    "Example: Person class with parameterless constructor as shown below:"
   ]
  },
  {
   "cell_type": "code",
   "execution_count": 2,
   "id": "a23acc2d",
   "metadata": {},
   "outputs": [],
   "source": [
    "# Example of parameterless constructor\n",
    "class Person: \n",
    "    \n",
    "    def __init__(self):\n",
    "        self.name = \"Ashutosh\"\n",
    "        self.age = 26\n",
    "        \n",
    "p1 = Person()"
   ]
  },
  {
   "cell_type": "markdown",
   "id": "9af80e28",
   "metadata": {},
   "source": [
    "#### Parameterized Constructor - (Also known as a custom or explicit constructor)\n",
    "\n",
    "- Takes parameters other than `self` to initialize the attributes of the class.\n",
    "- Used when you want to initialize attributes with specific values provided during object creation.\n",
    "\n",
    "Example: Person class with parameterized constructor as shown below:"
   ]
  },
  {
   "cell_type": "code",
   "execution_count": 3,
   "id": "dc143c0a",
   "metadata": {},
   "outputs": [],
   "source": [
    "class Person :\n",
    "    \n",
    "    def __init__(self, name, age):\n",
    "        self.name = name\n",
    "        self.age = age\n",
    "        \n",
    "p2 = Person('Ashu',26)"
   ]
  },
  {
   "cell_type": "markdown",
   "id": "4d55fe7f",
   "metadata": {},
   "source": [
    "### 3. How do you define a constructor in a Python class? Provide an example."
   ]
  },
  {
   "cell_type": "markdown",
   "id": "597a3463",
   "metadata": {},
   "source": [
    "A constructor is defined using a special method named `__init__`. It is called automatically when you create an instance of a class.\n",
    "\n",
    "Example: Student class with default constructor:"
   ]
  },
  {
   "cell_type": "code",
   "execution_count": 4,
   "id": "9ea65f23",
   "metadata": {},
   "outputs": [],
   "source": [
    "class Student:\n",
    "    \n",
    "    def __init__(self):\n",
    "        self.name = 'Ashu'\n",
    "        self.age = 26\n",
    "        self.rollNo = 1"
   ]
  },
  {
   "cell_type": "markdown",
   "id": "c0b0c9ce",
   "metadata": {},
   "source": [
    "### 4. Explain the `__init__` method in Python and its role in constructors."
   ]
  },
  {
   "cell_type": "markdown",
   "id": "5c22d703",
   "metadata": {},
   "source": [
    "The `__init__` method in Python is a special method(or magic method) used to initialize attributes of an object when it is created. It is commonly referred to as the constructor because it gets called automatically when you create an instance of a class."
   ]
  },
  {
   "cell_type": "markdown",
   "id": "510ae16d",
   "metadata": {},
   "source": [
    "### 5. In a class named `Person`, create a constructor that initializes the `name` and `age` attributes. Provide an example of creating an object of this class."
   ]
  },
  {
   "cell_type": "code",
   "execution_count": 5,
   "id": "1fa31787",
   "metadata": {},
   "outputs": [
    {
     "name": "stdout",
     "output_type": "stream",
     "text": [
      "Name : Ashutosh, Age : 26 yrs.\n"
     ]
    }
   ],
   "source": [
    "class Person:\n",
    "    \n",
    "    # Constructor\n",
    "    def __init__(self,name,age):\n",
    "        self.name  = name\n",
    "        self.age = age\n",
    "        \n",
    "    # print magic method    \n",
    "    def __str__(self):\n",
    "        return f'Name : {self.name}, Age : {self.age} yrs.'\n",
    "    \n",
    "p1 = Person('Ashutosh',26)\n",
    "\n",
    "print(p1)"
   ]
  },
  {
   "cell_type": "markdown",
   "id": "1d2b17f0",
   "metadata": {},
   "source": [
    "### 6. How can you call a constructor explicitly in Python? Give an example."
   ]
  },
  {
   "cell_type": "markdown",
   "id": "0993880e",
   "metadata": {},
   "source": [
    "We typically don't call a constructor explicity as it is automatically called when an instance of a class is created. However, if we need to call the constructor explicitly for any reason, we can do so.\n",
    "\n",
    "1. First of all we create a instance of a class using the dunder method `__new__` this will create an instance but not call the constructor implicity.\n",
    "\n",
    "2. Then we explicitly call the `__init__` dunder method using the instance created above in the step 1.\n",
    "\n",
    "Example :"
   ]
  },
  {
   "cell_type": "code",
   "execution_count": 6,
   "id": "c43c0f35",
   "metadata": {},
   "outputs": [
    {
     "name": "stdout",
     "output_type": "stream",
     "text": [
      "Student Name : Ashutosh , Roll No : 1\n"
     ]
    }
   ],
   "source": [
    "class Student: \n",
    "\n",
    "    # Constructor\n",
    "    def __init__(self, name, roll_no):\n",
    "        self.name = name\n",
    "        self.rollno = roll_no\n",
    "        \n",
    "    # Print magic method\n",
    "    def __str__(self):\n",
    "        return f\"Student Name : {self.name} , Roll No : {self.rollno}\"\n",
    "\n",
    "# Creating instance without calling constructor\n",
    "student1 = Student.__new__(Student)\n",
    "\n",
    "# Explicity calling __init__ (constructor)\n",
    "Student.__init__(student1,'Ashutosh',1)\n",
    "\n",
    "# Print the object\n",
    "print(student1)"
   ]
  },
  {
   "cell_type": "markdown",
   "id": "4da66afe",
   "metadata": {},
   "source": [
    "### 7. What is the significance of the `self` parameter in Python constructors? Explain with an example."
   ]
  },
  {
   "cell_type": "markdown",
   "id": "cfb33989",
   "metadata": {},
   "source": [
    "The `self` parameter in constructors and methods serves as a reference to the instance of the class itself. It allows you to access and modify attributes or even call/access methods of the object within the class.\n",
    "\n",
    "Example:"
   ]
  },
  {
   "cell_type": "code",
   "execution_count": 7,
   "id": "9d4c7e17",
   "metadata": {},
   "outputs": [
    {
     "name": "stdout",
     "output_type": "stream",
     "text": [
      "Hi, My Name is : Ashu and I am 26 years old.\n"
     ]
    }
   ],
   "source": [
    "class Person:\n",
    "    \n",
    "    # Constructor\n",
    "    def __init__(self,name,age):\n",
    "        self.name = name\n",
    "        self.age = age\n",
    "        # calling the details method\n",
    "        print(self.get_details())\n",
    "        \n",
    "    # Get details\n",
    "    def get_details(self):\n",
    "        return f\"Hi, My Name is : {self.name} and I am {self.age} years old.\"\n",
    "\n",
    "# Create a person object\n",
    "p1 = Person('Ashu',26)"
   ]
  },
  {
   "cell_type": "markdown",
   "id": "70a0d432",
   "metadata": {},
   "source": [
    "### 8. Discuss the concept of default constructors in Python. When are they used?"
   ]
  },
  {
   "cell_type": "markdown",
   "id": "64f30792",
   "metadata": {},
   "source": [
    "In Python, there are no explicit constructors as such. Instead, python provides a default constructor implicitly, which is the `__init__` method, and this gets called automatically when you create an instance of a class.\n",
    "\n",
    "The `__init__` method can be thought of as the default constructor because it serves the purpose of initializing the attributes of an object. If you don't define a custom `__init__` method in your class, python provides a default one for you.\n",
    "\n",
    "###### Example of class without explicit `__init__` method:"
   ]
  },
  {
   "cell_type": "code",
   "execution_count": 8,
   "id": "c6be8d50",
   "metadata": {},
   "outputs": [
    {
     "data": {
      "text/plain": [
       "5"
      ]
     },
     "execution_count": 8,
     "metadata": {},
     "output_type": "execute_result"
    }
   ],
   "source": [
    "class Calculator :\n",
    "    \n",
    "    # Add method\n",
    "    def add(self, a,b):\n",
    "        return a + b\n",
    "    \n",
    "    # subtract method\n",
    "    def subtract(self,a,b):\n",
    "        return a-b\n",
    "    \n",
    "    # Multiply method\n",
    "    def mul(self,a,b):\n",
    "        return a * b\n",
    "    \n",
    "# Create an object/instance using default constructor\n",
    "calc = Calculator()\n",
    "\n",
    "calc.add(2,3)"
   ]
  },
  {
   "cell_type": "markdown",
   "id": "81931ca3",
   "metadata": {},
   "source": [
    "##### Example of class with explicit __init__ method but default constructor (no params):"
   ]
  },
  {
   "cell_type": "code",
   "execution_count": 9,
   "id": "090fc006",
   "metadata": {},
   "outputs": [
    {
     "name": "stdout",
     "output_type": "stream",
     "text": [
      "Name : Ashutosh, Age : 26 years.\n"
     ]
    }
   ],
   "source": [
    "class Person :\n",
    "    \n",
    "    # Constructor \n",
    "    def __init__(self):\n",
    "        self.name = 'Ashutosh'\n",
    "        self.age = 26\n",
    "        \n",
    "    # Print magic method\n",
    "    def __str__(self):\n",
    "        return f\"Name : {self.name}, Age : {self.age} years.\"\n",
    "    \n",
    "# Creating an instance \n",
    "person = Person()\n",
    "\n",
    "print(person)"
   ]
  },
  {
   "cell_type": "markdown",
   "id": "6fd505b9",
   "metadata": {},
   "source": [
    "### 9. Create a Python class called `Rectangle` with a constructor that initializes the `width` and `height` attributes. Provide a method to calculate the area of the rectangle."
   ]
  },
  {
   "cell_type": "code",
   "execution_count": 10,
   "id": "f2849921",
   "metadata": {},
   "outputs": [
    {
     "data": {
      "text/plain": [
       "20"
      ]
     },
     "execution_count": 10,
     "metadata": {},
     "output_type": "execute_result"
    }
   ],
   "source": [
    "class Rectangle:\n",
    "    \n",
    "    # Constructor\n",
    "    def __init__(self, width, height):\n",
    "        self.width = width\n",
    "        self.height = height\n",
    "    \n",
    "    # Calculate the area of rectangle\n",
    "    def calculate_area(self):\n",
    "        return self.width * self.height\n",
    "    \n",
    "# Create an instance \n",
    "rect = Rectangle(4,5)\n",
    "\n",
    "# Calculate area of rectangle\n",
    "rect.calculate_area()"
   ]
  },
  {
   "cell_type": "markdown",
   "id": "20f1df32",
   "metadata": {},
   "source": [
    "### 10. How can you have multiple constructors in a Python class? Explain with an example."
   ]
  },
  {
   "cell_type": "markdown",
   "id": "5cc50697",
   "metadata": {},
   "source": [
    "In python, you can't have multiple constructors as in some other programming languages. However, you can achieve similar functionality by using default parameter values and optional arguments.\n",
    "\n",
    "Example of Rectangele class from above question:"
   ]
  },
  {
   "cell_type": "code",
   "execution_count": 11,
   "id": "83f7328d",
   "metadata": {},
   "outputs": [
    {
     "name": "stdout",
     "output_type": "stream",
     "text": [
      "Area of Rectangle : 12\n",
      "Area of Square : 16\n",
      "Area of Rectangle 3 : 0\n"
     ]
    }
   ],
   "source": [
    "class Rectangle :\n",
    "    \n",
    "    # Constructor\n",
    "    def __init__(self, width = None, height = None):\n",
    "        \n",
    "        if width is not None and height is not None:\n",
    "            self.width =  width\n",
    "            self.height = height\n",
    "        \n",
    "        elif width is not None:\n",
    "            self.width = width\n",
    "            self.height = width\n",
    "        \n",
    "        elif height is not None:\n",
    "            self.width = height\n",
    "            self.height = height\n",
    "        \n",
    "        else:\n",
    "            self.width = 0\n",
    "            self.height = 0\n",
    "            \n",
    "    # Calculate the area \n",
    "    def calculate_area(self):\n",
    "        return self.width * self.height\n",
    "    \n",
    "# Creating an instance of the class\n",
    "rectangle1 = Rectangle(3,4)\n",
    "\n",
    "rectangle2 = Rectangle(4)\n",
    "\n",
    "rectangle3 = Rectangle()\n",
    "\n",
    "print(f'Area of Rectangle : {rectangle1.calculate_area()}')\n",
    "print(f'Area of Square : {rectangle2.calculate_area()}')\n",
    "print(f'Area of Rectangle 3 : {rectangle3.calculate_area()}')"
   ]
  },
  {
   "cell_type": "markdown",
   "id": "b888b57c",
   "metadata": {},
   "source": [
    "### 11. What is method overloading, and how is it related to constructors in Python?"
   ]
  },
  {
   "cell_type": "markdown",
   "id": "03e4bc21",
   "metadata": {},
   "source": [
    "Method overloading is a feature that allows a class to have multiple methods with the same name but different parameter lists. This means you can define multiple versions of a method, each accepting different arguments. In Python, however if you define multiple methods with the same name in a class, the last one defined will override the previous ones.\n",
    "\n",
    "However, you can achieve similar functionality through default parameter values and optional arguments. This way ,a single method can handle different argument combinations.\n",
    "\n",
    "In case of constructors in Python, you can use default parameters values to simulate constructor overloading. By providing default values for constructor parameters, you can create instances of a class with different initial states based on the arguments provided during object creation.\n",
    "\n",
    "Examples as below:"
   ]
  },
  {
   "cell_type": "code",
   "execution_count": 12,
   "id": "a6972f1e",
   "metadata": {},
   "outputs": [
    {
     "name": "stdout",
     "output_type": "stream",
     "text": [
      "Area of Rectangle : 12\n",
      "Area of Square : 16\n",
      "Area of Rectangle 3 : 0\n"
     ]
    }
   ],
   "source": [
    "class Rectangle :\n",
    "    \n",
    "    # Constructor\n",
    "    def __init__(self, width = None, height = None):\n",
    "        \n",
    "        if width is not None and height is not None:\n",
    "            self.width =  width\n",
    "            self.height = height\n",
    "        \n",
    "        elif width is not None:\n",
    "            self.width = width\n",
    "            self.height = width\n",
    "        \n",
    "        elif height is not None:\n",
    "            self.width = height\n",
    "            self.height = height\n",
    "        \n",
    "        else:\n",
    "            self.width = 0\n",
    "            self.height = 0\n",
    "            \n",
    "    # Calculate the area \n",
    "    def calculate_area(self):\n",
    "        return self.width * self.height\n",
    "    \n",
    "# Creating an instance of the class\n",
    "rectangle1 = Rectangle(3,4)\n",
    "\n",
    "rectangle2 = Rectangle(4)\n",
    "\n",
    "rectangle3 = Rectangle()\n",
    "\n",
    "print(f'Area of Rectangle : {rectangle1.calculate_area()}')\n",
    "print(f'Area of Square : {rectangle2.calculate_area()}')\n",
    "print(f'Area of Rectangle 3 : {rectangle3.calculate_area()}')"
   ]
  },
  {
   "cell_type": "markdown",
   "id": "4ce7bf0b",
   "metadata": {},
   "source": [
    "### 12. Explain the use of the `super()` function in Python constructors. Provide an example."
   ]
  },
  {
   "cell_type": "markdown",
   "id": "e08fac69",
   "metadata": {},
   "source": [
    "The `super()` function in Python is a way to access methods and attributes from a parent class(superclass) within a child class(subclass). It is typically used to invoke the behavior of the parent class, especially in the context of constructors of the child class. \n",
    "\n",
    "In the case of constructors, `super()` is commonly used to ensure that attributes inherited from the parent class are properly initialized before adding new attributes specific to the child class.\n",
    "\n",
    "Example as below:\n"
   ]
  },
  {
   "cell_type": "code",
   "execution_count": 13,
   "id": "5e6b94bd",
   "metadata": {},
   "outputs": [
    {
     "name": "stdout",
     "output_type": "stream",
     "text": [
      "Sammy\n",
      "Labrador\n"
     ]
    }
   ],
   "source": [
    "class Animal:\n",
    "    def __init__(self,name):\n",
    "        self.name = name\n",
    "        \n",
    "class Dog(Animal):\n",
    "    def __init__(self,name,breed):\n",
    "        super().__init__(name)\n",
    "        self.breed = breed\n",
    "        \n",
    "# Creating a Dog instance\n",
    "dog = Dog('Sammy','Labrador')\n",
    "\n",
    "print(dog.name)\n",
    "print(dog.breed)"
   ]
  },
  {
   "cell_type": "markdown",
   "id": "89680d8c",
   "metadata": {},
   "source": [
    "### 13. Create a class called `Book` with a constructor that initializes the `title`, `author`, and `published_year` attributes. Provide a method to display book details."
   ]
  },
  {
   "cell_type": "code",
   "execution_count": 14,
   "id": "0fcc0977",
   "metadata": {},
   "outputs": [
    {
     "name": "stdout",
     "output_type": "stream",
     "text": [
      "Title : Think Like a Monk\n",
      "Author : Jay Shetty\n",
      "Published Year : 2021\n"
     ]
    }
   ],
   "source": [
    "class Book:\n",
    "    \n",
    "    # Constructor\n",
    "    def __init__(self, title, author, published_year):\n",
    "        self.title = title\n",
    "        self.author = author\n",
    "        self.publishedYear = published_year\n",
    "        \n",
    "    # Display book details\n",
    "    def display_details(self):\n",
    "        print(f\"Title : {self.title}\")\n",
    "        print(f\"Author : {self.author}\")\n",
    "        print(f\"Published Year : {self.publishedYear}\")\n",
    "\n",
    "# Creating a class instance\n",
    "book = Book('Think Like a Monk','Jay Shetty',2021)\n",
    "\n",
    "# Book details method\n",
    "book.display_details()"
   ]
  },
  {
   "cell_type": "markdown",
   "id": "c38377fe",
   "metadata": {},
   "source": [
    "### 14. Discuss the differences between constructors and regular methods in Python classes."
   ]
  },
  {
   "cell_type": "markdown",
   "id": "cd394181",
   "metadata": {},
   "source": [
    "Constructors and regular methods are both functions defined within a class in Python, but they serve different purposes and have distinct characteristics as below:\n",
    "\n",
    "<table>\n",
    "    <tr>\n",
    "        <th></th>\n",
    "        <th>Constructor</th>\n",
    "        <th>Regular Methods</th>\n",
    "    </tr>\n",
    "    <tr>\n",
    "        <td><b>Purpose</b></td>\n",
    "        <td>Purpose of a constructor is to initialize the attributes of an object when it is created. It is automatically called when you create an instance of a class.</td>\n",
    "        <td>Regular Methods performs operations or provide functionality related to the class. You need to explicity call regular methods after the object has been created to perform specific actions.</td>\n",
    "    </tr>\n",
    "    <tr>\n",
    "        <td>Naming</td>\n",
    "        <td>The constructor has a special predefined name `__init__`</td>\n",
    "        <td>Regular methods can have any valid method name.</td>\n",
    "    </tr>\n",
    "    <tr>\n",
    "        <td>Return Value</td>\n",
    "        <td>Constructor doesn't have a return statement.</td>\n",
    "        <td>Regular methods can have a return statement to return a value.</td>\n",
    "    </tr>\n",
    "    <tr>\n",
    "        <td>Multiple Definitions</td>\n",
    "        <td>There can be only one constructor (`__init__`) in a class.</td>\n",
    "        <td>You can define multiple regular methods in a class. </td>\n",
    "    </tr>\n",
    "   \n",
    "</table>"
   ]
  },
  {
   "cell_type": "markdown",
   "id": "cd87a892",
   "metadata": {},
   "source": [
    "### 15. Explain the role of the `self` parameter in instance variable initialization within a constructor."
   ]
  },
  {
   "cell_type": "markdown",
   "id": "2975ce38",
   "metadata": {},
   "source": [
    "The `self` parameter in Python is a convention used to represent the instance of a class within its methods, including the constructor (`__init__`). It allows you to access and manipulates the attributes and methods of the object within the class.\n",
    "\n",
    "Within a constructor, `self` is used to differentiate between the attributes of the instance being created and any other variables with the same name. It helps bind attributes to the specific instance of the class.\n",
    "\n",
    "- Creating Attributes: Inside the `__init__` method, you defined the attributes(instance variables) that you want each object of the class to have.\n",
    "\n",
    "\n",
    "- Accessing Attributes : To set the values of these attributes , you use `self.attribute_name = value`\n",
    "\n",
    "\n",
    "- Avoiding Name Conflicts : The use of `self` ensures that you are working with the attributes of the instance being created, even if there are other variables in the class or method with the same name like arguments name(parameters name).\n",
    "\n",
    "\n",
    "- Binding Attributes to the Instance : When you create an instance of the class, `self` is automatically assigned to refer to that instance. This ensures that any attribute assigned using `self` is specific to that particular instance."
   ]
  },
  {
   "cell_type": "code",
   "execution_count": 15,
   "id": "0a726d14",
   "metadata": {},
   "outputs": [
    {
     "name": "stdout",
     "output_type": "stream",
     "text": [
      "Name : Ashu , Age : 26 years.\n"
     ]
    }
   ],
   "source": [
    "class Person:\n",
    "    \n",
    "    # Constructor \n",
    "    def __init__(self,name,age):\n",
    "        self.name = name\n",
    "        self.age = age\n",
    "    \n",
    "    def __str__(self):\n",
    "        return f\"Name : {self.name} , Age : {self.age} years.\"\n",
    "    \n",
    "# Creating a instance\n",
    "person = Person('Ashu',26)\n",
    "\n",
    "print(person)"
   ]
  },
  {
   "cell_type": "markdown",
   "id": "0e3d95d8",
   "metadata": {},
   "source": [
    "### 16. How do you prevent a class from having multiple instances by using constructors in Python? Provide an example."
   ]
  },
  {
   "cell_type": "markdown",
   "id": "eb93ab11",
   "metadata": {},
   "source": [
    "In Python 3, you can implement the Singleton pattern using a metaclass. A metaclass is a class for classes, allowing you to customize class creation.\n",
    "\n",
    "Example of how you can implement the Singleton pattern in Python 3:"
   ]
  },
  {
   "cell_type": "code",
   "execution_count": 16,
   "id": "af38711c",
   "metadata": {
    "scrolled": true
   },
   "outputs": [
    {
     "name": "stdout",
     "output_type": "stream",
     "text": [
      "Instance 1\n",
      "Instance 1\n"
     ]
    }
   ],
   "source": [
    "class SingletonMeta(type):\n",
    "    _instances = {}\n",
    "    \n",
    "    def __call__(cls,*args,**kwargs):\n",
    "        if cls not in cls._instances:\n",
    "            cls._instances[cls] = super().__call__(*args,**kwargs)\n",
    "        return cls._instances[cls]\n",
    "    \n",
    "# Actual Singleton class\n",
    "class Singleton(metaclass = SingletonMeta):\n",
    "    def __init__(self,data):\n",
    "        self.data = data\n",
    "        \n",
    "# Creating the instances of Singleton Class\n",
    "singleton1 = Singleton(\"Instance 1\")\n",
    "singleton2 = Singleton(\"Instance 2\")\n",
    "\n",
    "print(singleton1.data)\n",
    "print(singleton2.data)"
   ]
  },
  {
   "cell_type": "markdown",
   "id": "474aef17",
   "metadata": {},
   "source": [
    "We can also use the decorator similar to Meta class used above. Example below:"
   ]
  },
  {
   "cell_type": "code",
   "execution_count": 17,
   "id": "8cf55ef5",
   "metadata": {},
   "outputs": [
    {
     "name": "stdout",
     "output_type": "stream",
     "text": [
      "Instance 1\n",
      "Instance 1\n"
     ]
    }
   ],
   "source": [
    "def singleton(class_):\n",
    "    instances = {}\n",
    "\n",
    "    def ensure_singleton_instance(*args, **kwargs):\n",
    "        if class_ not in instances:\n",
    "            instances[class_] = class_(*args, **kwargs)\n",
    "        return instances[class_]\n",
    "\n",
    "    return ensure_singleton_instance\n",
    "\n",
    "# using decorator below\n",
    "@singleton\n",
    "class Singleton:\n",
    "    def __init__(self, data):\n",
    "        self.data = data\n",
    "\n",
    "# Creating instances of Singleton\n",
    "singleton1 = Singleton(\"Instance 1\")\n",
    "singleton2 = Singleton(\"Instance 2\")\n",
    "\n",
    "print(singleton1.data)\n",
    "print(singleton2.data)"
   ]
  },
  {
   "cell_type": "markdown",
   "id": "84fe2b6e",
   "metadata": {},
   "source": [
    "### 17. Create a Python class called `Student` with a constructor that takes a list of subjects as a parameter and initializes the `subjects` attribute."
   ]
  },
  {
   "cell_type": "code",
   "execution_count": 18,
   "id": "b70ac13c",
   "metadata": {},
   "outputs": [
    {
     "name": "stdout",
     "output_type": "stream",
     "text": [
      "Subjects:\n",
      "ML\n",
      "Data Science\n",
      "AI\n",
      "Deep Learning\n"
     ]
    }
   ],
   "source": [
    "class Student: \n",
    "    \n",
    "    # Constructor \n",
    "    def __init__(self,subjects):\n",
    "        self.subjects = subjects\n",
    "        \n",
    "    # Display subjects\n",
    "    def display_subjects(self):\n",
    "        print(\"Subjects:\")\n",
    "        for subject in self.subjects:\n",
    "            print(subject)\n",
    "            \n",
    "# Creating an instance of Student\n",
    "student = Student(['ML','Data Science','AI','Deep Learning'])\n",
    "\n",
    "# Calling the display subjects method\n",
    "student.display_subjects()"
   ]
  },
  {
   "cell_type": "markdown",
   "id": "7f5aff17",
   "metadata": {},
   "source": [
    "### 18. What is the purpose of the `__del__` method in Python classes, and how does it relate to constructors?"
   ]
  },
  {
   "cell_type": "markdown",
   "id": "9f63e57b",
   "metadata": {},
   "source": [
    "The `__del__` method (destructor) in python is used to define the destruction logic for objects of a class. It's called automatically when an object is about to be destroyed, which typically occurs when there are no more references to the object. The purpose of the `__del__` method is to perform any necessary cleanup or finalization before the object is removed from memory.\n",
    "\n",
    "While constructors (`__init__` method) are used for initializing object attributes and setting up the initial state of an object, the `__del__` method is used for performing cleanup tasks or releasing resources associated with the object.\n",
    "\n",
    "Example showing constructor and destructor functionality below:"
   ]
  },
  {
   "cell_type": "code",
   "execution_count": 19,
   "id": "619b9b84",
   "metadata": {},
   "outputs": [
    {
     "name": "stdout",
     "output_type": "stream",
     "text": [
      "Objects Student1 created.\n",
      "Objects Student2 created.\n",
      "\n",
      "Object Student1 is being destroyed.\n",
      "Object Student2 is being destroyed.\n"
     ]
    }
   ],
   "source": [
    "class Student:\n",
    "    \n",
    "    # Constructor\n",
    "    def __init__(self,name):\n",
    "        self.name = name\n",
    "        print(f\"Objects {self.name} created.\")\n",
    "    \n",
    "    # Destructor\n",
    "    def __del__(self):\n",
    "        print(f\"Object {self.name} is being destroyed.\")\n",
    "    \n",
    "# Creating instances of class\n",
    "obj1 = Student('Student1')\n",
    "obj2 = Student('Student2')\n",
    "\n",
    "print()\n",
    "\n",
    "# Deleting a reference\n",
    "del obj1\n",
    "del obj2"
   ]
  },
  {
   "cell_type": "markdown",
   "id": "d68399c3",
   "metadata": {},
   "source": [
    "### 19. Explain the use of constructor chaining in Python. Provide a practical example."
   ]
  },
  {
   "cell_type": "markdown",
   "id": "a0927eb0",
   "metadata": {},
   "source": [
    "Constructor chaining in Python refers to the ability of a subclass to call the constructor of its parent class. This allows you to reuse the initialization logic defined in the parent class's constructor (`__init__` using `super()`) when creating instances of the subclass.\n",
    "\n",
    "Example:"
   ]
  },
  {
   "cell_type": "code",
   "execution_count": 20,
   "id": "560bd6db",
   "metadata": {},
   "outputs": [
    {
     "name": "stdout",
     "output_type": "stream",
     "text": [
      "Sammy\n",
      "Labrador\n"
     ]
    }
   ],
   "source": [
    "class Animal:\n",
    "    \n",
    "    # Constructor \n",
    "    def __init__(self,name):\n",
    "        self.name = name\n",
    "        \n",
    "class Dog(Animal):\n",
    "    \n",
    "    # Constructor\n",
    "    def __init__(self,name,breed):\n",
    "        super().__init__(name)\n",
    "        self.breed = breed\n",
    "    \n",
    "    # Creating a Dog instance\n",
    "    dog = Dog(\"Sammy\",'Labrador')\n",
    "    \n",
    "# Printing name and breed\n",
    "print(dog.name)\n",
    "print(dog.breed)"
   ]
  },
  {
   "cell_type": "markdown",
   "id": "c101fcd1",
   "metadata": {},
   "source": [
    "### 20. Create a Python class called `Car` with a default constructor that initializes the `make` and `model` attributes. Provide a method to display car information."
   ]
  },
  {
   "cell_type": "code",
   "execution_count": 21,
   "id": "3915cc32",
   "metadata": {},
   "outputs": [
    {
     "name": "stdout",
     "output_type": "stream",
     "text": [
      "Car make : Hyundai , Model : Ironiq 5\n"
     ]
    }
   ],
   "source": [
    "class Car:\n",
    "    \n",
    "    # Constructor \n",
    "    def __init__(self):\n",
    "        self.make = \"Hyundai\"\n",
    "        self.model = \"Ironiq 5\"\n",
    "    \n",
    "    # Display details\n",
    "    def display_details(self):\n",
    "        print(f'Car make : {self.make} , Model : {self.model}')\n",
    "    \n",
    "# Create an instance\n",
    "car1 = Car()\n",
    "\n",
    "car1.display_details()"
   ]
  },
  {
   "cell_type": "code",
   "execution_count": 22,
   "id": "25714682",
   "metadata": {},
   "outputs": [
    {
     "name": "stdout",
     "output_type": "stream",
     "text": [
      "Car make: Hyundai, Model: Ioniq 5\n"
     ]
    }
   ],
   "source": [
    "class Car:\n",
    "\n",
    "    # Default constructor (parameterized) initializing value of make and model\n",
    "    def __init__(self, make, model):\n",
    "        self.make = make\n",
    "        self.model = model\n",
    "\n",
    "    def display_details(self):\n",
    "        print(f'Car make: {self.make}, Model: {self.model}')\n",
    "\n",
    "# Create an instance\n",
    "car1 = Car(\"Hyundai\", \"Ioniq 5\")\n",
    "\n",
    "car1.display_details()"
   ]
  },
  {
   "cell_type": "markdown",
   "id": "914ba5dc",
   "metadata": {},
   "source": [
    "## Inheritance:"
   ]
  },
  {
   "cell_type": "markdown",
   "id": "d788c894",
   "metadata": {},
   "source": [
    "### 1. What is inheritance in Python? Explain its significance in object-oriented programming."
   ]
  },
  {
   "cell_type": "markdown",
   "id": "4d7a2d5d",
   "metadata": {},
   "source": [
    "<b>Inheritance :</b> Inheritance is a fundamental concept in object-oriented programming (OOP) that allows one class( the subclass or derived class) to inherit the properties and behaviors of another class ( the superclass or base class). Inheritance is a mechanism that models the \"is-a\" relationship, where a subclass is a specialized version of its superclass.\n",
    "\n",
    "<b>Inheritance in Python : In Python, you define inheritance by creating a new class and specifying the base class it inherits from inside paranthese. The subclass then inherits attributes and methods from the superclass.</b>\n",
    "\n",
    "#### Significance of Inheritance:\n",
    "\n",
    "- <b>Code Reusability: </b> Inheritance promotes code usability by allowing you to reuse existing code from a superclass in a new class.\n",
    "\n",
    "- <b>Extensibility : </b> You can create more specialized classes (subclasses) by inheriting from a more general class (superclass). This enables you to extend or override the behaviors of the superclass to fit the specific needs of the subclass.\n",
    "\n",
    "- <b>Hierarchy and Organization: </b> Inheritance allows you to create hierarchical structures of classes, making the code more organized and easy to understand. It models the real-world relationships between objects.\n",
    "\n",
    "Real World example of Dog class and cat class inherting from animal class:"
   ]
  },
  {
   "cell_type": "code",
   "execution_count": 23,
   "id": "f14c3c4e",
   "metadata": {},
   "outputs": [
    {
     "name": "stdout",
     "output_type": "stream",
     "text": [
      "Dog says : Woof !!! \n",
      "Cat says : Meow !!!\n"
     ]
    }
   ],
   "source": [
    "# Parent class\n",
    "class Animal :\n",
    "    \n",
    "    # Constructor\n",
    "    def __init__(self,species):\n",
    "        self.species = species\n",
    "        \n",
    "    # Speak method\n",
    "    def speak(self):\n",
    "        pass\n",
    "    \n",
    "# Inheritance \n",
    "class Dog(Animal):\n",
    "    \n",
    "    # method overriding\n",
    "    def speak(self):\n",
    "        return \"Woof !!! \"\n",
    "    \n",
    "# Inheritance\n",
    "class Cat(Animal):\n",
    "    \n",
    "    # Method overriding\n",
    "    def speak(self):\n",
    "        return \"Meow !!!\"\n",
    "    \n",
    "# Creating instances of subclasses\n",
    "dog = Dog(\"Dog\")\n",
    "cat = Cat(\"Cat\")\n",
    "\n",
    "# Calling the speak method\n",
    "print(f\"{dog.species} says : {dog.speak()}\")\n",
    "print(f\"{cat.species} says : {cat.speak()}\")"
   ]
  },
  {
   "cell_type": "markdown",
   "id": "fa12e3c9",
   "metadata": {},
   "source": [
    "### 2. Differentiate between single inheritance and multiple inheritance in Python. Provide examples for each."
   ]
  },
  {
   "cell_type": "markdown",
   "id": "5ab3ddcc",
   "metadata": {},
   "source": [
    "In python, inheritance can be categorized into two main types: Single Inheritance and Multiple Inheritance. Let's differentiate between these two types and provide examples for each:\n",
    "\n",
    "#### Single Inheritance:\n",
    "\n",
    "Single Inheritance is a type of inheritance where a subclass (derived class) inherits from a single superclass (base class). It forms a linearly hierarchy of classes.\n",
    "\n",
    "Example:"
   ]
  },
  {
   "cell_type": "code",
   "execution_count": 24,
   "id": "671c2585",
   "metadata": {},
   "outputs": [
    {
     "name": "stdout",
     "output_type": "stream",
     "text": [
      "Dog says : Woof !!!\n"
     ]
    }
   ],
   "source": [
    "# Parent class\n",
    "class Animal :\n",
    "    \n",
    "    # Constructor\n",
    "    def __init__(self,species):\n",
    "        self.species = species\n",
    "        \n",
    "    # Speak method\n",
    "    def speak(self):\n",
    "        pass\n",
    "    \n",
    "# Inheritance \n",
    "class Dog(Animal):\n",
    "    \n",
    "    # method overriding\n",
    "    def speak(self):\n",
    "        return \"Woof !!!\"\n",
    "    \n",
    "# Creating instance of subclass\n",
    "dog = Dog(\"Dog\")\n",
    "\n",
    "# Calling the speak method\n",
    "print(f\"{dog.species} says : {dog.speak()}\")"
   ]
  },
  {
   "cell_type": "markdown",
   "id": "350c849c",
   "metadata": {},
   "source": [
    "#### Multiple Inheritance:\n",
    "\n",
    "Multiple Inheritance is a type of inheritance where a subclass (derived class) can inherit from more than one superclass( base class). This allows a class to inherit attributes and methods from multiple sources."
   ]
  },
  {
   "cell_type": "code",
   "execution_count": 25,
   "id": "596ed5cb",
   "metadata": {},
   "outputs": [
    {
     "name": "stdout",
     "output_type": "stream",
     "text": [
      "Method from Parent1\n",
      "Method from Parent2\n",
      "Method from Child\n"
     ]
    }
   ],
   "source": [
    "class Parent1 :\n",
    "    \n",
    "    # Method1 \n",
    "    def method1(self):\n",
    "        return \"Method from Parent1\"\n",
    "    \n",
    "class Parent2:\n",
    "    \n",
    "    # Method2\n",
    "    def method2(self):\n",
    "        return \"Method from Parent2\"\n",
    "    \n",
    "class Child (Parent1, Parent2):\n",
    "    \n",
    "    def method3(self):\n",
    "        return \"Method from Child\"\n",
    "\n",
    "# Creating an instance of child\n",
    "child = Child()\n",
    "\n",
    "# Calling every method from different parent and child class\n",
    "print(child.method1())\n",
    "print(child.method2())\n",
    "print(child.method3())"
   ]
  },
  {
   "cell_type": "markdown",
   "id": "7267cb21",
   "metadata": {},
   "source": [
    "### 3. Create a Python class called `Vehicle` with attributes `color` and `speed`. Then, create a child class called `Car` that inherits from `Vehicle` and adds a `brand` attribute. Provide an example of creating a `Car` object."
   ]
  },
  {
   "cell_type": "code",
   "execution_count": 26,
   "id": "41bb6d37",
   "metadata": {},
   "outputs": [
    {
     "name": "stdout",
     "output_type": "stream",
     "text": [
      "Color: Black\n",
      "Speed: 140\n",
      "Brand: BMW\n"
     ]
    }
   ],
   "source": [
    "class Vehicle:\n",
    "    \n",
    "    # Constructor\n",
    "    def __init__(self,color, speed):\n",
    "        self.color = color\n",
    "        self.speed = speed\n",
    "    \n",
    "class Car(Vehicle):\n",
    "    \n",
    "    # Constructor\n",
    "    def __init__(self, color, speed, brand):\n",
    "        super().__init__(color,speed)\n",
    "        self.brand = brand\n",
    "        \n",
    "# Creating an instance of Car \n",
    "my_car = Car(\"Black\",140,\"BMW\")\n",
    "\n",
    "print(f\"Color: {my_car.color}\")\n",
    "print(f\"Speed: {my_car.speed}\")\n",
    "print(f\"Brand: {my_car.brand}\")"
   ]
  },
  {
   "cell_type": "markdown",
   "id": "d246711e",
   "metadata": {},
   "source": [
    "### 4. Explain the concept of method overriding in inheritance. Provide a practical example."
   ]
  },
  {
   "cell_type": "markdown",
   "id": "ddeffd77",
   "metadata": {},
   "source": [
    "<b>Method Overriding</b> is a concept in inheritance where a subclass provides its own implementation of a method that is already defined in its superclass. This allows the subclass to customize or extend the behavior of the inherited method while retaining the method's name and signature.\n",
    "\n",
    "Key Points about method overriding:\n",
    "\n",
    "- The overridden method in the subclass must have the same name, parameters and return type as the method in the superclass.\n",
    "\n",
    "\n",
    "- The super() function can be used to call the overridden method in the superclass within the sublcass's overridden method.\n",
    "\n",
    "\n",
    "- Method overriding is a form of runtime polymorphism, where the same method name can behave differently based on the object's actual class.\n",
    "\n",
    "\n",
    "Example of Overriding:"
   ]
  },
  {
   "cell_type": "code",
   "execution_count": 27,
   "id": "a7584977",
   "metadata": {},
   "outputs": [
    {
     "name": "stdout",
     "output_type": "stream",
     "text": [
      "Circle Area :  78.5\n",
      "Square Area :  16\n"
     ]
    }
   ],
   "source": [
    "class Shape:\n",
    "    \n",
    "    # Area method\n",
    "    def area(self):\n",
    "        pass\n",
    "    \n",
    "class Circle(Shape):\n",
    "    \n",
    "    # Constructor for Circle class\n",
    "    def __init__(self, radius):\n",
    "        self.radius = radius\n",
    "    \n",
    "    # Area method\n",
    "    def area(self):\n",
    "        return 3.14 * self.radius * self.radius\n",
    "    \n",
    "class Square(Shape):\n",
    "    \n",
    "    # Constructor for Square class\n",
    "    def __init__(self,side):\n",
    "        self.side = side\n",
    "    \n",
    "    #Area method\n",
    "    def area(self):\n",
    "        return self.side * self.side\n",
    "\n",
    "# Creating the instance of both class\n",
    "circle = Circle(5)\n",
    "square = Square(4)\n",
    "\n",
    "# Calculate the area\n",
    "print(\"Circle Area : \",circle.area())\n",
    "print(\"Square Area : \", square.area())"
   ]
  },
  {
   "cell_type": "markdown",
   "id": "68c7845d",
   "metadata": {},
   "source": [
    "### 5. How can you access the methods and attributes of a parent class from a child class in Python? Give an example."
   ]
  },
  {
   "cell_type": "markdown",
   "id": "5373344d",
   "metadata": {},
   "source": [
    "In Python, you can access the methods and attributes of a parent(superclass or base class) from a child (subclass or derived class) using the super() function. The super() function provides a way to call methods and access attributes of the parent class within the child class.\n",
    "\n",
    "Example:"
   ]
  },
  {
   "cell_type": "code",
   "execution_count": 28,
   "id": "7c8cc496",
   "metadata": {},
   "outputs": [
    {
     "name": "stdout",
     "output_type": "stream",
     "text": [
      " Make :BMW\n",
      " Model : Black \n",
      " Color : Automatic \n",
      " Category: SUV\n"
     ]
    }
   ],
   "source": [
    "class Vehicle:\n",
    "    \n",
    "    # Constructor \n",
    "    def __init__(self, make, model , color):\n",
    "        self.make = make\n",
    "        self.model = model\n",
    "        self.color = color\n",
    "    \n",
    "    # Get details\n",
    "    def get_details(self):\n",
    "        return f' Make :{self.make}\\n Model : {self.model} \\n Color : {self.color}'\n",
    "    \n",
    "class Car(Vehicle):\n",
    "    \n",
    "    # Constructor\n",
    "    def __init__(self,make, color, model, category):\n",
    "        super().__init__(make,model,color)\n",
    "        self.category = category\n",
    "        \n",
    "    def get_details(self):\n",
    "        vehicleDetails = super().get_details()\n",
    "        return f'{vehicleDetails} \\n Category: {self.category}'\n",
    "    \n",
    "# Instance of Car class\n",
    "car = Car(\"BMW\",\"Automatic\",'Black','SUV')\n",
    "\n",
    "# print the car details\n",
    "print(car.get_details())"
   ]
  },
  {
   "cell_type": "markdown",
   "id": "a644f064",
   "metadata": {},
   "source": [
    "### 6. Discuss the use of the `super()` function in Python inheritance. When and why is it used? Provide an example."
   ]
  },
  {
   "cell_type": "markdown",
   "id": "8d7528e5",
   "metadata": {},
   "source": [
    "The `super()` function in Python is used in the context of inheritance to call methods or access attributes from the parent class(superclass) within the child class (subclass). It is commonly used for the following purposes:\n",
    "\n",
    "- <b>Calling Superclass Constructors : </b> To invoke the constructor of the parent class, allowing the subclass to initialize its own attributes while retaining the attributes and behavior of the parent class.\n",
    "\n",
    "- <b>Method Overriding : </b> To call overridden methods from the parent class to include the behavior of the parent class before or after custom behavior defined in the child class.\n",
    "\n",
    "- <b>Cooperative Multiple Inheritance : </b> In cases of multiple inheritance, where a class inherits from more than one superclass, `super()` helps resolve method order conflicts and ensures proper method execution based on method resolution order.\n",
    "\n",
    "Example of usage of `super()`:\n"
   ]
  },
  {
   "cell_type": "code",
   "execution_count": 29,
   "id": "873809bb",
   "metadata": {},
   "outputs": [
    {
     "name": "stdout",
     "output_type": "stream",
     "text": [
      " Make :BMW\n",
      " Model : Black \n",
      " Color : Automatic \n",
      " Category: SUV\n"
     ]
    }
   ],
   "source": [
    "class Vehicle:\n",
    "    \n",
    "    # Constructor \n",
    "    def __init__(self, make, model , color):\n",
    "        self.make = make\n",
    "        self.model = model\n",
    "        self.color = color\n",
    "    \n",
    "    # Get details\n",
    "    def get_details(self):\n",
    "        return f' Make :{self.make}\\n Model : {self.model} \\n Color : {self.color}'\n",
    "    \n",
    "class Car(Vehicle):\n",
    "    \n",
    "    # Constructor\n",
    "    def __init__(self,make, color, model, category):\n",
    "        super().__init__(make,model,color)\n",
    "        self.category = category\n",
    "        \n",
    "    def get_details(self):\n",
    "        vehicleDetails = super().get_details()\n",
    "        return f'{vehicleDetails} \\n Category: {self.category}'\n",
    "    \n",
    "# Instance of Car class\n",
    "car = Car(\"BMW\",\"Automatic\",'Black','SUV')\n",
    "\n",
    "# print the car details\n",
    "print(car.get_details())"
   ]
  },
  {
   "cell_type": "markdown",
   "id": "115b31c5",
   "metadata": {},
   "source": [
    "### 7. Create a Python class called `Animal` with a method `speak()`. Then, create child classes `Dog` and `Cat` that inherit from `Animal` and override the `speak()` method. Provide an example of using these classes."
   ]
  },
  {
   "cell_type": "code",
   "execution_count": 30,
   "id": "268e99a7",
   "metadata": {},
   "outputs": [
    {
     "name": "stdout",
     "output_type": "stream",
     "text": [
      "Dog says : Woof !!! \n",
      "Cat says : Meow !!!\n"
     ]
    }
   ],
   "source": [
    "# Parent class\n",
    "class Animal :\n",
    "    \n",
    "    # Constructor\n",
    "    def __init__(self,species):\n",
    "        self.species = species\n",
    "        \n",
    "    # Speak method\n",
    "    def speak(self):\n",
    "        pass\n",
    "    \n",
    "# Inheritance \n",
    "class Dog(Animal):\n",
    "    \n",
    "    # method overriding\n",
    "    def speak(self):\n",
    "        return \"Woof !!! \"\n",
    "    \n",
    "# Inheritance\n",
    "class Cat(Animal):\n",
    "    \n",
    "    # Method overriding\n",
    "    def speak(self):\n",
    "        return \"Meow !!!\"\n",
    "    \n",
    "# Creating instances of subclasses\n",
    "dog = Dog(\"Dog\")\n",
    "cat = Cat(\"Cat\")\n",
    "\n",
    "# Calling the speak method\n",
    "print(f\"{dog.species} says : {dog.speak()}\")\n",
    "print(f\"{cat.species} says : {cat.speak()}\")"
   ]
  },
  {
   "cell_type": "markdown",
   "id": "fd7423d6",
   "metadata": {},
   "source": [
    "### 8. Explain the role of the `isinstance()` function in Python and how it relates to inheritance."
   ]
  },
  {
   "cell_type": "markdown",
   "id": "ab05ffbb",
   "metadata": {},
   "source": [
    "The `isinstance()` function in Python is used to determine if an object belongs to a particular class or a subclass. It checkes the type of an object and returns True if the object is an instance of the specified class or a subclass of that class.\n",
    "\n",
    "The `isinstance()` function plays a key role in inheritance by allowing you to test whether an object is an instance of a specified class or one of its subclasses. It is often used for the following purposes:\n",
    "\n",
    "<b>Type Checking: </b> To ensure that an object is of the expected type before performing operations on it. This helps prevents errors and unexpected behavior.\n",
    "\n",
    "<b>Polymorphism : </b> To enable the use of objects of different classes in a generic way, as long as they share a common superclass. This is a fundamental concept in object-oriented programming and is closely related to inheritnace.\n",
    "\n",
    "Example:"
   ]
  },
  {
   "cell_type": "code",
   "execution_count": 31,
   "id": "9a90178d",
   "metadata": {},
   "outputs": [
    {
     "name": "stdout",
     "output_type": "stream",
     "text": [
      "True\n",
      "True\n",
      "False\n",
      "True\n"
     ]
    }
   ],
   "source": [
    "# Parent class\n",
    "class Animal :\n",
    "    \n",
    "    # Speak method\n",
    "    def speak(self):\n",
    "        pass\n",
    "    \n",
    "# Inheritance \n",
    "class Dog(Animal):\n",
    "    \n",
    "    # method overriding\n",
    "    def speak(self):\n",
    "        return \"Woof !!! \"\n",
    "    \n",
    "# Inheritance\n",
    "class Cat(Animal):\n",
    "    \n",
    "    # Method overriding\n",
    "    def speak(self):\n",
    "        return \"Meow !!!\"\n",
    "    \n",
    "# Creating instances of subclasses\n",
    "dog = Dog()\n",
    "cat = Cat()\n",
    "\n",
    "# Checking the type using isinstance\n",
    "print(isinstance(dog, Animal))\n",
    "print(isinstance(cat, Animal))\n",
    "print(isinstance(cat, Dog))\n",
    "print(isinstance(dog,Dog))"
   ]
  },
  {
   "cell_type": "markdown",
   "id": "0708c982",
   "metadata": {},
   "source": [
    "### 9. What is the purpose of the `issubclass()` function in Python? Provide an example."
   ]
  },
  {
   "cell_type": "markdown",
   "id": "b17935ac",
   "metadata": {},
   "source": [
    "The `issubclass()` function in Python is used to check if a given class is a subclass of a specified class or a subclass of any class in a tuple of classes. It returns True if the first class is a subclass of the second class or any class in the tuple, and False otherwise.\n",
    "\n",
    "Example:"
   ]
  },
  {
   "cell_type": "code",
   "execution_count": 32,
   "id": "5bda8ae0",
   "metadata": {},
   "outputs": [
    {
     "name": "stdout",
     "output_type": "stream",
     "text": [
      "True\n",
      "False\n",
      "True\n"
     ]
    }
   ],
   "source": [
    "class Animal:\n",
    "    pass\n",
    "\n",
    "class Dog(Animal):\n",
    "    pass\n",
    "\n",
    "# Checking if Dog is subclass of Animal\n",
    "print(issubclass(Dog, Animal))\n",
    "\n",
    "# Checking if Animal is subclass of Dog\n",
    "print(issubclass(Animal,Dog))\n",
    "\n",
    "# Checking if Animal is subclass of Dog\n",
    "print(issubclass(Dog,object))\n"
   ]
  },
  {
   "cell_type": "markdown",
   "id": "998eafa3",
   "metadata": {},
   "source": [
    "### 10. Discuss the concept of constructor inheritance in Python. How are constructors inherited in child classes?"
   ]
  },
  {
   "cell_type": "markdown",
   "id": "93110c88",
   "metadata": {},
   "source": [
    "In Python, constructor are inherited by default in child classses. This means that if a child class does not have its own `__init__` method, it will automatically inherit the `__init__` method of its parent class (superclass). If the child class does have its own `__init__` method, it will override the constructor of the parent class."
   ]
  },
  {
   "cell_type": "code",
   "execution_count": 33,
   "id": "10935b72",
   "metadata": {},
   "outputs": [
    {
     "name": "stdout",
     "output_type": "stream",
     "text": [
      "Species : Tom \n",
      "Breed : Golden Retriever\n",
      "Cat Species : Cat\n"
     ]
    }
   ],
   "source": [
    "# Parent class\n",
    "class Animal :\n",
    "    \n",
    "    # Constructor\n",
    "    def __init__(self,species):\n",
    "        self.species = species\n",
    "        \n",
    "    # Speak method\n",
    "    def speak(self):\n",
    "        pass\n",
    "    \n",
    "# Inheritance \n",
    "class Dog(Animal):\n",
    "    \n",
    "    # Constructor of Dog\n",
    "    def __init__(self,species, breed):\n",
    "        super().__init__(species)\n",
    "        self.breed = breed\n",
    "        \n",
    "    # method overriding\n",
    "    def speak(self):\n",
    "        return \"Woof !!! \"\n",
    "    \n",
    "# Inheritance\n",
    "class Cat(Animal):\n",
    "    \n",
    "    # Method overriding\n",
    "    def speak(self):\n",
    "        return \"Meow !!!\"\n",
    "    \n",
    "# Creating instances of subclasses\n",
    "dog = Dog(\"Tom\",\"Golden Retriever\")\n",
    "cat = Cat(\"Cat\")\n",
    "\n",
    "# Calling the speak method\n",
    "print(f\"Species : {dog.species} \\nBreed : {dog.breed}\")\n",
    "print(f\"Cat Species : {cat.species}\")"
   ]
  },
  {
   "cell_type": "markdown",
   "id": "5fb55e59",
   "metadata": {},
   "source": [
    "### 11. Create a Python class called `Shape` with a method `area()` that calculates the area of a shape. Then, create child classes `Circle` and `Rectangle` that inherit from `Shape` and implement the `area()` method accordingly. Provide an example."
   ]
  },
  {
   "cell_type": "code",
   "execution_count": 34,
   "id": "466a4ece",
   "metadata": {},
   "outputs": [
    {
     "name": "stdout",
     "output_type": "stream",
     "text": [
      "Area of the circle: 153.86\n",
      "Area of the rectangle: 108\n"
     ]
    }
   ],
   "source": [
    "class Shape:\n",
    "    # Define area method\n",
    "    def area(self):\n",
    "        pass\n",
    "\n",
    "# Circle clas inherited from Shape\n",
    "class Circle(Shape):\n",
    "    \n",
    "    # Constructor of circle class\n",
    "    def __init__(self, radius):\n",
    "        self.radius = radius\n",
    "\n",
    "    # Area method\n",
    "    def area(self):\n",
    "        return 3.14 * (self.radius ** 2)\n",
    "\n",
    "# Rectangle class inherited from Shape\n",
    "\n",
    "class Rectangle(Shape):\n",
    "\n",
    "    # Constructor of Rectangle class\n",
    "    def __init__(self, length, width):\n",
    "        self.length = length\n",
    "        self.width = width\n",
    "\n",
    "    # Area method\n",
    "    def area(self):\n",
    "        return self.length * self.width\n",
    "\n",
    "# Create Instances\n",
    "circle = Circle(7)\n",
    "rectangle = Rectangle(9, 12)\n",
    "\n",
    "## Calculate the Area of both class\n",
    "print(f\"Area of the circle: {circle.area()}\") \n",
    "print(f\"Area of the rectangle: {rectangle.area()}\")"
   ]
  },
  {
   "cell_type": "markdown",
   "id": "89de00a9",
   "metadata": {},
   "source": [
    "### 12. Explain the use of abstract base classes (ABCs) in Python and how they relate to inheritance. Provide an example using the `abc` module."
   ]
  },
  {
   "cell_type": "markdown",
   "id": "ce871ac2",
   "metadata": {},
   "source": [
    "<b>Abstract Base Classes </b>(ABCs) in Python provides a way to define a common interface for a group of related classes. They allow you to specify a set of methods that must be implemented by subclasses. In essence, ABCs define a contract that subclasses must adhere to.\n",
    "\n",
    "The abc module in Python's standard library is used to work with abstract base classes. It provides the ABC class and the absract method decorator, which are key components for creating and using abstract base classes.\n",
    "\n",
    "Example as below:\n"
   ]
  },
  {
   "cell_type": "code",
   "execution_count": 35,
   "id": "95923721",
   "metadata": {},
   "outputs": [
    {
     "name": "stdout",
     "output_type": "stream",
     "text": [
      "Can't instantiate abstract class Shape with abstract method area\n",
      "\n",
      "Area of the circle : 153.86\n",
      "Area of the Rectangle : 96\n"
     ]
    }
   ],
   "source": [
    "# Import module\n",
    "from abc import ABC, abstractmethod\n",
    "\n",
    "class Shape(ABC):\n",
    "    @abstractmethod\n",
    "    def area(self):\n",
    "        pass\n",
    "    \n",
    "# Inherit class\n",
    "class Circle(Shape):\n",
    "    \n",
    "    # Constrcutor\n",
    "    def __init__(self,radius):\n",
    "        self.radius = radius\n",
    "    \n",
    "    # Area method\n",
    "    def area(self):\n",
    "        return 3.14 * (self.radius **2)\n",
    "\n",
    "# Inherit class\n",
    "class Rectangle(Shape):\n",
    "    \n",
    "    # Constructor\n",
    "    def __init__(self,length, width):\n",
    "        self.length = length\n",
    "        self.width = width\n",
    "        \n",
    "    # Area method\n",
    "    def area(self):\n",
    "        return self.length * self.width\n",
    "    \n",
    "# Attempt to create an instance of Shape\n",
    "try:\n",
    "    shape = Shape()\n",
    "    \n",
    "except TypeError as e:\n",
    "    print(e)\n",
    "    \n",
    "circle = Circle(7)\n",
    "rectangle  = Rectangle(8,12)\n",
    "\n",
    "print() \n",
    "\n",
    "print(f\"Area of the circle : {circle.area()}\")\n",
    "print(f\"Area of the Rectangle : {rectangle.area()}\")"
   ]
  },
  {
   "cell_type": "markdown",
   "id": "b5b5024a",
   "metadata": {},
   "source": [
    "### 13. How can you prevent a child class from modifying certain attributes or methods inherited from a parent class in Python?"
   ]
  },
  {
   "cell_type": "markdown",
   "id": "ea45f900",
   "metadata": {},
   "source": [
    "You can prevent attributes to be modified or methods to be inherited by derived class by making them private by using name mangling.\n",
    "\n",
    "Example:"
   ]
  },
  {
   "cell_type": "code",
   "execution_count": 36,
   "id": "96c9e6b9",
   "metadata": {},
   "outputs": [
    {
     "name": "stdout",
     "output_type": "stream",
     "text": [
      "I am private attribute\n"
     ]
    }
   ],
   "source": [
    "class Parent:\n",
    "    \n",
    "    # Constrcutor having private attribute\n",
    "    def __init__(self):\n",
    "        self.__private_attribute = 'I am private attribute'\n",
    "        \n",
    "    # Print details method\n",
    "    def print_details(self):\n",
    "        print(self.__private_attribute)\n",
    "        \n",
    "# Inherit class\n",
    "class Child(Parent):\n",
    "    def __init__(self):\n",
    "        super().__init__()\n",
    "        self.__private_attribute = \"This won't affect the parent\"\n",
    "\n",
    "# child object\n",
    "child = Child()\n",
    "\n",
    "# print the details\n",
    "child.print_details()"
   ]
  },
  {
   "cell_type": "markdown",
   "id": "850e0cad",
   "metadata": {},
   "source": [
    "### 14. Create a Python class called `Employee` with attributes `name` and `salary`. Then, create a child class `Manager` that inherits from `Employee` and adds an attribute `department`. Provide an example."
   ]
  },
  {
   "cell_type": "code",
   "execution_count": 37,
   "id": "e8cc2fd2",
   "metadata": {},
   "outputs": [
    {
     "name": "stdout",
     "output_type": "stream",
     "text": [
      "Employee : Rohan, Salary : 50000\n",
      "Manager : Ashutosh, Salary : 80000, Department : IT\n"
     ]
    }
   ],
   "source": [
    "class Employee:\n",
    "    \n",
    "    # Constructor \n",
    "    def __init__(self, name, salary):\n",
    "        self.name = name\n",
    "        self.salary = salary\n",
    "\n",
    "# Inherit class\n",
    "class Manager(Employee):\n",
    "    \n",
    "    # Constructor\n",
    "    def __init__(self,name,salary,department):\n",
    "        super().__init__(name,salary)\n",
    "        self.department = department\n",
    "        \n",
    "# Create a object \n",
    "employee = Employee('Rohan',50000)\n",
    "manager = Manager('Ashutosh',80000,'IT')\n",
    "\n",
    "print(f\"Employee : {employee.name}, Salary : {employee.salary}\")\n",
    "print(f\"Manager : {manager.name}, Salary : {manager.salary}, Department : {manager.department}\")"
   ]
  },
  {
   "cell_type": "markdown",
   "id": "24739799",
   "metadata": {},
   "source": [
    "### 15. Discuss the concept of method overloading in Python inheritance. How does it differ from method overriding?"
   ]
  },
  {
   "cell_type": "markdown",
   "id": "3a8b86fe",
   "metadata": {},
   "source": [
    "The concept of method overloading in Python differs slightly from languages like Java or C++. In Python, you can't have multiple methods with the same name but different parameter lists in the same class.\n",
    "\n",
    "However, you can achieve similar functionality by using default arguments or variable-length argument lists.\n",
    "\n",
    "Example:"
   ]
  },
  {
   "cell_type": "code",
   "execution_count": 38,
   "id": "50450590",
   "metadata": {},
   "outputs": [
    {
     "name": "stdout",
     "output_type": "stream",
     "text": [
      "7\n",
      "12\n"
     ]
    }
   ],
   "source": [
    "class Calculator:\n",
    "    \n",
    "    # Add method\n",
    "    def add(self, a,b,c = None):\n",
    "        if c is not None:\n",
    "            return a+b+c\n",
    "        else:\n",
    "            return a+b\n",
    "        \n",
    "# Object creation\n",
    "calculator = Calculator()\n",
    "\n",
    "# calling the add method\n",
    "result1 = calculator.add(3,4)\n",
    "result2 = calculator.add(3,4,5)\n",
    "\n",
    "# print result\n",
    "print(result1)\n",
    "print(result2)"
   ]
  },
  {
   "cell_type": "markdown",
   "id": "c11f0a16",
   "metadata": {},
   "source": [
    "### 16. Explain the purpose of the `__init__()` method in Python inheritance and how it is utilized in child classes."
   ]
  },
  {
   "cell_type": "markdown",
   "id": "2d9c1661",
   "metadata": {},
   "source": [
    "The `__init__()` method also known as a constructor in Python is a special method that is automatically called when a new object is created from a class. It is used to initialize the object's attributes or perform any necessary setup for the object.\n",
    "\n",
    "In the context of inheritance, when a subclass is created, it can have its own `__init__()` method. If the subclass defines an `__init__()` method, it will override the `__init__()` method of the parent class. However, it's often desirable to also initialize the attributes inherited from the parent class.\n",
    "\n",
    "`super()` allows you to call a method or access an attribute of the parent class. Specially, `super().__init__()` is used in the child class's `__init__()` method to call the constructor of the parent class, ensuring that any necessary setup defined in the parent class's `__init__()` method is executed."
   ]
  },
  {
   "cell_type": "code",
   "execution_count": 39,
   "id": "6c9c1d55",
   "metadata": {},
   "outputs": [
    {
     "name": "stdout",
     "output_type": "stream",
     "text": [
      "Name : Ashutosh , Age : 26\n"
     ]
    }
   ],
   "source": [
    "class Parent:\n",
    "    \n",
    "    # Constructor\n",
    "    def __init__(self,name):\n",
    "        self.name = name\n",
    "        \n",
    "class Child(Parent):\n",
    "    \n",
    "    # Constrtuctor\n",
    "    def __init__(self,name,age):\n",
    "        super().__init__(name)\n",
    "        self.age = age\n",
    "    \n",
    "# Create instance\n",
    "child = Child('Ashutosh',26)\n",
    "\n",
    "print(f\"Name : {child.name} , Age : {child.age}\")"
   ]
  },
  {
   "cell_type": "markdown",
   "id": "9bb6877a",
   "metadata": {},
   "source": [
    "### 17. Create a Python class called `Bird` with a method `fly()`. Then, create child classes `Eagle` and `Sparrow` that inherit from `Bird` and implement the `fly()` method differently. Provide an example of using these classes."
   ]
  },
  {
   "cell_type": "code",
   "execution_count": 40,
   "id": "794b7873",
   "metadata": {},
   "outputs": [
    {
     "name": "stdout",
     "output_type": "stream",
     "text": [
      "The bird is flying.\n",
      "The eagle soars high in the sky.\n",
      "The sparrow flits from branch to branch.\n"
     ]
    }
   ],
   "source": [
    "class Bird:\n",
    "    \n",
    "    # fly method\n",
    "    def fly(self):\n",
    "        print(\"The bird is flying.\")\n",
    "    \n",
    "class Eagle(Bird):\n",
    "    \n",
    "    # Fly method for Eagle\n",
    "    def fly(self):\n",
    "        print(\"The eagle soars high in the sky.\")\n",
    "    \n",
    "class Sparrow(Bird):\n",
    "    \n",
    "    # Fly method of Sparrow\n",
    "    def fly(self):\n",
    "        print('The sparrow flits from branch to branch.')\n",
    "    \n",
    "# Create instance for each class\n",
    "bird = Bird()\n",
    "eagle = Eagle()\n",
    "sparrow = Sparrow()\n",
    "\n",
    "# Calling fly method from every class\n",
    "bird.fly()\n",
    "eagle.fly()\n",
    "sparrow.fly()"
   ]
  },
  {
   "cell_type": "markdown",
   "id": "b0eae77c",
   "metadata": {},
   "source": [
    "### 18. What is the \"diamond problem\" in multiple inheritance, and how does Python address it?"
   ]
  },
  {
   "cell_type": "markdown",
   "id": "4ba5e8f0",
   "metadata": {},
   "source": [
    "The \"diamond problem\" is a challenge that arises in programming languages that supports multiple inheritance. It occurs when a particular class inherits from two or more classes that have a common ancestor. This creates ambiguity for the compiler or interpreter in determining which version of a method or attribute to use.\n",
    "\n",
    "Example : Consider scenario A-->B-->D and A-->C-->D. Here, classes B and C both inherit from class A and class D inherits from both B and C. If both B and C define a method or attribute with the same name, there's ambiguity in D about which version of the method or attribute to use.\n",
    "\n",
    "Example of Diamond Problem:"
   ]
  },
  {
   "cell_type": "code",
   "execution_count": 41,
   "id": "4bdeba42",
   "metadata": {},
   "outputs": [
    {
     "name": "stdout",
     "output_type": "stream",
     "text": [
      "Father called.\n"
     ]
    }
   ],
   "source": [
    "class Person:\n",
    "    \n",
    "    # display method\n",
    "    def display(self):\n",
    "        print(\"Person called.\")\n",
    "\n",
    "class Father(Person):\n",
    "    \n",
    "    # display method of Father class\n",
    "    def display(self):\n",
    "        print(\"Father called.\")\n",
    "\n",
    "class Mother(Person):\n",
    "    \n",
    "    # display method of Mother class\n",
    "    def display(self):\n",
    "        print('Mother called.')\n",
    "        \n",
    "class Child(Father, Mother):\n",
    "    pass\n",
    "\n",
    "# Create an instance of Child Class\n",
    "child = Child()\n",
    "\n",
    "# calling the display method through child object\n",
    "child.display()"
   ]
  },
  {
   "cell_type": "markdown",
   "id": "0585a66d",
   "metadata": {},
   "source": [
    "#### Python's solution to Diamond Problem:\n",
    "\n",
    "The ambiguity that we noticed in the diamond problem, is something that becomes irrelevant once we talk about the Method Resolution Order in Python. This method resolution order is essentially an order in which a particular method is searched for in the hierarchy of classes in the case of inheritance. Python uses a specific order to search for methods or attributes in a multiple inheritance scenario. This order ensures that there is no ambuigity in determining which method or attribute to use.\n",
    "\n",
    "Python Method Resolution order algorithm ensures that methods are inherited in a consistent and predictable manner, and it prevents the diamond problem from occurring. It uses a depth-first, left-to-right approach to determine the method resolution order."
   ]
  },
  {
   "cell_type": "code",
   "execution_count": 42,
   "id": "dc4b498e",
   "metadata": {},
   "outputs": [
    {
     "data": {
      "text/plain": [
       "(__main__.Child, __main__.Father, __main__.Mother, __main__.Person, object)"
      ]
     },
     "execution_count": 42,
     "metadata": {},
     "output_type": "execute_result"
    }
   ],
   "source": [
    "Child.__mro__"
   ]
  },
  {
   "cell_type": "markdown",
   "id": "721102a2",
   "metadata": {},
   "source": [
    "Now here, in this order, we can observe that the class 'Father' comes before the class 'Mother'. This means that if we call the display() method on the class child, the python interpreter will invoke the display method of class 'Father'."
   ]
  },
  {
   "cell_type": "markdown",
   "id": "6082e01d",
   "metadata": {},
   "source": [
    "### 19. Discuss the concept of \"is-a\" and \"has-a\" relationships in inheritance, and provide examples of each."
   ]
  },
  {
   "cell_type": "markdown",
   "id": "8b1824fc",
   "metadata": {},
   "source": [
    "In object-oriented programming, \"is-a\" and \"has-a\" relationships are two fundamental concepts that describes the relationships between classes.\n",
    "\n",
    "1. <b>Is-a Relationship(Inheritance)</b> : An \"is-a\" relationship is established through inheritance. It signifies that a subclass is a specialized version of its superclass, inheriting its attributes and behaviors. It implies that an object of the subclass can be used whereever an object of the superclass is expected.\n",
    "\n",
    "For example, if you have a class Animal and a subclass Dog, you can say that \"a dog is an animal.\""
   ]
  },
  {
   "cell_type": "code",
   "execution_count": 43,
   "id": "96c4c4bb",
   "metadata": {},
   "outputs": [
    {
     "name": "stdout",
     "output_type": "stream",
     "text": [
      "Breathing\n",
      "Barking\n"
     ]
    }
   ],
   "source": [
    "class Animal:\n",
    "    \n",
    "    # define breathe method\n",
    "    def breathe(self):\n",
    "        print(\"Breathing\")\n",
    "    \n",
    "class Dog(Animal):\n",
    "    \n",
    "    # define bark method\n",
    "    def bark(self):\n",
    "        print(\"Barking\")\n",
    "        \n",
    "# Create an instance of dog class\n",
    "dog = Dog()\n",
    "\n",
    "# Calling both methods\n",
    "dog.breathe()\n",
    "dog.bark()"
   ]
  },
  {
   "cell_type": "markdown",
   "id": "5f909f51",
   "metadata": {},
   "source": [
    "2. <b>Has-a Relationship(Composition)</b>: A \"has-a\" relationship is established through composition, where one class contains an instance of another class as a member or attribute. It signifies that one class \"has\" another class as a part of its implementation.\n",
    "\n",
    "For example, a Car \"has\" a engine."
   ]
  },
  {
   "cell_type": "code",
   "execution_count": 44,
   "id": "c776d66c",
   "metadata": {},
   "outputs": [
    {
     "name": "stdout",
     "output_type": "stream",
     "text": [
      "Engine starting.\n",
      "Car Driving\n"
     ]
    }
   ],
   "source": [
    "class Engine:\n",
    "    \n",
    "    # Start method\n",
    "    def start(self):\n",
    "        print('Engine starting.')\n",
    "        \n",
    "class Car:\n",
    "    \n",
    "    # Constructor\n",
    "    def __init__(self):\n",
    "        self.engine = Engine()\n",
    "    \n",
    "    # Drive method\n",
    "    def drive(self):\n",
    "        self.engine.start()\n",
    "        print('Car Driving')\n",
    "    \n",
    "# Create an instance\n",
    "car = Car()\n",
    "car.drive()"
   ]
  },
  {
   "cell_type": "markdown",
   "id": "1afda3e4",
   "metadata": {},
   "source": [
    "### 20. Create a Python class hierarchy for a university system. Start with a base class `Person` and create child classes `Student` and `Professor`, each with their own attributes and methods. Provide an example of using these classes in a university context."
   ]
  },
  {
   "cell_type": "code",
   "execution_count": 45,
   "id": "57b30ad0",
   "metadata": {},
   "outputs": [
    {
     "name": "stdout",
     "output_type": "stream",
     "text": [
      "Hi, I'm Ashutosh and I'm 1 years old.\n",
      "Ashutosh is studying Data Science.\n",
      "\n",
      "Hi, I'm Madhav and I'm 34 years old.\n",
      "Professor Madhav is teaching Machine Learning in the Computer Engineering department.\n"
     ]
    }
   ],
   "source": [
    "# Base class\n",
    "class Person:\n",
    "    \n",
    "    # Constructor\n",
    "    def __init__(self,name,age):\n",
    "        self.name = name\n",
    "        self.age = age\n",
    "        \n",
    "    # introduce method\n",
    "    def introduce(self):\n",
    "        print(f\"Hi, I'm {self.name} and I'm {self.age} years old.\")\n",
    "        \n",
    "# Create child class\n",
    "class Student(Person):\n",
    "    \n",
    "    # Constructor\n",
    "    def __init__(self,name,age,studentId):\n",
    "        super().__init__(name,age)\n",
    "        self.studentId = studentId\n",
    "    \n",
    "    # Study method\n",
    "    def study(self,subject):\n",
    "        print(f\"{self.name} is studying {subject}.\")\n",
    "\n",
    "# Create another child class\n",
    "class Professor(Person):\n",
    "    \n",
    "    # Constructor\n",
    "    def __init__(self,name,age,employeeId, department):\n",
    "        super().__init__(name,age)\n",
    "        self.employeeId = employeeId\n",
    "        self.department = department\n",
    "        \n",
    "    def teach(self,subject):\n",
    "        print(f\"Professor {self.name} is teaching {subject} in the {self.department} department.\")\n",
    "        \n",
    "    \n",
    "# Create an instance of Student and Professor class\n",
    "student1 = Student('Ashutosh',1,\"100\")\n",
    "proffessor1 = Professor('Madhav',34,\"CS12\",'Computer Engineering')\n",
    "\n",
    "# Calling the introduce, study and teach method\n",
    "student1.introduce()\n",
    "student1.study(\"Data Science\")\n",
    "\n",
    "print()\n",
    "\n",
    "proffessor1.introduce()\n",
    "proffessor1.teach(\"Machine Learning\")\n",
    "        "
   ]
  },
  {
   "cell_type": "markdown",
   "id": "43683e16",
   "metadata": {},
   "source": [
    "## Encapsulation:"
   ]
  },
  {
   "cell_type": "markdown",
   "id": "0ff517a6",
   "metadata": {},
   "source": [
    "### 1. Explain the concept of encapsulation in Python. What is its role in object-oriented programming?"
   ]
  },
  {
   "cell_type": "markdown",
   "id": "9cf808a7",
   "metadata": {},
   "source": [
    "Encapsulation refers to the bundling of data(attributes) and the methods (functions) that operates on that data within a single unit, often referred to as a \"class\". The role of encapsulation in object-oriented programming(OOP) is to bundle data(attributes) and the methods (functions) that operate on that data within a single unit.\n",
    "\n",
    "The key points of encapsulation are:\n",
    "\n",
    "- <b>Data Hiding</b>: Encapsulation allows the internal statue of an object to be hidden from the outside world. This means that the data inside an object can only be accessed and modified through methods defined in the class.\n",
    "\n",
    "\n",
    "- <b>Access Control</b>: Encapsulation provides control over who can access or modify the data. By defining specific methods(getter and setters), a class can restrict direct access to its attributes, enforcing controlled interactions.\n",
    "\n",
    "\n",
    "- <b>Modularity and Maintainability</b>: Encapsulation promotes modularity by grouping related data and behavior together. This makes it easier to understand, maintain and modify the code, as changes are localized within the class.\n",
    "\n",
    "\n",
    "- <b>Prevents Unintended Modifications </b>: Encapsulation helps prevent unintended modifications to an object's state by providing a controlled interface for interfacing with the object. This reduces the risk of errors caused by unexpected changes in the data.\n",
    "\n",
    "\n",
    "In Python, encapsulation is achieved by using access modifiers such as underscores(`_` and `__`) to control visibility of attributes and methods. These are conventions as Python does not have strict access control like some other languages.\n",
    "\n",
    "Single underscore _attribue : Indicates a \"protected\" attribute. It meant to be used as a non-public part of the API, but it can still be accessed outside the class.\n",
    "\n",
    "Double underscore __attribute: Indicates a \"private\" attribute. It's name-mangled to make it harder to create subclasses that accidentally override private methods and attributes."
   ]
  },
  {
   "cell_type": "markdown",
   "id": "19bb335f",
   "metadata": {},
   "source": [
    "### 2. Describe the key principles of encapsulation, including access control and data hiding."
   ]
  },
  {
   "cell_type": "markdown",
   "id": "f2ec7355",
   "metadata": {},
   "source": [
    "Encapsulation refers to the bundling of data(attributes) and the methods (functions) that operates on that data within a single unit, often referred to as a \"class\". \n",
    "\n",
    "The key principles of encapsulation are:\n",
    "\n",
    "- <b>Data Hiding</b>: Encapsulation allows the internal statue of an object to be hidden from the outside world. This means that the data inside an object can only be accessed and modified through methods defined in the class.\n",
    "\n",
    "\n",
    "- <b>Access Control</b>: Encapsulation provides control over who can access or modify the data. By defining specific methods(getter and setters), a class can restrict direct access to its attributes, enforcing controlled interactions.\n",
    "\n",
    "\n",
    "- <b>Modularity and Maintainability</b>: Encapsulation promotes modularity by grouping related data and behavior together. This makes it easier to understand, maintain and modify the code, as changes are localized within the class.\n",
    "\n",
    "\n",
    "- <b>Prevents Unintended Modifications </b>: Encapsulation helps prevent unintended modifications to an object's state by providing a controlled interface for interfacing with the object. This reduces the risk of errors caused by unexpected changes in the data.\n",
    "\n",
    "\n",
    "- <b>Enhanced Security</b>: Encapsulation contributes to the security of a program by preventing direct access to sensitive data. It ensures that data can only be modified or accessed through desginated methods, reducing the risk of unauthorized changes.\n",
    "\n",
    "\n",
    "- <b>Code Resuability</b>: Encapsulation allows classes to be used as building blocks for creating more complex systems. Once a class is defined, it can be reused in different parts of a program or in different programs altogether.\n",
    "\n",
    "<b>Access Control and Data Hiding</b> In Python, encapsulation is achieved by using access modifiers such as underscores(`_` and `__`) to control the visibility of attributes and methods. These are conventions, as Python does not have strict access control like some other languages. \n",
    "\n",
    "- <b>Single underscore _attribute</b>: Indicates a \"protected\" attribute. It meant to be used as a non-public part of the API, but it can still be accessed outside the class.\n",
    "\n",
    "- <b>Double underscore __attribute</b>: Indicates a \"private\" attribute. It's name-mangled to make it harder to create subclasses that accidentally override private methods and attributes."
   ]
  },
  {
   "cell_type": "markdown",
   "id": "8420f32a",
   "metadata": {},
   "source": [
    "### 3. How can you achieve encapsulation in Python classes? Provide an example."
   ]
  },
  {
   "cell_type": "markdown",
   "id": "ff9dbb41",
   "metadata": {},
   "source": [
    "<b>Encapsulation</b> in Python classes can be achieved by using access modifiers such as underscores(_ and __) to control the visibility of attributes and methods. While Python does not have strict access control like some other languages, theses convention are used to indicate the intended level of visibility.\n",
    "\n",
    "\n",
    "- <b>Single underscore _attribute</b>: Indicates a \"protected\" attribute. It meant to be used as a non-public part of the API, but it can still be accessed outside the class.\n",
    "\n",
    "- <b>Double underscore __attribute</b>: Indicates a \"private\" attribute. It's name-mangled to make it harder to create subclasses that accidentally override private methods and attributes.\n",
    "\n",
    "Example:"
   ]
  },
  {
   "cell_type": "code",
   "execution_count": 46,
   "id": "ba8f05d7",
   "metadata": {},
   "outputs": [
    {
     "name": "stdout",
     "output_type": "stream",
     "text": [
      "Account Number: 1234\n",
      "Balance : 9500\n"
     ]
    }
   ],
   "source": [
    "class BankAccount:\n",
    "    \n",
    "    # Constructor\n",
    "    def __init__(self,accountNumber):\n",
    "        self._accountNumber = accountNumber\n",
    "        self.__balance = 0\n",
    "        \n",
    "    # Deposit method\n",
    "    def deposit(self, amount):\n",
    "        self.__balance += amount\n",
    "        \n",
    "    # Withdraw method\n",
    "    def withdraw(self,amount):\n",
    "        if self.__balance >= amount:\n",
    "            self.__balance -=amount\n",
    "        else:\n",
    "            print('Insufficient funds.')\n",
    "    \n",
    "    # Get Balance\n",
    "    def get_balance(self):\n",
    "        return self.__balance\n",
    "    \n",
    "    # Get Account Number\n",
    "    def get_account_number(self):\n",
    "        return self._accountNumber\n",
    "    \n",
    "# Creating an account\n",
    "account = BankAccount(\"1234\")\n",
    "\n",
    "# Calling the deposit and withdraw method\n",
    "account.deposit(10000)\n",
    "account.withdraw(500)\n",
    "\n",
    "# Calling the getter method of account number and balance\n",
    "print(f\"Account Number: {account.get_account_number()}\")\n",
    "print(f\"Balance : {account.get_balance()}\")"
   ]
  },
  {
   "cell_type": "markdown",
   "id": "2072ee5e",
   "metadata": {},
   "source": [
    "### 4. Discuss the difference between public, private, and protected access modifiers in Python."
   ]
  },
  {
   "cell_type": "markdown",
   "id": "44c1edb3",
   "metadata": {},
   "source": [
    "In Python, access modifiers are conventions used to indicate the intended level of visibility for attributes and methods within a class. These access modifiers help in maintaining code integrity and readability.\n",
    "\n",
    "- <b>Public (public)</b>:\n",
    "    - Attributes or methods with no underscores(`_`) prefix are considered as public.\n",
    "    - They can be accessed from outside the class as well as from within the class itself and its subclasses.\n",
    "    - Example `def method(self):`\n",
    "    \n",
    "    \n",
    "- <b>Protected (protected)</b>:\n",
    "    - Attributes or methods with single underscores(`_`) prefix are considered as protected.\n",
    "    - They are intended for internal use within the class and its subclasses.\n",
    "    - While they can be accessed from outside the class, it's a convention to treat them as non-public.\n",
    "    - Example `def _method(self):`\n",
    "    \n",
    "    \n",
    "- <b>Private (private)</b>:\n",
    "    - Attributes or methods with double underscores(`__`) prefix are considered as private.\n",
    "    - They are intended for internal use within the class only and are name-mangled to make it harder to create subclasses that accidentally override private methods and attributes.\n",
    "    - They cannot be accessed from outside the class.\n",
    "    - Example `def __method(self):`\n",
    "\n",
    "\n",
    "Example code:"
   ]
  },
  {
   "cell_type": "code",
   "execution_count": 47,
   "id": "262bb4e3",
   "metadata": {},
   "outputs": [
    {
     "name": "stdout",
     "output_type": "stream",
     "text": [
      "1\n",
      "2\n",
      "\n",
      "Public Method\n",
      "Protected Method\n"
     ]
    }
   ],
   "source": [
    "class Example:\n",
    "    \n",
    "    # constructor\n",
    "    def __init__(self):\n",
    "        self.public_attribute = 1\n",
    "        self._protected_attribute = 2\n",
    "        self.__private_attribute = 3\n",
    "        \n",
    "    # public method\n",
    "    def public_method(self):\n",
    "        return \"Public Method\"\n",
    "    \n",
    "    # protected method\n",
    "    def _protected_method(self):\n",
    "        return \"Protected Method\"\n",
    "    \n",
    "    # private method\n",
    "    def __private_method(self):\n",
    "        return \"Private Method\"\n",
    "    \n",
    "# Create an object\n",
    "obj = Example()\n",
    "\n",
    "# Accessing attribute\n",
    "print(obj.public_attribute)\n",
    "print(obj._protected_attribute)\n",
    "# print(obj.__private_attribute) # Cannot access the private attribute it will throw error\n",
    "\n",
    "print() \n",
    "\n",
    "# Accessing methods\n",
    "print(obj.public_method())\n",
    "print(obj._protected_method())\n",
    "# print(obj.public_method()) # Cannot access the private method it will throw error"
   ]
  },
  {
   "cell_type": "markdown",
   "id": "23343436",
   "metadata": {},
   "source": [
    "### 5. Create a Python class called `Person` with a private attribute `__name`. Provide methods to get and set the name attribute."
   ]
  },
  {
   "cell_type": "code",
   "execution_count": 48,
   "id": "62776fb0",
   "metadata": {},
   "outputs": [
    {
     "name": "stdout",
     "output_type": "stream",
     "text": [
      "Ashutosh\n",
      "\n",
      "Ashutosh Sahu\n"
     ]
    }
   ],
   "source": [
    "class Person:\n",
    "    \n",
    "    # Constructor\n",
    "    def __init__(self,name):\n",
    "        self.__name = name\n",
    "        \n",
    "    # Get name \n",
    "    def get_name(self):\n",
    "        return self.__name\n",
    "    \n",
    "    # Set name\n",
    "    def set_name(self,new_name):\n",
    "        self.__name = new_name\n",
    "        \n",
    "# Create an object of Person\n",
    "person = Person('Ashutosh')\n",
    "\n",
    "# Access the get method\n",
    "print(person.get_name())\n",
    "\n",
    "print()\n",
    "\n",
    "# Change the name using set method\n",
    "person.set_name('Ashutosh Sahu')\n",
    "print(person.get_name())"
   ]
  },
  {
   "cell_type": "markdown",
   "id": "90ac283c",
   "metadata": {},
   "source": [
    "### 6. Explain the purpose of getter and setter methods in encapsulation. Provide examples."
   ]
  },
  {
   "cell_type": "markdown",
   "id": "0e1c3902",
   "metadata": {},
   "source": [
    "Getter and Setter mehods are part of encapsulation in object-oriented programming. They provide controlled access to the attributes of a class allowing you to modify and retrieve their values. This helps maintain data integrity and enables you to add additional logic or validation when getting or setting attributes.\n",
    "\n",
    "#### Getter Methods(also known as Accessor Methods):\n",
    "\n",
    "- Getter Methods are used to retrieve the values of the private attributes.\n",
    "- They provide controlled read-only access to the attribute value.\n",
    "- They can include additional logic or validation before returning the value.\n",
    "\n",
    "#### Setter Methods(also known as Mutator Methods):\n",
    "\n",
    "- Setter Methods are used to modify the values of private attributes.\n",
    "- They provide controlled write-only access to attribute value.\n",
    "- They can include validation or additional logic to ensure that the new value is acceptable.\n",
    "\n",
    "Example Code:\n"
   ]
  },
  {
   "cell_type": "code",
   "execution_count": 49,
   "id": "8d548bc1",
   "metadata": {},
   "outputs": [
    {
     "name": "stdout",
     "output_type": "stream",
     "text": [
      "15\n",
      "10\n",
      "\n",
      "Area of Rectangle :  12\n"
     ]
    }
   ],
   "source": [
    "class Rectangle:\n",
    "    \n",
    "    # Constructor\n",
    "    def __init__(self, width, height):\n",
    "        self.__width = width\n",
    "        self.__height = height\n",
    "    \n",
    "    # Getter Methods\n",
    "    def get_width(self):\n",
    "        return self.__width\n",
    "    \n",
    "    def get_height(self):\n",
    "        return self.__height\n",
    "    \n",
    "    # Setter Methods\n",
    "    def set_width(self, width):\n",
    "        if width > 0:\n",
    "            self.__width = width\n",
    "\n",
    "    def set_height(self, height):\n",
    "        if height > 0:\n",
    "            self.__height = height\n",
    "\n",
    "    # Area method\n",
    "    def area(self):\n",
    "        return self.__width * self.__height\n",
    "    \n",
    "# Create an object\n",
    "rectangle = Rectangle(15,10)\n",
    "\n",
    "# Call the getter method\n",
    "print(rectangle.get_width())\n",
    "print(rectangle.get_height())\n",
    "\n",
    "# Calling the setter method\n",
    "rectangle.set_width(3)\n",
    "rectangle.set_height(4)\n",
    "\n",
    "print()\n",
    "\n",
    "# Area method\n",
    "print(\"Area of Rectangle : \",rectangle.area())"
   ]
  },
  {
   "cell_type": "markdown",
   "id": "a95e1e62",
   "metadata": {},
   "source": [
    "### 7. What is name mangling in Python, and how does it affect encapsulation?"
   ]
  },
  {
   "cell_type": "markdown",
   "id": "2724288f",
   "metadata": {},
   "source": [
    "Name mangling is a technique used in python to make attributes in a class more difficult to access from outside the class. It involves adding a prefix or suffix to an attribute name to make it harder to accidentally override or access it.\n",
    "\n",
    "In Python, name mangling is achieved by adding two underscores(__) before an attribute name. When this is done, the Python interpreter actually changes the name of the variable in a way that makes it harder to create subclasses that accidentally override private methods and attributes.\n",
    "\n",
    "Name mangling affects encapsulation by making it harder to accidentally override or access private attributes. It adds an extra level of protection, but it's important to note that it's still possible to access these attributes if you really want to.\n"
   ]
  },
  {
   "cell_type": "markdown",
   "id": "e25e3eb5",
   "metadata": {},
   "source": [
    "### 8. Create a Python class called `BankAccount` with private attributes for the account balance (`__balance`) and account number (`__account_number`). Provide methods for depositing and withdrawing money."
   ]
  },
  {
   "cell_type": "code",
   "execution_count": 50,
   "id": "a6e195f1",
   "metadata": {},
   "outputs": [
    {
     "name": "stdout",
     "output_type": "stream",
     "text": [
      "Account Number: 1234\n",
      "Balance : 0\n",
      "Updated Balance after deposit : 10000\n",
      "Updated Balance afte withdraw : 9500\n"
     ]
    }
   ],
   "source": [
    "class BankAccount:\n",
    "    \n",
    "    # Constructor\n",
    "    def __init__(self,accountNumber, initial_balance = 0):\n",
    "        self.__accountNumber = accountNumber\n",
    "        self.__balance = initial_balance\n",
    "        \n",
    "    # Deposit method\n",
    "    def deposit(self, amount):\n",
    "        if amount > 0:\n",
    "            self.__balance += amount\n",
    "        else:\n",
    "            print('Invalid Deposit Amount.')\n",
    "            \n",
    "    # Withdraw method\n",
    "    def withdraw(self,amount):\n",
    "        if 0< amount <= self.__balance:\n",
    "            self.__balance -=amount\n",
    "        else:\n",
    "            print('Insufficient funds.')\n",
    "    \n",
    "    # Get Balance\n",
    "    def get_balance(self):\n",
    "        return self.__balance\n",
    "    \n",
    "    # Get Account Number\n",
    "    def get_account_number(self):\n",
    "        return self.__accountNumber\n",
    "    \n",
    "# Creating an account\n",
    "account = BankAccount(\"1234\")\n",
    "\n",
    "# Calling the getter method of account number and balance\n",
    "print(f\"Account Number: {account.get_account_number()}\")\n",
    "print(f\"Balance : {account.get_balance()}\")\n",
    "\n",
    "# Calling the deposit method\n",
    "account.deposit(10000)\n",
    "print(\"Updated Balance after deposit :\",account.get_balance())\n",
    "\n",
    "# Calling the withdraw method\n",
    "account.withdraw(500)\n",
    "print(\"Updated Balance afte withdraw :\",account.get_balance())"
   ]
  },
  {
   "cell_type": "markdown",
   "id": "c053023a",
   "metadata": {},
   "source": [
    "### 9. Discuss the advantages of encapsulation in terms of code maintainability and security."
   ]
  },
  {
   "cell_type": "markdown",
   "id": "39b9b3dc",
   "metadata": {},
   "source": [
    "Encapsulation is a fundamental concept in object-oriented programming that offers several advantages in terms of code maintainability and security:\n",
    "\n",
    "1. <b>Code Maintainability</b>:\n",
    "\n",
    "- <b>Modularization</b>: Encapuslation allows you to modularize your code by defining a clear interface for interactions with objects. This makes it easier to understand, modify and extend your code.\n",
    "\n",
    "\n",
    "- <b>Reduced Complexity</b>: By hiding the internal implementation details of a class, encapsulation simplifies the interface and shileds the rest of the code from the complexist of the class's internals.\n",
    "\n",
    "\n",
    "- <b>Improved Readability</b>: Encapsulation promotes a clean separation between the public interface and private implementation, making the code more readable and comphrensible.\n",
    "\n",
    "\n",
    "2. <b>Security</b>:\n",
    "\n",
    "\n",
    "- <b>Controlled Access</b>: Encapuslation restricts access to certain attributes and methods by making them private or protected. This prevents unintended or unauthorized modifications, reducing the risk of bugs and security vulnerabilities.\n",
    "\n",
    "\n",
    "- <b>Data Validation</b>: Encapuslation allows you to add validation logic within setter methods, ensuring that only valid data is stored in object attributes. This is especially important for maintaining data integrity and security.\n",
    "\n",
    "\n",
    "- <b>Prevention of Unauthorized Modifications</b>: By hiding the internal state of an object and allowing controlled access, encapsulation helps prevent unintended or unauthorized modifications to an object's attributes."
   ]
  },
  {
   "cell_type": "markdown",
   "id": "465a83a8",
   "metadata": {},
   "source": [
    "### 10. How can you access private attributes in Python? Provide an example demonstrating the use of name mangling."
   ]
  },
  {
   "cell_type": "markdown",
   "id": "0f73ea91",
   "metadata": {},
   "source": [
    "Name Mangling involves adding a prefix to the attribute name, which makes it harder to access from outside the class.\n",
    "\n",
    "Private attributes in Python are those that start with two underscores(`__`). When python encounters this, it internally changes the name of the variable to `_classname__variablename`. This is known as Name Mangling.\n",
    "\n",
    "Private attributes cane be accessed using a technique called \"name mangling\". We can access the private attribute of the class using `_classname__variablename`.\n",
    "\n",
    "Example as below:\n"
   ]
  },
  {
   "cell_type": "code",
   "execution_count": 51,
   "id": "d06c3380",
   "metadata": {},
   "outputs": [
    {
     "name": "stdout",
     "output_type": "stream",
     "text": [
      "23\n"
     ]
    }
   ],
   "source": [
    "class MyClass:\n",
    "    \n",
    "    # Constructor\n",
    "    def __init__(self):\n",
    "        self.__privateAttribute = 23\n",
    "        \n",
    "    # Access method\n",
    "    def access_private_method(self):\n",
    "        return self.__privateAttribute\n",
    "    \n",
    "# Create an instance\n",
    "my_object = MyClass()\n",
    "\n",
    "# Accessing the private attribute using the Name Mangling technique\n",
    "print(my_object._MyClass__privateAttribute)"
   ]
  },
  {
   "cell_type": "markdown",
   "id": "2e084fb7",
   "metadata": {},
   "source": [
    "### 11. Create a Python class hierarchy for a school system, including classes for students, teachers, and courses, and implement encapsulation principles to protect sensitive information."
   ]
  },
  {
   "cell_type": "code",
   "execution_count": 52,
   "id": "b91fa929",
   "metadata": {},
   "outputs": [
    {
     "name": "stdout",
     "output_type": "stream",
     "text": [
      "Course : Data Science (DS01)\n",
      "Teacher : Prof. Nilima, Employee Id : TA12\n",
      "\n",
      "Student : Riyan, Student Id : CS123, Age : 18\n",
      "Student : Tanvi, Student Id : CS126, Age : 13\n"
     ]
    }
   ],
   "source": [
    "# Person Class\n",
    "class Person:\n",
    "    \n",
    "    # Constructor \n",
    "    def __init__(self, name,age):\n",
    "        self.__name = name\n",
    "        self.__age = age\n",
    "        \n",
    "    # Get name method\n",
    "    def get_name(self):\n",
    "        return self.__name\n",
    "    \n",
    "    # Get Age method\n",
    "    def get_age(self):\n",
    "        return self.__age\n",
    "    \n",
    "# Student class\n",
    "class Student(Person):\n",
    "    \n",
    "    # Constructor\n",
    "    def __init__(self, name, age, studentId):\n",
    "        super().__init__(name,age)\n",
    "        self.__studentId = studentId\n",
    "        \n",
    "    # Get StudentId method\n",
    "    def get_studentId(self):\n",
    "        return self.__studentId\n",
    "    \n",
    "# Teacher Class\n",
    "class Teacher(Person):\n",
    "    \n",
    "    # Constructor\n",
    "    def __init__(self, name,age,teacherId):\n",
    "        super().__init__(name,age)\n",
    "        self.__teacherId = teacherId\n",
    "    \n",
    "    # Get teacherId method\n",
    "    def get_teacherId(self):\n",
    "        return self.__teacherId\n",
    "    \n",
    "# Course class\n",
    "class Course:\n",
    "    \n",
    "    # Constructor\n",
    "    def __init__(self,courseName,courseCode):\n",
    "        self.__courseName = courseName\n",
    "        self.__courseCode = courseCode\n",
    "        self.__students = []\n",
    "        \n",
    "    # Get courseName method\n",
    "    def get_courseName(self):\n",
    "        return self.__courseName\n",
    "    \n",
    "    # Get courseCode method\n",
    "    def get_courseId(self):\n",
    "        return self.__courseCode\n",
    "    \n",
    "    # Add student method\n",
    "    def add_student(self,student):\n",
    "        self.__students.append(student)\n",
    "        \n",
    "    # Get student method\n",
    "    def get_students(self):\n",
    "        return self.__students\n",
    "    \n",
    "# Create an object for classes\n",
    "student1 = Student('Riyan',18,'CS123')\n",
    "student2 = Student('Tanvi',13,'CS126')\n",
    "\n",
    "teacher = Teacher('Prof. Nilima',38,\"TA12\")\n",
    "\n",
    "course = Course('Data Science',\"DS01\")\n",
    "\n",
    "# Calling add method for course\n",
    "course.add_student(student1)\n",
    "course.add_student(student2)\n",
    "\n",
    "# Print the Information using the get methods \n",
    "print(f\"Course : {course.get_courseName()} ({course.get_courseId()})\")\n",
    "print(f\"Teacher : {teacher.get_name()}, Employee Id : {teacher.get_teacherId()}\")\n",
    "\n",
    "print()\n",
    "\n",
    "for student in course.get_students():\n",
    "    print(f\"Student : {student.get_name()}, Student Id : {student.get_studentId()}, Age : {student.get_age()}\")"
   ]
  },
  {
   "cell_type": "markdown",
   "id": "e8887a7d",
   "metadata": {},
   "source": [
    "### 12. Explain the concept of property decorators in Python and how they relate to encapsulation."
   ]
  },
  {
   "cell_type": "markdown",
   "id": "c574a73b",
   "metadata": {},
   "source": [
    "<b>Property Decorators</b> are mechanism for controlling access to class attributes by providing getter, setter and deleter methods for these attributes. They are used to implement encapsulation and control how attribute values are accessed, set or deleted.\n",
    "\n",
    "Property Decorators are typically applied to class attributes, allowing you to define custom behavior when reading, writing or deleting the values of those attributes. This is achieved using the `@property`,`@attribute_name.setter`, and `@attribute_name.deleter` decorators. Here's how they are releated to encapsulation:\n",
    "\n",
    "<b>@property</b>: This decorators is used for getter methods. It allows you to define how an attribute's value is reterived when accessed. By using `@property` or `@property.getter`, you can encapsulate the internal representation of an attribute and provide a controlled way to access it. This is especially when you need to calculate or validate the value before returning it.\n",
    "\n",
    "<b>@attribute_name.setter</b> : This decorator is used for setter methods. It allows you to control how the attribute's value is set. With a setter, you can validate and modify the incoming value before assigning it to the attribute, ensuring data integrity and security.\n",
    "\n",
    "<b>@attribute_name.deleter</b>: This decorator is used for deleter methods. It allows you to specify the behavior when an attribute is deleted. This can be usefuly for releasing resources or implementing additional cleanup actions."
   ]
  },
  {
   "cell_type": "code",
   "execution_count": 53,
   "id": "65c35739",
   "metadata": {},
   "outputs": [
    {
     "name": "stdout",
     "output_type": "stream",
     "text": [
      "Getting Name : \n",
      "Ashutosh\n",
      "Setting Name \n",
      "Deleting Name\n",
      "Getting Age\n",
      "26\n"
     ]
    }
   ],
   "source": [
    "class Student:\n",
    "    \n",
    "    # Constructor\n",
    "    def __init__(self,name,age):\n",
    "        self._name = name\n",
    "        self._age = age\n",
    "        \n",
    "    @property\n",
    "    def name(self):\n",
    "        print(\"Getting Name : \")\n",
    "        return self._name\n",
    "    \n",
    "    @name.setter\n",
    "    def name(self, new_name):\n",
    "        print(\"Setting Name \")\n",
    "        self._name = new_name\n",
    "        \n",
    "    @name.deleter\n",
    "    def name(self):\n",
    "        print(\"Deleting Name\")\n",
    "        del self._name\n",
    "    \n",
    "    @property\n",
    "    def age(self):\n",
    "        print(\"Getting Age\")\n",
    "        return self._age\n",
    "    \n",
    "# Create an object\n",
    "student = Student('Ashutosh',26)\n",
    "\n",
    "# Using the getter\n",
    "print(student.name)\n",
    "\n",
    "# Using the setter\n",
    "student.name = \"Ashutosh Sahu\"\n",
    "\n",
    "# Deleting the name \n",
    "del student.name\n",
    "\n",
    "# Get age\n",
    "print(student.age)"
   ]
  },
  {
   "cell_type": "markdown",
   "id": "d335f7b9",
   "metadata": {},
   "source": [
    "### 13. What is data hiding, and why is it important in encapsulation? Provide examples."
   ]
  },
  {
   "cell_type": "markdown",
   "id": "4e0bb576",
   "metadata": {},
   "source": [
    "<b>Data Hiding</b> is a fundamental principle in object-oriented programming that involves restricting access to certain attributes or methods of a class. It allows the internal state and behavior of an object to be kept private and accessible only through a defined public interface.\n",
    "\n",
    "The main goal of data hiding is to protect the internal representation of an object from external interference or misuse.\n",
    "\n",
    "#### Why Data Hiding is Important in Encapsulation:\n",
    "\n",
    "- <b>Preventing Unauthorized Access : </b> Data hiding helps prevent unauthorized or unintended access to sensitive attributes or methods. This is crucial for maintaining the integrity and security of an object's state.\n",
    "\n",
    "\n",
    "- <b>Maintaining Abstraction : </b> By hiding the internal details of an object, you can present a simplified and abstract view of the object's behavior to the outside world. This abstraction makes it easier to understand and use the object without being concerned about its internal implementation. \n",
    "\n",
    "\n",
    "- <b>Facilitating Code Maintenance : </b> With data hiding, you can modify the internal implementation of a class without affecting the code that uses it. This reduces the risk of unintended side effects and makes it easier to maintain and evolve the codebase.\n",
    "\n",
    "\n",
    "- <b>Enhancing Security: </b> By controlling access to sensitive attributes, you can prevent unauthorized modifications that could lead to security vulnerabilities or incorrect behavior.\n",
    "\n",
    "\n",
    "Example of Data Hiding :"
   ]
  },
  {
   "cell_type": "code",
   "execution_count": 54,
   "id": "9d5417bd",
   "metadata": {},
   "outputs": [
    {
     "name": "stdout",
     "output_type": "stream",
     "text": [
      "Account Number: 1234\n",
      "Balance : 0\n",
      "Updated Balance after deposit : 10000\n",
      "Updated Balance afte withdraw : 9500\n"
     ]
    }
   ],
   "source": [
    "class BankAccount:\n",
    "    \n",
    "    # Constructor\n",
    "    def __init__(self,accountNumber, initial_balance):\n",
    "        self.__accountNumber = accountNumber\n",
    "        self.__balance = initial_balance\n",
    "        \n",
    "    # Deposit method\n",
    "    def deposit(self, amount):\n",
    "        if amount > 0:\n",
    "            self.__balance += amount\n",
    "        else:\n",
    "            print('Invalid Deposit Amount.')\n",
    "            \n",
    "    # Withdraw method\n",
    "    def withdraw(self,amount):\n",
    "        if 0< amount <= self.__balance:\n",
    "            self.__balance -=amount\n",
    "        else:\n",
    "            print('Insufficient funds.')\n",
    "    \n",
    "    # Get Balance\n",
    "    def get_balance(self):\n",
    "        return self.__balance\n",
    "    \n",
    "    # Get Account Number\n",
    "    def get_account_number(self):\n",
    "        return self.__accountNumber\n",
    "    \n",
    "# Creating an account\n",
    "account = BankAccount(\"1234\",0)\n",
    "\n",
    "# Calling the getter method of account number and balance\n",
    "print(f\"Account Number: {account.get_account_number()}\")\n",
    "print(f\"Balance : {account.get_balance()}\")\n",
    "\n",
    "# Calling the deposit method\n",
    "account.deposit(10000)\n",
    "print(\"Updated Balance after deposit :\",account.get_balance())\n",
    "\n",
    "# Calling the withdraw method\n",
    "account.withdraw(500)\n",
    "print(\"Updated Balance afte withdraw :\",account.get_balance())"
   ]
  },
  {
   "cell_type": "markdown",
   "id": "8609acb6",
   "metadata": {},
   "source": [
    "### 14. Create a Python class called `Employee` with private attributes for salary (`__salary`) and employee ID (`__employee_id`). Provide a method to calculate yearly bonuses."
   ]
  },
  {
   "cell_type": "code",
   "execution_count": 55,
   "id": "c81dab25",
   "metadata": {},
   "outputs": [
    {
     "name": "stdout",
     "output_type": "stream",
     "text": [
      "Name : Ashutosh\n",
      "Employee Id : GCS202123\n",
      "Salary : 450000\n",
      "Bonus Amount : 90000.0\n"
     ]
    }
   ],
   "source": [
    "class Employee:\n",
    "    \n",
    "    # constructor\n",
    "    def __init__(self, name, employee_id, salary):\n",
    "        self.__name = name\n",
    "        self.__employeeId = employee_id\n",
    "        self.__salary = salary\n",
    "        \n",
    "    # Calculate bonus\n",
    "    def calculate_bonus(self, bonus_percentage):\n",
    "        bonus = (bonus_percentage/100)*self.__salary\n",
    "        return bonus\n",
    "    \n",
    "    # Get name method\n",
    "    def get_name(self):\n",
    "        return self.__name\n",
    "    \n",
    "    # Get EmployeeId method\n",
    "    def get_employeeId(self):\n",
    "        return self.__employeeId\n",
    "    \n",
    "    # Get Salary method\n",
    "    def get_salary(self):\n",
    "        return self.__salary\n",
    "    \n",
    "# Create an instance \n",
    "employee = Employee('Ashutosh','GCS202123',450000)\n",
    "\n",
    "# Accessing all the get methods\n",
    "print(f\"Name : {employee.get_name()}\")\n",
    "print(f\"Employee Id : {employee.get_employeeId()}\")\n",
    "print(f\"Salary : {employee.get_salary()}\")\n",
    "\n",
    "# calculate the bonus\n",
    "print(f\"Bonus Amount : {employee.calculate_bonus(20)}\")"
   ]
  },
  {
   "cell_type": "markdown",
   "id": "aebf457c",
   "metadata": {},
   "source": [
    "### 15. Discuss the use of accessors and mutators in encapsulation. How do they help maintain control over attribute access?"
   ]
  },
  {
   "cell_type": "markdown",
   "id": "7b050e69",
   "metadata": {},
   "source": [
    "<b>Accessors and Mutators</b> are methods used in encapsulation to control and manage access to an object's attributes, providing a well-defined and controlled interface for reading and modifying the attributes.\n",
    "\n",
    "<b>Accessors (Getter)</b>:\n",
    "\n",
    "- Accessors are methods that are used to retrieve the value of an attribute without allowing  direct access to the attribute itself.\n",
    "\n",
    "- They are used to read the current state of an attribute.\n",
    "\n",
    "- Accessors often have names that start with \"get\" and return the attribute's name.\n",
    "\n",
    "- Accessors are typically used to enforce read-only or read-specific rules for an attribute.\n",
    "\n",
    "Example:"
   ]
  },
  {
   "cell_type": "code",
   "execution_count": 56,
   "id": "2964b58d",
   "metadata": {},
   "outputs": [],
   "source": [
    "class Student:\n",
    "    \n",
    "    # Constructor\n",
    "    def __init__(self,name,age):\n",
    "        self.__name = name\n",
    "        self.__age = age\n",
    "        \n",
    "    # Name accessor(getter)\n",
    "    def get_name(self):\n",
    "        return self.__name\n",
    "    \n",
    "    # Age accessor(getter)\n",
    "    def get_age(self):\n",
    "        return self.__age"
   ]
  },
  {
   "cell_type": "markdown",
   "id": "9df4a4e9",
   "metadata": {},
   "source": [
    "#### Mutators (Setters):\n",
    "\n",
    "- Mutators are methods used to set the value of an attribute, ensuring that it is done in a controlled manner with validation and rules.\n",
    "\n",
    "- They provide a way to modify the state of an object while mainitaing control over how modifications are performed.\n",
    "\n",
    "- Mutators often have names that start with \"set\" and accept the new value as parameter.\n",
    "\n",
    "- Mutators can enforce constriants, validation, or other business rules for modifying an attribute.\n",
    "\n",
    "Example:\n"
   ]
  },
  {
   "cell_type": "code",
   "execution_count": 57,
   "id": "184a91e8",
   "metadata": {},
   "outputs": [],
   "source": [
    "class BankAccount:\n",
    "    \n",
    "    # Constructor\n",
    "    def __init__(self,account_number,initial_balance):\n",
    "        self.__accountNumber = account_number\n",
    "        self.__initialBalance = initial_balance\n",
    "        \n",
    "    def set_balance(self,new_balance):\n",
    "        if new_balance >=0:\n",
    "            self.__balance = new_balance"
   ]
  },
  {
   "cell_type": "markdown",
   "id": "e44b4db2",
   "metadata": {},
   "source": [
    "### 16. What are the potential drawbacks or disadvantages of using encapsulation in Python?"
   ]
  },
  {
   "cell_type": "markdown",
   "id": "052abea2",
   "metadata": {},
   "source": [
    "While encapsulation offers many benefits in terms of code organization, maintainability and security. It can also have some potential drawbacks or disadvantages in certain situtaions:\n",
    "\n",
    "<b>Complexity:</b> Over encapsulation can make code more complex and harder to understand, especially when there are numerous getter and setter methods. This can result in increased cognitive load for developers.\n",
    "\n",
    "<b>Performance Overhead:</b> Accessing attributes through accessor methods (getter and setter) can introduce a slight performance overhead compared to direct attribute access. For many applications, this overhead is negligible, but in performance-critical scenarios, it may be concern.\n",
    "\n",
    "<b>Code Verbosity:</b> Encapsulation can lead to increased code verbosity, as you need to write getter and setter methods for each attribute you want to encapsulate. This can make the code longer and harder to read.\n",
    "\n",
    "<b>Limited Flexibility:</b> Encapsulation can limit the flexibility to change the internal representation of an object. If you decide to change the data structure used for an attribute or its behavior, you may need to modify all related accessor mehotds, potentially breaking existing code.\n",
    "\n",
    "<b>Difficulty in Debugging :</b> Debugging can be more challenging when attributes are encapsulated. You may not have direct visibility into the internal statue of an object during debugging, which can complicate the identification an resolution of issues.\n",
    "\n",
    "<b>Increased Maintenance:</b> As the number of attributes and their corresponding getter and setter methods grows, maintenance can become more time-consuming and error-prone."
   ]
  },
  {
   "cell_type": "markdown",
   "id": "06324f73",
   "metadata": {},
   "source": [
    "### 17. Create a Python class for a library system that encapsulates book information, including titles, authors, and availability status."
   ]
  },
  {
   "cell_type": "code",
   "execution_count": 58,
   "id": "47895e9f",
   "metadata": {},
   "outputs": [],
   "source": [
    "# Class Book\n",
    "class Book:\n",
    "    \n",
    "    # constructor\n",
    "    def __init__(self,title,author, ISBN, is_available = True):\n",
    "        self.__title = title\n",
    "        self.__author = author\n",
    "        self.__ISBN = ISBN\n",
    "        self.__isAvailable = is_available\n",
    "    \n",
    "    # Get title method\n",
    "    def get_title(self):\n",
    "        return self.__title\n",
    "    \n",
    "    # Get author method\n",
    "    def get_author(self):\n",
    "        return self.__author\n",
    "    \n",
    "    # Get ISBN method\n",
    "    def get_ISBN(self):\n",
    "        return self.__ISBN\n",
    "    \n",
    "    # Get isavailable method\n",
    "    def get_available(self):\n",
    "        return self.__isAvailable\n",
    "    \n",
    "    # Borrow method\n",
    "    def borrow_book(self):\n",
    "        if self.__isAvailable:\n",
    "            self.__isAvailable = False\n",
    "            return f\"You have successfully borrowed {self.__title}\"\n",
    "        else:\n",
    "            return f\"{self.__title} is already borrowed.\"\n",
    "        \n",
    "    # Return method\n",
    "    def return_book(self):\n",
    "        if not self.__isAvailable:\n",
    "            self.__isAvailable = True\n",
    "            return f\"You have successfully returned {self.__title}\"\n",
    "        else:\n",
    "            return f\"{self.__title} is not currently borrowed.\"\n",
    "    \n",
    "    # magic str method\n",
    "    def __str__(self):\n",
    "        return f\"Title : {self.__title}, Author : {self.__author} , ISBN : {self.__ISBN}\"\n",
    "    \n",
    "# Library class\n",
    "class Library:\n",
    "    \n",
    "    # Constructor\n",
    "    def __init__(self):\n",
    "        self.books = []\n",
    "        \n",
    "    # Add book method\n",
    "    def add_book(self,book):\n",
    "        self.books.append(book)\n",
    "    \n",
    "    # Borrow book method\n",
    "    def borrow_book(self, ISBN):\n",
    "        for book in self.books:\n",
    "            if book.get_ISBN() == ISBN:\n",
    "                return book.borrow_book()\n",
    "        return \"Book with specified ISBN not found\"\n",
    "    \n",
    "    # Return method\n",
    "    def return_book(self,ISBN):\n",
    "        for book in self.books:\n",
    "            if book.get_ISBN() == ISBN:\n",
    "                return book.return_book()\n",
    "        return \"Book with specified ISBN not found\"\n",
    "    \n",
    "    # Available book method\n",
    "    def available_book(self):\n",
    "        available_books = [book for book in self.books if book.get_available()]\n",
    "        if available_books:\n",
    "            return \"\\n\".join(str(book) for book in available_books)\n",
    "        else:\n",
    "            return \"No available books in the library\""
   ]
  },
  {
   "cell_type": "code",
   "execution_count": 59,
   "id": "0c93ac97",
   "metadata": {},
   "outputs": [
    {
     "name": "stdout",
     "output_type": "stream",
     "text": [
      "Available books are as below:\n",
      "Title : Think Like a Monk, Author : Jay , ISBN : 1\n",
      "Title : Alchemist, Author : Coluer , ISBN : 2\n",
      "Title : Atomic Habits, Author : James , ISBN : 3\n",
      "\n",
      "You have successfully borrowed Think Like a Monk\n",
      "You have successfully borrowed Alchemist\n",
      "Book with specified ISBN not found\n",
      "\n",
      "Available books are as below:\n",
      "Title : Atomic Habits, Author : James , ISBN : 3\n",
      "\n",
      "You have successfully returned Think Like a Monk\n",
      "\n",
      "Available books are as below:\n",
      "Title : Think Like a Monk, Author : Jay , ISBN : 1\n",
      "Title : Atomic Habits, Author : James , ISBN : 3\n"
     ]
    }
   ],
   "source": [
    "# Create an instance of library\n",
    "library = Library()\n",
    "\n",
    "# Create book objects\n",
    "book1 = Book(\"Think Like a Monk\",\"Jay\",'1')\n",
    "book2 = Book('Alchemist','Coluer','2')\n",
    "book3 = Book('Atomic Habits','James','3')\n",
    "\n",
    "# Add books to library\n",
    "library.add_book(book1)\n",
    "library.add_book(book2)\n",
    "library.add_book(book3)\n",
    "\n",
    "# Print all the books\n",
    "print('Available books are as below:')\n",
    "print(library.available_book())\n",
    "\n",
    "print()\n",
    "\n",
    "# Borrow the book\n",
    "print(library.borrow_book('1'))\n",
    "print(library.borrow_book('2'))\n",
    "print(library.borrow_book('7'))\n",
    "\n",
    "print()\n",
    "\n",
    "# Print all the books\n",
    "print('Available books are as below:')\n",
    "print(library.available_book()) \n",
    "\n",
    "print()\n",
    "\n",
    "# Return the book\n",
    "print(library.return_book('1'))\n",
    "\n",
    "print()\n",
    "\n",
    "# Print all the books\n",
    "print('Available books are as below:')\n",
    "print(library.available_book()) "
   ]
  },
  {
   "cell_type": "markdown",
   "id": "9c7b2760",
   "metadata": {},
   "source": [
    "### 18. Explain how encapsulation enhances code reusability and modularity in Python programs."
   ]
  },
  {
   "cell_type": "markdown",
   "id": "6386596c",
   "metadata": {},
   "source": [
    "Encapsulation enhances code reusability and modularity in Python programs by promoting the seperation of concerns and providing a well-defined interface for interacting with objects. Here's how it achieves this:\n",
    "\n",
    "<b>1. Seperation of Concerns:</b> Encapsulation allows you to seperate the internal implementation details of a class from its external interface. This means that the internal workings of an object can change without affecting the code that uses it.\n",
    "\n",
    "<b>2. Defined Interface:</b> By encapsulating attributes and provided controlled access through methods(getter and setter), you establish a clear and consistent way to interact  with an object.\n",
    "\n",
    "<b>3. Code Reusability:</b> Encapsulation allows you to reuse classes and objects in different parts of your codebase or even in different projects. Since the interface is well-defined, you can use objects without worrying about the internal details.\n",
    "\n",
    "<b>4. Modularity:</b> Encapsulated objects act as modular units that can be easily integrated into larger systems. They provide a level of abstraction that allows you to focuse on using the object's functionality rather than the specifics og how it works internally.\n",
    "\n",
    "<b>5. Isolation of Changes:</b> If you need to make changes to the internal implementation of a class, encapsulation ensures that those changes are isolated to the class itself. Other parts of the code that rely on the class's interface are not affected.\n",
    "\n",
    "<b>6. Security and Validation:</b> Encapsulation allows you to enforce validation rules and constraints on how attributes are accessed and modified. This helps prevent invalid or harmful changes to an object's state.\n",
    "\n",
    "<b>7. Enhanced Testing:</b> Encapsulation makes it easier to write unit tests you can focus on testing the behavior of an object without needing to worry about its internal state."
   ]
  },
  {
   "cell_type": "markdown",
   "id": "08ef1e4b",
   "metadata": {},
   "source": [
    "### 19. Describe the concept of information hiding in encapsulation. Why is it essential in software development?"
   ]
  },
  {
   "cell_type": "markdown",
   "id": "4821f84d",
   "metadata": {},
   "source": [
    "Information Hiding or Data Hiding is a fundamental principle in object-oriented programming that involves restricting access to certain attributes or methods of a class. It allows the internal state and behavior of an object to be kept private and accessible only through a defined public interface.\n",
    "\n",
    "The main goal of information hiding is to protect the internal representation of an object from external interference or misuse.\n",
    "\n",
    "It is essential in software development for several reasons:\n",
    "\n",
    "- <b>Preventing Unauthorized Access: </b>Informatica hiding helps prevent unauthorized or unintended access to sensitive attributes or methods. This is crucial for maintaining the integrity and security of an object's state.\n",
    "\n",
    "\n",
    "- <b>Maintaining Abstraction: </b>By hiding the internal details of an object, you can present a simplified and abstract view of the object's behavior to the outside world. This abstraction makes it easier to understand and use the object without being concerned about its internal implementation.\n",
    "\n",
    "\n",
    "- <b>Facilitating Code Maintenance: </b>With information hiding, you can modify the internal implementation of a class without affecting the code that uses it. This reduces the risk of unintended side effects and makes it easier to maintain and evolve the codebase.\n",
    "\n",
    "\n",
    "- <b>Enhanching Security: </b>By controlling access to sensitive attributes, you can prevent unauthorized modifications that could lead to security vulnerabilities or incorrect behavior.\n",
    "\n",
    "\n",
    "- <b>Simplification: </b>By hiding internal details, information hiding simplifies the usage of objects. Users of a class don't need to understand how it works internally, making it easier to use correctly.\n",
    "\n",
    "\n",
    "- <b>Isolation of Changes: </b>Information hiding allows for changes in the internal implementation of a class without affecting the code that uses it. This isolation of changes enhances code maintainability and reduces the risk of unintended side effects.\n",
    "\n",
    "\n",
    "- <b>Reusability: </b>By encapsulating data and behavior within a class and providing a well-defined interface, you create reusable components. Other parts of the codebase can use these components without needing to know how they work internally."
   ]
  },
  {
   "cell_type": "markdown",
   "id": "736993e9",
   "metadata": {},
   "source": [
    "### 20. Create a Python class called `Customer` with private attributes for customer details like name, address,and contact information. Implement encapsulation to ensure data integrity and security."
   ]
  },
  {
   "cell_type": "code",
   "execution_count": 60,
   "id": "e6de5521",
   "metadata": {},
   "outputs": [
    {
     "name": "stdout",
     "output_type": "stream",
     "text": [
      "Customer Id : 1\n",
      "Name: Ashutosh\n",
      "Address: Bangalore\n",
      "Contact Info : 9988776634\n"
     ]
    }
   ],
   "source": [
    "class Customer:\n",
    "    \n",
    "    # Constructor\n",
    "    def __init__(self, customer_id, name, address, contact_info):\n",
    "        self.__customerId = customer_id\n",
    "        self.__name = name\n",
    "        self.__address = address\n",
    "        self.__contactInfo = contact_info\n",
    "    \n",
    "    # Getter methods\n",
    "    def get_customerId(self):\n",
    "        return self.__customerId\n",
    "    \n",
    "    def get_name(self):\n",
    "        return self.__name\n",
    "    \n",
    "    def get_address(self):\n",
    "        return self.__address\n",
    "    \n",
    "    def get_contact(self):\n",
    "        return self.__contactInfo\n",
    "    \n",
    "    # Setter methods\n",
    "    def set_address(self,new_address):\n",
    "        self.__address = new_address\n",
    "        \n",
    "    def set_contactinfo(self,new_contactInfo):\n",
    "        self.__contactInfo = new_contactInfo\n",
    "        \n",
    "# Creating an object for Customer\n",
    "customer = Customer(1, 'Ashutosh','Bangalore',9988776634)\n",
    "\n",
    "# Accessing attributes through controlled methods\n",
    "print(f\"Customer Id : {customer.get_customerId()}\")\n",
    "print(f\"Name: {customer.get_name()}\")\n",
    "print(f\"Address: {customer.get_address()}\")\n",
    "print(f\"Contact Info : {customer.get_contact()}\")"
   ]
  },
  {
   "cell_type": "markdown",
   "id": "87240d79",
   "metadata": {},
   "source": [
    "## Polymorphism:"
   ]
  },
  {
   "cell_type": "markdown",
   "id": "a4752527",
   "metadata": {},
   "source": [
    "### 1. What is polymorphism in Python? Explain how it is related to object-oriented programming."
   ]
  },
  {
   "cell_type": "markdown",
   "id": "735ddfe4",
   "metadata": {},
   "source": [
    "<b>Polymorphism</b> is the ability of a class or function to behave differently based on the context in which it is used. It allows objects or functions to take on multiple forms, depending on the situation.\n",
    "\n",
    "In the context of object-oriented programming (OOP), polymorphism is one of the four fundamental pillars, along with inheritance, encapsulation and abstraction. There are two primary forms of polymorphism:\n",
    "\n",
    "<b>Compile-Time Polymorphism</b> (also known as Static Polymorphism):\n",
    "\n",
    "This type of polymorphism is resolved at complie time, and it involves method overloading. Method overloading is the ability to define multiple methods with the same name in a class but with different parameters. The appropriate method is selected based on the number or types of arguments passed during compilation.\n",
    "\n",
    "<b>Run-Time Polymorphism</b> (also known as Dynamic Polymorphism):\n",
    "\n",
    "This is the more common form of polymorphism in OOP and is achieved through method overriding and inheritance. Method overriding allows a subclass to provide a specific implementation of a method that is already defined in its superclass. When an object of the subclass is used to call that method, the overridden version is executed. Dynamic polymorphism allows the same method name to behave differently depending on the specific type of object it is called on. It is a key feature in Python, and it makes code more flexible and adaptable."
   ]
  },
  {
   "cell_type": "markdown",
   "id": "501750c8",
   "metadata": {},
   "source": [
    "### 2. Describe the difference between compile-time polymorphism and runtime polymorphism in Python."
   ]
  },
  {
   "cell_type": "markdown",
   "id": "7871c57c",
   "metadata": {},
   "source": [
    "<table>\n",
    "    <tr>\n",
    "        <th>Compile-Time Polymorphism</th>\n",
    "        <th>Runtime Polymorphism</th>\n",
    "    </tr>\n",
    "    <tr>\n",
    "        <td>The determination of which method to call is made by the complier based on the context and the type of variables involved.</td>\n",
    "        <td>The determination of which method to call is made dynamically based on the type of object involved.</td>\n",
    "    </tr>\n",
    "    <tr>\n",
    "        <td>Occurs at compile time, before the program is run.</td>\n",
    "        <td>Occurs at runtime, while the program is running.</td>\n",
    "    </tr>\n",
    "    <tr>\n",
    "        <td>Also known as early binding or static polymorphism.</td>\n",
    "        <td>Also known as late binding or dynamic polymorphism.</td>\n",
    "    </tr>\n",
    "    <tr>\n",
    "        <td>Achieved through <b>method overloading</b></td>\n",
    "        <td>Achieved through <b>method overriding</b></td>\n",
    "    </tr>\n",
    "</table>"
   ]
  },
  {
   "cell_type": "markdown",
   "id": "9f442a90",
   "metadata": {},
   "source": [
    "### 3. Create a Python class hierarchy for shapes (e.g., circle, square, triangle) and demonstrate polymorphism through a common method, such as `calculate_area()`."
   ]
  },
  {
   "cell_type": "code",
   "execution_count": 61,
   "id": "a995ef79",
   "metadata": {},
   "outputs": [
    {
     "name": "stdout",
     "output_type": "stream",
     "text": [
      "Area of Circle : 78.5\n",
      "Area of Square : 16\n",
      "Area of Triangle : 12.0\n"
     ]
    }
   ],
   "source": [
    "class Shape:\n",
    "    \n",
    "    # calculate area method\n",
    "    def calculate_area(self):\n",
    "        pass\n",
    "    \n",
    "class Circle(Shape):\n",
    "    \n",
    "    # Constructor\n",
    "    def __init__(self,radius):\n",
    "        self._radius = radius\n",
    "    \n",
    "    # calculate area method\n",
    "    def calculate_area(self):\n",
    "        return 3.14 * self._radius**2\n",
    "    \n",
    "class Square(Shape):\n",
    "    \n",
    "    # Constructor \n",
    "    def __init__(self, side_length):\n",
    "        self._sideLength = side_length\n",
    "        \n",
    "    # calculate area method\n",
    "    def calculate_area(self):\n",
    "        return self._sideLength**2\n",
    "    \n",
    "class Triangle(Shape):\n",
    "    \n",
    "    # constrcutor\n",
    "    def __init__(self,base,height):\n",
    "        self._base = base\n",
    "        self._height = height\n",
    "    \n",
    "    # calculate area method\n",
    "    def calculate_area(self):\n",
    "        return 0.5 * self._base * self._height\n",
    "    \n",
    "# Create an instance of each shape type\n",
    "circle = Circle(5)\n",
    "square = Square(4)\n",
    "triangle = Triangle(4,6)\n",
    "\n",
    "# Calling the calculate area method\n",
    "print(f\"Area of Circle : {circle.calculate_area()}\")\n",
    "print(f\"Area of Square : {square.calculate_area()}\")\n",
    "print(f\"Area of Triangle : {triangle.calculate_area()}\")"
   ]
  },
  {
   "cell_type": "markdown",
   "id": "f3c78905",
   "metadata": {},
   "source": [
    "### 4. Explain the concept of method overriding in polymorphism. Provide an example."
   ]
  },
  {
   "cell_type": "markdown",
   "id": "79cd5c40",
   "metadata": {},
   "source": [
    "<b>Method Overriding</b> is a concept in object-oriented programming where a subclass provides a specific implementation for a method that is already defined in its superclass. This allows the subclass to customize or extend the behavior of the inherited method.\n",
    "\n",
    "Example:"
   ]
  },
  {
   "cell_type": "code",
   "execution_count": 62,
   "id": "77e0053f",
   "metadata": {},
   "outputs": [
    {
     "name": "stdout",
     "output_type": "stream",
     "text": [
      "Generic sound\n",
      "woof !!\n",
      "Meow !!\n"
     ]
    }
   ],
   "source": [
    "class Animal:\n",
    "    \n",
    "    # make sound method\n",
    "    def make_sound(self):\n",
    "        return \"Generic sound\"\n",
    "\n",
    "class Dog(Animal):\n",
    "    \n",
    "    # make sound method\n",
    "    def make_sound(self):\n",
    "        return \"woof !!\"\n",
    "    \n",
    "class Cat(Animal):\n",
    "    \n",
    "    # make sound method\n",
    "    def make_sound(self):\n",
    "        return \"Meow !!\"\n",
    "    \n",
    "# Object\n",
    "animal = Animal()\n",
    "dog = Dog()\n",
    "cat = Cat()\n",
    "\n",
    "# Make sound method for every object\n",
    "print(animal.make_sound())\n",
    "print(dog.make_sound())\n",
    "print(cat.make_sound())"
   ]
  },
  {
   "cell_type": "markdown",
   "id": "d1ae43a2",
   "metadata": {},
   "source": [
    "### 5. How is polymorphism different from method overloading in Python? Provide examples for both."
   ]
  },
  {
   "cell_type": "markdown",
   "id": "8aea30cb",
   "metadata": {},
   "source": [
    "<b>Polymorphism</b> and <b>method overloading</b> are related concepts in object-oriented programming, but they work differently in Python.\n",
    "\n",
    "<b>Polymorphism:</b>\n",
    "\n",
    "- Polymorphism allows objects or functions to take on multiple forms, depending on the context in which they are used.\n",
    "\n",
    "- It is achieved through two main mechanisms: method overriding and method overloading.\n",
    "\n",
    "- In Python, polymorphism is primarily achieved through method overriding.\n",
    "\n",
    "- In polymorphism, a method in a superclass is overridden in a subclass to provide a specific implementation.\n",
    "\n",
    "Example of polymorphism (method overriding) in python:\n"
   ]
  },
  {
   "cell_type": "code",
   "execution_count": 63,
   "id": "dff2c7c7",
   "metadata": {},
   "outputs": [
    {
     "name": "stdout",
     "output_type": "stream",
     "text": [
      "woof !!\n",
      "Meow !!\n"
     ]
    }
   ],
   "source": [
    "class Animal:\n",
    "    \n",
    "    # make sound method\n",
    "    def make_sound(self):\n",
    "        pass\n",
    "    \n",
    "class Dog(Animal):\n",
    "    \n",
    "    # make sound method\n",
    "    def make_sound(self):\n",
    "        return \"woof !!\"\n",
    "    \n",
    "class Cat(Animal):\n",
    "    \n",
    "    # make sound method\n",
    "    def make_sound(self):\n",
    "        return \"Meow !!\"\n",
    "    \n",
    "# Object\n",
    "dog = Dog()\n",
    "cat = Cat()\n",
    "\n",
    "# Make sound method for every object\n",
    "print(dog.make_sound())\n",
    "print(cat.make_sound())"
   ]
  },
  {
   "cell_type": "markdown",
   "id": "f8acc68a",
   "metadata": {},
   "source": [
    "#### Method Overloading\n",
    "\n",
    "- Traditional method overloading involves defining multiple methods with the same name but different parameter lists within a class.\n",
    "\n",
    "- In Python, method overloading(as seen in languages like C#) is not directly supported. It doesn't work based on the number or type of arguments.\n",
    "\n",
    "In C# below is example of method overloading:\n",
    "\n",
    "class Calculator{\n",
    "    int add(int a, int b){\n",
    "        return a+b;\n",
    "    }\n",
    "    double add(double a, double b){\n",
    "        return a+b;\n",
    "    }\n",
    "\n",
    "}\n",
    "\n",
    "Example of `add_number` method in python:"
   ]
  },
  {
   "cell_type": "code",
   "execution_count": 64,
   "id": "41a5a523",
   "metadata": {},
   "outputs": [
    {
     "name": "stdout",
     "output_type": "stream",
     "text": [
      "5\n",
      "10.0\n",
      "helloworld\n"
     ]
    }
   ],
   "source": [
    "def add_numbers(a,b):\n",
    "    return a+b\n",
    "\n",
    "result1 = add_numbers(2,3)\n",
    "result2 = add_numbers(4.2,5.8)\n",
    "result3 = add_numbers(\"hello\",'world')\n",
    "\n",
    "print(result1)\n",
    "print(result2)\n",
    "print(result3)"
   ]
  },
  {
   "cell_type": "markdown",
   "id": "671dbdb0",
   "metadata": {},
   "source": [
    "### 6. Create a Python class called `Animal` with a method `speak()`. Then, create child classes like `Dog`, `Cat`, and `Bird`, each with their own `speak()` method. Demonstrate polymorphism by calling the `speak()` method on objects of different subclasses."
   ]
  },
  {
   "cell_type": "code",
   "execution_count": 65,
   "id": "1a61a949",
   "metadata": {},
   "outputs": [
    {
     "name": "stdout",
     "output_type": "stream",
     "text": [
      "woof !!\n",
      "Meow !!\n",
      "Chirp !!\n"
     ]
    }
   ],
   "source": [
    "class Animal:\n",
    "    \n",
    "    # make sound method\n",
    "    def speak(self):\n",
    "        pass\n",
    "    \n",
    "class Dog(Animal):\n",
    "    \n",
    "    # make sound method\n",
    "    def speak(self):\n",
    "        return \"woof !!\"\n",
    "    \n",
    "class Cat(Animal):\n",
    "    \n",
    "    # make sound method\n",
    "    def speak(self):\n",
    "        return \"Meow !!\"\n",
    "    \n",
    "class Bird(Animal):\n",
    "    \n",
    "    # make sound method\n",
    "    def speak(self):\n",
    "        return \"Chirp !!\"\n",
    "    \n",
    "# Object\n",
    "dog = Dog()\n",
    "cat = Cat()\n",
    "bird = Bird()\n",
    "\n",
    "# Make sound method for every object\n",
    "print(dog.speak())\n",
    "print(cat.speak())\n",
    "print(bird.speak())"
   ]
  },
  {
   "cell_type": "markdown",
   "id": "e660f97a",
   "metadata": {},
   "source": [
    "### 7. Discuss the use of abstract methods and classes in achieving polymorphism in Python. Provide an example using the `abc` module."
   ]
  },
  {
   "cell_type": "markdown",
   "id": "5416370e",
   "metadata": {},
   "source": [
    "In python, <b>Abstaract methods and classes</b> play a crucial role in achieving polymorphism. Abstract methods define a method signature in an abstract base class and concrete sublasses must provide an implementation of these methods. The abc module(Abstract Base Classes) is used to define abstract classes and methods.\n",
    "\n",
    "Example:"
   ]
  },
  {
   "cell_type": "code",
   "execution_count": 66,
   "id": "f6749cb7",
   "metadata": {},
   "outputs": [
    {
     "name": "stdout",
     "output_type": "stream",
     "text": [
      "Area : 153.86\n",
      "Area : 84\n"
     ]
    }
   ],
   "source": [
    "from abc import ABC, abstractmethod\n",
    "\n",
    "# Abstract base class\n",
    "class Shape(ABC):\n",
    "    @abstractmethod\n",
    "    def area(self):\n",
    "        pass\n",
    "    \n",
    "# Concrete subclass Circle\n",
    "class Circle(Shape):\n",
    "    \n",
    "    #Constrctor\n",
    "    def __init__(self,radius):\n",
    "        self.radius = radius\n",
    "        \n",
    "    # Area method\n",
    "    def area(self):\n",
    "        return 3.14 * self.radius * self.radius\n",
    "    \n",
    "# Concrete subclass Rectangle\n",
    "class Rectangle(Shape):\n",
    "    \n",
    "    # constructor\n",
    "    def __init__(self, length, width):\n",
    "        self.length = length\n",
    "        self.width = width\n",
    "        \n",
    "    # Area method\n",
    "    def area(self):\n",
    "        return  self.length * self.width\n",
    "    \n",
    "# Create an instance\n",
    "circle = Circle(7)\n",
    "rectangle = Rectangle(14,6)\n",
    "\n",
    "shapes = [circle, rectangle]\n",
    "\n",
    "for shape in shapes:\n",
    "    print(f\"Area : {shape.area()}\")"
   ]
  },
  {
   "cell_type": "markdown",
   "id": "03a13529",
   "metadata": {},
   "source": [
    "### 8. Create a Python class hierarchy for a vehicle system (e.g., car, bicycle, boat) and implement a polymorphic `start()` method that prints a message specific to each vehicle type."
   ]
  },
  {
   "cell_type": "code",
   "execution_count": 67,
   "id": "b5b51693",
   "metadata": {},
   "outputs": [
    {
     "name": "stdout",
     "output_type": "stream",
     "text": [
      "Car engine starting !!!\n",
      "Peadling !!!\n",
      "Boat engine running !!!\n"
     ]
    }
   ],
   "source": [
    "class Vehicle:\n",
    "    \n",
    "    # start method\n",
    "    def start(self):\n",
    "        pass\n",
    "    \n",
    "class Car(Vehicle):\n",
    "    \n",
    "    # start method\n",
    "    def start(self):\n",
    "        return 'Car engine starting !!!'\n",
    "\n",
    "class Bicycle(Vehicle):\n",
    "    \n",
    "    # start method\n",
    "    def start(self):\n",
    "        return 'Peadling !!!'\n",
    "\n",
    "class Boat(Vehicle):\n",
    "    \n",
    "    # start method\n",
    "    def start(self):\n",
    "        return 'Boat engine running !!!'\n",
    "        \n",
    "# Create an object\n",
    "car = Car()\n",
    "cycle = Bicycle()\n",
    "boat = Boat()\n",
    "\n",
    "# Call the method\n",
    "vehicles = [car,cycle,boat]\n",
    "\n",
    "for vehicle in vehicles:\n",
    "    print(vehicle.start())"
   ]
  },
  {
   "cell_type": "markdown",
   "id": "85736877",
   "metadata": {},
   "source": [
    "### 9. Explain the significance of the `isinstance()` and `issubclass()` functions in Python polymorphism."
   ]
  },
  {
   "cell_type": "markdown",
   "id": "5092b5e5",
   "metadata": {},
   "source": [
    "The functions `isinstance()` and `issubclass()` are essential in Python for working with polymorphism.\n",
    "\n",
    "`isinstance()`:\n",
    "\n",
    "- The `isinstance()` function is used to determine whether an object is an instance of a particular class or any of its subclasses.\n",
    "\n",
    "- It takes two arguments: the object and the class or type you want to check against.\n",
    "\n",
    "- It returns True if the object is an instance of the specified class or its subclass, and False otherwise.\n",
    "\n",
    "Example:\n"
   ]
  },
  {
   "cell_type": "code",
   "execution_count": 68,
   "id": "21bc68cb",
   "metadata": {},
   "outputs": [
    {
     "name": "stdout",
     "output_type": "stream",
     "text": [
      "True\n",
      "True\n"
     ]
    }
   ],
   "source": [
    "class Animal:\n",
    "    pass\n",
    "\n",
    "class Dog(Animal):\n",
    "    pass\n",
    "\n",
    "# Create an object\n",
    "dog = Dog()\n",
    "\n",
    "# Calling the isinstance method\n",
    "print(isinstance(dog, Dog))\n",
    "print(isinstance(dog, Animal))"
   ]
  },
  {
   "cell_type": "markdown",
   "id": "d3cd9c77",
   "metadata": {},
   "source": [
    "`issubclass()`:\n",
    "\n",
    "- The `issubclass()` function checks whether a class is a subclass of a specified class or any of its subclasses.\n",
    "- It takes two arguments : the class you want to check and the class you want to check against.\n",
    "- It returns True if the first class is a subclass of the second class and False otherwise.\n",
    "\n",
    "Example:"
   ]
  },
  {
   "cell_type": "code",
   "execution_count": 69,
   "id": "c1942bf2",
   "metadata": {},
   "outputs": [
    {
     "name": "stdout",
     "output_type": "stream",
     "text": [
      "True\n",
      "False\n"
     ]
    }
   ],
   "source": [
    "class Animal:\n",
    "    pass\n",
    "\n",
    "class Dog(Animal):\n",
    "    pass\n",
    "\n",
    "# Calling the issubclass method\n",
    "print(issubclass(Dog, Animal))\n",
    "print(issubclass(Animal, Dog))"
   ]
  },
  {
   "cell_type": "markdown",
   "id": "757ce308",
   "metadata": {},
   "source": [
    "### 10. What is the role of the `@abstractmethod` decorator in achieving polymorphism in Python? Provide an example."
   ]
  },
  {
   "cell_type": "markdown",
   "id": "37f8119d",
   "metadata": {},
   "source": [
    "The `@abstractmethod` decorator is a key component of achieving polymorphism in Python using abstract classes. It is part of the abc module (Abstract Base Classes) and allows you to declare abstract methods in a base class. Abstract methods are methods that are defined in the base class but have no implementation. Subclasses are required to provide their own implementation for these methods.\n",
    "\n",
    "Here is an example for the same:"
   ]
  },
  {
   "cell_type": "code",
   "execution_count": 70,
   "id": "7240029e",
   "metadata": {},
   "outputs": [
    {
     "name": "stdout",
     "output_type": "stream",
     "text": [
      "Area : 153.86\n",
      "Area : 84\n"
     ]
    }
   ],
   "source": [
    "from abc import ABC, abstractmethod\n",
    "\n",
    "# Abstract base class\n",
    "class Shape(ABC):\n",
    "    @abstractmethod\n",
    "    def area(self):\n",
    "        pass\n",
    "    \n",
    "# Concrete subclass Circle\n",
    "class Circle(Shape):\n",
    "    \n",
    "    #Constrctor\n",
    "    def __init__(self,radius):\n",
    "        self.radius = radius\n",
    "        \n",
    "    # Area method\n",
    "    def area(self):\n",
    "        return 3.14 * self.radius * self.radius\n",
    "    \n",
    "# Concrete subclass Rectangle\n",
    "class Rectangle(Shape):\n",
    "    \n",
    "    # constructor\n",
    "    def __init__(self, length, width):\n",
    "        self.length = length\n",
    "        self.width = width\n",
    "        \n",
    "    # Area method\n",
    "    def area(self):\n",
    "        return  self.length * self.width\n",
    "    \n",
    "# Create an instance\n",
    "circle = Circle(7)\n",
    "rectangle = Rectangle(14,6)\n",
    "\n",
    "shapes = [circle, rectangle]\n",
    "\n",
    "for shape in shapes:\n",
    "    print(f\"Area : {shape.area()}\")"
   ]
  },
  {
   "cell_type": "markdown",
   "id": "18399b07",
   "metadata": {},
   "source": [
    "### 11. Create a Python class called `Shape` with a polymorphic method `area()` that calculates the area of different shapes (e.g., circle, rectangle, triangle)."
   ]
  },
  {
   "cell_type": "code",
   "execution_count": 71,
   "id": "635b2ee4",
   "metadata": {},
   "outputs": [
    {
     "name": "stdout",
     "output_type": "stream",
     "text": [
      "Area : 153.86\n",
      "Area : 84\n",
      "Area : 12.0\n"
     ]
    }
   ],
   "source": [
    "class Shape:\n",
    "    \n",
    "    # Area method\n",
    "    def area(self):\n",
    "        pass\n",
    "    \n",
    "class Circle(Shape):\n",
    "    \n",
    "    #Constrctor\n",
    "    def __init__(self,radius):\n",
    "        self.radius = radius\n",
    "        \n",
    "    # Area method\n",
    "    def area(self):\n",
    "        return 3.14 * self.radius * self.radius\n",
    "    \n",
    "class Rectangle(Shape):\n",
    "    \n",
    "    # constructor\n",
    "    def __init__(self, length, width):\n",
    "        self.length = length\n",
    "        self.width = width\n",
    "        \n",
    "    # Area method\n",
    "    def area(self):\n",
    "        return  self.length * self.width\n",
    "    \n",
    "class Triangle(Shape):\n",
    "    \n",
    "    # constructor\n",
    "    def __init__(self, base, height):\n",
    "        self.base = base\n",
    "        self.height = height\n",
    "        \n",
    "    # Area method\n",
    "    def area(self):\n",
    "        return  0.5 * self.base * self.height\n",
    "    \n",
    "# Create an instance\n",
    "circle = Circle(7)\n",
    "rectangle = Rectangle(14,6)\n",
    "triangle = Triangle(4,6)\n",
    "\n",
    "shapes = [circle, rectangle, triangle]\n",
    "\n",
    "for shape in shapes:\n",
    "    print(f\"Area : {shape.area()}\")"
   ]
  },
  {
   "cell_type": "markdown",
   "id": "b60ea2ef",
   "metadata": {},
   "source": [
    "### 12. Discuss the benefits of polymorphism in terms of code reusability and flexibility in Python programs."
   ]
  },
  {
   "cell_type": "markdown",
   "id": "460cf90a",
   "metadata": {},
   "source": [
    "<b>Polymorphism</b> offers several benefits in terms of code reusability and flexibility:\n",
    "\n",
    "<b>Code Reusability:</b> Polymorphism allows you to write resuable code that can work with objects of different classes as long as they adhere to a common interface(i.e. implement the same methods). This means you can create functions or modules that can be used with a wide range of objects, promoting modular and reusable code.\n",
    "\n",
    "<b>Reduced Redundancy:</b> Without polymorphism you might need to write seperate code to handle different types of objects. With polymorphism, you can avoid redundant code and write more compact and efficient solutions.\n",
    "\n",
    "<b>Flexibility: </b> Polymorphism makes your code more flexible and adaptable to changes. You can easily add new classes or modify existing ones without affecting the core logic of your program, as long as they conform to the same interface.\n",
    "\n",
    "<b>Improved Readability: </b> Polymorphism can make your code more readable and intutive. When you see a method call on an object, you don't need to know the specific class, you can rely on the common interface making code easier to understand.\n",
    "\n",
    "<b>Easier Maintenance: </b> Since polymorphism promotes modularity and reduces redundancy, it simplifies maintenance. Changes or bug fixes can often be localized to specific classes, reducing the risk of unintended side effects in other parts of your code.\n",
    "\n",
    "<b>Interface-Based Programming : </b> Polymorphism encourages interface-based programming,, where you focus on defining the expected behavior (methods) rather than the specific implementations. This allows multiple developers to work on different parts of a project independently, as long as they adhere to the agreed-upon interface."
   ]
  },
  {
   "cell_type": "markdown",
   "id": "e9fa786f",
   "metadata": {},
   "source": [
    "### 13. Explain the use of the `super()` function in Python polymorphism. How does it help call methods of parent classes?"
   ]
  },
  {
   "cell_type": "markdown",
   "id": "8e763903",
   "metadata": {},
   "source": [
    "The `super()` function in Python is used to call methods from a parent or superclass in the context of inheritance and polymorphism. It helps in achieving method overriding, where a subclass provides a specific implementation of a method that is already defined in its superclass.\n",
    "\n",
    "Here's how `super()` works and its role in polymorphism:\n",
    "\n",
    "<b>Accessing Parent Class Methods</b>: When you override a method in a subclass, you can use `super()` to call the overridden method in the parent class. This allows you to reuse the functionality provided by the parent class while adding or modifying behavior specific to the subclass.\n",
    "\n",
    "<b> Method Overriding </b>: By calling the parent class's method using super(), you can implement method overriding. This is a key aspect of polymorphism, where objects of different classes can be treated interchangeably if they adhere to a common inteface.\n",
    "\n",
    "<b>Chaining Superclasses:</b>If you have a chain of inheritance with multiple superclasses, super() allows you to call methods from the immediate parent class, and those methods can in turn call methods from their parent classes, creating a hierarchy of method calls.\n",
    "\n",
    "Example of usage of super():\n"
   ]
  },
  {
   "cell_type": "code",
   "execution_count": 72,
   "id": "c2c48d8d",
   "metadata": {},
   "outputs": [
    {
     "name": "stdout",
     "output_type": "stream",
     "text": [
      "Dog barks, and also, Animal Speaks\n"
     ]
    }
   ],
   "source": [
    "class Animal:\n",
    "    \n",
    "    # Speak method\n",
    "    def speak(self):\n",
    "        return \"Animal Speaks\"\n",
    "    \n",
    "class Dog(Animal):\n",
    "    \n",
    "    # speak method\n",
    "    def speak(self):\n",
    "        parent_result = super().speak()\n",
    "        return f\"Dog barks, and also, {parent_result}\"\n",
    "    \n",
    "# Create an object and call the speak method\n",
    "dog = Dog()\n",
    "print(dog.speak())"
   ]
  },
  {
   "cell_type": "markdown",
   "id": "cc3f5c5c",
   "metadata": {},
   "source": [
    "### 14. Create a Python class hierarchy for a banking system with various account types (e.g., savings, checking, credit card) and demonstrate polymorphism by implementing a common `withdraw()` method."
   ]
  },
  {
   "cell_type": "code",
   "execution_count": 73,
   "id": "f3eb081e",
   "metadata": {},
   "outputs": [
    {
     "name": "stdout",
     "output_type": "stream",
     "text": [
      "Account Number : SB123\n",
      "Withdrawn of $500 successful. New Balance: 500\n",
      "\n",
      "Account Number : CA145\n",
      "Withdrawn of $500 successful. New Balance: 1500\n",
      "\n",
      "Account Number : CCA346\n",
      "Withdrawn of $500 successful. New Balance: 0\n",
      "\n"
     ]
    }
   ],
   "source": [
    "class BankAccount:\n",
    "    \n",
    "    # Constructor\n",
    "    def __init__(self, accountNumber, initialBalance):\n",
    "        self._accountNumber = accountNumber\n",
    "        self._balance = initialBalance\n",
    "        \n",
    "    # get accountNumber method\n",
    "    def get_accountNumber(self):\n",
    "        return self._accountNumber\n",
    "    \n",
    "    # get balance method\n",
    "    def get_balance(self):\n",
    "        return self._balance\n",
    "    \n",
    "    # withdraw method\n",
    "    def withdraw(self):\n",
    "        pass\n",
    "    \n",
    "# SavingAccount Class\n",
    "class SavingAccount(BankAccount):\n",
    "    \n",
    "    # Withdraw method\n",
    "    def withdraw(self,amount):\n",
    "        if self.get_balance() >=amount:\n",
    "            self._balance -=amount\n",
    "            return f\"Withdrawn of ${amount} successful. New Balance: {self._balance}\"\n",
    "        else:\n",
    "            return \"Insufficient Balance.\"\n",
    "        \n",
    "# CheckingAccount class\n",
    "class CheckingAccount(BankAccount):\n",
    "\n",
    "  # Withdraw method\n",
    "    def withdraw(self,amount):\n",
    "        if self.get_balance() >=amount:\n",
    "            self._balance -=amount\n",
    "            return f\"Withdrawn of ${amount} successful. New Balance: {self._balance}\"\n",
    "        else:\n",
    "            return \"Insufficient Balance.\"\n",
    "        \n",
    "# CredingAccount class\n",
    "class CredintCardAccount(BankAccount):\n",
    "    \n",
    "    # Withdraw method\n",
    "    def withdraw(self,amount):\n",
    "        new_balance = self.get_balance() - amount\n",
    "        if new_balance >= -1000: # Assuming a credit limit of $1000\n",
    "            self._balance = new_balance\n",
    "            return f\"Withdrawn of ${amount} successful. New Balance: {self._balance}\"\n",
    "        else:\n",
    "            return \"Credit Limit Exceeded.\"\n",
    "\n",
    "# Create an object\n",
    "saving_account = SavingAccount('SB123',1000)\n",
    "checking_account = CheckingAccount('CA145',2000)\n",
    "credit_account = CredintCardAccount('CCA346',500)\n",
    "\n",
    "# Calling the withdraw method\n",
    "accounts = [saving_account,checking_account,credit_account]\n",
    "\n",
    "for account in accounts:\n",
    "    print(f\"Account Number : {account.get_accountNumber()}\")\n",
    "    print(account.withdraw(500))\n",
    "    print()"
   ]
  },
  {
   "cell_type": "markdown",
   "id": "3a01297d",
   "metadata": {},
   "source": [
    "### 15. Describe the concept of operator overloading in Python and how it relates to polymorphism. Provide examples using operators like `+` and `*`."
   ]
  },
  {
   "cell_type": "markdown",
   "id": "a4c52e02",
   "metadata": {},
   "source": [
    "<b>Operator Overloading</b> in Python allows you to define how operators should behave for objects of a user-defined class. This means you can customize the behavior of operators like `+,-,*,/` etc to work with your custom objects.\n",
    "\n",
    "Here's how operator overloading related to polymorphism:\n",
    "\n",
    "<b>Polymorphism and Operator Overloading:</b> Operator overloading is a form of polymorphism because it allows different types or classes to use the same operator in different ways. This enables objects of different classes to interact with operators in a way that makes sense for their context.\n",
    "\n",
    "<b>Customized Behaviour</b>: By overloading operators, you can define what is means to add,subtract,multiply etc., for objects of your class. This enables you to apply familiar operators to your custom objects, making your code more intutive and expressive.\n",
    "\n",
    "Here's an example using the + and * operators:"
   ]
  },
  {
   "cell_type": "code",
   "execution_count": 74,
   "id": "2aa78b7e",
   "metadata": {},
   "outputs": [
    {
     "name": "stdout",
     "output_type": "stream",
     "text": [
      "(4,6)\n",
      "(3,8)\n"
     ]
    }
   ],
   "source": [
    "class Vector:\n",
    "    \n",
    "    # Constructor\n",
    "    def __init__(self,x,y):\n",
    "        self.x =x \n",
    "        self.y =y\n",
    "        \n",
    "    # Add method\n",
    "    def __add__(self,other):\n",
    "        return Vector(self.x+ other.x , self.y+other.y)\n",
    "    \n",
    "    # Multiply method\n",
    "    def __mul__(self,other):\n",
    "        return Vector(self.x* other.x , self.y * other.y)\n",
    "    \n",
    "    # print method\n",
    "    def __str__(self):\n",
    "        return f\"({self.x},{self.y})\"\n",
    "    \n",
    "# Objects \n",
    "obj1 = Vector(1,2)\n",
    "obj2 = Vector(3,4)\n",
    "\n",
    "# Call the add and multiply method using operator\n",
    "print(obj1+obj2)\n",
    "print(obj1*obj2)"
   ]
  },
  {
   "cell_type": "markdown",
   "id": "71f8d2fe",
   "metadata": {},
   "source": [
    "### 16. What is dynamic polymorphism, and how is it achieved in Python?"
   ]
  },
  {
   "cell_type": "markdown",
   "id": "8377a0ca",
   "metadata": {},
   "source": [
    "<b>Dynamic Polymorphism</b> also known as runtime polymorphism or late binding is a fundamental concept in object-oriented programming. It allows objects of different classes to be treated as objects of a common base class. The specific method or function that gets executed when you call it is determined at runtime based on the actual type of the object. Dynamic polymorphism is one of the key features of inheritance and abstraction in object-oriented programming.\n",
    "\n",
    "In python, <b>dynamic polymorphism is achieved through method overriding.</b> Method overriding is a feature that allows a subclass to provide a specific implementation of a method that is already defined in its superclass. When you call a method on an object, python determines at runtime which implementation of the method to execute, based on the actual type of object.\n"
   ]
  },
  {
   "cell_type": "markdown",
   "id": "18b87cc2",
   "metadata": {},
   "source": [
    "### 17. Create a Python class hierarchy for employees in a company (e.g., manager, developer, designer) and implement polymorphism through a common `calculate_salary()` method."
   ]
  },
  {
   "cell_type": "code",
   "execution_count": 75,
   "id": "e2d5293d",
   "metadata": {},
   "outputs": [
    {
     "name": "stdout",
     "output_type": "stream",
     "text": [
      "John's salary : $130000\n",
      "Smith's salary : $55000\n",
      "Cloe's salary : $28000\n"
     ]
    }
   ],
   "source": [
    "class Employee:\n",
    "    \n",
    "    # Constructor\n",
    "    def __init__(self,name,salary):\n",
    "        self.__name = name\n",
    "        self.__salary = salary\n",
    "        \n",
    "    # Get Name method\n",
    "    def get_name(self):\n",
    "        return self.__name\n",
    "    \n",
    "    # Get salary method\n",
    "    def get_salary(self):\n",
    "        return self.__salary\n",
    "    \n",
    "    # Set salary method\n",
    "    def set_salary(self,newSalary):\n",
    "        self.__salary = newSalary\n",
    "        \n",
    "\n",
    "# Manager class\n",
    "class Manager(Employee):\n",
    "    \n",
    "    # Constructor\n",
    "    def __init__(self,name,salary,bonus):\n",
    "        super().__init__(name,salary)\n",
    "        self.__bonus = bonus\n",
    "        \n",
    "    # Calculate salary\n",
    "    def calculate_salary(self):\n",
    "        return super().get_salary()+self.__bonus\n",
    "    \n",
    "# Developer Class\n",
    "class Developer(Employee):\n",
    "    \n",
    "    # Constuctor\n",
    "    def __init__(self,name,salary,languages):\n",
    "        super().__init__(name,salary)\n",
    "        self.__languages = languages\n",
    "        \n",
    "    # Calculate salary\n",
    "    def calculate_salary(self):\n",
    "        return self.get_salary() + len(self.__languages) * 5000\n",
    "    \n",
    "# Designer Class\n",
    "class Designer(Employee):\n",
    "    \n",
    "    # Constructor\n",
    "    def __init__(self,name,salary,experience):\n",
    "        super().__init__(name,salary)\n",
    "        self.__experience = experience\n",
    "        \n",
    "    # Calculate Salary\n",
    "    def calculate_salary(self):\n",
    "        return self.get_salary() + self.__experience * 2000\n",
    "    \n",
    "# Creating object for all class\n",
    "manager = Manager('John',100000,30000)\n",
    "developer = Developer('Smith',40000,['Python','JavaScript','GoLang'])\n",
    "designer = Designer('Cloe',20000,4)\n",
    "\n",
    "# Calculating salary for every object\n",
    "print(f\"{manager.get_name()}'s salary : ${manager.calculate_salary()}\")\n",
    "print(f\"{developer.get_name()}'s salary : ${developer.calculate_salary()}\")\n",
    "print(f\"{designer.get_name()}'s salary : ${designer.calculate_salary()}\")"
   ]
  },
  {
   "cell_type": "markdown",
   "id": "b43ee78f",
   "metadata": {},
   "source": [
    "### 18. Discuss the concept of function pointers and how they can be used to achieve polymorphism in Python."
   ]
  },
  {
   "cell_type": "markdown",
   "id": "4a2a7345",
   "metadata": {},
   "source": [
    "<b>Function Pointers</b> are a concept commonly found in languages like C and C++. They allow you to store the memory address of a function and call that function indirectlty through the pointer. This provides a way to dynamically select and call different functions at a runtime.\n",
    "\n",
    "In Python, you don't have explicit function pointer like in C or C++. Instead, python has first-class functions, which means that functions can be treated as objects, assigned to variables, passed an arguments, and returned as values. This enables a form of polymorphism known as \"duck typing\"."
   ]
  },
  {
   "cell_type": "code",
   "execution_count": 76,
   "id": "cb00962e",
   "metadata": {},
   "outputs": [
    {
     "name": "stdout",
     "output_type": "stream",
     "text": [
      "Addition result : 7\n",
      "Subtraction result : -1\n",
      "Multiplication result : 12\n"
     ]
    }
   ],
   "source": [
    "# Add function\n",
    "def add(x,y):\n",
    "    return x+y\n",
    "\n",
    "# Subtract function\n",
    "def subtract(x,y):\n",
    "    return x-y\n",
    "\n",
    "# Multiply function\n",
    "def multiply(x,y):\n",
    "    return x*y\n",
    "\n",
    "# Calculate function\n",
    "def calculate(x,y, operation):\n",
    "    return operation(x,y)\n",
    "\n",
    "# Call the functions separtelty\n",
    "print(f'Addition result : {calculate(3,4,add)}')\n",
    "print(f'Subtraction result : {calculate(3,4,subtract)}')\n",
    "print(f'Multiplication result : {calculate(3,4,multiply)}')"
   ]
  },
  {
   "cell_type": "markdown",
   "id": "28fa783b",
   "metadata": {},
   "source": [
    "### 19. Explain the role of interfaces and abstract classes in polymorphism, drawing comparisons between them."
   ]
  },
  {
   "cell_type": "markdown",
   "id": "abe3de21",
   "metadata": {},
   "source": [
    "<b>Interfaces and Abstract classes</b> are both powerful tools that can be used to achieve polymorphism in object-oriented programming. However, they have some key differences.\n",
    "\n",
    "<b>Interfaces</b> are declarations of behavior, but they do not provide any implementation. This means that any class that implements an interface must provide its own implementation of all of the interface's methods.\n",
    "\n",
    "Interfaces are used to define a contract that a class must adhere to. Any class that implements an interface must provide implementations for all the methods defined in the interface.\n",
    "\n",
    "<b>Abstract classes</b> are similar to interfaces in that they can declare abstract methods. However, abstract classes can provide concrete implementations of methods. This means that classes that subclass an abstract class can choose to inherit the concrete implementations or provide their own implementations.\n",
    "\n",
    "Abstract classes are used when you want to define a common structure or behavior that multiple subclasses share, but each subclass might have its own implementation of some methods."
   ]
  },
  {
   "cell_type": "markdown",
   "id": "89882037",
   "metadata": {},
   "source": [
    "### 20. Create a Python class for a zoo simulation, demonstrating polymorphism with different animal types (e.g., eating, sleeping , making sounds)"
   ]
  },
  {
   "cell_type": "code",
   "execution_count": 77,
   "id": "ff61e071",
   "metadata": {},
   "outputs": [
    {
     "name": "stdout",
     "output_type": "stream",
     "text": [
      "Lion is eating other animal.\n",
      "Eagle is pecking at seeds.\n",
      "Snake is hunting for insects.\n",
      "\n",
      "Lion is sleeping in a cozy den.\n",
      "Eagle is roosting in a tree.\n",
      "Snake is basking on a rock.\n",
      "\n",
      "Lion is making mammal sounds.\n",
      "Eagle is chirping.\n",
      "Snake is hissing and rustling.\n"
     ]
    }
   ],
   "source": [
    "class Animal:\n",
    "    \n",
    "    # Constructor\n",
    "    def __init__(self,name):\n",
    "        self.name = name\n",
    "    \n",
    "    # eat method \n",
    "    def eat(self):\n",
    "        pass\n",
    "    \n",
    "    # sleep method \n",
    "    def sleep(self):\n",
    "        pass\n",
    "    \n",
    "    # make sound method\n",
    "    def make_sound(self):\n",
    "        pass\n",
    "    \n",
    "class Mammal(Animal):\n",
    "    \n",
    "    # eat method\n",
    "    def eat(self):\n",
    "        return f\"{self.name} is eating other animal.\"\n",
    "    \n",
    "     # sleep method \n",
    "    def sleep(self):\n",
    "        return f\"{self.name} is sleeping in a cozy den.\"\n",
    "    \n",
    "    # make sound method\n",
    "    def make_sound(self):\n",
    "        return f\"{self.name} is making mammal sounds.\"\n",
    "    \n",
    "class Bird(Animal):\n",
    "    \n",
    "     # eat method\n",
    "    def eat(self):\n",
    "        return f\"{self.name} is pecking at seeds.\"\n",
    "    \n",
    "     # sleep method \n",
    "    def sleep(self):\n",
    "        return f\"{self.name} is roosting in a tree.\"\n",
    "    \n",
    "    # make sound method\n",
    "    def make_sound(self):\n",
    "        return f\"{self.name} is chirping.\"\n",
    "    \n",
    "class Reptile(Animal):\n",
    "    \n",
    "      # eat method\n",
    "    def eat(self):\n",
    "        return f\"{self.name} is hunting for insects.\"\n",
    "    \n",
    "     # sleep method \n",
    "    def sleep(self):\n",
    "        return f\"{self.name} is basking on a rock.\"\n",
    "    \n",
    "    # make sound method\n",
    "    def make_sound(self):\n",
    "        return f\"{self.name} is hissing and rustling.\"\n",
    "    \n",
    "# Create an object for all class\n",
    "lion = Mammal('Lion')\n",
    "eagle = Bird('Eagle')\n",
    "snake = Reptile('Snake')\n",
    "\n",
    "# Perform every actions\n",
    "print(lion.eat())\n",
    "print(eagle.eat())\n",
    "print(snake.eat())\n",
    "\n",
    "print()\n",
    "\n",
    "print(lion.sleep())\n",
    "print(eagle.sleep())\n",
    "print(snake.sleep())\n",
    "\n",
    "print()\n",
    "\n",
    "print(lion.make_sound())\n",
    "print(eagle.make_sound())\n",
    "print(snake.make_sound())"
   ]
  },
  {
   "cell_type": "markdown",
   "id": "a3fc8af3",
   "metadata": {},
   "source": [
    "## Abstraction:"
   ]
  },
  {
   "cell_type": "markdown",
   "id": "ed85ab08",
   "metadata": {},
   "source": [
    "### 1. What is abstraction in Python, and how does it relate to object-oriented programming?"
   ]
  },
  {
   "cell_type": "markdown",
   "id": "5aea6b9f",
   "metadata": {},
   "source": [
    "<b>Abstraction</b> is one of the four fundamental concepts in object-oriented programming, along with encapsulation, inheritance and polymorphism. It is process of hiding the implementation details of an object and expose only the revelant features or functionalities to the outside world. In python, abstraction allows you to create a bluepring that defines the structure and behavior of an object without exposing the underlying complexity.\n",
    "\n",
    "Here's how abstraction related to object-oriented programming:\n",
    "\n",
    "<b>Defining Classes</b>: Abstraction starts by defining classes that represents objects in your program. These classes contain attributes(data) and methods(functions) that define the behavior of the objects.\n",
    "\n",
    "<b>Hiding Implementation Details: </b> With abstraction, you can hide the internal workings or implementation details of a class. This means that the user of the class only needs to know how to use its methods, not how those methods are implemented.\n",
    "\n",
    "<b>Providing a Simple Interface:</b> Abstraction provides a simplified interface for interacting with objects. Users of the class interact with it through its methods and attributes wihtout having to understand the complex inner workings.\n",
    "\n",
    "<b>Focusing on What, Not How:</b> Abstraction encourages developers to focus on what an object can do rather than how it does it. This helps in managing complexity and allows for easier maintenance and debugging. \n",
    "\n",
    "<b>Reducing complexity</b>: By abstracting away implementation details, you can deal with higher-level concepts, making your code more manageable, modular and reusable.\n",
    "\n",
    "Abstraction allows you to create templates (classes) that can be reused across different parts of your code or in different projects."
   ]
  },
  {
   "cell_type": "code",
   "execution_count": 78,
   "id": "8aa8eb0d",
   "metadata": {},
   "outputs": [
    {
     "name": "stdout",
     "output_type": "stream",
     "text": [
      "The Audi Q3 engine is now running.\n",
      "The Audi Q3 engine is now been turned off.\n"
     ]
    }
   ],
   "source": [
    "class Car:\n",
    "    \n",
    "    # Constructor\n",
    "    def __init__(self,make,model,year):\n",
    "        self.make  = make\n",
    "        self.model = model\n",
    "        self.year = year\n",
    "        \n",
    "    # Start engine\n",
    "    def start_engine(self):\n",
    "        print(f\"The {self.make} {self.model} engine is now running.\")\n",
    "        \n",
    "    # Stop Engine\n",
    "    def stop_engine(self):\n",
    "        print(f\"The {self.make} {self.model} engine is now been turned off.\")\n",
    "        \n",
    "# Create an object\n",
    "my_car = Car('Audi','Q3',2021)\n",
    "my_car.start_engine()\n",
    "my_car.stop_engine()"
   ]
  },
  {
   "cell_type": "markdown",
   "id": "4fe22e37",
   "metadata": {},
   "source": [
    "### 2. Describe the benefits of abstraction in terms of code organization and complexity reduction."
   ]
  },
  {
   "cell_type": "markdown",
   "id": "19448ec2",
   "metadata": {},
   "source": [
    "<b>Abstraction</b> provides several benefits in terms of code organization and complexity reduction:\n",
    "\n",
    "<b>Encapuslation of Complexity:</b> Abstraction allows you to encapsulate the internal workings and complexities of objects within a class. This means that users of the class only need to know the how tos use this methods and attributes, without having to understand the intircate details of how those methods are implemented.\n",
    "\n",
    "<b>Simplified Interface: </b> Abstraction provides a simplified and well-defined interface for interacting with objects. This makes it easier for developers to use and understand the functionality provided by a class, as they can focus on what the objects can do, rather than how it does it.\n",
    "\n",
    "<b>Modularity</b>: Abstraction promotes modularity by breaking down complex systems into smaller, more manageable units(classes). Each class encapsulates a specific set of functionalities. This makes it easier to work on individual components without affecting the entire system.\n",
    "\n",
    "<b>Code Reusability:</b> Abstraction allows you to create templates (classes) that can be reused across different parts of your code or in different projects. Once you have defined a abstract representation of a concept, you can use it in various contexts without having to rewrite the same code.\n",
    "\n",
    "<b>Improved Collaboration:</b> Abstraction can make code more understandable and accessible to other developers. When classes are well-abstracted, it's easier for multiple developers to work on different project simultaneously,as they can interact with well-defined interfaces.\n",
    "\n",
    "<b>Reduced Cognitive Load </b>: By hiding the implementation details, abstraction reduces the cognitive load on developers. They can focus on the higher-level concepts and logic without getting bogged down by low-level implementation specifics.\n",
    "\n",
    "<b>Security and Privacy:</b> Abstraction can help in enforcing security and privacy by controlling access to certain parts of an object's state or behavior. For example, using access modifier's (like private attributes or methods) in python.\n"
   ]
  },
  {
   "cell_type": "markdown",
   "id": "c753abc8",
   "metadata": {},
   "source": [
    "### 3. Create a Python class called `Shape` with an abstract method `calculate_area()`. Then, create child classes (e.g., `Circle`, `Rectangle`) that implement the `calculate_area()` method. Provide an example of using these classes."
   ]
  },
  {
   "cell_type": "code",
   "execution_count": 79,
   "id": "2905b97b",
   "metadata": {},
   "outputs": [
    {
     "name": "stdout",
     "output_type": "stream",
     "text": [
      "Area of Circle : 28.26\n",
      "Area of Rectangle : 20\n"
     ]
    }
   ],
   "source": [
    "from abc import ABC, abstractmethod\n",
    "\n",
    "class Shape(ABC):\n",
    "    \n",
    "    @abstractmethod\n",
    "    def calculate_area(self):\n",
    "        pass\n",
    "    \n",
    "class Circle(Shape):\n",
    "    \n",
    "    # constructor\n",
    "    def __init__(self,radius):\n",
    "        self.radius = radius\n",
    "        \n",
    "    # calculate the area\n",
    "    def calculate_area(self):\n",
    "        return 3.14 * self.radius**2\n",
    "    \n",
    "class Rectangle(Shape):\n",
    "    \n",
    "    # Constructor\n",
    "    def __init__(self,length,width):\n",
    "        self.length = length\n",
    "        self.width = width\n",
    "        \n",
    "    # Calculate the area\n",
    "    def calculate_area(self):\n",
    "        return self.length * self.width\n",
    "    \n",
    "# Creation of object\n",
    "circle = Circle(3)\n",
    "rectangle = Rectangle(4,5)\n",
    "\n",
    "# Calculating the area\n",
    "print(\"Area of Circle :\",circle.calculate_area())\n",
    "print(\"Area of Rectangle :\",rectangle.calculate_area())"
   ]
  },
  {
   "cell_type": "markdown",
   "id": "b9f0c0ce",
   "metadata": {},
   "source": [
    "### 4. Explain the concept of abstract classes in Python and how they are defined using the `abc` module. Provide an example."
   ]
  },
  {
   "cell_type": "markdown",
   "id": "ddd391ee",
   "metadata": {},
   "source": [
    "Abstract class in Python serve as blueprints for other classes. They define a common interface for a group of related classes. An abstract class cannot be instantiated on its own and typically contains one or more abstract methods.\n",
    "\n",
    "In Python, abstract classes are created using the abc module which stands for Abstract Base Classes. The abc module provides the ABC class and the abstractmethod decorator, which are used to define abstract classes and abstract methods respectively.\n",
    "\n",
    "Example:"
   ]
  },
  {
   "cell_type": "code",
   "execution_count": 80,
   "id": "7019470c",
   "metadata": {},
   "outputs": [
    {
     "name": "stdout",
     "output_type": "stream",
     "text": [
      "Area of Circle : 28.26\n",
      "Area of Rectangle : 20\n"
     ]
    }
   ],
   "source": [
    "from abc import ABC, abstractmethod\n",
    "\n",
    "class Shape(ABC):\n",
    "    \n",
    "    @abstractmethod\n",
    "    def calculate_area(self):\n",
    "        pass\n",
    "    \n",
    "class Circle(Shape):\n",
    "    \n",
    "    # constructor\n",
    "    def __init__(self,radius):\n",
    "        self.radius = radius\n",
    "        \n",
    "    # calculate the area\n",
    "    def calculate_area(self):\n",
    "        return 3.14 * self.radius**2\n",
    "    \n",
    "class Rectangle(Shape):\n",
    "    \n",
    "    # Constructor\n",
    "    def __init__(self,length,width):\n",
    "        self.length = length\n",
    "        self.width = width\n",
    "        \n",
    "    # Calculate the area\n",
    "    def calculate_area(self):\n",
    "        return self.length * self.width\n",
    "    \n",
    "# Creation of object\n",
    "circle = Circle(3)\n",
    "rectangle = Rectangle(4,5)\n",
    "\n",
    "# Calculating the area\n",
    "print(\"Area of Circle :\",circle.calculate_area())\n",
    "print(\"Area of Rectangle :\",rectangle.calculate_area())"
   ]
  },
  {
   "cell_type": "markdown",
   "id": "ef7027c2",
   "metadata": {},
   "source": [
    "### 5. How do abstract classes differ from regular classes in Python? Discuss their use cases."
   ]
  },
  {
   "cell_type": "markdown",
   "id": "bbaad856",
   "metadata": {},
   "source": [
    "<table>\n",
    "    <tr>\n",
    "        <th></th>\n",
    "        <th>Regular Class</th>\n",
    "        <th>Abstract Class</th>\n",
    "    </tr>\n",
    "    <tr>\n",
    "        <th>Instantiation</th>\n",
    "        <td>You can create objects(instances) of regular classes directly.</td>\n",
    "        <td>You cannot create objects of abstract classes directly. They are meant to serve as blueprints for other classes.</td>\n",
    "    </tr>\n",
    "    <tr>\n",
    "        <th>Abstract Methods</th>\n",
    "        <td>Regular classes may or may not have abstract methods</td>\n",
    "        <td>Abstract classes always have atleast one abstract methods.</td>\n",
    "    </tr>\n",
    "    <tr>\n",
    "        <th>Inheritance</th>\n",
    "        <td>Subclasses of regular classes inherit inherit all the attributes and methods of their parent class. They can also override and extend the behavior of those methods.</td>\n",
    "        <td>Abstract classes are meant to be inherited by other classes. They define a common interface that subclasses must implement. Subclasses of an abstract class must provide implementations for all abstract methods.</td>\n",
    "    </tr>\n",
    "</table>\n",
    "\n",
    "## Use Cases:\n",
    "\n",
    "### Regular Classes:\n",
    "\n",
    "- Regular classes are used when you have a concrete implementation for a group of related objects.\n",
    "- They are instantiated to create objects that can perform specific tasks or hold specific information.\n",
    "\n",
    "### Abstract Classes:\n",
    "\n",
    "- Abstract classes are used when you want to define a common interface or behavior for a group of related classes, but you don't want to provide a concrete implementation for some of the methods.\n",
    "\n",
    "- They serve as blueprints that enforce a certain structure or set of methods for subclasses to implement.\n",
    "\n",
    "- They are useful when you want to ensure that certain methods are implemented by multiple subclasses, but the exact implementation can vary."
   ]
  },
  {
   "cell_type": "markdown",
   "id": "e3f4f806",
   "metadata": {},
   "source": [
    "### 6. Create a Python class for a bank account and demonstrate abstraction by hiding the account balance and providing methods to deposit and withdraw funds."
   ]
  },
  {
   "cell_type": "code",
   "execution_count": 81,
   "id": "63722226",
   "metadata": {},
   "outputs": [
    {
     "name": "stdout",
     "output_type": "stream",
     "text": [
      "Account 123456 balance : $10000\n",
      "Updated Balane : $9766\n"
     ]
    }
   ],
   "source": [
    "class BankAccount:\n",
    "    \n",
    "    # Constructor\n",
    "    def __init__(self, account_number, initial_balance):\n",
    "        self.account_number = account_number\n",
    "        self.__balance = initial_balance\n",
    "        \n",
    "    # Deposit method\n",
    "    def deposit(self,amount):\n",
    "        self.__balance += amount\n",
    "        \n",
    "    # withdraw method\n",
    "    def withdraw(self,amount):\n",
    "        if amount > self.__balance:\n",
    "            print('Insufficient balance.')\n",
    "        else:\n",
    "            self.__balance -=amount\n",
    "            \n",
    "    # Get balance method\n",
    "    def get_balance(self):\n",
    "        return self.__balance\n",
    "    \n",
    "# Object\n",
    "account = BankAccount(\"123456\",10000)\n",
    "\n",
    "# Accessing the balance\n",
    "print(f\"Account {account.account_number} balance : ${account.get_balance()}\")\n",
    "\n",
    "# Depositing and withdrawing funds\n",
    "account.deposit(1000)\n",
    "account.withdraw(1234)\n",
    "\n",
    "print(f'Updated Balane : ${account.get_balance()}')"
   ]
  },
  {
   "cell_type": "markdown",
   "id": "5588a8ee",
   "metadata": {},
   "source": [
    "### 7. Discuss the concept of interface classes in Python and their role in achieving abstraction."
   ]
  },
  {
   "cell_type": "markdown",
   "id": "8497883f",
   "metadata": {},
   "source": [
    "<b>Interface classes </b> are classes that define a set of method signature without providing any implementation details. They serve as contracts that specify what methods a class must implement. Although python doesn't have a built in construct for interfaces like some other languages, the concept of interfaces can still be achieved through abstract base classes(ABCs) using the abc module.\n",
    "\n",
    "\n",
    "Interface classes(using abstract base classes) contribute to achieving abstraction in Python as below:\n",
    "\n",
    "\n",
    "- <b>Using Abstract Base Classes(ABCs):</b> Python's abc module provides the ABC class and the abstract method decorator. This allows you to define abstract methods within a class.\n",
    "\n",
    "\n",
    "- <b>Defining Method Signatures : </b> Abstract methods declare the method signatures without providing any implementation. This means they only server as placeholders for methods that must be implemented by subclasses.\n",
    "\n",
    "\n",
    "- <b>Enforcing a Contract: </b> By inheriting from an abstract base class and implementing its abstract methods, a subclass effectively promises to adhere to the contract defined by the abstract class.\n",
    "\n",
    "\n",
    "- <b>Hiding Implementation Details: </b> Interface classes, being abstract, focus solely on what methods should be available, not on how they are implemented. This helps in hiding the internal implementation details from the user.\n",
    "\n",
    "\n",
    "- <b>Providing a Common Interface : </b> Interfaces classes define a commong set of methods that multiple classes can implement. This promotes a consistent interface for objects that share a certain behavior.\n",
    "\n",
    "\n",
    "- <b>Promoting Polymorphism: </b> Interface classes play a crucial role in achieving polymorphism. Objects of different classes canimplement the same interface can be interchangeably, allowing for flexibility and extensibility in your code.\n",
    "\n"
   ]
  },
  {
   "cell_type": "code",
   "execution_count": 82,
   "id": "6600395f",
   "metadata": {},
   "outputs": [],
   "source": [
    "from abc import ABC, abstractmethod\n",
    "\n",
    "class Shape(ABC):\n",
    "    \n",
    "    @abstractmethod\n",
    "    def calculate_area(self):\n",
    "        pass\n",
    "    \n",
    "class Circle(Shape):\n",
    "    \n",
    "    # constructor\n",
    "    def __init__(self,radius):\n",
    "        self.radius = radius\n",
    "        \n",
    "    # calculate the area\n",
    "    def calculate_area(self):\n",
    "        return 3.14 * self.radius**2\n",
    "    \n",
    "class Rectangle(Shape):\n",
    "    \n",
    "    # Constructor\n",
    "    def __init__(self,length,width):\n",
    "        self.length = length\n",
    "        self.width = width\n",
    "        \n",
    "    # Calculate the area\n",
    "    def calculate_area(self):\n",
    "        return self.length * self.width"
   ]
  },
  {
   "cell_type": "markdown",
   "id": "b8f87af5",
   "metadata": {},
   "source": [
    "### 8. Create a Python class hierarchy for animals and implement abstraction by defining common methods (e.g., `eat()`, `sleep()`) in an abstract base class."
   ]
  },
  {
   "cell_type": "code",
   "execution_count": 83,
   "id": "e31d7dd3",
   "metadata": {},
   "outputs": [
    {
     "name": "stdout",
     "output_type": "stream",
     "text": [
      "Lion is eating plants.\n",
      "Eagle is pecking seeds.\n",
      "Snake is hunting for insects.\n",
      "\n",
      "Lion is sleeping in a cozy den.\n",
      "Eagle is roosting in a tree.\n",
      "Snake is basking on a rock.\n",
      "\n"
     ]
    }
   ],
   "source": [
    "from abc import ABC, abstractmethod\n",
    "\n",
    "class Animal(ABC):\n",
    "    \n",
    "    def __init__(self,name):\n",
    "        self.name = name\n",
    "        \n",
    "    @abstractmethod\n",
    "    def eat(self):\n",
    "        pass\n",
    "    \n",
    "    @abstractmethod\n",
    "    def sleep(self):\n",
    "        pass\n",
    "    \n",
    "class Mammal(Animal):\n",
    "    \n",
    "    # Eat method\n",
    "    def eat(self):\n",
    "        return f\"{self.name} is eating plants.\"\n",
    "    \n",
    "    # Sleep method\n",
    "    def sleep(self):\n",
    "        return f\"{self.name} is sleeping in a cozy den.\"\n",
    "    \n",
    "class Bird(Animal):\n",
    "    \n",
    "    # Eat method\n",
    "    def eat(self):\n",
    "        return f\"{self.name} is pecking seeds.\"\n",
    "    \n",
    "    # Sleep method\n",
    "    def sleep(self):\n",
    "        return f\"{self.name} is roosting in a tree.\"\n",
    "    \n",
    "class Reptile(Animal):\n",
    "    \n",
    "    # Eat method\n",
    "    def eat(self):\n",
    "        return f\"{self.name} is hunting for insects.\"\n",
    "    \n",
    "    # Sleep method\n",
    "    def sleep(self):\n",
    "        return f\"{self.name} is basking on a rock.\"\n",
    "    \n",
    "# Create an object\n",
    "lion = Mammal('Lion')\n",
    "eagle = Bird('Eagle')\n",
    "snake = Reptile('Snake')\n",
    "\n",
    "# Perform every actions\n",
    "print(lion.eat())\n",
    "print(eagle.eat())\n",
    "print(snake.eat())\n",
    "\n",
    "print()\n",
    "\n",
    "print(lion.sleep())\n",
    "print(eagle.sleep())\n",
    "print(snake.sleep())\n",
    "\n",
    "print()"
   ]
  },
  {
   "cell_type": "markdown",
   "id": "dd48a101",
   "metadata": {},
   "source": [
    "### 9. Explain the significance of encapsulation in achieving abstraction. Provide examples."
   ]
  },
  {
   "cell_type": "markdown",
   "id": "425c11c6",
   "metadata": {},
   "source": [
    "<b>Encapsulation and Abstraction</b> are two closely related concepts in object-oriented programming, and encapsulation plays a significant role in achieving abstraction. Here's an explanation of the significance of encapsulation in achieving abstraction, along with examples:\n",
    "\n",
    "1. <b>Hiding Implementation Details:</b>\n",
    "\n",
    "- Encapsulation involves bundling data(attribues) and methods(functions) that operate on that data into a single unit, known as class.\n",
    "- By encapsulating data and methods within a class, you can hide the internal implementation deatils of the class from the outside world.\n",
    "- This hidden implementation is a key aspect of achieving abstraction, as it allows users of the class to focus on what the class can do(its interface) rather than how it does it (its implementation details).\n",
    "\n",
    "2. <b>Access Control:</b>\n",
    "\n",
    "- Encapsulation allows you to control the access to the attributes and methods of a class.\n",
    "- You can specify which attributes or methods are public and which are private.\n",
    "- By keeping certain attributes or methods private, you can further hide the implementation details ensuring that they are not directly accessible from outside the class.\n",
    "\n",
    "3. <b>Data Integrity:</b>\n",
    "\n",
    "- Encapsulation helps in ensuring the integrity of the data within the class. You can define rules and constraints for how data can be modified by providing setter methods.\n",
    "- This ensures that data remains in a valid state and prevents unexpected or invalid modifications."
   ]
  },
  {
   "cell_type": "markdown",
   "id": "383f8cab",
   "metadata": {},
   "source": [
    "### 10. What is the purpose of abstract methods, and how do they enforce abstraction in Python classes?"
   ]
  },
  {
   "cell_type": "markdown",
   "id": "54977dfb",
   "metadata": {},
   "source": [
    "<b>Abstract Methods</b> serves as placeholders for methods that must be implemented by subclasses. They define the required method signatures without providing any implementation details. The purpose of abstract methods is to enforce a common interface or behavior across multiple classes, ensuring that certain methods are present in each subclass.\n",
    "\n",
    "<b>Abstract methods enforce abstraction</b> in Python classes by following:\n",
    "\n",
    "#### Define a Contract:\n",
    "\n",
    "- An abstract method in an abstract base class serves as a contract that specifies what methods must be implemented by subclasses.\n",
    "- It defines the expected behavior or functionality that subclasses are expected to provide.\n",
    "\n",
    "#### Forcing Implentation:\n",
    "\n",
    "- Subclasses that inherit from an abstract base class containing abstract methods are required to implement those methods.\n",
    "- If a subclass fails to provide an implementation for an abstract method, it will raise an error at runtime.\n",
    "\n",
    "#### Providing a Common Interface:\n",
    "\n",
    "- Abstract methods help in creating a common interface that multiple classes can implement. This promotes consistency in behavior across different subclasses.\n",
    "\n",
    "#### Hiding Implementation Details:\n",
    "\n",
    "- Abstract methods focus solely on what methods should be available , not on how they are implemented. This helps in hiding the internal implementation details from the user.\n",
    "\n",
    "#### Supporting Polymorphism:\n",
    "\n",
    "- Abstract methods play a crucial role in achieving polymorphism. Objects of different classes that implement the same abstract method can be used interchangeably, allowing for flexibility and extensibility in your code.\n"
   ]
  },
  {
   "cell_type": "markdown",
   "id": "9ad0bed1",
   "metadata": {},
   "source": [
    "### 11. Create a Python class for a vehicle system and demonstrate abstraction by defining common methods (e.g., `start()`, `stop()`) in an abstract base class."
   ]
  },
  {
   "cell_type": "code",
   "execution_count": 84,
   "id": "6107be2a",
   "metadata": {},
   "outputs": [
    {
     "name": "stdout",
     "output_type": "stream",
     "text": [
      "The 2023 Audi Q3 engine is now running.\n",
      "The 2023 Audi Q3 engine has been turned off.\n",
      "\n",
      "The 2022 Honda SP 125 engine is now running.\n",
      "The 2022 Honda SP 125 engine has been turned off.\n",
      "\n",
      "The 2022 Sea Ray Sundancer engine is now running.\n",
      "The 2022 Sea Ray Sundancer engine has been turned off.\n"
     ]
    }
   ],
   "source": [
    "from abc import ABC, abstractmethod\n",
    "\n",
    "class Vehicle(ABC):\n",
    "    \n",
    "    # Constructor\n",
    "    def __init__(self,make,model,year):\n",
    "        self.make = make\n",
    "        self.model = model\n",
    "        self.year = year\n",
    "        \n",
    "    @abstractmethod\n",
    "    def start(self):\n",
    "        pass\n",
    "    \n",
    "    @abstractmethod\n",
    "    def stop(self):\n",
    "        pass\n",
    "    \n",
    "class Car(Vehicle):\n",
    "    \n",
    "    # start method\n",
    "    def start(self):\n",
    "        return f\"The {self.year} {self.make} {self.model} engine is now running.\"\n",
    "    \n",
    "    # Stop method\n",
    "    def stop(self):\n",
    "        return f\"The {self.year} {self.make} {self.model} engine has been turned off.\"\n",
    "    \n",
    "class Motorcycle(Vehicle):\n",
    "    \n",
    "    # start method\n",
    "    def start(self):\n",
    "        return f\"The {self.year} {self.make} {self.model} engine is now running.\"\n",
    "    \n",
    "    # Stop method\n",
    "    def stop(self):\n",
    "        return f\"The {self.year} {self.make} {self.model} engine has been turned off.\"\n",
    "    \n",
    "class Boat(Vehicle):\n",
    "    \n",
    "    # start method\n",
    "    def start(self):\n",
    "        return f\"The {self.year} {self.make} {self.model} engine is now running.\"\n",
    "    \n",
    "    # Stop method\n",
    "    def stop(self):\n",
    "        return f\"The {self.year} {self.make} {self.model} engine has been turned off.\"\n",
    "    \n",
    "# Creating the object\n",
    "car = Car('Audi','Q3',2023)\n",
    "motorcycle = Motorcycle(\"Honda\",'SP 125',2022)\n",
    "boat = Boat('Sea Ray','Sundancer',2022)\n",
    "\n",
    "\n",
    "# Calling methods of start and stop\n",
    "print(car.start())\n",
    "print(car.stop())\n",
    "\n",
    "print()\n",
    "\n",
    "print(motorcycle.start())\n",
    "print(motorcycle.stop())\n",
    "\n",
    "print()\n",
    "\n",
    "print(boat.start())\n",
    "print(boat.stop())"
   ]
  },
  {
   "cell_type": "markdown",
   "id": "d96636e3",
   "metadata": {},
   "source": [
    "### 12. Describe the use of abstract properties in Python and how they can be employed in abstract classes."
   ]
  },
  {
   "cell_type": "markdown",
   "id": "503e1846",
   "metadata": {},
   "source": [
    "<b>Abstract properties</b> in Python are special attributes that are defined in abstract base classes(ABCs) using the `@property` decorator and the `@attribute.setter` decorator. They allow you to define a contract for attributes that must be implemented by subclasses, without specifying how they should be implemented.\n",
    "\n",
    "Here's how abstract properties work and how they can be employed in abstract classes:\n",
    "\n",
    "<b>Defining Abstract Properties: </b> To create an abstract property, you use the `@property` decorator on a method, and then create a setter method using `@attribute.setter.`\n",
    "\n",
    "<b> Getter Method </b>: The method with `@property` is known as the getter method. It defines the behavior for retrieving the value of the property.\n",
    "\n",
    "<b>Setter Method</b>: The method with `@<attribute>.setter` is used to define the behavior for setting the value of the property.\n",
    "\n",
    "<b>Enforcing a Contract : </b> Abstract properties define a contract that subclasses must adhere to. They specify that a certain attribute must be present in subclasses, but they don's specify how it should be implemented.\n",
    "\n",
    "<b>Providing a Common Interface:</b> Abstract properties allow you to create a common interface for attributes that multiple classes can implement. This promotes consistency in behavior across different subclasses.\n",
    "\n",
    "<b>Hiding Implementation Details:</b> Like abstract methods, abstract properties focus solely on what attributes should be available, not on how they are implemented. This helps in hiding the internal implementation details from the user."
   ]
  },
  {
   "cell_type": "markdown",
   "id": "538ef58a",
   "metadata": {},
   "source": [
    "### 13. Create a Python class hierarchy for employees in a company (e.g., manager, developer, designer) and implement abstraction by defining a common `get_salary()` method."
   ]
  },
  {
   "cell_type": "code",
   "execution_count": 85,
   "id": "6cd7bce4",
   "metadata": {},
   "outputs": [
    {
     "name": "stdout",
     "output_type": "stream",
     "text": [
      "John's salary : $130000\n",
      "Smith's salary : $9000\n",
      "Cloe's salary : $20000\n"
     ]
    }
   ],
   "source": [
    "from abc import ABC, abstractmethod\n",
    "\n",
    "class Employee(ABC):\n",
    "    \n",
    "    # Constructor\n",
    "    def __init__(self,name,employeeID):\n",
    "        self.name = name\n",
    "        self.employeeID = employeeID\n",
    "        \n",
    "    @abstractmethod\n",
    "    def get_salary(self):\n",
    "        pass\n",
    "    \n",
    "class Manager(Employee):\n",
    "    \n",
    "    # Constructor\n",
    "    def __init__(self,name,employeeID,baseSalary,bonus):\n",
    "        super().__init__(name,employeeID)\n",
    "        self.baseSalary = baseSalary\n",
    "        self.bonus = bonus\n",
    "        \n",
    "    # Get salary method\n",
    "    def get_salary(self):\n",
    "        return self.baseSalary + self.bonus\n",
    "    \n",
    "# Developer Class\n",
    "class Developer(Employee):\n",
    "    \n",
    "    # Constuctor\n",
    "    def __init__(self,name,employeeID,hourlyRates, hoursWorked):\n",
    "        super().__init__(name,employeeID)\n",
    "        self.hourlyRates = hourlyRates\n",
    "        self.hoursWorked = hoursWorked\n",
    "        \n",
    "    # Calculate salary\n",
    "    def get_salary(self):\n",
    "        return self.hourlyRates * self.hoursWorked\n",
    "    \n",
    "# Designer Class\n",
    "class Designer(Employee):\n",
    "    \n",
    "    # Constructor\n",
    "    def __init__(self,name,employeeID,monthlySalary):\n",
    "        super().__init__(name,employeeID)\n",
    "        self.monthlySalary = monthlySalary\n",
    "        \n",
    "    # Calculate Salary\n",
    "    def get_salary(self):\n",
    "        return self.monthlySalary\n",
    "    \n",
    "# Creating object for all class\n",
    "manager = Manager('John',101,100000,30000)\n",
    "developer = Developer('Smith',102,60,150)\n",
    "designer = Designer('Cloe',103,20000)\n",
    "\n",
    "# Calculating salary for every object\n",
    "print(f\"{manager.name}'s salary : ${manager.get_salary()}\")\n",
    "print(f\"{developer.name}'s salary : ${developer.get_salary()}\")\n",
    "print(f\"{designer.name}'s salary : ${designer.get_salary()}\")\n",
    "   "
   ]
  },
  {
   "cell_type": "markdown",
   "id": "3614bbd2",
   "metadata": {},
   "source": [
    "### 14. Discuss the differences between abstract classes and concrete classes in Python, including their instantiation."
   ]
  },
  {
   "cell_type": "markdown",
   "id": "da6f3439",
   "metadata": {},
   "source": [
    "<table>\n",
    "    <tr>\n",
    "        <th></th>\n",
    "        <th>Concrete Class(Regular Class)</th>\n",
    "        <th>Abstract Class</th>\n",
    "    </tr>\n",
    "    <tr>\n",
    "        <th>Instantiation</th>\n",
    "        <td>You can create objects of concrete classes directly.</td>\n",
    "        <td>You cannot create objects of abstract classes directly. They are meant to serve as blueprints for other classes.</td>\n",
    "    </tr>\n",
    "     <tr>\n",
    "        <th>Abstract Methods</th>\n",
    "        <td>Concrete classes may or may nor have abstract methods.</td>\n",
    "        <td>Abstract classes always have at least one abstract method.</td>\n",
    "    </tr>\n",
    "     <tr>\n",
    "        <th>Inheritance</th>\n",
    "        <td>Subclasses of concrete classes inherit all the attributes and methods of their parent clas. They can also override and extend behavior of those methods.</td>\n",
    "        <td>Abstract classes are meant to be inherited by other classes. They define a common interface that subclasses must implement. Subclasses of an abstract class must provide implementation for all abstract methods.</td>\n",
    "    </tr>\n",
    "</table>"
   ]
  },
  {
   "cell_type": "markdown",
   "id": "97b1d49b",
   "metadata": {},
   "source": [
    "### 15. Explain the concept of abstract data types (ADTs) and their role in achieving abstraction in Python."
   ]
  },
  {
   "cell_type": "markdown",
   "id": "a0a73fe1",
   "metadata": {},
   "source": [
    "<b>Abstract Data Types (ADTs)</b> are a fundamental concepts in computer science that define a set of operations on a data structure without specifying the underlying implementation. They provide a high-level view of data and operations allowing you to focus on what can be done with the data rather than how it is represented.\n",
    "\n",
    "Here's how ADTs contribute to achieving abstraction in Python:\n",
    "\n",
    "<b>High-Level View:</b> ADTs provide a clear, high-level view of the data and operations associated with it. This allows you to think about data in a conceptual manner without bofed down in the implementation details.\n",
    "\n",
    "<b>Separation of Concerns :</b> ADTs seperate the logical view from the physical view. This seperation helps in organizing code and makes it easier to understand and maintain.\n",
    "\n",
    "<b>Encapsulation:</b> ADTs encapsulate data and operations related to the data. This means that the inner working of the data structure are hidden, and users only interact with it through well-defined interfaces.\n",
    "\n",
    "<b>Code Resuability:</b> By providing a standardized interface for working with data. ADTs encourage code reuse. Once an ADT is defined, it can be used in multiple contexts without needing to reimplement the underlying data structure.\n",
    "\n",
    "<b>Abstraction of Implementation Details: </b>ADTs hide the implementation details of the data structure, allowing you to choose the most appropriate one for a specific application. This provides flexibility and extensibility in designing software.\n"
   ]
  },
  {
   "cell_type": "markdown",
   "id": "ef763848",
   "metadata": {},
   "source": [
    "### 16. Create a Python class for a computer system, demonstrating abstraction by defining common methods (e.g., `power_on()`, `shutdown()`) in an abstract base class."
   ]
  },
  {
   "cell_type": "code",
   "execution_count": 86,
   "id": "15e73688",
   "metadata": {},
   "outputs": [
    {
     "name": "stdout",
     "output_type": "stream",
     "text": [
      "The Dell Precision Desktop desktop is booting up.\n",
      "The Dell Precision Desktop desktop is shutting down.\n",
      "\n",
      "The Dell Inspirion 534 laptop is booting up.\n",
      "The Dell Inspirion 534 laptop is shutting down.\n"
     ]
    }
   ],
   "source": [
    "from abc import ABC, abstractmethod\n",
    "\n",
    "# abstract base class\n",
    "class Computer(ABC):\n",
    "    \n",
    "    # Constructor\n",
    "    def __init__(self,brand,model):\n",
    "        self.brand = brand\n",
    "        self.model = model\n",
    "        \n",
    "    @abstractmethod\n",
    "    def power_on(self):\n",
    "        pass\n",
    "    \n",
    "    @abstractmethod\n",
    "    def shutdown(self):\n",
    "        pass\n",
    "    \n",
    "class Desktop(Computer):\n",
    "    \n",
    "    # power method\n",
    "    def power_on(self):\n",
    "        return f\"The {self.brand} {self.model} desktop is booting up.\"\n",
    "    \n",
    "    # shutdown method\n",
    "    def shutdown(self):\n",
    "        return f\"The {self.brand} {self.model} desktop is shutting down.\"\n",
    "    \n",
    "class Laptop(Computer):\n",
    "    \n",
    "     # power method\n",
    "    def power_on(self):\n",
    "        return f\"The {self.brand} {self.model} laptop is booting up.\"\n",
    "    \n",
    "    # shutdown method\n",
    "    def shutdown(self):\n",
    "        return f\"The {self.brand} {self.model} laptop is shutting down.\"\n",
    "    \n",
    "# Create an object\n",
    "desktop = Desktop('Dell','Precision Desktop')\n",
    "laptop = Laptop('Dell','Inspirion 534')\n",
    "\n",
    "# Calling the power_on and shutdown method\n",
    "print(desktop.power_on())\n",
    "print(desktop.shutdown())\n",
    "\n",
    "print()\n",
    "\n",
    "print(laptop.power_on())\n",
    "print(laptop.shutdown())\n"
   ]
  },
  {
   "cell_type": "markdown",
   "id": "ac909f64",
   "metadata": {},
   "source": [
    "### 17. Discuss the benefits of using abstraction in large-scale software development projects."
   ]
  },
  {
   "cell_type": "markdown",
   "id": "a85e0b4b",
   "metadata": {},
   "source": [
    "Using abstraction in large-scale software development projects offers several significant benefits:\n",
    "\n",
    "1. <b>Complexity Management:</b> Abstraction helps manage the complexity of large-scale projects by breaking them down into manageable, modular components. Each component can be developed and tested independently, reducing the cognitive load on individual developers.\n",
    "\n",
    "\n",
    "2. <b>Code Organization:</b> Abstraction promotes a structured and organized codebase. It allows developers to focus on individual components without being overwhelmed by the entire system's interface.\n",
    "\n",
    "\n",
    "3. <b>Improved Readability and Maintainability:</b> Abstracting away low-level details means that code is more readable and understandable. This makes it easier for developers to grasp the functionality of various parts of the system.\n",
    "\n",
    "\n",
    "4. <b>Ease of Collaboration:</b>Abstraction provide clear interfaces between different parts of the system. This facilitates teamwork, as developers can work on different components simultaneously knowing how they interact with one another.\n",
    "\n",
    "\n",
    "5. <b>Reduced Coupling:</b> Abstraction helps in reducing tight coupling between different modules or components. This allows for changes or updates to be made to one part of the system without affecting others, as long as the interface remains consistent.\n",
    "\n",
    "\n",
    "6. <b>Error Isolation:</b> With proper abstraction, errors are isolated to specific components, making it easier to identify the source of a problem and fix it without affecting other parts of the system.\n",
    "\n",
    "\n",
    "7. <b>Security and Encapsulation:</b> Abstraction can help enforce security by limiting access to sensitive information or operations. It allows you to encapsulate critical functionalities making it harder for unitended misuse."
   ]
  },
  {
   "cell_type": "markdown",
   "id": "57d9bf57",
   "metadata": {},
   "source": [
    "### 18. Explain how abstraction enhances code reusability and modularity in Python programs."
   ]
  },
  {
   "cell_type": "markdown",
   "id": "7f09ce4e",
   "metadata": {},
   "source": [
    "Abstraction plays a crucial role in enchancing code resuability and modularity in Python programs. Here's how it achieves this:\n",
    "\n",
    "1. <b>Seperation of Concerns:</b> Abstraction allows you to seperate different concerns or functionalities in your code. Each component or module can focus on a specific aspect of the program functionality, making it easier to understand and maintain.\n",
    "\n",
    "\n",
    "2. <b>Well-Defined Interfaces:</b> Abstraction defines well-defined interfaces for components. These interfaces specify how different parts of the program can interact with each other. This promotes code reusability because you can use components without needing to understand their internal workings.\n",
    "\n",
    "\n",
    "3. <b>Encapsulation:</b> Abstraction encapsulates the implementation details of a component, hiding them from the outside world. This makes it easier to reuse components because you only need to know how to use them, not how they are implemented.\n",
    "\n",
    "\n",
    "4. <b>Modular Design:</b> Abstraction encourages a modular design, where different components are organized into separate modules or classes. These modules can be reused in other parts of the program or even in other projects.\n",
    "\n",
    "\n",
    "5. <b>Reduced Dependencies:</b> Abstraction reduces dependencies between components. This means that you can change or update one component without affecting others, as long as the interface remains consistent. This promotes code reusability and maintainability.\n",
    "\n",
    "\n",
    "6. <b>Inheritance and Interfaces :</b> Python supports inheritance and interfaces through abstract base classes(ABCs). This allows you to create abstract classes that define commong interfaces for subclasses. This promotes code reuse by ensuring adherence to a specified contract.\n",
    "\n",
    "\n",
    "7. <b>Polymorphism:</b> Abstraction, particularly in the context of polymorphism, allows different objects to be used interchangeably if they implement the same abstract interface. This enables reusing code that operates on abstracted interfaces rather than specific implementation."
   ]
  },
  {
   "cell_type": "markdown",
   "id": "268a90b5",
   "metadata": {},
   "source": [
    "### 19. Create a Python class for a library system, implementing abstraction by defining common methods (e.g., `add_book()`, `borrow_book()`) in an abstract base class."
   ]
  },
  {
   "cell_type": "code",
   "execution_count": 87,
   "id": "0bbf0681",
   "metadata": {},
   "outputs": [
    {
     "name": "stdout",
     "output_type": "stream",
     "text": [
      "The book 'Alchemist' by Paul has been added to the library.\n",
      "You have borrowed the book 'Alchemist'.\n",
      "The book 'Alchemist' is already borrowed.\n",
      "You have returned the book 'Alchemist'.\n",
      "\n",
      "The magazine 'Hands on Machine Learning in Python' by Orielly has been added to the library.\n",
      "You have borrowed the magazine 'Hands on Machine Learning in Python'.\n",
      "The magazine 'Hands on Machine Learning in Python' is already borrowed.\n",
      "You have returned the magazine 'Hands on Machine Learning in Python'.\n"
     ]
    }
   ],
   "source": [
    "from abc import ABC,abstractmethod\n",
    "\n",
    "class LibraryItem(ABC):\n",
    "    \n",
    "    # Constructor\n",
    "    def __init__(self, title, author):\n",
    "        self.title = title\n",
    "        self.author = author\n",
    "        self.isBorrowed = False\n",
    "        \n",
    "    @abstractmethod\n",
    "    def add_book(self):\n",
    "        pass\n",
    "    \n",
    "    @abstractmethod\n",
    "    def borrow_book(self):\n",
    "        pass\n",
    "    \n",
    "    @abstractmethod\n",
    "    def return_book(self):\n",
    "        pass\n",
    "    \n",
    "class StoryBook(LibraryItem):\n",
    "    \n",
    "    # Add book method\n",
    "    def add_book(self):\n",
    "        return f\"The book '{self.title}' by {self.author} has been added to the library.\"\n",
    "    \n",
    "    # Borrow method\n",
    "    def borrow_book(self):\n",
    "        if not self.isBorrowed:\n",
    "            self.isBorrowed = True\n",
    "            return f\"You have borrowed the book '{self.title}'.\"\n",
    "        else:\n",
    "            return f\"The book '{self.title}' is already borrowed.\"\n",
    "        \n",
    "    # return book\n",
    "    def return_book(self):\n",
    "        if self.isBorrowed:\n",
    "            self.isBorrowed = False\n",
    "            return f\"You have returned the book '{self.title}'.\"\n",
    "        else:\n",
    "            return f\"The book '{self.title}' was not borrowed.\"\n",
    "        \n",
    "class TechnologyBook(LibraryItem):\n",
    "    \n",
    "    # Add book method\n",
    "    def add_book(self):\n",
    "        return f\"The magazine '{self.title}' by {self.author} has been added to the library.\"\n",
    "    \n",
    "    # Borrow method\n",
    "    def borrow_book(self):\n",
    "        if not self.isBorrowed:\n",
    "            self.isBorrowed = True\n",
    "            return f\"You have borrowed the magazine '{self.title}'.\"\n",
    "        else:\n",
    "            return f\"The magazine '{self.title}' is already borrowed.\"\n",
    "        \n",
    "    # return book\n",
    "    def return_book(self):\n",
    "        if self.isBorrowed:\n",
    "            self.isBorrowed = False\n",
    "            return f\"You have returned the magazine '{self.title}'.\"\n",
    "        else:\n",
    "            return f\"The magazine '{self.title}' was not borrowed.\"\n",
    "        \n",
    "# Create an object\n",
    "book =  StoryBook('Alchemist','Paul')\n",
    "magazine = TechnologyBook('Hands on Machine Learning in Python','Orielly')\n",
    "\n",
    "print(book.add_book())\n",
    "print(book.borrow_book())\n",
    "print(book.borrow_book())\n",
    "print(book.return_book())\n",
    "\n",
    "print()\n",
    "\n",
    "print(magazine.add_book())\n",
    "print(magazine.borrow_book())\n",
    "print(magazine.borrow_book())\n",
    "print(magazine.return_book())"
   ]
  },
  {
   "cell_type": "markdown",
   "id": "edb220e5",
   "metadata": {},
   "source": [
    "### 20. Describe the concept of method abstraction in Python and how it relates to polymorphism."
   ]
  },
  {
   "cell_type": "markdown",
   "id": "f73acfce",
   "metadata": {},
   "source": [
    "<b>Method Abstraction</b> in Python is a fundamental concept related to polymorphism and object-oriented pgoramming. It involves defining methods in abstract base classes or interfaces without specifying their concrete implementations. Instead, these abstract methods serve as placeholders for behavior that must be defined by concrete subclasses. Method abstraction allows different classes to share a commong method signature providing a way to achieve polymorphism.\n",
    "\n",
    "Here's how method abstraction relates to polymorphism:\n",
    "\n",
    "\n",
    "<b>Abstraction through Abstract Methods:</b> In Python, you can use abstract methods which are defined in abstract base classes using the `@abstractmethod` decorator from the abc module. These abstract methods have no implementation details and serve as a contract or specification for what a concrete subclass must implement.\n",
    "\n",
    "\n",
    "<b>Polymorphism through Abstract Methods:</b> Polymorphism is the ability of different objects to respond to the same method call in a way that is appropriate for their specific type. When you defined abstract methods in a abstract base class, you are effectively creating a shared method signature that multiple subclasses can implement in their own unique ways.\n",
    "\n",
    "\n",
    "<b>Consistent Interfaces:</b> Abstract methods establish consistent interfaces for different classes, enabling polymorphism. These abstract methods define how objects of different types should respond to method calls with the same name. This allows you to work with objects of various classes in a uniform manner.\n",
    "\n",
    "\n",
    "<b>Code Reusability:</b> Method abstraction and polymorphism promotes code reusability. You can write code that works with abstracted interfaces, allowing it to be reused with different objects that implements those interfaces. This is particularly useful when dealing with collection of objects of different types.\n",
    "\n",
    "\n",
    "<b>Extensibility:</b> As your code evolves, you can add new classes that implement the same abstract methods, thereby extending the behavior of your application without modifying existing code. This is a key aspect of polymorphism and method abstraction.\n"
   ]
  },
  {
   "cell_type": "markdown",
   "id": "72a6d6a0",
   "metadata": {},
   "source": [
    "## Composition:"
   ]
  },
  {
   "cell_type": "markdown",
   "id": "68588a13",
   "metadata": {},
   "source": [
    "### 1. Explain the concept of composition in Python and how it is used to build complex objects from simpler ones."
   ]
  },
  {
   "cell_type": "markdown",
   "id": "7de0017e",
   "metadata": {},
   "source": [
    "<b>Composition</b> is a core principle in Python's object oriented programming paradigm. It involves creating relationships between classes, where one class contains another as a part. This allows you to build complext objects by combining simpler ones.\n",
    "\n",
    "Key points about composition:\n",
    "\n",
    "<b>Combining Objects:</b> Composition involves creating instances of one class within another class. These instances become attributes of the containing class, providing specific functionality.\n",
    "\n",
    "<b>Has-a Relationship:</b> Composition establishes a \"has-a\" relationship between classes. For example, a Car \"has-a\" Engine, meaning the Carclass contains an instance of the Engine class.\n",
    "\n",
    "<b>Flexibility and Encapsulation :</b> Composition offers flexibility and encapsulation. It allows you to change behavior by replacing components. It also hides the internal workings of components.\n",
    "\n",
    "<b>Code Reusability:</b> Composition promotes code reusability by allowing you to reuse existing classes as components in different contexts.\n",
    "\n",
    "<b>Avoiding Tight Coupling:</b> Composition helps avoid tight coupling between classes. Changes in one class's implementation do no directly affect the containing class.\n",
    "\n",
    "<b>Granular Control:</b> With composition, you have fine-grained control over how components are used and interact.\n",
    "\n",
    "<b>Dynamism and Runtime Behavior:</b> Composition allows for dynamic composition at runtime. You can change components of an object during program execution, leading to adaptable behavior.\n"
   ]
  },
  {
   "cell_type": "markdown",
   "id": "bf1c8bd6",
   "metadata": {},
   "source": [
    "### 2. Describe the difference between composition and inheritance in object-oriented programming."
   ]
  },
  {
   "cell_type": "markdown",
   "id": "00809f66",
   "metadata": {},
   "source": [
    "<table>\n",
    "    <tr>\n",
    "        <th></th>\n",
    "        <th>Composition</th>\n",
    "        <th>Inheritance</th>\n",
    "    </tr>\n",
    "    <tr>\n",
    "        <th>Definition</th>\n",
    "        <td>Composition is a design principle where one class contains an instance of another class as a member or attribute.</td>\n",
    "        <td>Inheritance is a mechanism where one class derives properties and behaviors from another class.</td>\n",
    "    </tr>\n",
    "    <tr>\n",
    "        <th>Relationship</th>\n",
    "        <td>It is a \"has-a\" relationship.</td>\n",
    "        <td>It is an \"is-a\" relationship.</td>\n",
    "    </tr>\n",
    "    <tr>\n",
    "        <th>Flexibility</th>\n",
    "        <td>Composition provides greater flexibility. You can change the behavior of a class by replacing its components with different ones at a runtime.</td>\n",
    "        <td>Inheritance provides lesser flexibility as inherited attributes and methods get impacted with changes in base classes etc.</td>\n",
    "    </tr>\n",
    "    <tr>\n",
    "        <th>Code Reusability</th>\n",
    "        <td>Composition promotes code reusability by allowing you to reuse existing classes as components in different contexts.</td>\n",
    "        <td>Inheritance promotes code reusability by allowing a subclass to inherit attributes and methods from its superclass.</td>\n",
    "    </tr>\n",
    "\n",
    "</table>"
   ]
  },
  {
   "cell_type": "markdown",
   "id": "6ab9e3be",
   "metadata": {},
   "source": [
    "### 3. Create a Python class called `Author` with attributes for name and birthdate. Then, create a `Book` class that contains an instance of `Author` as a composition. Provide an example of creating a `Book` object."
   ]
  },
  {
   "cell_type": "code",
   "execution_count": 88,
   "id": "883b0756",
   "metadata": {},
   "outputs": [
    {
     "name": "stdout",
     "output_type": "stream",
     "text": [
      "Title : Hands on Machine Learning in Python\n",
      "Author: Orielly\n",
      "Genre: Technology\n"
     ]
    }
   ],
   "source": [
    "class Author:\n",
    "    \n",
    "    # Constructor\n",
    "    def __init__(self,name,birthDate):\n",
    "        self.name = name\n",
    "        self.birthDate = birthDate\n",
    "        \n",
    "class Book:\n",
    "    \n",
    "    # Constructor\n",
    "    def __init__(self,title,author, genre):\n",
    "        self.title= title\n",
    "        self.author = author\n",
    "        self.genre = genre\n",
    "        \n",
    "    # Get info method\n",
    "    def get_info(self):\n",
    "        return f\"Title : {self.title}\\nAuthor: {self.author.name}\\nGenre: {self.genre}\"\n",
    "    \n",
    "# Create author\n",
    "author = Author('Orielly','Aug 2, 2012')\n",
    "\n",
    "# Create a book\n",
    "hands_on_machine_learning = Book('Hands on Machine Learning in Python',author,'Technology')\n",
    "\n",
    "# Get information\n",
    "print(hands_on_machine_learning.get_info())"
   ]
  },
  {
   "cell_type": "markdown",
   "id": "e280675a",
   "metadata": {},
   "source": [
    "### 4. Discuss the benefits of using composition over inheritance in Python, especially in terms of code flexibility and reusability."
   ]
  },
  {
   "cell_type": "markdown",
   "id": "3a055020",
   "metadata": {},
   "source": [
    "Using <b>composition over inheritance</b> in Python provides:\n",
    "\n",
    "#### Flexibility:\n",
    "- Allows dynamic behavior changes at runtime.\n",
    "- Avoids rigidity and deep class hierarchies.\n",
    "\n",
    "#### Code Reusability:\n",
    "\n",
    "- Promotes component  reusability in different contexts.\n",
    "- Encourages modular design for wider use.\n",
    "\n",
    "#### Avoid Tight Coupling:\n",
    "\n",
    "- Reduces dependencies and promotes interchangeability.\n",
    "\n",
    "#### Simplifies Testing and Debugging:\n",
    "\n",
    "- Enables isolation and independent testing of components.\n",
    "\n",
    "#### Avoids Fragile Base Class Problem:\n",
    "\n",
    "- Changes to components won't impact the containing class.\n",
    "\n",
    "#### Supports Design Patterns:\n",
    "\n",
    "- Facilitates implementation of powerful design patterns."
   ]
  },
  {
   "cell_type": "markdown",
   "id": "c5469c6a",
   "metadata": {},
   "source": [
    "### 5. How can you implement composition in Python classes? Provide examples of using composition to create complex objects."
   ]
  },
  {
   "cell_type": "markdown",
   "id": "e35b9695",
   "metadata": {},
   "source": [
    "In Python, you can implement composition by creating instances of one class within another class. These instances becomes attributes of the containing class and are used to provide specific functionality or behavior. Here's are examples of using composition to create complex objects:"
   ]
  },
  {
   "cell_type": "code",
   "execution_count": 89,
   "id": "42678253",
   "metadata": {},
   "outputs": [
    {
     "name": "stdout",
     "output_type": "stream",
     "text": [
      "Title : Hands on Machine Learning in Python\n",
      "Author: Orielly\n",
      "Genre: Technology\n"
     ]
    }
   ],
   "source": [
    "class Author:\n",
    "    \n",
    "    # Constructor\n",
    "    def __init__(self,name,birthDate):\n",
    "        self.name = name\n",
    "        self.birthDate = birthDate\n",
    "        \n",
    "class Book:\n",
    "    \n",
    "    # Constructor\n",
    "    def __init__(self,title,author, genre):\n",
    "        self.title= title\n",
    "        self.author = author\n",
    "        self.genre = genre\n",
    "        \n",
    "    # Get info method\n",
    "    def get_info(self):\n",
    "        return f\"Title : {self.title}\\nAuthor: {self.author.name}\\nGenre: {self.genre}\"\n",
    "    \n",
    "# Create author\n",
    "author = Author('Orielly','Aug 2, 2012')\n",
    "\n",
    "# Create a book\n",
    "hands_on_machine_learning = Book('Hands on Machine Learning in Python',author,'Technology')\n",
    "\n",
    "# Get information\n",
    "print(hands_on_machine_learning.get_info())"
   ]
  },
  {
   "cell_type": "markdown",
   "id": "cb3169ce",
   "metadata": {},
   "source": [
    "### 6. Create a Python class hierarchy for a music player system, using composition to represent playlists and songs."
   ]
  },
  {
   "cell_type": "code",
   "execution_count": 90,
   "id": "9d59f1bb",
   "metadata": {},
   "outputs": [
    {
     "name": "stdout",
     "output_type": "stream",
     "text": [
      "Playing 'Chaleya' by Arijit Singh\n",
      "Playing 'Kyon' by Papon\n"
     ]
    }
   ],
   "source": [
    "class Song:\n",
    "    \n",
    "    # Constructor\n",
    "    def __init__(self,title,artist,duration):\n",
    "        self.title = title\n",
    "        self.artist = artist\n",
    "        self.duration = duration\n",
    "        \n",
    "    # Play method\n",
    "    def play(self):\n",
    "        return f\"Playing '{self.title}' by {self.artist}\"\n",
    "    \n",
    "class Playlist:\n",
    "    \n",
    "    # Constructor\n",
    "    def __init__(self,name):\n",
    "        self.name = name\n",
    "        self.songs = []\n",
    "    \n",
    "    # Add songs\n",
    "    def add_song(self, song):\n",
    "        self.songs.append(song)\n",
    "        \n",
    "    # Play all method\n",
    "    def play_all(self):\n",
    "        if not self.songs:\n",
    "            return \"Playlist is empty. Add songs to play.\"\n",
    "        else:\n",
    "            for song in self.songs:\n",
    "                print(song.play())\n",
    "\n",
    "# Create songs\n",
    "song1 = Song('Chaleya','Arijit Singh','04:56')\n",
    "song2 = Song('Kyon','Papon','05:23')\n",
    "\n",
    "# Create a playlist and add songs\n",
    "my_playlist = Playlist(\"My Playlist:\")\n",
    "my_playlist.add_song(song1)\n",
    "my_playlist.add_song(song2)\n",
    "\n",
    "# Play all\n",
    "my_playlist.play_all()"
   ]
  },
  {
   "cell_type": "markdown",
   "id": "5f127f68",
   "metadata": {},
   "source": [
    "### 7. Explain the concept of \"has-a\" relationships in composition and how it helps design software systems."
   ]
  },
  {
   "cell_type": "markdown",
   "id": "6e4e831b",
   "metadata": {},
   "source": [
    "A \"has-a\" relationship in composition means one class contains an instance of another. It promotes following points:\n",
    "\n",
    "- <b>Component-Based Design:</b> \"Has-a\" relationship promotes component-based design. Building complex objects from simpler ones.\n",
    "\n",
    "\n",
    "- <b>Flexibility:</b> Dynamic Behavior changes at runtime. You can dynamically changes the behavior of a class by replacing its components with different ones.\n",
    "\n",
    "\n",
    "- <b>Code Reusability:</b> Efficient development and maintenance. Existing classes can be reused as components in different contexts, leading to more efficient development and maintenance.\n",
    "\n",
    "\n",
    "- <b>Encapsulation:</b> The internal details and behavior of the component class are hidden from the containing class, enhancing data protection and reducing dependencies.\n",
    "\n",
    "\n",
    "- <b>Simplicity over Inheritance:</b> It helps avoid complexities associated with deep class hierarchies that can arise from using inheritance.\n",
    "\n",
    "\n",
    "- <b>Granular Control:</b> Fine-grained customization of behavior.\n",
    "\n",
    "\n",
    "- <b>Interchangeability:</b> Swapping components with minimal impact. Components can be swapped out or replaced with minimal impact on the containing class.\n",
    "\n",
    "\n",
    "- <b>Supports Design Patterns:</b> Facilitates use of powerful design patterns such as the Strategy pattern or the Decorator pattern."
   ]
  },
  {
   "cell_type": "markdown",
   "id": "79f0f397",
   "metadata": {},
   "source": [
    "### 8. Create a Python class for a computer system, using composition to represent components like CPU, RAM, and storage devices."
   ]
  },
  {
   "cell_type": "code",
   "execution_count": 91,
   "id": "52244e30",
   "metadata": {},
   "outputs": [
    {
     "name": "stdout",
     "output_type": "stream",
     "text": [
      "CPU: Intel i7, Cores: 8\n",
      "RAM: 16 GB\n",
      "Storage: SSD , Capacity : 1024 GB\n"
     ]
    }
   ],
   "source": [
    "class CPU:\n",
    "    \n",
    "    # Constructor\n",
    "    def __init__(self,brand,model,cores):\n",
    "        self.brand = brand\n",
    "        self.model = model\n",
    "        self.cores = cores\n",
    "        \n",
    "    # Get Info method\n",
    "    def get_info(self):\n",
    "        return f\"CPU: {self.brand} {self.model}, Cores: {self.cores}\"\n",
    "    \n",
    "class RAM:\n",
    "    \n",
    "    # Constructor\n",
    "    def __init__(self,size_gb):\n",
    "        self.size_gb = size_gb\n",
    "        \n",
    "    # Get info method\n",
    "    def get_info(self):\n",
    "        return f\"RAM: {self.size_gb} GB\"\n",
    "    \n",
    "class Storage:\n",
    "    \n",
    "    # Constructor \n",
    "    def __init__(self,type,capacity):\n",
    "        self.type = type\n",
    "        self.capacity = capacity\n",
    "        \n",
    "    # Get Info method\n",
    "    def get_info(self):\n",
    "        return f\"Storage: {self.type} , Capacity : {self.capacity} GB\"\n",
    "    \n",
    "class Computer:\n",
    "    \n",
    "    # Constructor\n",
    "    def __init__(self,cpu, ram,storage):\n",
    "        self.cpu = cpu\n",
    "        self.ram = ram\n",
    "        self.storage = storage\n",
    "        \n",
    "    # Get Spec method\n",
    "    def get_spec(self):\n",
    "        return f\"{self.cpu.get_info()}\\n{self.ram.get_info()}\\n{self.storage.get_info()}\"\n",
    "    \n",
    "# Create components by object\n",
    "cpu = CPU('Intel','i7',8)\n",
    "ram = RAM(16)\n",
    "storage = Storage('SSD',1024)\n",
    "\n",
    "# Create a computer object\n",
    "my_computer = Computer(cpu,ram,storage)\n",
    "\n",
    "# Print computer specification\n",
    "print(my_computer.get_spec())"
   ]
  },
  {
   "cell_type": "markdown",
   "id": "0779482f",
   "metadata": {},
   "source": [
    "### 9. Describe the concept of \"delegation\" in composition and how it simplifies the design of complex systems."
   ]
  },
  {
   "cell_type": "markdown",
   "id": "0b1b8ada",
   "metadata": {},
   "source": [
    "<b>Delegation</b> in composition is a design principle where one class(or object) assigns a specific responsibility or task to another class, effectively using its behavior without inheriting from it. This is achieved by invoked methods or accessing attributes of the delegated class. It simplifies the design of complex systems in several ways:\n",
    "\n",
    "- <b>Separation of Concerns:</b> Delegation allows classes to focus on specific tasks or responsibilites. Each class has a well-defined purpose, which leads to cleaner more understandable code.\n",
    "\n",
    "\n",
    "- <b>Code Reusability:</b> By delegating tasks to specialized classes, you can reuse existing code. This promotes modularity as individual components can be used in various contexts.\n",
    "\n",
    "\n",
    "- <b>Flexibility and Customization:</b> Delegation provides flexibility in behavior. You can dynamically choose which components to delegate to, or even switch them out at runtime. This enables customization of behavior based on specific requirements.\n",
    "\n",
    "\n",
    "- <b>Dynamic Behavior:</b> Delegation enables dynamic behavior at runtime. You can change the behavior of an object by replacing its components, providing adaptability to during circumstances.\n",
    "\n",
    "\n",
    "- <b>Loose Coupling:</b> Classes involved in delegation are loosely coupled. The delegating class doesn not depend on the internal implementation of the delegated class, which reduces dependencies and allows for easier maintenance.\n",
    "\n",
    "\n",
    "- <b>Testing and Debugging:</b> Delegation simplifies testing and debugging. Components can be tested independently and issues can be isolated to specific areas of functionality. This makes it easier to identify and fix bugs.\n",
    "\n",
    "\n",
    "- <b>Support for Design Patterns:</b> Delegation is a fundamental concept in many design patterns, such as the Strategy pattern or the decorator pattern. It allows these patterns to be implemented effectively, leading to more flexible an extensible code."
   ]
  },
  {
   "cell_type": "markdown",
   "id": "1fe1f3d7",
   "metadata": {},
   "source": [
    "### 10. Create a Python class for a car, using composition to represent components like the engine, wheels, and transmission."
   ]
  },
  {
   "cell_type": "code",
   "execution_count": 92,
   "id": "3ccd65d7",
   "metadata": {},
   "outputs": [
    {
     "name": "stdout",
     "output_type": "stream",
     "text": [
      "Engine Started.\n",
      "Changed to gear 1 wheels rolling\n",
      "Engine Stopped.\n"
     ]
    }
   ],
   "source": [
    "class Engine:\n",
    "    \n",
    "    # Start method\n",
    "    def start(self):\n",
    "        return \"Engine Started.\"\n",
    "    \n",
    "    # Stop method\n",
    "    def stop(self):\n",
    "        return \"Engine Stopped.\"\n",
    "    \n",
    "class Wheels:\n",
    "    \n",
    "    # roll method\n",
    "    def roll(self):\n",
    "        return \"wheels rolling\"\n",
    "    \n",
    "class Transmission:\n",
    "    \n",
    "    # change gear method\n",
    "    def change_gear(self,gear):\n",
    "        return f\"Changed to gear {gear}\"\n",
    "    \n",
    "class Car:\n",
    "    \n",
    "    # Constructor\n",
    "    def __init__(self):\n",
    "        \n",
    "        self.engine = Engine()\n",
    "        self.wheels = Wheels()\n",
    "        self.tranmission = Transmission()\n",
    "        \n",
    "    # Start method\n",
    "    def start(self):\n",
    "        return self.engine.start()\n",
    "    \n",
    "    # Stop method\n",
    "    def stop(self):\n",
    "        return self.engine.stop()\n",
    "    \n",
    "    # Drive method\n",
    "    def drive(self,gear):\n",
    "        return f\"{self.tranmission.change_gear(gear)} {self.wheels.roll()}\"\n",
    "    \n",
    "# Create a car\n",
    "my_car = Car()\n",
    "\n",
    "# Start the car\n",
    "print(my_car.start())\n",
    "\n",
    "# Drive in 1st gear\n",
    "print(my_car.drive(1))\n",
    "\n",
    "# Stop the car\n",
    "print(my_car.stop())"
   ]
  },
  {
   "cell_type": "markdown",
   "id": "37f85554",
   "metadata": {},
   "source": [
    "### 11. How can you encapsulate and hide the details of composed objects in Python classes to maintain abstraction?"
   ]
  },
  {
   "cell_type": "markdown",
   "id": "1f36813a",
   "metadata": {},
   "source": [
    "To encapsulates and hide the details of composed objects in Python classes, you can follow these steps:\n",
    "\n",
    "<b>Use Private Attributes:</b> Make the attributes representing the composed objects private by adding a double underscore (`__`) prefix to their names. This convention signals that these attributes are intended for internal use only.\n",
    "\n",
    "<b>Provide public Methods for Interaction:</b> Defines public methods in the containing class that act as interfaces for interacting with the composed objects. These methods should handle communication with the composed objects, abstracting away their implementation.\n",
    "\n",
    "<b>Delegate Method Calls:</b> Inside the public methods, delegate method calls to the composed objects using their private attributes. This allows you to control how interactions with the composed objects are handled, ensuring that the details remain hidden."
   ]
  },
  {
   "cell_type": "markdown",
   "id": "88e3a88c",
   "metadata": {},
   "source": [
    "### 12. Create a Python class for a university course, using composition to represent students, instructors, and course materials."
   ]
  },
  {
   "cell_type": "code",
   "execution_count": 93,
   "id": "df951518",
   "metadata": {},
   "outputs": [
    {
     "name": "stdout",
     "output_type": "stream",
     "text": [
      "Course : Full Stack Data Science\n",
      "Instructor : Prof. Kelkar (ID: 2120)\n",
      "Student : Ashutosh (ID : 101),Student : Mohit (ID : 102)\n",
      "Textbook : Data Science , Assignments : 2 projects\n"
     ]
    }
   ],
   "source": [
    "class Student:\n",
    "    \n",
    "    # constructor\n",
    "    def __init__(self,name,studentId):\n",
    "        self.name = name\n",
    "        self.studentId = studentId\n",
    "        \n",
    "    # get info method\n",
    "    def get_info(self):\n",
    "        return f\"Student : {self.name} (ID : {self.studentId})\"\n",
    "    \n",
    "class Instructor:\n",
    "    \n",
    "    # Constructor\n",
    "    def __init__(self,name,employeeId):\n",
    "        self.name = name\n",
    "        self.employeeId = employeeId\n",
    "    \n",
    "    # Get info method\n",
    "    def get_info(self):\n",
    "        return f\"Instructor : {self.name} (ID: {self.employeeId})\"\n",
    "\n",
    "class CourseMaterials:\n",
    "    \n",
    "    # Constructor\n",
    "    def __init__(self,textbook,assignments):\n",
    "        self.textbook = textbook\n",
    "        self.assignments = assignments\n",
    "        \n",
    "    # get info method\n",
    "    def get_info(self):\n",
    "        return f\"Textbook : {self.textbook} , Assignments : {self.assignments}\"\n",
    "    \n",
    "class UniversityCourse:\n",
    "    \n",
    "    # Constructor\n",
    "    def __init__(self,courseName, instructor, students, materials):\n",
    "        self.courseName = courseName\n",
    "        self.instructor = instructor\n",
    "        self.students = students\n",
    "        self.materials = materials\n",
    "        \n",
    "    # Get info method\n",
    "    def get_info(self):\n",
    "        return (\n",
    "        f\"Course : {self.courseName}\\n\"\n",
    "        f\"{self.instructor.get_info()}\\n\"\n",
    "        f\"{','.join([student.get_info() for student in self.students])}\\n\"\n",
    "        f\"{self.materials.get_info()}\"\n",
    "    )\n",
    "\n",
    "# Create students\n",
    "student1 = Student('Ashutosh',101)\n",
    "student2 = Student('Mohit',102)\n",
    "\n",
    "# Create instructor\n",
    "instructor = Instructor('Prof. Kelkar',2120)\n",
    "\n",
    "# Course material\n",
    "material = CourseMaterials('Data Science','2 projects')\n",
    "\n",
    "# Create university\n",
    "university = UniversityCourse('Full Stack Data Science',instructor,[student1,student2],material)\n",
    "\n",
    "# Get course information\n",
    "print(university.get_info())"
   ]
  },
  {
   "cell_type": "markdown",
   "id": "49916d22",
   "metadata": {},
   "source": [
    "### 13. Discuss the challenges and drawbacks of composition, such as increased complexity and potential for tight coupling between objects."
   ]
  },
  {
   "cell_type": "markdown",
   "id": "cf70c058",
   "metadata": {},
   "source": [
    "While composition is a powerful design principle, it's important to be aware of its challenges and potential drawbacks:\n",
    "\n",
    "<b>Increased Complexity:</b> Managing multiple objects and their interactions can lead to increased code complexity. This complexity may make it harder to understand and maintain the codebase.\n",
    "\n",
    "<b>Potential for Tight Coupling:</b>  If not implemented carefully, composition can lead to tight coupling between the containing class and its components. This means that changes to one component may have unitended consequences on other parts of the system.\n",
    "\n",
    "<b>Managing Lifecycle Dependencies:</b> When objects are composed, their lifecycle may become interwined. This can lead to challenges in managing object initialization, destrcution and cleanup.\n",
    "\n",
    "<b>Propagation of Method Calls:</b> Delegating method calls from the containing class to its components can introduce additional layers of indirection, making it more difficult to trace the flow of execution.\n",
    "\n",
    "<b>Initialization Overhead:</b> Properly initializing and configuring composed objects can introduce additional overhead, especially if there are complex initialization requirements.\n",
    "\n",
    "<b>Testing Complexity:</b> Testing composed objects may require additional setup and mocking of dependencies which can increase the complexity of unit tests.\n",
    "\n",
    "<b>Potential for Over-Abstraction:</b> In an attempt to achieve modularity, there's a risk of over-abstracting components, which can lead to a fragmented and hard-to-follow codebase.\n",
    "\n",
    "<b>Performance Consideration:</b> Depending on the context and the number of composed objects, there may be a performance overhead associated with the additional method calls and indirection."
   ]
  },
  {
   "cell_type": "markdown",
   "id": "dd67c67d",
   "metadata": {},
   "source": [
    "### 14. Create a Python class hierarchy for a restaurant system, using composition to represent menus, dishes, and ingredients."
   ]
  },
  {
   "cell_type": "code",
   "execution_count": 94,
   "id": "d2116318",
   "metadata": {},
   "outputs": [
    {
     "name": "stdout",
     "output_type": "stream",
     "text": [
      "Menu : Italian Delight\n",
      "Margherita Pizza - Ingredients :Tomato : 3,onion : 2,Cheese : 250g\n",
      "Garlic Bread - Ingredients :Bread : 1 lop,Cheese : 250g,onion : 2\n"
     ]
    }
   ],
   "source": [
    "class Ingredient:\n",
    "    \n",
    "    # Constructor\n",
    "    def __init__(self,name,quantity):\n",
    "        self.name = name\n",
    "        self.quantity = quantity\n",
    "        \n",
    "    # Get Info method\n",
    "    def get_info(self):\n",
    "        return f\"{self.name} : {self.quantity}\"\n",
    "    \n",
    "class Dish:\n",
    "    \n",
    "    # Constructor\n",
    "    def __init__(self,name,ingredients):\n",
    "        self.name = name\n",
    "        self.ingredients = ingredients\n",
    "    \n",
    "    # Get Info method\n",
    "    def get_info(self):\n",
    "        ingredient_info = [ingredient.get_info() for ingredient in self.ingredients]\n",
    "        return f\"{self.name} - Ingredients :{','.join(ingredient_info)}\"\n",
    "    \n",
    "class Menu:\n",
    "    \n",
    "    # Constructor\n",
    "    def __init__(self,name,dishes):\n",
    "        self.name = name\n",
    "        self.dishes = dishes\n",
    "        \n",
    "    # Get Info method\n",
    "    def get_info(self):\n",
    "        dish_info = [dish.get_info() for dish in self.dishes]\n",
    "        return f\"Menu : {self.name}\\n\" + '\\n'.join(dish_info)\n",
    "    \n",
    "# Course ingredients\n",
    "ingredient1 = Ingredient('Tomato',\"3\")\n",
    "ingredient2 = Ingredient(\"onion\",\"2\")\n",
    "ingredient3 = Ingredient('Cheese',\"250g\")\n",
    "ingredient4 = Ingredient('Bread','1 lop')\n",
    "\n",
    "# Create dishes\n",
    "dish1 = Dish('Margherita Pizza',[ingredient1,ingredient2,ingredient3])\n",
    "dish2 = Dish('Garlic Bread',[ingredient4,ingredient3,ingredient2])\n",
    "\n",
    "# Create a menu\n",
    "menu = Menu('Italian Delight',[dish1,dish2])\n",
    "\n",
    "#Get menu\n",
    "print(menu.get_info())"
   ]
  },
  {
   "cell_type": "markdown",
   "id": "4967e65e",
   "metadata": {},
   "source": [
    "### 15. Explain how composition enhances code maintainability and modularity in Python programs."
   ]
  },
  {
   "cell_type": "markdown",
   "id": "460e14f9",
   "metadata": {},
   "source": [
    "Composition enchances code maintainability and modularity in Python programs in several ways:\n",
    "\n",
    "<b>Seperation of Concerns:</b> Composition encourages breaking down complex systems into smaller, manageable components. Each component focuses on a specific task or responsibility, amaking it easier to understand and debug.\n",
    "\n",
    "\n",
    "<b>Code Reusability:</b> Composed objects can be reused in different contexts. This promotes modularity, allowing components to be used in various parts of the program or in entirely different projects.\n",
    "\n",
    "\n",
    "<b>Reduced Coupling:</b> Composition promotes loose coupling between objects. By relying on interfaces provided by components, the containing class i s not tightly bound to the implementation details of its parts. This reduces dependencies and makes it easier to replace or update components.\n",
    "\n",
    "\n",
    "<b>Flexibility and Adapability:</b> Components can be swapped or updated with minimal impact on the containing class. This allows for dynamic behavior changes and facilitate adapting to evolving requirements.\n",
    "\n",
    "\n",
    "<b>Isolation of Changes:</b> Changes to one component have limited impact on other parts of the system. This isolates modifications, reducing the risk of unitended consequences.\n",
    "\n",
    "\n",
    "<b>Simplified Testing:</b> Testing can be more focused. Components can be tested independently, allowing for more granular and effective unit testing. Mocking and stubbing can also be employed to isolate specific parts of testing.\n",
    "\n",
    "\n",
    "<b>Clear Interfaces:</b> Well-defined interfaces between components provide a clear contract for how they interact. This allows developers to work on different parts of the system simultaneously, as long as they adhere to the specified interfaces."
   ]
  },
  {
   "cell_type": "markdown",
   "id": "5214da6a",
   "metadata": {},
   "source": [
    "### 16. Create a Python class for a computer game character, using composition to represent attributes like weapons, armor, and inventory."
   ]
  },
  {
   "cell_type": "code",
   "execution_count": 95,
   "id": "8fd8aaaa",
   "metadata": {},
   "outputs": [
    {
     "name": "stdout",
     "output_type": "stream",
     "text": [
      "Character Name: Ninja 1\n",
      "Equipped Weapon: Weapon : Gun , Damage : 20\n",
      "Equipped Armor : Armor : Bullet Proof Jacket , Armor : 10\n",
      "Inventory : Weapon : Sword , Damage : 10,Armor : Shield , Armor : 8\n"
     ]
    }
   ],
   "source": [
    "class Weapon:\n",
    "    \n",
    "    # Constructor \n",
    "    def __init__(self, name,damage):\n",
    "        self.name = name\n",
    "        self.damage = damage\n",
    "        \n",
    "    # Get info method\n",
    "    def get_info(self):\n",
    "        return f\"Weapon : {self.name} , Damage : {self.damage}\"\n",
    "    \n",
    "class Armor:\n",
    "    \n",
    "    # Constructor\n",
    "    def __init__(self,name,defense):\n",
    "        self.name = name\n",
    "        self.defense = defense\n",
    "        \n",
    "    # Get info method\n",
    "    def get_info(self):\n",
    "        return f\"Armor : {self.name} , Armor : {self.defense}\"\n",
    "    \n",
    "class Inventory:\n",
    "    \n",
    "    # Constructor\n",
    "    def __init__(self):\n",
    "        self.items = []\n",
    "        \n",
    "    # Add item method\n",
    "    def add_item(self,item):\n",
    "        self.items.append(item)\n",
    "        \n",
    "    # Get inventory method\n",
    "    def get_inventory(self):\n",
    "        return [item.get_info() for item in self.items]\n",
    "    \n",
    "class GameCharacter:\n",
    "    \n",
    "    # Constructor\n",
    "    def __init__(self,name):\n",
    "        self.name = name\n",
    "        self.weapon = None\n",
    "        self.armor = None\n",
    "        self.inventory = Inventory()\n",
    "        \n",
    "    # Equip weapon method\n",
    "    def equip_weapon(self,weapon):\n",
    "        self.weapon = weapon\n",
    "        \n",
    "    # Equip armor method\n",
    "    def equip_armor(self,armor):\n",
    "        self.armor = armor\n",
    "        \n",
    "    # Get info method\n",
    "    def get_info(self):\n",
    "        equipped_weapon = self.weapon.get_info() if self.weapon else 'No weapon equipped'\n",
    "        equipped_armor = self.armor.get_info() if self.armor else 'No armor equipped'\n",
    "        return (\n",
    "            f\"Character Name: {self.name}\\n\"\n",
    "            f\"Equipped Weapon: {equipped_weapon}\\n\"\n",
    "            f\"Equipped Armor : {equipped_armor}\\n\"\n",
    "            f\"Inventory : {','.join(self.inventory.get_inventory())}\"\n",
    "        )\n",
    "    \n",
    "# Create weapons and armor\n",
    "gun = Weapon('Gun',20)\n",
    "jacket = Armor('Bullet Proof Jacket',10)\n",
    "\n",
    "# Create a character and equip iterms\n",
    "hero = GameCharacter('Ninja 1')\n",
    "hero.equip_weapon(gun)\n",
    "hero.equip_armor(jacket)\n",
    "hero.inventory.add_item(Weapon('Sword',10))\n",
    "hero.inventory.add_item(Armor('Shield',8))\n",
    "\n",
    "# Character information\n",
    "print(hero.get_info())"
   ]
  },
  {
   "cell_type": "markdown",
   "id": "c36fe28b",
   "metadata": {},
   "source": [
    "### 17. Describe the concept of \"aggregation\" in composition and how it differs from simple composition."
   ]
  },
  {
   "cell_type": "markdown",
   "id": "deeaabf1",
   "metadata": {},
   "source": [
    "<b>Aggregration</b> is a specific form of composition in object-oriented programming where one class(the containing class) holds a reference to another class(the contained class), but the contained class can exist independently and may be shared among multiple containing classes.\n",
    "\n",
    "Here's how aggregration differs from single composition:\n",
    "\n",
    "- <b>Ownership:</b> In simple composition, the containing class \"owns\" the contained class, meaning that the contained class is created and managed by the containing class. In aggregration, the contained classs exists independently and can be shared among multiple containing classes.\n",
    "\n",
    "\n",
    "- <b>LifeSpan:</b> In simple composition, the lifespan of the contained class is directly tied to the containing class. If the containning class is destroyed, the contained class is also typically destroyed. In aggregration, the contained class can exist even if the containing class is destroyed.\n",
    "\n",
    "\n",
    "- <b>Multiplicity:</b> Aggregration often implies a \"many-to-one\" or \"many-to-many\" relationship, where multiple instances of the containing class can refer to the same instance of the contained class. In simple composition, there is typically a one-to-one relationship.\n",
    "\n",
    "\n",
    "- <b>Flexibility:</b> Aggregration provides more flexibility as teh same instance of the contained class can be shared across different instances of containing classes. This allows for reusability and more dynmaic system design.?"
   ]
  },
  {
   "cell_type": "markdown",
   "id": "972c4928",
   "metadata": {},
   "source": [
    "### 18. Create a Python class for a house, using composition to represent rooms, furniture, and appliances."
   ]
  },
  {
   "cell_type": "code",
   "execution_count": 96,
   "id": "2a5deb9c",
   "metadata": {},
   "outputs": [
    {
     "name": "stdout",
     "output_type": "stream",
     "text": [
      "Rooms : \n",
      "Room: Living Room, Area: 250 sq. ft.,\n",
      "Room: Master Bedroom, Area: 200 sq. ft.,\n",
      "Room: Bedroom 2 , Area: 160 sq. ft.,\n",
      "Room: BedRoom 3, Area: 160 sq. ft.\n",
      "Furniture : Furniture : Sofa,Furniture : Bed\n",
      "Appliance : Appliance : TV,Appliance : Oven,Appliance : AC\n",
      "\n"
     ]
    }
   ],
   "source": [
    "class Room:\n",
    "    \n",
    "    # Constructor\n",
    "    def __init__(self,name,area):\n",
    "        self.name = name\n",
    "        self.area = area\n",
    "        \n",
    "    # Get info method\n",
    "    def get_info(self):\n",
    "        return f\"\\nRoom: {self.name}, Area: {self.area} sq. ft.\"\n",
    "    \n",
    "class Furniture:\n",
    "    \n",
    "    # Constructor\n",
    "    def __init__(self,name):\n",
    "        self.name = name\n",
    "        \n",
    "    # get info method\n",
    "    def get_info(self):\n",
    "        return f\"Furniture : {self.name}\"\n",
    "    \n",
    "class Appliance:\n",
    "    \n",
    "    # Constructor\n",
    "    def __init__(self,name):\n",
    "        self.name = name\n",
    "        \n",
    "    # Get info method\n",
    "    def get_info(self):\n",
    "        return f\"Appliance : {self.name}\"\n",
    "    \n",
    "class House:\n",
    "    \n",
    "    # Constructor \n",
    "    def __init__(self):\n",
    "        self.rooms = []\n",
    "        self.furniture = []\n",
    "        self.appliances = []\n",
    "        \n",
    "    # Add rooms \n",
    "    def add_rooms (self,room):\n",
    "        self.rooms.append(room)\n",
    "        \n",
    "    # add furniture\n",
    "    def add_furniture(self,furniture):\n",
    "        self.furniture.append(furniture)\n",
    "        \n",
    "    # Add appliances\n",
    "    def add_appliance(self,appliance):\n",
    "        self.appliances.append(appliance)\n",
    "        \n",
    "    # get info method\n",
    "    def get_info(self):\n",
    "        room_info = [room.get_info() for room in self.rooms]\n",
    "        furniture_info = [item.get_info() for item in self.furniture]\n",
    "        appliance_info = [item.get_info() for item in self.appliances]\n",
    "        \n",
    "        return (\n",
    "            f\"Rooms : {','.join(room_info)}\\n\"\n",
    "            f\"Furniture : {','.join(furniture_info)}\\n\"\n",
    "            f\"Appliance : {','.join(appliance_info)}\\n\"\n",
    "        )\n",
    "    \n",
    "# Create rooms, furniture and appliances\n",
    "living_room = Room('Living Room',250)\n",
    "bedroom1 = Room('Master Bedroom',200)\n",
    "bedroom2 = Room('Bedroom 2 ',160)\n",
    "bedroom3 = Room('BedRoom 3',160)\n",
    "\n",
    "sofa = Furniture('Sofa')\n",
    "bed = Furniture('Bed')\n",
    "tv = Appliance('TV')\n",
    "oven = Appliance('Oven')\n",
    "ac = Appliance('AC')\n",
    "\n",
    "# Create a house and add the rooms and furniture\n",
    "my_house = House()\n",
    "my_house.add_rooms(living_room)\n",
    "my_house.add_rooms(bedroom1)\n",
    "my_house.add_rooms(bedroom2)\n",
    "my_house.add_rooms(bedroom3)\n",
    "my_house.add_furniture(sofa)\n",
    "my_house.add_furniture(bed)\n",
    "my_house.add_appliance(tv)\n",
    "my_house.add_appliance(oven)\n",
    "my_house.add_appliance(ac)\n",
    "\n",
    "# Get information\n",
    "print(my_house.get_info())"
   ]
  },
  {
   "cell_type": "markdown",
   "id": "21505fce",
   "metadata": {},
   "source": [
    "### 19. How can you achieve flexibility in composed objects by allowing them to be replaced or modified dynamically at runtime?"
   ]
  },
  {
   "cell_type": "markdown",
   "id": "1acb9278",
   "metadata": {},
   "source": [
    "You can achieve flexibility in composed objects by implementing a mechanism to dynamically replace or modify the components at runtime. Here are some approaches to accomplish this:\n",
    "\n",
    "1. <b>Using Setter Methods:</b> Provide setter methods in the containing class that allow you to replace or modfiy the components. This way, you can change the composition of the object dynamically.\n",
    "\n",
    "##### Example:"
   ]
  },
  {
   "cell_type": "code",
   "execution_count": 97,
   "id": "86e2aa94",
   "metadata": {},
   "outputs": [],
   "source": [
    "class GameCharacter:\n",
    "    \n",
    "    # Setter for weapon and armor\n",
    "    def set_weapon(self,weapon):\n",
    "        self.weapon = weapon\n",
    "        \n",
    "    def set_armor(self,armor):\n",
    "        self.armor = armor"
   ]
  },
  {
   "cell_type": "markdown",
   "id": "14aeadd4",
   "metadata": {},
   "source": [
    "2. <b>Using Factory Methods : </b> Implement factory methods that create and return instances of components. This allows you to switch out components with different implementations.\n",
    "\n",
    "##### Example:"
   ]
  },
  {
   "cell_type": "code",
   "execution_count": 98,
   "id": "925b39dd",
   "metadata": {},
   "outputs": [],
   "source": [
    "class GameCharacter:\n",
    "    \n",
    "    # Factory method to create weapon and armor\n",
    "    def create_weapon(self,name,damage):\n",
    "        return Weapon(name,damage)\n",
    "    \n",
    "    def create_weapon(self,name,defense):\n",
    "        return Armor(name,defense)"
   ]
  },
  {
   "cell_type": "markdown",
   "id": "aeecf65d",
   "metadata": {},
   "source": [
    "3. <b>Using Dependency Injection:</b> Pass the components as arguments during object creation. This allows you to inject different components at runtime.\n",
    "\n",
    "##### Example:"
   ]
  },
  {
   "cell_type": "code",
   "execution_count": 99,
   "id": "50d3c3fd",
   "metadata": {},
   "outputs": [],
   "source": [
    "class GameCharacter:\n",
    "    \n",
    "    # Weapon and armor being injected in the object\n",
    "    def __init__(self,name,weapon = None,armor = None):\n",
    "        self.name = name\n",
    "        self.weapon = weapon\n",
    "        self.armor = armor"
   ]
  },
  {
   "cell_type": "markdown",
   "id": "3520b2bf",
   "metadata": {},
   "source": [
    "### 20. Create a Python class for a social media application, using composition to represent users, posts, and comments."
   ]
  },
  {
   "cell_type": "code",
   "execution_count": 100,
   "id": "de969354",
   "metadata": {},
   "outputs": [
    {
     "name": "stdout",
     "output_type": "stream",
     "text": [
      "\n",
      "Users:\n",
      "['User : Ashu', 'User : Divansh']\n",
      "\n",
      "Posts:\n",
      "['Post by Ashu : Hi there !!!']\n",
      "\n",
      "Comments:\n",
      "['Comment by Divansh : Hello over....']\n"
     ]
    }
   ],
   "source": [
    "class User:\n",
    "    \n",
    "    # Constructor \n",
    "    def __init__(self,username):\n",
    "        self.username = username\n",
    "        self.posts = []\n",
    "        self.comments = []\n",
    "        \n",
    "    # Create posts \n",
    "    def create_post(self,content):\n",
    "        post = Post(content,self)\n",
    "        self.posts.append(post)\n",
    "        return post\n",
    "    \n",
    "    # Add comment \n",
    "    def add_comment(self,post,content):\n",
    "        comment = Comment( content,self,post)\n",
    "        self.comments.append(comment)\n",
    "        post.add_comment(comment)\n",
    "        return comment\n",
    "    \n",
    "    # Get info \n",
    "    def get_info(self):\n",
    "        return f\"User : {self.username}\"\n",
    "    \n",
    "class Post:\n",
    "    \n",
    "    # Constructor\n",
    "    def __init__(self,content,author):\n",
    "        self.content = content\n",
    "        self.author = author\n",
    "        self.comments = []\n",
    "        \n",
    "    # Add comment\n",
    "    def add_comment(self,comment):\n",
    "        self.comments.append(comment)\n",
    "        \n",
    "    # Get info method\n",
    "    def get_info(self):\n",
    "        return f\"Post by {self.author.username} : {self.content}\"\n",
    "    \n",
    "class Comment:\n",
    "    \n",
    "    # Constructor\n",
    "    def __init__(self,content,author, post):\n",
    "        self.content = content\n",
    "        self.author = author\n",
    "        self.post = post\n",
    "        \n",
    "    # Get info method\n",
    "    def get_info(self):\n",
    "        return f\"Comment by {self.author.username} : {self.content}\"\n",
    "    \n",
    "class SocialMediaApp:\n",
    "    \n",
    "    # Constructor\n",
    "    def __init__(self):\n",
    "        self.users = []\n",
    "        self.posts = []\n",
    "        self.comments = []\n",
    "        \n",
    "    # Create users\n",
    "    def create_users(self,username):\n",
    "        user = User(username)\n",
    "        self.users.append(user)\n",
    "        return user\n",
    "    \n",
    "    # Get user\n",
    "    def get_users(self):\n",
    "        return [user.get_info() for user in self.users]\n",
    "    \n",
    "    # Get posts\n",
    "    def get_posts(self):\n",
    "        return [post.get_info() for post in self.posts]\n",
    "    \n",
    "    # Get comments \n",
    "    def get_comments(self):\n",
    "        return [comment.get_info() for comment in self.comments]\n",
    "    \n",
    "# Create a social media profile\n",
    "app = SocialMediaApp()\n",
    "\n",
    "#  Create users\n",
    "user1 = app.create_users('Ashu')\n",
    "user2 = app.create_users('Divansh')\n",
    "\n",
    "# user creating post and comments\n",
    "post1 = user1.create_post('Hi there !!!')\n",
    "comment1 = user2.add_comment(post1,'Hello over....')\n",
    "\n",
    "# Add users, posts and comment to the app\n",
    "app.posts.append(post1)\n",
    "app.comments.append(comment1)\n",
    "\n",
    "# User info\n",
    "print('\\nUsers:')\n",
    "print(app.get_users())\n",
    "\n",
    "print('\\nPosts:')\n",
    "print(app.get_posts())\n",
    "\n",
    "print('\\nComments:')\n",
    "print(app.get_comments())"
   ]
  }
 ],
 "metadata": {
  "kernelspec": {
   "display_name": "Python 3 (ipykernel)",
   "language": "python",
   "name": "python3"
  },
  "language_info": {
   "codemirror_mode": {
    "name": "ipython",
    "version": 3
   },
   "file_extension": ".py",
   "mimetype": "text/x-python",
   "name": "python",
   "nbconvert_exporter": "python",
   "pygments_lexer": "ipython3",
   "version": "3.9.7"
  }
 },
 "nbformat": 4,
 "nbformat_minor": 5
}
