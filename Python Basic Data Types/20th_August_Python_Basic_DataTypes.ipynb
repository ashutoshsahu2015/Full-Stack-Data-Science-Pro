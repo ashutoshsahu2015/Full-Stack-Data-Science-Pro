{
 "cells": [
  {
   "cell_type": "markdown",
   "id": "e8566e06",
   "metadata": {},
   "source": [
    "## String Based Assignment Problems"
   ]
  },
  {
   "cell_type": "markdown",
   "id": "7e1c1175",
   "metadata": {},
   "source": [
    "### 1. Write a program to reverse a string."
   ]
  },
  {
   "cell_type": "code",
   "execution_count": 1,
   "id": "b5e00b6e",
   "metadata": {},
   "outputs": [],
   "source": [
    "## Define a function that takes input as string\n",
    "\n",
    "def reverse_str(string):\n",
    "    \n",
    "    reverse = \"\"\n",
    "    \n",
    "    for i in range(len(string),0,-1):\n",
    "        reverse += string[i-1]\n",
    "    \n",
    "    return reverse"
   ]
  },
  {
   "cell_type": "code",
   "execution_count": 2,
   "id": "896008e8",
   "metadata": {},
   "outputs": [
    {
     "data": {
      "text/plain": [
       "'olleh'"
      ]
     },
     "execution_count": 2,
     "metadata": {},
     "output_type": "execute_result"
    }
   ],
   "source": [
    "## Calling the function by giving the input\n",
    "reverse_str(\"hello\")"
   ]
  },
  {
   "cell_type": "markdown",
   "id": "a037fd1f",
   "metadata": {},
   "source": [
    "### 2. Check if a string is a palindrome."
   ]
  },
  {
   "cell_type": "code",
   "execution_count": 3,
   "id": "1a49b43b",
   "metadata": {},
   "outputs": [],
   "source": [
    "# Define a function to check whether the string is palindrome\n",
    "def palindrome_check(string):\n",
    "    \n",
    "    string = string.lower()\n",
    "    reverse = string[::-1]\n",
    "    \n",
    "    if string == reverse :\n",
    "        print(string, \" is palindrome.\")\n",
    "    \n",
    "    else:\n",
    "        print(string, \"is not palindrome.\")"
   ]
  },
  {
   "cell_type": "code",
   "execution_count": 4,
   "id": "f45ee46e",
   "metadata": {},
   "outputs": [
    {
     "name": "stdout",
     "output_type": "stream",
     "text": [
      "madam  is palindrome.\n"
     ]
    }
   ],
   "source": [
    "## Calling the function by giving the user input\n",
    "palindrome_check(\"madam\")"
   ]
  },
  {
   "cell_type": "markdown",
   "id": "83c3a23f",
   "metadata": {},
   "source": [
    "### 3. Convert a string to uppercase."
   ]
  },
  {
   "cell_type": "code",
   "execution_count": 5,
   "id": "dec6662f",
   "metadata": {},
   "outputs": [
    {
     "name": "stdout",
     "output_type": "stream",
     "text": [
      "Enter the string:data science\n",
      "The uppercase string is : DATA SCIENCE\n"
     ]
    }
   ],
   "source": [
    "## Getting the user input\n",
    "input_str = input(\"Enter the string:\")\n",
    "\n",
    "## Converting the input string to uppercase\n",
    "final_str = input_str.upper()\n",
    "\n",
    "## Printing the final string\n",
    "print(\"The uppercase string is :\",final_str)"
   ]
  },
  {
   "cell_type": "markdown",
   "id": "91621158",
   "metadata": {},
   "source": [
    "### 4. Convert a string to lowercase."
   ]
  },
  {
   "cell_type": "code",
   "execution_count": 6,
   "id": "a2e6b91d",
   "metadata": {},
   "outputs": [
    {
     "name": "stdout",
     "output_type": "stream",
     "text": [
      "Enter the string:DATA SCIENCE\n",
      "The uppercase string is : data science\n"
     ]
    }
   ],
   "source": [
    "## Getting the user input\n",
    "input_str = input(\"Enter the string:\")\n",
    "\n",
    "## Converting the input string to lowercase\n",
    "final_str = input_str.lower()\n",
    "\n",
    "## Printing the final string\n",
    "print(\"The uppercase string is :\",final_str)"
   ]
  },
  {
   "cell_type": "markdown",
   "id": "8ae9dfd2",
   "metadata": {},
   "source": [
    "### 5. Count the number of vowels in a string."
   ]
  },
  {
   "cell_type": "code",
   "execution_count": 7,
   "id": "c05c97a2",
   "metadata": {},
   "outputs": [],
   "source": [
    "## Define a function to get the vowels count in the string\n",
    "\n",
    "def vowel_count(string):\n",
    "    \n",
    "    final_string = string.lower()\n",
    "    count = 0\n",
    "    \n",
    "    for char in final_string:\n",
    "        \n",
    "        if char in ['a','e','i','o','u']:\n",
    "                count +=1\n",
    "    \n",
    "    print(\"The number of vowels in \",string,\" is: \",count)"
   ]
  },
  {
   "cell_type": "code",
   "execution_count": 8,
   "id": "41883315",
   "metadata": {},
   "outputs": [
    {
     "name": "stdout",
     "output_type": "stream",
     "text": [
      "The number of vowels in  Ashutosh  is:  3\n"
     ]
    }
   ],
   "source": [
    "## Calling the function with the input\n",
    "vowel_count(\"Ashutosh\")"
   ]
  },
  {
   "cell_type": "markdown",
   "id": "23ec1f8d",
   "metadata": {},
   "source": [
    "### 6. Count the number of consonants in a string."
   ]
  },
  {
   "cell_type": "code",
   "execution_count": 9,
   "id": "03da3e63",
   "metadata": {},
   "outputs": [],
   "source": [
    "## Define a function to get the consonants count in the string\n",
    "\n",
    "def consonants_count(string):\n",
    "    \n",
    "    final_string = string.lower()\n",
    "    count = 0\n",
    "    \n",
    "    for char in final_string:\n",
    "        \n",
    "        if char not in ['a','e','i','o','u']:\n",
    "                count +=1\n",
    "    \n",
    "    print(\"The number of consonants in \",string,\" is: \",count)"
   ]
  },
  {
   "cell_type": "code",
   "execution_count": 10,
   "id": "ddef395e",
   "metadata": {},
   "outputs": [
    {
     "name": "stdout",
     "output_type": "stream",
     "text": [
      "The number of consonants in  Ashutosh  is:  5\n"
     ]
    }
   ],
   "source": [
    "consonants_count(\"Ashutosh\")"
   ]
  },
  {
   "cell_type": "markdown",
   "id": "b9ed267c",
   "metadata": {},
   "source": [
    "### 7. Remove all whitespaces from a string."
   ]
  },
  {
   "cell_type": "code",
   "execution_count": 11,
   "id": "eeb96f7d",
   "metadata": {},
   "outputs": [
    {
     "name": "stdout",
     "output_type": "stream",
     "text": [
      "Enter the string :data science\n"
     ]
    },
    {
     "data": {
      "text/plain": [
       "'datascience'"
      ]
     },
     "execution_count": 11,
     "metadata": {},
     "output_type": "execute_result"
    }
   ],
   "source": [
    "## Getting the user input from the user\n",
    "input_str = input(\"Enter the string :\")\n",
    "\n",
    "## Defining the function to remove the whitespaces\n",
    "def whitespaces(input_str):\n",
    "    \n",
    "    final = \"\"\n",
    "    for char in input_str:\n",
    "        if char != \" \":\n",
    "            final+=char\n",
    "    return (final)\n",
    "\n",
    "# Calling the defined function with the user input\n",
    "whitespaces(input_str)"
   ]
  },
  {
   "cell_type": "markdown",
   "id": "3e0a253e",
   "metadata": {},
   "source": [
    "### 8. Find the length of a string without using the `len()` function."
   ]
  },
  {
   "cell_type": "code",
   "execution_count": 12,
   "id": "b3250579",
   "metadata": {},
   "outputs": [
    {
     "name": "stdout",
     "output_type": "stream",
     "text": [
      "Enter the string: data science\n",
      "The length of  data science  is:  12\n"
     ]
    }
   ],
   "source": [
    "## Getting the user input\n",
    "input_str = input(\"Enter the string: \")\n",
    "\n",
    "count = 0\n",
    "\n",
    "for char in input_str:\n",
    "        count +=1\n",
    "\n",
    "print(\"The length of \",input_str, \" is: \",count)"
   ]
  },
  {
   "cell_type": "markdown",
   "id": "df4ca646",
   "metadata": {},
   "source": [
    "### 9. Check if a string contains a specific word."
   ]
  },
  {
   "cell_type": "code",
   "execution_count": 13,
   "id": "36e3a36f",
   "metadata": {},
   "outputs": [
    {
     "name": "stdout",
     "output_type": "stream",
     "text": [
      "Enter a string:this is the random sample\n",
      "Enter the specific word :random\n",
      "The string contains the mentioned word.\n"
     ]
    }
   ],
   "source": [
    "## Get the input string and word which we want to check and then check the word in string using if clause\n",
    "input_str = input(\"Enter a string:\")\n",
    "word = input(\"Enter the specific word :\")\n",
    "\n",
    "if word in input_str:\n",
    "    print(\"The string contains the mentioned word.\")\n",
    "\n",
    "else:\n",
    "    print(\"The string doesn't contain the mentioned word.\")"
   ]
  },
  {
   "cell_type": "markdown",
   "id": "bac08d45",
   "metadata": {},
   "source": [
    "### 10. Replace a word in a string with another word."
   ]
  },
  {
   "cell_type": "code",
   "execution_count": 14,
   "id": "2ec48069",
   "metadata": {},
   "outputs": [
    {
     "name": "stdout",
     "output_type": "stream",
     "text": [
      "Enter the input string :this is the random sample\n",
      "Enter the word to be replaced :sample\n",
      "Enter the new word to be replaced with :test\n",
      "The new string is : this is the random test\n"
     ]
    }
   ],
   "source": [
    "## Getting the user input for string, word to be replaced and the word to be replaced with\n",
    "input_str = input(\"Enter the input string :\")\n",
    "\n",
    "word_to_be_replaced = input(\"Enter the word to be replaced :\")\n",
    "new_word = input(\"Enter the new word to be replaced with :\")\n",
    "\n",
    "## Replace the word\n",
    "new_str = input_str.replace(word_to_be_replaced,new_word)\n",
    "\n",
    "## Printing the modified string\n",
    "print(\"The new string is :\",new_str)"
   ]
  },
  {
   "cell_type": "markdown",
   "id": "a3a13b76",
   "metadata": {},
   "source": [
    "### 11. Count the occurrences of a word in a string."
   ]
  },
  {
   "cell_type": "code",
   "execution_count": 15,
   "id": "707bb01b",
   "metadata": {},
   "outputs": [
    {
     "name": "stdout",
     "output_type": "stream",
     "text": [
      "Enter the input string:hye data hye science hey ashutosh\n",
      "Enter the word :hye\n",
      "The hye occurs 2  times.\n"
     ]
    }
   ],
   "source": [
    "## Getting the user input and word to be counted\n",
    "input_str = input (\"Enter the input string:\")\n",
    "word = input(\"Enter the word :\")\n",
    "\n",
    "input_str = input_str.split(\" \")\n",
    "\n",
    "count = 0 \n",
    "\n",
    "## Counting the word by comparing\n",
    "for words in input_str:\n",
    "    if words == word:\n",
    "        count +=1\n",
    "\n",
    "print(\"The\",word,\"occurs\",count,\" times.\")"
   ]
  },
  {
   "cell_type": "markdown",
   "id": "b362cee2",
   "metadata": {},
   "source": [
    "### 12. Find the first occurrence of a word in a string."
   ]
  },
  {
   "cell_type": "code",
   "execution_count": 16,
   "id": "e8862bcf",
   "metadata": {},
   "outputs": [
    {
     "name": "stdout",
     "output_type": "stream",
     "text": [
      "Enter the input string:hye data hey science\n",
      "Enter the word you want to search :hye\n",
      "The first occurrence of word hye is : 0\n"
     ]
    }
   ],
   "source": [
    "## Getting the input from the user\n",
    "input_str = input(\"Enter the input string:\")\n",
    "word = input(\"Enter the word you want to search :\")\n",
    "\n",
    "## Call the find method of string to get the first occurrence\n",
    "index = input_str.find(word)\n",
    "\n",
    "if index ==-1:\n",
    "    print(\"We didn't find the word in the string\")\n",
    "\n",
    "else:\n",
    "    print(\"The first occurrence of word\",word,\"is :\",index)"
   ]
  },
  {
   "cell_type": "markdown",
   "id": "b90458f9",
   "metadata": {},
   "source": [
    "### 13. Find the last occurrence of a word in a string."
   ]
  },
  {
   "cell_type": "code",
   "execution_count": 17,
   "id": "13d12637",
   "metadata": {},
   "outputs": [
    {
     "name": "stdout",
     "output_type": "stream",
     "text": [
      "Enter the input string:hey data hey science\n",
      "Enter the word you want to search :hey\n",
      "The first occurrence of word hey is : 9\n"
     ]
    }
   ],
   "source": [
    "## Getting the input from the user\n",
    "input_str = input(\"Enter the input string:\")\n",
    "word = input(\"Enter the word you want to search :\")\n",
    "\n",
    "## Call the rfind method of string to get the last occurrence\n",
    "index = input_str.rfind(word)\n",
    "\n",
    "if index ==-1:\n",
    "    print(\"We didn't find the word in the string\")\n",
    "\n",
    "else:\n",
    "    print(\"The first occurrence of word\",word,\"is :\",index)"
   ]
  },
  {
   "cell_type": "markdown",
   "id": "30f1aae3",
   "metadata": {},
   "source": [
    "### 14. Split a string into a list of words."
   ]
  },
  {
   "cell_type": "code",
   "execution_count": 18,
   "id": "ff4c7ddc",
   "metadata": {},
   "outputs": [
    {
     "name": "stdout",
     "output_type": "stream",
     "text": [
      "Enter the input string:this is the random test\n",
      "The list of words are : ['this', 'is', 'the', 'random', 'test']\n"
     ]
    }
   ],
   "source": [
    "## Getting the input from the user\n",
    "input_str = input(\"Enter the input string:\")\n",
    "\n",
    "word_list = input_str.split(\" \")\n",
    "\n",
    "print(\"The list of words are :\",word_list)"
   ]
  },
  {
   "cell_type": "markdown",
   "id": "1b2f5174",
   "metadata": {},
   "source": [
    "### 15. Join a list of words into a string."
   ]
  },
  {
   "cell_type": "code",
   "execution_count": 19,
   "id": "1f791899",
   "metadata": {},
   "outputs": [
    {
     "name": "stdout",
     "output_type": "stream",
     "text": [
      "This is a sample test \n"
     ]
    }
   ],
   "source": [
    "## Assuming some input data\n",
    "word_list = ['This','is','a','sample','test']\n",
    "\n",
    "final = \"\"\n",
    "\n",
    "# Concatenate the word list into final string\n",
    "for word in word_list:\n",
    "    final = final + word +\" \"\n",
    "    \n",
    "print(final)"
   ]
  },
  {
   "cell_type": "markdown",
   "id": "2631527e",
   "metadata": {},
   "source": [
    "### 16. Convert a string where words are separated by spaces to one where words are separated by underscores."
   ]
  },
  {
   "cell_type": "code",
   "execution_count": 20,
   "id": "ce24e579",
   "metadata": {},
   "outputs": [
    {
     "name": "stdout",
     "output_type": "stream",
     "text": [
      "Enter the input string separated by space:data science\n",
      "data_science\n"
     ]
    }
   ],
   "source": [
    "# Getting the user input\n",
    "input_str = input(\"Enter the input string separated by space:\")\n",
    "\n",
    "# Splitting the string by space into word list\n",
    "word_list = input_str.split(\" \")\n",
    "\n",
    "final = \"\"\n",
    "\n",
    "# Concatenate the word list into final string separated by underscore\n",
    "for word in word_list:\n",
    "    final += word +\"_\"\n",
    "    \n",
    "print(final[:-1])"
   ]
  },
  {
   "cell_type": "markdown",
   "id": "9bba1475",
   "metadata": {},
   "source": [
    "### 17. Check if a string starts with a specific word or phrase."
   ]
  },
  {
   "cell_type": "code",
   "execution_count": 21,
   "id": "b9103a4d",
   "metadata": {},
   "outputs": [
    {
     "name": "stdout",
     "output_type": "stream",
     "text": [
      "Enter the string :this is the random test\n",
      "Enter the word to be check :this\n",
      "The this is the random test start with prefix this\n"
     ]
    }
   ],
   "source": [
    "## Get the user input for string and word to be check\n",
    "input_str = input(\"Enter the string :\")\n",
    "word = input(\"Enter the word to be check :\")\n",
    "\n",
    "# use the string startswith method to check the validity\n",
    "if input_str.startswith(word):\n",
    "    print(\"The\",input_str,\"start with prefix\",word)\n",
    "\n",
    "else:\n",
    "    print(\"The\",input_str,\"does not start with prefix\",word)"
   ]
  },
  {
   "cell_type": "markdown",
   "id": "8ce6b8cc",
   "metadata": {},
   "source": [
    "### 18. Check if a string ends with a specific word or phrase."
   ]
  },
  {
   "cell_type": "code",
   "execution_count": 22,
   "id": "70cd2e17",
   "metadata": {},
   "outputs": [
    {
     "name": "stdout",
     "output_type": "stream",
     "text": [
      "Enter the string :this is the random test\n",
      "Enter the word to be check :test\n",
      "The this is the random test ends with prefix test\n"
     ]
    }
   ],
   "source": [
    "## Get the user input for string and word to be check\n",
    "input_str = input(\"Enter the string :\")\n",
    "word = input(\"Enter the word to be check :\")\n",
    "\n",
    "# use the string endswith method to check the validity\n",
    "if input_str.endswith(word):\n",
    "    print(\"The\",input_str,\"ends with prefix\",word)\n",
    "\n",
    "else:\n",
    "    print(\"The\",input_str,\"does not ends with prefix\",word)"
   ]
  },
  {
   "cell_type": "markdown",
   "id": "9426721c",
   "metadata": {},
   "source": [
    "### 19. Convert a string to title case (e.g., \"hello world\" to \"Hello World\")."
   ]
  },
  {
   "cell_type": "code",
   "execution_count": 23,
   "id": "65893522",
   "metadata": {},
   "outputs": [
    {
     "name": "stdout",
     "output_type": "stream",
     "text": [
      "Enter the string: hello world\n",
      "Converted text will be : Hello World\n"
     ]
    }
   ],
   "source": [
    "# Get the user input\n",
    "input_str = input(\"Enter the string: \")\n",
    "\n",
    "# Use the title method of string to change the string\n",
    "print(\"Converted text will be :\",input_str.title())"
   ]
  },
  {
   "cell_type": "markdown",
   "id": "fd31ce8e",
   "metadata": {},
   "source": [
    "### 20. Find the longest word in a string."
   ]
  },
  {
   "cell_type": "code",
   "execution_count": 24,
   "id": "be3fe4c7",
   "metadata": {},
   "outputs": [
    {
     "name": "stdout",
     "output_type": "stream",
     "text": [
      "Enter the input string:one two three four five\n",
      "Longest word is : three\n"
     ]
    }
   ],
   "source": [
    "## Get the user input\n",
    "input_str = input(\"Enter the input string:\")\n",
    "\n",
    "## Split the string into the word list\n",
    "words = input_str.split(\" \")\n",
    "\n",
    "max_w = 0 \n",
    "final = \"\"\n",
    "\n",
    "# Check for the len of word with max_w and assign it to max_w if it is greater than max_w and the word value to final\n",
    "for word in words:\n",
    "    \n",
    "    if len(word)>max_w :\n",
    "        max_w = len(word)\n",
    "        final = word\n",
    "\n",
    "# Print the final result\n",
    "print(\"Longest word is :\",final)"
   ]
  },
  {
   "cell_type": "markdown",
   "id": "ce2e1255",
   "metadata": {},
   "source": [
    "### 21. Find the shortest word in a string."
   ]
  },
  {
   "cell_type": "code",
   "execution_count": 25,
   "id": "d2ec3f92",
   "metadata": {},
   "outputs": [
    {
     "name": "stdout",
     "output_type": "stream",
     "text": [
      "Enter the input string:orange apple mango pie\n",
      "Shortest word is : pie\n"
     ]
    }
   ],
   "source": [
    "## Get the user input\n",
    "input_str = input(\"Enter the input string:\")\n",
    "\n",
    "## Split the string into the word list\n",
    "words = input_str.split(\" \")\n",
    "\n",
    "min_w = 999999999999999999999999999999999999999999999999999999999999999999999999999999999999999999999999999999\n",
    "final = \"\"\n",
    "\n",
    "# Check for the len of word with min_w and assign it to min_w if it is lesser than min_w and the word value to final\n",
    "for word in words:\n",
    "    \n",
    "    if len(word)< min_w:\n",
    "        min_w = len(word)\n",
    "        final = word\n",
    "\n",
    "# Print the final result\n",
    "print(\"Shortest word is :\",final)"
   ]
  },
  {
   "cell_type": "markdown",
   "id": "a9acbf19",
   "metadata": {},
   "source": [
    "### 22. Reverse the order of words in a string"
   ]
  },
  {
   "cell_type": "code",
   "execution_count": 26,
   "id": "41ca8205",
   "metadata": {},
   "outputs": [
    {
     "name": "stdout",
     "output_type": "stream",
     "text": [
      "Enter the string:this is the random test\n",
      "The reverse sentence is : test random the is this \n"
     ]
    }
   ],
   "source": [
    "## Getting the user input\n",
    "input_str = input(\"Enter the string:\")\n",
    "\n",
    "## Split the input string in word list and then reversing it later we will join it \n",
    "word_list = input_str.split(\" \")[::-1]\n",
    "final_word = \"\"\n",
    "\n",
    "for word in word_list:\n",
    "    final_word +=word+\" \"\n",
    "    \n",
    "## Printing the final result\n",
    "print(\"The reverse sentence is :\",final_word)"
   ]
  },
  {
   "cell_type": "markdown",
   "id": "2d64e893",
   "metadata": {},
   "source": [
    "### 23. Check if a string is alphanumeric."
   ]
  },
  {
   "cell_type": "code",
   "execution_count": 27,
   "id": "30ab851f",
   "metadata": {},
   "outputs": [
    {
     "name": "stdout",
     "output_type": "stream",
     "text": [
      "Enter the string:ashutosh123\n",
      "The ashutosh123 is alphanumeric.\n"
     ]
    }
   ],
   "source": [
    "## Getting the user input\n",
    "input_str = input(\"Enter the string:\")\n",
    "\n",
    "## Use the isalnum method of string to check\n",
    "\n",
    "if input_str.isalnum():\n",
    "    print(\"The\",input_str,\"is alphanumeric.\")\n",
    "\n",
    "else:\n",
    "    print(\"The\",input_str,\"is not a alphanumeric.\")"
   ]
  },
  {
   "cell_type": "markdown",
   "id": "2f4a91d0",
   "metadata": {},
   "source": [
    "### 24. Extract all digits from a string."
   ]
  },
  {
   "cell_type": "code",
   "execution_count": 28,
   "id": "8cee0364",
   "metadata": {},
   "outputs": [
    {
     "name": "stdout",
     "output_type": "stream",
     "text": [
      "Enter the string:ashutosh12345\n",
      "The digits are : 12345\n"
     ]
    }
   ],
   "source": [
    "## Getting the user input:\n",
    "input_str = input(\"Enter the string:\")\n",
    "\n",
    "digit = \"\"\n",
    "## for loop to check for the digit condition\n",
    "for char in input_str:\n",
    "    if char in ['0','1','2','3','4','5','6','7','8','9']:\n",
    "        digit +=char\n",
    "\n",
    "print(\"The digits are :\",digit)"
   ]
  },
  {
   "cell_type": "markdown",
   "id": "3d706dd5",
   "metadata": {},
   "source": [
    "### 25. Extract all alphabets from a string."
   ]
  },
  {
   "cell_type": "code",
   "execution_count": 29,
   "id": "b96260e1",
   "metadata": {},
   "outputs": [
    {
     "name": "stdout",
     "output_type": "stream",
     "text": [
      "Enter the string:ashutosh12345\n",
      "The digits are : ashutosh\n"
     ]
    }
   ],
   "source": [
    "## Getting the user input:\n",
    "input_str = input(\"Enter the string:\")\n",
    "\n",
    "alphabet = \"\"\n",
    "## for loop to check for the alphabet condition\n",
    "for char in input_str:\n",
    "    if char not in ['0','1','2','3','4','5','6','7','8','9']:\n",
    "        alphabet +=char\n",
    "\n",
    "print(\"The digits are :\",alphabet)"
   ]
  },
  {
   "cell_type": "markdown",
   "id": "9b310e9b",
   "metadata": {},
   "source": [
    "### 26. Count the number of uppercase letters in a string."
   ]
  },
  {
   "cell_type": "code",
   "execution_count": 30,
   "id": "50698641",
   "metadata": {},
   "outputs": [
    {
     "name": "stdout",
     "output_type": "stream",
     "text": [
      "Enter the input string:Ashutosh Sahu\n",
      "The number of uppercase letters are : 2\n"
     ]
    }
   ],
   "source": [
    "## Getting the user input\n",
    "input_str = input(\"Enter the input string:\")\n",
    "\n",
    "count = 0 \n",
    "\n",
    "# For loop to count the char when char.isupper is true\n",
    "for char in input_str:\n",
    "    if char.isupper():\n",
    "        count +=1\n",
    "\n",
    "print(\"The number of uppercase letters are :\",count)"
   ]
  },
  {
   "cell_type": "markdown",
   "id": "c6c8de8b",
   "metadata": {},
   "source": [
    "### 27. Count the number of lowercase letters in a string."
   ]
  },
  {
   "cell_type": "code",
   "execution_count": 31,
   "id": "851da4d8",
   "metadata": {},
   "outputs": [
    {
     "name": "stdout",
     "output_type": "stream",
     "text": [
      "Enter the input string:Ashutosh Sahu\n",
      "The number of lowercase letters are : 10\n"
     ]
    }
   ],
   "source": [
    "## Getting the user input\n",
    "input_str = input(\"Enter the input string:\")\n",
    "\n",
    "count = 0 \n",
    "\n",
    "# For loop to count the char when char.islower is true\n",
    "for char in input_str:\n",
    "    if char.islower():\n",
    "        count +=1\n",
    "\n",
    "print(\"The number of lowercase letters are :\",count)"
   ]
  },
  {
   "cell_type": "markdown",
   "id": "ddf82c32",
   "metadata": {},
   "source": [
    "### 28. Swap the case of each character in a string."
   ]
  },
  {
   "cell_type": "code",
   "execution_count": 32,
   "id": "cbe796ab",
   "metadata": {},
   "outputs": [
    {
     "name": "stdout",
     "output_type": "stream",
     "text": [
      "Enter the input string:Ashutosh Sahu\n",
      "After swapping the case:  aSHUTOSH sAHU\n"
     ]
    }
   ],
   "source": [
    "## Getting the user input\n",
    "input_str = input(\"Enter the input string:\")\n",
    "\n",
    "final =\"\"\n",
    "\n",
    "## for loop for every char in string and then method to change the char\n",
    "for char in input_str:\n",
    "    if char.isupper():\n",
    "        final += char.lower()\n",
    "    else:\n",
    "        final += char.upper()\n",
    "        \n",
    "print(\"After swapping the case: \",final)"
   ]
  },
  {
   "cell_type": "markdown",
   "id": "4df7b50c",
   "metadata": {},
   "source": [
    "### 29. Remove a specific word from a string."
   ]
  },
  {
   "cell_type": "code",
   "execution_count": 33,
   "id": "e65a48cd",
   "metadata": {},
   "outputs": [
    {
     "name": "stdout",
     "output_type": "stream",
     "text": [
      "Enter the input string :this is the random test\n",
      "Enter the word to be removed :test\n",
      "Final String : this is the random \n"
     ]
    }
   ],
   "source": [
    "## Getting the user input for the string and the word\n",
    "input_str = input(\"Enter the input string :\")\n",
    "word = input(\"Enter the word to be removed :\")\n",
    "\n",
    "## Split the word into word list\n",
    "word_list = input_str.split(\" \")\n",
    "final = \"\"\n",
    "\n",
    "for w in word_list:\n",
    "    if w !=word:\n",
    "        final +=w+\" \"\n",
    "print(\"Final String :\",final)"
   ]
  },
  {
   "cell_type": "markdown",
   "id": "3d4374d8",
   "metadata": {},
   "source": [
    "### 30. Check if a string is a valid email address."
   ]
  },
  {
   "cell_type": "code",
   "execution_count": 34,
   "id": "fdd632ad",
   "metadata": {},
   "outputs": [
    {
     "name": "stdout",
     "output_type": "stream",
     "text": [
      "Enter the email address:ashutosh@gmail.com\n",
      "ashutosh@gmail.com  is valid email address.\n"
     ]
    }
   ],
   "source": [
    "## Getting the input from the user\n",
    "input_str = input(\"Enter the email address:\")\n",
    "\n",
    "## importing re as we are going to use regular expression\n",
    "import re\n",
    "\n",
    "pattern = r'\\b[A-Za-z0-9._%+-]+@[A-Za-z0-9.-]+\\.[A-Z|a-z]{2,7}\\b'\n",
    "\n",
    "if re.match(pattern,input_str):\n",
    "    print(input_str,\" is valid email address.\")\n",
    "\n",
    "else:\n",
    "    print(input_str,\" is not a valid email address.\")"
   ]
  },
  {
   "cell_type": "markdown",
   "id": "2aa5d29c",
   "metadata": {},
   "source": [
    "### 31. Extract the username from an email address string."
   ]
  },
  {
   "cell_type": "code",
   "execution_count": 35,
   "id": "dbe60833",
   "metadata": {},
   "outputs": [
    {
     "name": "stdout",
     "output_type": "stream",
     "text": [
      "Enter the email address:ashutosh@gmail.com\n",
      "The username of email is : ashutosh\n"
     ]
    }
   ],
   "source": [
    "## Getting the user input of email address\n",
    "input_str = input(\"Enter the email address:\")\n",
    "\n",
    "# Split the email using @ and the first part will the username\n",
    "email_list = input_str.split(\"@\")\n",
    "\n",
    "print(\"The username of email is :\",email_list[0])"
   ]
  },
  {
   "cell_type": "markdown",
   "id": "6de26e42",
   "metadata": {},
   "source": [
    "### 32. Extract the domain name from an email address string."
   ]
  },
  {
   "cell_type": "code",
   "execution_count": 36,
   "id": "d479312d",
   "metadata": {},
   "outputs": [
    {
     "name": "stdout",
     "output_type": "stream",
     "text": [
      "Enter the email address:ashutosh@gmail.com\n",
      "The domain of email is : gmail.com\n"
     ]
    }
   ],
   "source": [
    "## Getting the user input of email address\n",
    "input_str = input(\"Enter the email address:\")\n",
    "\n",
    "# Split the email using @ and the second part will the username\n",
    "email_list = input_str.split(\"@\")\n",
    "\n",
    "print(\"The domain of email is :\",email_list[1])"
   ]
  },
  {
   "cell_type": "markdown",
   "id": "fedf6300",
   "metadata": {},
   "source": [
    "### 33. Replace multiple spaces in a string with a single space."
   ]
  },
  {
   "cell_type": "code",
   "execution_count": 37,
   "id": "cf52cc46",
   "metadata": {},
   "outputs": [
    {
     "name": "stdout",
     "output_type": "stream",
     "text": [
      "Enter the input string:this  is   a  random\n",
      "Cleaned string is: this is a random \n"
     ]
    }
   ],
   "source": [
    "## Getting the user input\n",
    "input_str = input(\"Enter the input string:\")\n",
    "\n",
    "## Split the string into word list\n",
    "word_list = input_str.split()\n",
    "final = \"\"\n",
    "\n",
    "for word in word_list:\n",
    "    final +=word + \" \"\n",
    "    \n",
    "print(\"Cleaned string is:\",final)"
   ]
  },
  {
   "cell_type": "markdown",
   "id": "1751c8d0",
   "metadata": {},
   "source": [
    "### 34. Check if a string is a valid URL."
   ]
  },
  {
   "cell_type": "code",
   "execution_count": 38,
   "id": "7f62b253",
   "metadata": {},
   "outputs": [
    {
     "name": "stdout",
     "output_type": "stream",
     "text": [
      "Requirement already satisfied: validators in c:\\users\\assahu\\anaconda3\\lib\\site-packages (0.22.0)\n",
      "Enter the url :https://google.com\n",
      "URL is valid\n"
     ]
    }
   ],
   "source": [
    "## Importing the validators library\n",
    "!pip install validators\n",
    "import validators\n",
    "\n",
    "# Getting the user input\n",
    "url = input(\"Enter the url :\")\n",
    "validation = validators.url(url)\n",
    "if validation:\n",
    "    print(\"URL is valid\")\n",
    "else:\n",
    "    print(\"URL is invalid\")"
   ]
  },
  {
   "cell_type": "markdown",
   "id": "92edce76",
   "metadata": {},
   "source": [
    "### 35. Extract the protocol (http or https) from a URL string."
   ]
  },
  {
   "cell_type": "code",
   "execution_count": 39,
   "id": "1f29b337",
   "metadata": {},
   "outputs": [
    {
     "name": "stdout",
     "output_type": "stream",
     "text": [
      "Enter the URL:http://google.com\n",
      "The protocol is: http\n"
     ]
    }
   ],
   "source": [
    "## Getting the input from the url\n",
    "input_str = input(\"Enter the URL:\")\n",
    "\n",
    "## Split the url with : and the first part with be protocol\n",
    "word_list = input_str.split(\":\")\n",
    "\n",
    "print(\"The protocol is:\",word_list[0])"
   ]
  },
  {
   "cell_type": "markdown",
   "id": "cd929d9a",
   "metadata": {},
   "source": [
    "### 36. Find the frequency of each character in a string."
   ]
  },
  {
   "cell_type": "code",
   "execution_count": 40,
   "id": "6b99a5f5",
   "metadata": {},
   "outputs": [
    {
     "name": "stdout",
     "output_type": "stream",
     "text": [
      "Enter the input string:this is the random test random this\n",
      "Character: t having frequency :  5\n",
      "Character: h having frequency :  3\n",
      "Character: i having frequency :  3\n",
      "Character: s having frequency :  4\n",
      "Character:   having frequency :  6\n",
      "Character: e having frequency :  2\n",
      "Character: r having frequency :  2\n",
      "Character: a having frequency :  2\n",
      "Character: n having frequency :  2\n",
      "Character: d having frequency :  2\n",
      "Character: o having frequency :  2\n",
      "Character: m having frequency :  2\n"
     ]
    }
   ],
   "source": [
    "## Get the input string the user\n",
    "input_str = input(\"Enter the input string:\")\n",
    "\n",
    "# Create a dictinary for storing the frequency of characters\n",
    "count ={}\n",
    "\n",
    "## check for every char in dictionary and if there add 1 to count or initialize the char with 1\n",
    "for char in input_str:\n",
    "    if char in count:\n",
    "        count[char] +=1\n",
    "    \n",
    "    else:\n",
    "        count[char] = 1\n",
    "\n",
    "for char,freq in count.items():\n",
    "    print(\"Character:\",char,\"having frequency : \",freq)"
   ]
  },
  {
   "cell_type": "markdown",
   "id": "d9186dff",
   "metadata": {},
   "source": [
    "### 37. Remove all punctuation from a string."
   ]
  },
  {
   "cell_type": "code",
   "execution_count": 41,
   "id": "b1a9f3f7",
   "metadata": {},
   "outputs": [
    {
     "name": "stdout",
     "output_type": "stream",
     "text": [
      "Enter the input string:ashut'osh sa$hu% data&science\n",
      "ashutosh sahu datascience\n"
     ]
    }
   ],
   "source": [
    "## Getting the user input\n",
    "input_str = input(\"Enter the input string:\")\n",
    "\n",
    "final = \"\"\n",
    "\n",
    "## check for all the punctuation available\n",
    "for char in input_str:\n",
    "    if char not in ['!','\"','#','$','%','&',\"'\",'(',')','*','+','-','.','/',':',';','<','=','>','?','@','[',\"]\",'^',\"_\",\"`\",\"{\",\"|\",'}','~',\",\"]:\n",
    "        final +=char\n",
    "\n",
    "print(final)"
   ]
  },
  {
   "cell_type": "markdown",
   "id": "c7bba64a",
   "metadata": {},
   "source": [
    "### 38. Check if a string contains only digits."
   ]
  },
  {
   "cell_type": "code",
   "execution_count": 42,
   "id": "0a9414f6",
   "metadata": {},
   "outputs": [
    {
     "name": "stdout",
     "output_type": "stream",
     "text": [
      "Enter the input string:1234567\n",
      "String contains only digits.\n"
     ]
    }
   ],
   "source": [
    "## Get the input string from the user\n",
    "input_str = input(\"Enter the input string:\")\n",
    "\n",
    "## Check for digits using the isdigit method\n",
    "if input_str.isdigit():\n",
    "    print(\"String contains only digits.\")\n",
    "\n",
    "else:\n",
    "    print(\"String doesn't contain only digits.\")"
   ]
  },
  {
   "cell_type": "markdown",
   "id": "c6ffa94e",
   "metadata": {},
   "source": [
    "### 39. Check if a string contains only alphabets."
   ]
  },
  {
   "cell_type": "code",
   "execution_count": 43,
   "id": "8af307c0",
   "metadata": {},
   "outputs": [
    {
     "name": "stdout",
     "output_type": "stream",
     "text": [
      "Enter the input string:ashutosh\n",
      "String contains only alphabets.\n"
     ]
    }
   ],
   "source": [
    "## Get the input string from the user\n",
    "input_str = input(\"Enter the input string:\")\n",
    "\n",
    "## Check for alphabets using isalpha method\n",
    "if input_str.isalpha():\n",
    "    print(\"String contains only alphabets.\")\n",
    "\n",
    "else:\n",
    "    print(\"String doesn't contain only alphabets.\")"
   ]
  },
  {
   "cell_type": "markdown",
   "id": "c516b167",
   "metadata": {},
   "source": [
    "### 40. Convert a string to a list of characters."
   ]
  },
  {
   "cell_type": "code",
   "execution_count": 44,
   "id": "874d6bd2",
   "metadata": {},
   "outputs": [
    {
     "name": "stdout",
     "output_type": "stream",
     "text": [
      "Enter the stringdata science\n",
      "['d', 'a', 't', 'a', ' ', 's', 'c', 'i', 'e', 'n', 'c', 'e']\n"
     ]
    }
   ],
   "source": [
    "## Getting the input from the user\n",
    "input_str = input(\"Enter the string\")\n",
    "\n",
    "## Break it into list\n",
    "char_list = list(input_str)\n",
    "\n",
    "print(char_list)"
   ]
  },
  {
   "cell_type": "markdown",
   "id": "e8b3fec4",
   "metadata": {},
   "source": [
    "### 41. Check if two strings are anagrams."
   ]
  },
  {
   "cell_type": "code",
   "execution_count": 45,
   "id": "13ad1bc9",
   "metadata": {},
   "outputs": [
    {
     "name": "stdout",
     "output_type": "stream",
     "text": [
      "Enter the string:cat\n",
      "Enter the second string:act\n",
      "Both the strings are anagrams.\n"
     ]
    }
   ],
   "source": [
    "input_str = input(\"Enter the string:\")\n",
    "input_str1 = input(\"Enter the second string:\")\n",
    "\n",
    "## Replace the spaces and covert it into lowercase for consistency\n",
    "input_str = input_str.replace(\" \",\"\").lower()\n",
    "input_str1 = input_str1.replace(\" \",\"\").lower()\n",
    "\n",
    "## Sorted the strings for the matching\n",
    "if sorted(input_str) == sorted(input_str1):\n",
    "    print(\"Both the strings are anagrams.\")\n",
    "\n",
    "else:\n",
    "    print(\"Both the strings are not anagrams.\")"
   ]
  },
  {
   "cell_type": "markdown",
   "id": "e5aa4590",
   "metadata": {},
   "source": [
    "### 42. Encode a string using a Caesar cipher."
   ]
  },
  {
   "cell_type": "code",
   "execution_count": 46,
   "id": "324eda85",
   "metadata": {},
   "outputs": [
    {
     "name": "stdout",
     "output_type": "stream",
     "text": [
      "Enter the text to encode: Data Science\n",
      "Enter the Caesar cipher shift value: 4\n",
      "Encoded text: Hexe Wgmirgi\n"
     ]
    }
   ],
   "source": [
    "def caesar_cipher_encode(text, shift):\n",
    "    encoded_text = \"\"\n",
    "\n",
    "    for char in text:\n",
    "        if char.isalpha():\n",
    "            # Determine if the character is uppercase or lowercase\n",
    "            if char.isupper():\n",
    "                offset = ord('A')\n",
    "            else:\n",
    "                offset = ord('a')\n",
    "            \n",
    "            # Apply the Caesar cipher shift\n",
    "            shifted_char = chr(((ord(char) - offset + shift) % 26) + offset)\n",
    "            encoded_text += shifted_char\n",
    "        else:\n",
    "            # If the character is not alphabetic, leave it unchanged\n",
    "            encoded_text += char\n",
    "    \n",
    "    return encoded_text\n",
    "\n",
    "# Input the text and shift value\n",
    "text = input(\"Enter the text to encode: \")\n",
    "shift = int(input(\"Enter the Caesar cipher shift value: \"))\n",
    "\n",
    "# Encode the text using the Caesar cipher\n",
    "encoded_text = caesar_cipher_encode(text, shift)\n",
    "\n",
    "print(\"Encoded text:\", encoded_text)"
   ]
  },
  {
   "cell_type": "markdown",
   "id": "cfd7ff4f",
   "metadata": {},
   "source": [
    "### 43. Decode a Caesar cipher encoded string."
   ]
  },
  {
   "cell_type": "code",
   "execution_count": 47,
   "id": "07b3c736",
   "metadata": {},
   "outputs": [
    {
     "name": "stdout",
     "output_type": "stream",
     "text": [
      "Enter the encoded text to decode: Hexe Wgmirgi\n",
      "Enter the Caesar cipher shift value used for encoding: 4\n",
      "Decoded text: Data Science\n"
     ]
    }
   ],
   "source": [
    "def caesar_cipher_decode(encoded_text, shift):\n",
    "    decoded_text = \"\"\n",
    "\n",
    "    for char in encoded_text:\n",
    "        if char.isalpha():\n",
    "            # Determine if the character is uppercase or lowercase\n",
    "            if char.isupper():\n",
    "                offset = ord('A')\n",
    "            else:\n",
    "                offset = ord('a')\n",
    "            \n",
    "            # Apply the Caesar cipher shift in reverse to decode\n",
    "            shifted_char = chr(((ord(char) - offset - shift) % 26) + offset)\n",
    "            decoded_text += shifted_char\n",
    "        else:\n",
    "            # If the character is not alphabetic, leave it unchanged\n",
    "            decoded_text += char\n",
    "    \n",
    "    return decoded_text\n",
    "\n",
    "# Input the encoded text and shift value\n",
    "encoded_text = input(\"Enter the encoded text to decode: \")\n",
    "shift = int(input(\"Enter the Caesar cipher shift value used for encoding: \"))\n",
    "\n",
    "# Decode the encoded text using the Caesar cipher\n",
    "decoded_text = caesar_cipher_decode(encoded_text, shift)\n",
    "\n",
    "print(\"Decoded text:\", decoded_text)"
   ]
  },
  {
   "cell_type": "markdown",
   "id": "a41ed7df",
   "metadata": {},
   "source": [
    "### 44. Find the most frequent word in a string."
   ]
  },
  {
   "cell_type": "code",
   "execution_count": 209,
   "id": "cc84a002",
   "metadata": {},
   "outputs": [
    {
     "name": "stdout",
     "output_type": "stream",
     "text": [
      "Enter the string:hello world hello test\n",
      "hello\n"
     ]
    }
   ],
   "source": [
    "## Assumption is the lower and upper case is same like hello and Hello are same word with no punctuations\n",
    "\n",
    "## Get the input from the user \n",
    "input_str = input(\"Enter the string:\")\n",
    "\n",
    "input_str = input_str.lower()\n",
    "\n",
    "\n",
    "freq = {}\n",
    "\n",
    "## Split the string into list of words\n",
    "word_list = input_str.split(\" \")\n",
    "\n",
    "## Enter the word and there count into dictinary\n",
    "for word in word_list:\n",
    "    if word in freq:\n",
    "        freq[word] +=1\n",
    "    \n",
    "    else:\n",
    "        freq[word]=1\n",
    "\n",
    "## Sort the dictionary and convert the resulted list into dictionary again\n",
    "freq = dict(sorted(freq.items()))\n",
    "\n",
    "## Get the first key from dictionary\n",
    "print(list(freq.keys())[0])"
   ]
  },
  {
   "cell_type": "markdown",
   "id": "bcfcd3e6",
   "metadata": {},
   "source": [
    "\n",
    "### 45. Find all unique words in a string."
   ]
  },
  {
   "cell_type": "code",
   "execution_count": 49,
   "id": "a78ef904",
   "metadata": {},
   "outputs": [
    {
     "name": "stdout",
     "output_type": "stream",
     "text": [
      "Enter the string:hye world hye test\n",
      "Unique words are: {'world', 'test', 'hye'}\n"
     ]
    }
   ],
   "source": [
    "##Assumption is the lower and upper case is same like hello and Hello are same word with no punctuations\n",
    "\n",
    "## Getting the string input from the user\n",
    "input_str = input(\"Enter the string:\")\n",
    "\n",
    "input_str = input_str.lower()\n",
    "\n",
    "word_list = input_str.split(\" \")\n",
    "\n",
    "## Converting into set to get the unique items\n",
    "unique = set(word_list)\n",
    "\n",
    "print(\"Unique words are:\",unique)"
   ]
  },
  {
   "cell_type": "markdown",
   "id": "64e70e9c",
   "metadata": {},
   "source": [
    "### 46. Count the number of syllables in a string."
   ]
  },
  {
   "cell_type": "code",
   "execution_count": 208,
   "id": "f1c744e6",
   "metadata": {},
   "outputs": [
    {
     "name": "stdout",
     "output_type": "stream",
     "text": [
      "Enter the string:hello\n",
      "The word hello has 2 syllabels.\n"
     ]
    }
   ],
   "source": [
    "import re\n",
    "## Getting the input from the user\n",
    "input_str = input(\"Enter the string:\")\n",
    "\n",
    "input_str = input_str.lower()\n",
    "\n",
    "## Pattern for vowels and finding it into string\n",
    "pattern = re.compile(r'[aeiou]+')\n",
    "count = pattern.findall(input_str)\n",
    "\n",
    "print(\"The word\",input_str,\"has\",len(count),\"syllabels.\")"
   ]
  },
  {
   "cell_type": "markdown",
   "id": "33bc9813",
   "metadata": {},
   "source": [
    "### 47. Check if a string contains any special characters."
   ]
  },
  {
   "cell_type": "code",
   "execution_count": 51,
   "id": "96c2401e",
   "metadata": {},
   "outputs": [
    {
     "name": "stdout",
     "output_type": "stream",
     "text": [
      "Enter the string:ashu@tosh\n",
      "Input string has special characters.\n"
     ]
    }
   ],
   "source": [
    "## Getting the input from the user\n",
    "input_str = input(\"Enter the string:\")\n",
    "\n",
    "## Pattern for special characters and finding it in string\n",
    "pattern = re.compile(r'[!@#$%^&*()_+{}\\[\\]:;<>,.?~\\\\/]')\n",
    "\n",
    "find = pattern.findall(input_str)\n",
    "\n",
    "if len(find)>0:\n",
    "    print(\"Input string has special characters.\")\n",
    "    \n",
    "else:\n",
    "    print(\"Input string doesn't have special characters.\")"
   ]
  },
  {
   "cell_type": "markdown",
   "id": "78c098bc",
   "metadata": {},
   "source": [
    "### 48. Remove the nth word from a string."
   ]
  },
  {
   "cell_type": "code",
   "execution_count": 52,
   "id": "316c0351",
   "metadata": {},
   "outputs": [
    {
     "name": "stdout",
     "output_type": "stream",
     "text": [
      "Enter the string:this is the random test\n",
      "******************************\n",
      "Note: please enter the nth value between 1 and  5\n",
      "******************************\n",
      "Enter the nth value :3\n",
      "this is random test \n"
     ]
    }
   ],
   "source": [
    "## Get the user input\n",
    "user_input = input(\"Enter the string:\")\n",
    "print(\"*\"*30)\n",
    "print(\"Note: please enter the nth value between 1 and \",len(user_input.split()))\n",
    "print(\"*\"*30)\n",
    "n  = int(input(\"Enter the nth value :\"))\n",
    "\n",
    "## Splitting the string into list of words\n",
    "words = user_input.split()\n",
    "\n",
    "## Popping out the nth word\n",
    "words.pop(n-1)\n",
    "\n",
    "## Joining the remaining words\n",
    "final = \"\"\n",
    "for word in words:\n",
    "    final +=word+\" \"\n",
    "\n",
    "print(final)"
   ]
  },
  {
   "cell_type": "markdown",
   "id": "26ef5788",
   "metadata": {},
   "source": [
    "### 49. Insert a word at the nth position in a string."
   ]
  },
  {
   "cell_type": "code",
   "execution_count": 53,
   "id": "705d6774",
   "metadata": {},
   "outputs": [
    {
     "name": "stdout",
     "output_type": "stream",
     "text": [
      "Enter the string:this is random test\n",
      "******************************\n",
      "Note: please enter the nth value between 1 and  4\n",
      "******************************\n",
      "Enter the nth value :3\n",
      "Enter the word to be entered :the\n",
      "this is the random test \n"
     ]
    }
   ],
   "source": [
    "## Get the user input\n",
    "user_input = input(\"Enter the string:\")\n",
    "print(\"*\"*30)\n",
    "print(\"Note: please enter the nth value between 1 and \",len(user_input.split()))\n",
    "print(\"*\"*30)\n",
    "n  = int(input(\"Enter the nth value :\"))\n",
    "new_word = input(\"Enter the word to be entered :\")\n",
    "\n",
    "## Splitting the string into list of words\n",
    "words = user_input.split()\n",
    "\n",
    "## Popping out the nth word\n",
    "words.insert(n-1,new_word)\n",
    "\n",
    "## Joining the remaining words\n",
    "final = \"\"\n",
    "for word in words:\n",
    "    final +=word+\" \"\n",
    "\n",
    "print(final)"
   ]
  },
  {
   "cell_type": "markdown",
   "id": "2154eb87",
   "metadata": {},
   "source": [
    "### 50. Convert a CSV string to a list of lists."
   ]
  },
  {
   "cell_type": "code",
   "execution_count": 54,
   "id": "c2b6f417",
   "metadata": {},
   "outputs": [
    {
     "name": "stdout",
     "output_type": "stream",
     "text": [
      "['Employee Name', ' Age', ' Salary']\n",
      "['John', '25', '20000']\n",
      "['Dev', '27', '40000']\n"
     ]
    }
   ],
   "source": [
    "#Assuming the data for the CSV String\n",
    "csv_data = \"Employee Name, Age, Salary\\nJohn,25,20000\\nDev,27,40000\"\n",
    "\n",
    "## final list \n",
    "final = []\n",
    "\n",
    "## fetching all the rows in the data\n",
    "lines = csv_data.split(\"\\n\")\n",
    "\n",
    "## for every row fetching the column data\n",
    "for line in lines:\n",
    "    word = line.split(\",\")\n",
    "    final.append(word)\n",
    "\n",
    "for row in final:\n",
    "    print(row)"
   ]
  },
  {
   "cell_type": "markdown",
   "id": "4a6b166f",
   "metadata": {},
   "source": [
    "## List Based Practice Problem"
   ]
  },
  {
   "cell_type": "markdown",
   "id": "ed17f88f",
   "metadata": {},
   "source": [
    "### 1. Create a list with integers from 1 to 10."
   ]
  },
  {
   "cell_type": "code",
   "execution_count": 55,
   "id": "690b9d8a",
   "metadata": {},
   "outputs": [
    {
     "name": "stdout",
     "output_type": "stream",
     "text": [
      "[1, 2, 3, 4, 5, 6, 7, 8, 9, 10]\n"
     ]
    }
   ],
   "source": [
    "## List comphrension in range from 1 to 11.\n",
    "number = [i for i in range(1,11)]\n",
    "\n",
    "print(number)"
   ]
  },
  {
   "cell_type": "markdown",
   "id": "d8ceb04f",
   "metadata": {},
   "source": [
    "### 2. Find the length of a list without using the `len()` function."
   ]
  },
  {
   "cell_type": "code",
   "execution_count": 56,
   "id": "68b8636e",
   "metadata": {},
   "outputs": [
    {
     "name": "stdout",
     "output_type": "stream",
     "text": [
      "6\n"
     ]
    }
   ],
   "source": [
    "## Assuming list input\n",
    "lst = [1,2,3,4,5,6]\n",
    "\n",
    "count =0\n",
    "\n",
    "## Iterate through the list and count the items in list\n",
    "for i in lst:\n",
    "    count+=1\n",
    "print(count)"
   ]
  },
  {
   "cell_type": "markdown",
   "id": "035a51ea",
   "metadata": {},
   "source": [
    "### 3. Append an element to the end of a list."
   ]
  },
  {
   "cell_type": "code",
   "execution_count": 57,
   "id": "00aac30a",
   "metadata": {},
   "outputs": [
    {
     "name": "stdout",
     "output_type": "stream",
     "text": [
      "[1, 2, 3, 4, 5]\n"
     ]
    }
   ],
   "source": [
    "## Assuming list input\n",
    "my_lst = [1,2,3,4]\n",
    "\n",
    "new_number = 5\n",
    "\n",
    "## Using the append method\n",
    "my_lst.append(new_number)\n",
    "\n",
    "print(my_lst)"
   ]
  },
  {
   "cell_type": "markdown",
   "id": "a0e76056",
   "metadata": {},
   "source": [
    "### 4. Insert an element at a specific index in a list."
   ]
  },
  {
   "cell_type": "code",
   "execution_count": 58,
   "id": "01d74cf9",
   "metadata": {},
   "outputs": [
    {
     "data": {
      "text/plain": [
       "[2, 3, 4, 7, 20, 13]"
      ]
     },
     "execution_count": 58,
     "metadata": {},
     "output_type": "execute_result"
    }
   ],
   "source": [
    "## Assuming list input\n",
    "my_lst = [2,3,4,7,13]\n",
    "\n",
    "element = 20\n",
    "\n",
    "index_to_be_inserted_at = 4\n",
    "\n",
    "# Use the insert method by providing index and element value\n",
    "my_lst.insert(index_to_be_inserted_at,element)\n",
    "\n",
    "my_lst"
   ]
  },
  {
   "cell_type": "markdown",
   "id": "38fa2ede",
   "metadata": {},
   "source": [
    "### 5. Remove an element from a list by its value."
   ]
  },
  {
   "cell_type": "code",
   "execution_count": 59,
   "id": "a9c6b60e",
   "metadata": {},
   "outputs": [
    {
     "name": "stdout",
     "output_type": "stream",
     "text": [
      "[2, 3, 4, 13]\n"
     ]
    }
   ],
   "source": [
    "## Assuming list input\n",
    "my_lst = [2,3,4,7,13]\n",
    "\n",
    "element_to_remove = 7\n",
    "\n",
    "# Use list remove method and pass element has input\n",
    "my_lst.remove(element_to_remove)\n",
    "\n",
    "print(my_lst)"
   ]
  },
  {
   "cell_type": "markdown",
   "id": "3a85c186",
   "metadata": {},
   "source": [
    "### 6. Remove an element from a list by its index."
   ]
  },
  {
   "cell_type": "code",
   "execution_count": 60,
   "id": "a65af1f3",
   "metadata": {},
   "outputs": [
    {
     "name": "stdout",
     "output_type": "stream",
     "text": [
      "[2, 3, 7, 13]\n"
     ]
    }
   ],
   "source": [
    "## Assuming list input\n",
    "my_lst = [2,3,4,7,13]\n",
    "\n",
    "index_to_be_removed=2\n",
    "\n",
    "# Use list pop method and pass element has input\n",
    "my_lst.pop(index_to_be_removed)\n",
    "\n",
    "print(my_lst)"
   ]
  },
  {
   "cell_type": "markdown",
   "id": "7f3ffd8d",
   "metadata": {},
   "source": [
    "### 7. Check if an element exists in a list."
   ]
  },
  {
   "cell_type": "code",
   "execution_count": 61,
   "id": "9caabd44",
   "metadata": {},
   "outputs": [
    {
     "name": "stdout",
     "output_type": "stream",
     "text": [
      "Number exist in list.\n"
     ]
    }
   ],
   "source": [
    "## Assuming list input\n",
    "my_lst = [2,3,4,7,13]\n",
    "\n",
    "number_to_check = 7\n",
    "\n",
    "if number_to_check in my_lst:\n",
    "    print(\"Number exist in list.\")\n",
    "\n",
    "else:\n",
    "    print(\"Number does not exist in list.\")"
   ]
  },
  {
   "cell_type": "markdown",
   "id": "c9bea66e",
   "metadata": {},
   "source": [
    "### 8. Find the index of the first occurrence of an element in a list."
   ]
  },
  {
   "cell_type": "code",
   "execution_count": 62,
   "id": "bb97b340",
   "metadata": {},
   "outputs": [
    {
     "name": "stdout",
     "output_type": "stream",
     "text": [
      "The index of first occurrence is : 2\n"
     ]
    }
   ],
   "source": [
    "## Assuming list input\n",
    "my_lst = [3,4,8,7,8,21]\n",
    "\n",
    "number_to_search = 8\n",
    "\n",
    "## Use the index method of list to search for element\n",
    "index_position = my_lst.index(number_to_search)\n",
    "\n",
    "print(\"The index of first occurrence is :\",index_position)"
   ]
  },
  {
   "cell_type": "markdown",
   "id": "421df8f0",
   "metadata": {},
   "source": [
    "### 9. Count the occurrences of an element in a list."
   ]
  },
  {
   "cell_type": "code",
   "execution_count": 63,
   "id": "e344cf84",
   "metadata": {},
   "outputs": [
    {
     "name": "stdout",
     "output_type": "stream",
     "text": [
      "The count is : 3\n"
     ]
    }
   ],
   "source": [
    "## Assuming list input\n",
    "my_lst = [3,4,8,7,8,21,8]\n",
    "\n",
    "number_to_search = 8\n",
    "\n",
    "## Use the count method of list to count for element\n",
    "count = my_lst.count(number_to_search)\n",
    "\n",
    "print(\"The count is :\",count)"
   ]
  },
  {
   "cell_type": "markdown",
   "id": "626754b6",
   "metadata": {},
   "source": [
    "### 10. Reverse the order of elements in a list."
   ]
  },
  {
   "cell_type": "code",
   "execution_count": 64,
   "id": "1948fd1f",
   "metadata": {},
   "outputs": [
    {
     "name": "stdout",
     "output_type": "stream",
     "text": [
      "Reverse list: [21, 8, 7, 8, 4, 3]\n"
     ]
    }
   ],
   "source": [
    "## Assuming list input\n",
    "my_lst = [3,4,8,7,8,21]\n",
    "\n",
    "## Use the reverse method to reverse the list\n",
    "my_lst.reverse()\n",
    "\n",
    "print(\"Reverse list:\",my_lst)"
   ]
  },
  {
   "cell_type": "markdown",
   "id": "696138e7",
   "metadata": {},
   "source": [
    "### 11. Sort a list in ascending order."
   ]
  },
  {
   "cell_type": "code",
   "execution_count": 65,
   "id": "62d34537",
   "metadata": {},
   "outputs": [
    {
     "name": "stdout",
     "output_type": "stream",
     "text": [
      "Ascending order list: [3, 4, 7, 8, 8, 21]\n"
     ]
    }
   ],
   "source": [
    "## Assuming list input\n",
    "my_lst = [3,4,8,7,8,21]\n",
    "\n",
    "## Use the sort method to sort the list\n",
    "my_lst.sort()\n",
    "\n",
    "print(\"Ascending order list:\",my_lst)"
   ]
  },
  {
   "cell_type": "markdown",
   "id": "e4c5c683",
   "metadata": {},
   "source": [
    "### 12. Sort a list in descending order."
   ]
  },
  {
   "cell_type": "code",
   "execution_count": 66,
   "id": "108fa5a4",
   "metadata": {},
   "outputs": [
    {
     "name": "stdout",
     "output_type": "stream",
     "text": [
      "Descending order list: [21, 8, 8, 7, 4, 3]\n"
     ]
    }
   ],
   "source": [
    "## Assuming list input\n",
    "my_lst = [3,4,8,7,8,21]\n",
    "\n",
    "## Use the sort method to sort the list with reverse parameter\n",
    "my_lst.sort(reverse=True)\n",
    "\n",
    "print(\"Descending order list:\",my_lst)"
   ]
  },
  {
   "cell_type": "markdown",
   "id": "6abd1e35",
   "metadata": {},
   "source": [
    "### 13. Create a list of even numbers from 1 to 20."
   ]
  },
  {
   "cell_type": "code",
   "execution_count": 67,
   "id": "d52817a2",
   "metadata": {},
   "outputs": [
    {
     "name": "stdout",
     "output_type": "stream",
     "text": [
      "[2, 4, 6, 8, 10, 12, 14, 16, 18, 20]\n"
     ]
    }
   ],
   "source": [
    "## logic in list comprehension for even number\n",
    "even = [i for i in range(2,21,2)]\n",
    "\n",
    "# Printing the list\n",
    "print(even)"
   ]
  },
  {
   "cell_type": "markdown",
   "id": "b2b8015d",
   "metadata": {},
   "source": [
    "### 14. Create a list of odd numbers from 1 to 20."
   ]
  },
  {
   "cell_type": "code",
   "execution_count": 68,
   "id": "1e8cff88",
   "metadata": {},
   "outputs": [
    {
     "name": "stdout",
     "output_type": "stream",
     "text": [
      "[1, 3, 5, 7, 9, 11, 13, 15, 17, 19]\n"
     ]
    }
   ],
   "source": [
    "## logic in list comprehension for odd number\n",
    "odd = [i for i in range(1,21,2)]\n",
    "\n",
    "# Printing the list\n",
    "print(odd)"
   ]
  },
  {
   "cell_type": "markdown",
   "id": "48a5c44e",
   "metadata": {},
   "source": [
    "### 15. Find the sum of all elements in a list."
   ]
  },
  {
   "cell_type": "code",
   "execution_count": 69,
   "id": "ddb70ee6",
   "metadata": {},
   "outputs": [
    {
     "name": "stdout",
     "output_type": "stream",
     "text": [
      "The sum is : 51\n"
     ]
    }
   ],
   "source": [
    "## Assuming list input\n",
    "my_lst = [3,4,8,7,8,21]\n",
    "\n",
    "## Use the sum method\n",
    "total = sum(my_lst)\n",
    "\n",
    "print(\"The sum is :\",total)"
   ]
  },
  {
   "cell_type": "markdown",
   "id": "7c75e9d0",
   "metadata": {},
   "source": [
    "### 16. Find the maximum value in a list."
   ]
  },
  {
   "cell_type": "code",
   "execution_count": 70,
   "id": "fb9ac2c9",
   "metadata": {},
   "outputs": [
    {
     "name": "stdout",
     "output_type": "stream",
     "text": [
      "The maximum is : 21\n"
     ]
    }
   ],
   "source": [
    "## Assuming list input\n",
    "my_lst = [3,4,8,7,8,21]\n",
    "\n",
    "## Use the max method\n",
    "max_number = max(my_lst)\n",
    "\n",
    "print(\"The maximum is :\",max_number)"
   ]
  },
  {
   "cell_type": "markdown",
   "id": "0c51ce6a",
   "metadata": {},
   "source": [
    "### 17. Find the minimum value in a list."
   ]
  },
  {
   "cell_type": "code",
   "execution_count": 71,
   "id": "4b986997",
   "metadata": {},
   "outputs": [
    {
     "name": "stdout",
     "output_type": "stream",
     "text": [
      "The minimum is : 3\n"
     ]
    }
   ],
   "source": [
    "## Assuming list input\n",
    "my_lst = [3,4,8,7,8,21]\n",
    "\n",
    "## Use the max method\n",
    "min_number = min(my_lst)\n",
    "\n",
    "print(\"The minimum is :\",min_number)"
   ]
  },
  {
   "cell_type": "markdown",
   "id": "a8edeb1d",
   "metadata": {},
   "source": [
    "### 18. Create a list of squares of numbers from 1 to 10."
   ]
  },
  {
   "cell_type": "code",
   "execution_count": 72,
   "id": "96692b3a",
   "metadata": {},
   "outputs": [
    {
     "name": "stdout",
     "output_type": "stream",
     "text": [
      "[1, 4, 9, 16, 25, 36, 49, 64, 81, 100]\n"
     ]
    }
   ],
   "source": [
    "## Logic in list comphrension for list of squares\n",
    "squares = [i**2 for i in range(1,11)]\n",
    "\n",
    "## printing the output\n",
    "print(squares)"
   ]
  },
  {
   "cell_type": "markdown",
   "id": "dd029574",
   "metadata": {},
   "source": [
    "### 19. Create a list of random numbers."
   ]
  },
  {
   "cell_type": "code",
   "execution_count": 73,
   "id": "8758ddf9",
   "metadata": {},
   "outputs": [
    {
     "name": "stdout",
     "output_type": "stream",
     "text": [
      "[29, 64, 21, 98, 73, 52, 68, 13, 91, 50, 70, 54, 52, 51, 83, 32, 64, 49, 31, 4]\n"
     ]
    }
   ],
   "source": [
    "import random\n",
    "\n",
    "## Logic for listing random number \n",
    "random = [random.randint(1,100) for i in range(20)]\n",
    "\n",
    "## Print the output\n",
    "print(random)"
   ]
  },
  {
   "cell_type": "markdown",
   "id": "31f222b9",
   "metadata": {},
   "source": [
    "### 20. Remove duplicates from a list."
   ]
  },
  {
   "cell_type": "code",
   "execution_count": 74,
   "id": "7bf5196f",
   "metadata": {},
   "outputs": [
    {
     "name": "stdout",
     "output_type": "stream",
     "text": [
      "The modified is : [3, 4, 7, 8, 21]\n"
     ]
    }
   ],
   "source": [
    "## Assuming list input\n",
    "my_lst = [3,4,8,7,8,21]\n",
    "\n",
    "## convert list into set and again back to list\n",
    "modified_list = list(set(my_lst))\n",
    "\n",
    "print(\"The modified is :\",modified_list)"
   ]
  },
  {
   "cell_type": "markdown",
   "id": "75e0f975",
   "metadata": {},
   "source": [
    "### 21. Find the common elements between two lists."
   ]
  },
  {
   "cell_type": "code",
   "execution_count": 75,
   "id": "35a92261",
   "metadata": {},
   "outputs": [
    {
     "name": "stdout",
     "output_type": "stream",
     "text": [
      "[5, 7, 11]\n"
     ]
    }
   ],
   "source": [
    "## Assuming list input \n",
    "list1 = [3,4,5,6,7,11,15]\n",
    "list2 = [2,5,7,8,11,12]\n",
    "\n",
    "# list for storing the common elements\n",
    "common_list = []\n",
    "\n",
    "## In for loop iterate every element from list1 and then check if it exists in list2\n",
    "for element in list1:\n",
    "    if element in list2:\n",
    "            common_list.append(element)\n",
    "\n",
    "##Print the common list\n",
    "print(common_list)"
   ]
  },
  {
   "cell_type": "markdown",
   "id": "a044e43c",
   "metadata": {},
   "source": [
    "### 22. Find the difference between two lists."
   ]
  },
  {
   "cell_type": "code",
   "execution_count": 76,
   "id": "c57b87f5",
   "metadata": {},
   "outputs": [
    {
     "name": "stdout",
     "output_type": "stream",
     "text": [
      "[3, 4, 6, 15]\n"
     ]
    }
   ],
   "source": [
    "## Assuming list input \n",
    "list1 = [3,4,5,6,7,11,15]\n",
    "list2 = [2,5,7,8,11,12]\n",
    "\n",
    "## Use the set difference method\n",
    "difference = list(set(list1).difference(list2))\n",
    "\n",
    "#Print the final output\n",
    "print(difference)"
   ]
  },
  {
   "cell_type": "markdown",
   "id": "f25f557d",
   "metadata": {},
   "source": [
    "### 23. Merge two lists."
   ]
  },
  {
   "cell_type": "code",
   "execution_count": 77,
   "id": "a8449f7d",
   "metadata": {},
   "outputs": [
    {
     "name": "stdout",
     "output_type": "stream",
     "text": [
      "[3, 4, 5, 6, 7, 11, 15, 2, 5, 7, 8, 11, 12]\n"
     ]
    }
   ],
   "source": [
    "## Assuming list input \n",
    "list1 = [3,4,5,6,7,11,15]\n",
    "list2 = [2,5,7,8,11,12]\n",
    "\n",
    "## use the + operator for merging\n",
    "merge = list1 + list2\n",
    "\n",
    "#Print the final output\n",
    "print(merge)"
   ]
  },
  {
   "cell_type": "markdown",
   "id": "322f50c7",
   "metadata": {},
   "source": [
    "### 24. Multiply all elements in a list by 2."
   ]
  },
  {
   "cell_type": "code",
   "execution_count": 78,
   "id": "ceb9112b",
   "metadata": {},
   "outputs": [
    {
     "name": "stdout",
     "output_type": "stream",
     "text": [
      "[6, 8, 16, 14, 16, 42]\n"
     ]
    }
   ],
   "source": [
    "## Assuming list input\n",
    "my_lst = [3,4,8,7,8,21]\n",
    "\n",
    "## multiply by 2\n",
    "multiplied = [i*2 for i in my_lst]\n",
    "\n",
    "print(multiplied)"
   ]
  },
  {
   "cell_type": "markdown",
   "id": "97e75079",
   "metadata": {},
   "source": [
    "### 25. Filter out all even numbers from a list."
   ]
  },
  {
   "cell_type": "code",
   "execution_count": 79,
   "id": "1fdb8f6d",
   "metadata": {},
   "outputs": [
    {
     "name": "stdout",
     "output_type": "stream",
     "text": [
      "[4, 8, 8]\n"
     ]
    }
   ],
   "source": [
    "# Assuming list input\n",
    "my_lst = [3,4,8,7,8,21]\n",
    "\n",
    "## List for storing the filter list\n",
    "filter_list = []\n",
    "\n",
    "## filter condifition for the even\n",
    "for element in my_lst:\n",
    "    if element%2 ==0:\n",
    "        filter_list.append(element)\n",
    "        \n",
    "## Print the final output\n",
    "print(filter_list)"
   ]
  },
  {
   "cell_type": "markdown",
   "id": "1129d66e",
   "metadata": {},
   "source": [
    "### 26. Convert a list of strings to a list of integers."
   ]
  },
  {
   "cell_type": "code",
   "execution_count": 80,
   "id": "b2babd1b",
   "metadata": {},
   "outputs": [
    {
     "name": "stdout",
     "output_type": "stream",
     "text": [
      "[3, 4, 8, 7, 8, 21]\n"
     ]
    }
   ],
   "source": [
    "# Assuming list input\n",
    "my_lst = ['3','4','8','7','8','21']\n",
    "\n",
    "#list for storing integer\n",
    "modified_list = []\n",
    "\n",
    "for element in my_lst:\n",
    "    modified_list.append(int(element))\n",
    "    \n",
    "#Print the final output\n",
    "print(modified_list)"
   ]
  },
  {
   "cell_type": "markdown",
   "id": "17f391dd",
   "metadata": {},
   "source": [
    "### 27. Convert a list of integers to a list of strings."
   ]
  },
  {
   "cell_type": "code",
   "execution_count": 81,
   "id": "80201bbb",
   "metadata": {},
   "outputs": [
    {
     "name": "stdout",
     "output_type": "stream",
     "text": [
      "['3', '4', '8', '7', '8', '21']\n"
     ]
    }
   ],
   "source": [
    "## Assuming list input\n",
    "my_lst = [3,4,8,7,8,21]\n",
    "\n",
    "#list for storing integer\n",
    "modified_list = []\n",
    "\n",
    "for element in my_lst:\n",
    "    modified_list.append(str(element))\n",
    "    \n",
    "#Print the final output\n",
    "print(modified_list)"
   ]
  },
  {
   "cell_type": "markdown",
   "id": "b060e0d1",
   "metadata": {},
   "source": [
    "### 28. Flatten a nested list."
   ]
  },
  {
   "cell_type": "code",
   "execution_count": 82,
   "id": "70af1356",
   "metadata": {},
   "outputs": [
    {
     "data": {
      "text/plain": [
       "[2, 3, 5, 7, 5, 8, 9, 11, 13, 4, 12]"
      ]
     },
     "execution_count": 82,
     "metadata": {},
     "output_type": "execute_result"
    }
   ],
   "source": [
    "## Assuming the list input\n",
    "nested_list = [[2,3,5,7],5,8,9,[11,13,4,12]]\n",
    "\n",
    "## checking whether the element is list and then extending the list for flattening and if normal element exist then add it to resulted list\n",
    "def flatten_list(nested_list):\n",
    "    flattened_list = []\n",
    "    for element in nested_list:\n",
    "        if isinstance(element, list):\n",
    "            flattened_list.extend(flatten_list(element))\n",
    "        else:\n",
    "            flattened_list.append(element)\n",
    "    return flattened_list\n",
    "flatten_list(nested_list)"
   ]
  },
  {
   "cell_type": "markdown",
   "id": "36e2f4f7",
   "metadata": {},
   "source": [
    "### 29. Create a list of the first 10 Fibonacci numbers."
   ]
  },
  {
   "cell_type": "code",
   "execution_count": 83,
   "id": "8e4e077c",
   "metadata": {},
   "outputs": [
    {
     "name": "stdout",
     "output_type": "stream",
     "text": [
      "[0, 1, 1, 2, 3, 5, 8, 13, 21, 34]\n"
     ]
    }
   ],
   "source": [
    "def generate_fibonacci(n):\n",
    "    # Initialize the list with the first two Fibonacci numbers\n",
    "    fibonacci_list = [0, 1]  \n",
    "\n",
    "    # Logic for generating fibonacci number\n",
    "    while len(fibonacci_list) < n:\n",
    "        next_fibonacci = fibonacci_list[-1] + fibonacci_list[-2]\n",
    "        fibonacci_list.append(next_fibonacci)\n",
    "\n",
    "    return fibonacci_list[:n]\n",
    "\n",
    "# Generate the first 10 Fibonacci numbers\n",
    "fibonacci_sequence = generate_fibonacci(10)\n",
    "print(fibonacci_sequence)\n"
   ]
  },
  {
   "cell_type": "markdown",
   "id": "0e8df994",
   "metadata": {},
   "source": [
    "### 30. Check if a list is sorted."
   ]
  },
  {
   "cell_type": "code",
   "execution_count": 84,
   "id": "586cd97c",
   "metadata": {},
   "outputs": [
    {
     "name": "stdout",
     "output_type": "stream",
     "text": [
      "List is not sorted.\n"
     ]
    }
   ],
   "source": [
    "## Assumption = Check is for ascending sort \n",
    "\n",
    "## Assumping Example list \n",
    "my_lst = [3,4,9,7,8,21]\n",
    "\n",
    "check = True\n",
    "\n",
    "for index in range(1,len(my_lst)):\n",
    "    if my_lst[index-1]< my_lst[index]:\n",
    "        pass\n",
    "    else:\n",
    "        check = False\n",
    "if check == True:\n",
    "    print(\"List is sorted.\")\n",
    "else:\n",
    "    print(\"List is not sorted.\")"
   ]
  },
  {
   "cell_type": "markdown",
   "id": "823af4eb",
   "metadata": {},
   "source": [
    "### 31. Rotate a list to the left by `n` positions."
   ]
  },
  {
   "cell_type": "code",
   "execution_count": 85,
   "id": "13bf6d5b",
   "metadata": {},
   "outputs": [
    {
     "name": "stdout",
     "output_type": "stream",
     "text": [
      "[3, 4, 5, 1, 2]\n"
     ]
    }
   ],
   "source": [
    "def rotate_left(lst, n):\n",
    "    if len(lst) == 0:\n",
    "        return lst\n",
    "\n",
    "    # Ensure n is within the length of the list\n",
    "    n = n % len(lst)\n",
    "    return lst[n:] + lst[:n]\n",
    "\n",
    "# Example\n",
    "original_list = [1, 2, 3, 4, 5]\n",
    "n_positions = 2\n",
    "rotated_list = rotate_left(original_list, n_positions)\n",
    "print(rotated_list)"
   ]
  },
  {
   "cell_type": "markdown",
   "id": "0b8a45e4",
   "metadata": {},
   "source": [
    "### 32. Rotate a list to the right by `n` positions."
   ]
  },
  {
   "cell_type": "code",
   "execution_count": 86,
   "id": "7c058acb",
   "metadata": {},
   "outputs": [
    {
     "name": "stdout",
     "output_type": "stream",
     "text": [
      "[4, 5, 1, 2, 3]\n"
     ]
    }
   ],
   "source": [
    "def rotate_left(lst, n):\n",
    "    if len(lst) == 0:\n",
    "        return lst\n",
    "\n",
    "    # Ensure n is within the length of the list\n",
    "    n = n % len(lst)\n",
    "    return lst[-n:] + lst[:-n]\n",
    "\n",
    "# Example\n",
    "original_list = [1, 2, 3, 4, 5]\n",
    "n_positions = 2\n",
    "rotated_list = rotate_left(original_list, n_positions)\n",
    "print(rotated_list)"
   ]
  },
  {
   "cell_type": "markdown",
   "id": "4969de18",
   "metadata": {},
   "source": [
    "### 33. Create a list of prime numbers up to 50."
   ]
  },
  {
   "cell_type": "code",
   "execution_count": 87,
   "id": "511bad8a",
   "metadata": {},
   "outputs": [
    {
     "name": "stdout",
     "output_type": "stream",
     "text": [
      "[2, 3, 5, 7, 11, 13, 17, 19, 23, 29, 31, 37, 41, 43, 47]\n"
     ]
    }
   ],
   "source": [
    "## function to check for prime number \n",
    "def is_prime(number):\n",
    "    if number <= 1:\n",
    "        return False\n",
    "    elif number <= 3:\n",
    "        return True\n",
    "    elif number % 2 == 0 or number % 3 == 0:\n",
    "        return False\n",
    "\n",
    "    i = 5\n",
    "    while i * i <= number:\n",
    "        if number % i == 0 or number % (i + 2) == 0:\n",
    "            return False\n",
    "        i += 6\n",
    "\n",
    "    return True\n",
    "\n",
    "## list of prime numbers up to 50\n",
    "prime = [number for number in range(0,50) if is_prime(number)]\n",
    "\n",
    "print(prime)"
   ]
  },
  {
   "cell_type": "markdown",
   "id": "4e991a84",
   "metadata": {},
   "source": [
    "### 34. Split a list into chunks of size `n`."
   ]
  },
  {
   "cell_type": "code",
   "execution_count": 88,
   "id": "e1463f32",
   "metadata": {},
   "outputs": [
    {
     "name": "stdout",
     "output_type": "stream",
     "text": [
      "[[1, 2, 3], [4, 5, 6], [7, 8, 9]]\n"
     ]
    }
   ],
   "source": [
    "## Function to get chunk list where we iterate a list and then using index get the list of chunked size\n",
    "def chunk_list(input_list, chunk_size):\n",
    "    return [input_list[i:i + chunk_size] for i in range(0, len(input_list), chunk_size)]\n",
    "\n",
    "# Example usage:\n",
    "original_list = [1, 2, 3, 4, 5, 6, 7, 8, 9]\n",
    "chunk_size = 3\n",
    "chunks = chunk_list(original_list, chunk_size)\n",
    "print(chunks)"
   ]
  },
  {
   "cell_type": "markdown",
   "id": "4c014410",
   "metadata": {},
   "source": [
    "### 35. Find the second largest number in a list."
   ]
  },
  {
   "cell_type": "code",
   "execution_count": 89,
   "id": "6e66bce9",
   "metadata": {},
   "outputs": [
    {
     "name": "stdout",
     "output_type": "stream",
     "text": [
      "8\n"
     ]
    }
   ],
   "source": [
    "## Assuming list input\n",
    "my_lst = [3,4,8,7,8,21]\n",
    "\n",
    "## Login for sorting\n",
    "modified = sorted(set(my_lst))\n",
    "\n",
    "print(modified[-2])"
   ]
  },
  {
   "cell_type": "markdown",
   "id": "ebc95f4a",
   "metadata": {},
   "source": [
    "### 36. Replace every element in a list with its square."
   ]
  },
  {
   "cell_type": "code",
   "execution_count": 90,
   "id": "1525e784",
   "metadata": {},
   "outputs": [
    {
     "name": "stdout",
     "output_type": "stream",
     "text": [
      "[9, 16, 64, 49, 64, 441]\n"
     ]
    }
   ],
   "source": [
    "## Assuming list input\n",
    "my_lst = [3,4,8,7,8,21]\n",
    "\n",
    "## logic for getting square\n",
    "square = [i**2 for i in my_lst]\n",
    "\n",
    "print(square)"
   ]
  },
  {
   "cell_type": "markdown",
   "id": "d802ec33",
   "metadata": {},
   "source": [
    "### 37. Convert a list to a dictionary where list elements become keys and their indices become values."
   ]
  },
  {
   "cell_type": "code",
   "execution_count": 91,
   "id": "79d4e760",
   "metadata": {},
   "outputs": [
    {
     "name": "stdout",
     "output_type": "stream",
     "text": [
      "{'one': 0, 'two': 1, 'three': 2, 'four': 3, 'five': 4}\n"
     ]
    }
   ],
   "source": [
    "## Assuming list input\n",
    "my_lst = [\"one\",\"two\",\"three\",'four','five']\n",
    "\n",
    "## Converting a list into dictionary\n",
    "list_dict = {element:index for index,element in enumerate(my_lst)}\n",
    "\n",
    "print(list_dict)"
   ]
  },
  {
   "cell_type": "markdown",
   "id": "3c3bc908",
   "metadata": {},
   "source": [
    "\n",
    "### 38. Shuffle the elements of a list randomly."
   ]
  },
  {
   "cell_type": "code",
   "execution_count": 92,
   "id": "a9a890a5",
   "metadata": {},
   "outputs": [
    {
     "name": "stdout",
     "output_type": "stream",
     "text": [
      "[21, 8, 8, 3, 4, 7]\n"
     ]
    }
   ],
   "source": [
    "import random\n",
    "## Assuming list input\n",
    "my_lst = [3,4,8,7,8,21]\n",
    "\n",
    "## Shuffle the list randomly\n",
    "random.shuffle(my_lst)\n",
    "\n",
    "print(my_lst)"
   ]
  },
  {
   "cell_type": "markdown",
   "id": "8b8dd4d2",
   "metadata": {},
   "source": [
    "### 39. Create a list of the first 10 factorial numbers."
   ]
  },
  {
   "cell_type": "code",
   "execution_count": 93,
   "id": "2daa5e01",
   "metadata": {},
   "outputs": [
    {
     "name": "stdout",
     "output_type": "stream",
     "text": [
      "[1, 1, 2, 6, 24, 120, 720, 5040, 40320, 362880]\n"
     ]
    }
   ],
   "source": [
    "import math\n",
    "\n",
    "factorial_list = [math.factorial(n) for n in range(10)]\n",
    "\n",
    "# Print the list of factorial numbers\n",
    "print(factorial_list)"
   ]
  },
  {
   "cell_type": "markdown",
   "id": "9fd6bbb6",
   "metadata": {},
   "source": [
    "### 40. Check if two lists have at least one element in common."
   ]
  },
  {
   "cell_type": "code",
   "execution_count": 94,
   "id": "d6eb1886",
   "metadata": {},
   "outputs": [
    {
     "name": "stdout",
     "output_type": "stream",
     "text": [
      "Given list has atleast one element in common.\n"
     ]
    }
   ],
   "source": [
    "## Assuming list input \n",
    "list1 = [3,4,5,6,7,11,15]\n",
    "list2 = [2,5,7,8,11,12]\n",
    "\n",
    "check = False\n",
    "for element in list1:\n",
    "    if element in list2:\n",
    "        check =True\n",
    "        \n",
    "if check == True:\n",
    "    print(\"Given list has atleast one element in common.\")\n",
    "\n",
    "else:\n",
    "    print(\"Given list has no element in common.\")"
   ]
  },
  {
   "cell_type": "markdown",
   "id": "70a9607e",
   "metadata": {},
   "source": [
    "### 41. Remove all elements from a list."
   ]
  },
  {
   "cell_type": "code",
   "execution_count": 95,
   "id": "544bc0f3",
   "metadata": {},
   "outputs": [
    {
     "name": "stdout",
     "output_type": "stream",
     "text": [
      "[]\n"
     ]
    }
   ],
   "source": [
    "## Assuming list input\n",
    "my_lst = [3,4,8,7,8,21]\n",
    "\n",
    "# Use the clear method\n",
    "my_lst.clear()\n",
    "\n",
    "print(my_lst)"
   ]
  },
  {
   "cell_type": "markdown",
   "id": "1c04e4dd",
   "metadata": {},
   "source": [
    "### 42. Replace negative numbers in a list with 0."
   ]
  },
  {
   "cell_type": "code",
   "execution_count": 96,
   "id": "85b26743",
   "metadata": {},
   "outputs": [
    {
     "name": "stdout",
     "output_type": "stream",
     "text": [
      "[3, 4, 8, 0, 8, 0]\n"
     ]
    }
   ],
   "source": [
    "## Assuming list input\n",
    "my_lst = [3,4,8,-7,8,-21]\n",
    "\n",
    "for i in range(len(my_lst)):\n",
    "    if my_lst[i]<0:\n",
    "        my_lst[i] =0\n",
    "\n",
    "print(my_lst)"
   ]
  },
  {
   "cell_type": "markdown",
   "id": "c0131959",
   "metadata": {},
   "source": [
    "### 43. Convert a string into a list of words."
   ]
  },
  {
   "cell_type": "code",
   "execution_count": 97,
   "id": "c0b7598a",
   "metadata": {},
   "outputs": [
    {
     "name": "stdout",
     "output_type": "stream",
     "text": [
      "['This', 'ithe', 'example', 'of', 'converting', 'a', 'string', 'into', 'list', 'of', 'words.']\n"
     ]
    }
   ],
   "source": [
    "## Assuming string input\n",
    "input_string = \"This ithe example of converting a string into list of words.\"\n",
    "\n",
    "# Use the string split method to break the string into words\n",
    "word_list = input_string.split()\n",
    "\n",
    "print(word_list)"
   ]
  },
  {
   "cell_type": "markdown",
   "id": "c4e6d69f",
   "metadata": {},
   "source": [
    "### 44. Convert a list of words into a string."
   ]
  },
  {
   "cell_type": "code",
   "execution_count": 98,
   "id": "7ba478f6",
   "metadata": {},
   "outputs": [
    {
     "name": "stdout",
     "output_type": "stream",
     "text": [
      "This ithe example of converting a string into list of words. \n"
     ]
    }
   ],
   "source": [
    "## Assuming list input\n",
    "word_list = ['This', 'ithe', 'example', 'of', 'converting', 'a', 'string', 'into', 'list', 'of', 'words.']\n",
    "\n",
    "final = \"\"\n",
    "\n",
    "# Iterate through every word and concatenate into final string\n",
    "for word in word_list:\n",
    "    final +=word+\" \"\n",
    "\n",
    "print(final)"
   ]
  },
  {
   "cell_type": "markdown",
   "id": "75e73705",
   "metadata": {},
   "source": [
    "### 45. Create a list of the first `n` powers of 2."
   ]
  },
  {
   "cell_type": "code",
   "execution_count": 99,
   "id": "7313da13",
   "metadata": {},
   "outputs": [
    {
     "name": "stdout",
     "output_type": "stream",
     "text": [
      "[1, 2, 4, 8, 16, 32]\n"
     ]
    }
   ],
   "source": [
    "## Assuming the value of n \n",
    "n =6\n",
    "\n",
    "## logic for power list\n",
    "power_list = [2 ** i for i in range(n)]\n",
    "\n",
    "#print the final output\n",
    "print(power_list)"
   ]
  },
  {
   "cell_type": "markdown",
   "id": "0cacc4e6",
   "metadata": {},
   "source": [
    "### 46. Find the longest string in a list of strings."
   ]
  },
  {
   "cell_type": "code",
   "execution_count": 100,
   "id": "c2029c02",
   "metadata": {},
   "outputs": [
    {
     "name": "stdout",
     "output_type": "stream",
     "text": [
      "three\n"
     ]
    }
   ],
   "source": [
    "## Assuming string output\n",
    "input_string = ['one','two','three','four','five','six']\n",
    "\n",
    "# Assigning initial value to longest string\n",
    "longest = input_string[0]\n",
    "\n",
    "for word in input_string:\n",
    "    if len(word) > len(longest):\n",
    "        longest = word\n",
    "        \n",
    "print(longest)"
   ]
  },
  {
   "cell_type": "markdown",
   "id": "448f4cb9",
   "metadata": {},
   "source": [
    "### 47. Find the shortest string in a list of strings."
   ]
  },
  {
   "cell_type": "code",
   "execution_count": 101,
   "id": "5b9c5893",
   "metadata": {},
   "outputs": [
    {
     "name": "stdout",
     "output_type": "stream",
     "text": [
      "one\n"
     ]
    }
   ],
   "source": [
    "## Assuming string output\n",
    "input_string = ['one','two','three','four','five']\n",
    "\n",
    "# Assigning initial value to shortest string\n",
    "shortest = input_string[0]\n",
    "\n",
    "for word in input_string:\n",
    "    if len(word) < len(shortest):\n",
    "        shortest = word\n",
    "        \n",
    "print(shortest)"
   ]
  },
  {
   "cell_type": "markdown",
   "id": "4db96423",
   "metadata": {},
   "source": [
    "### 48. Create a list of the first `n` triangular numbers."
   ]
  },
  {
   "cell_type": "code",
   "execution_count": 102,
   "id": "52b201b4",
   "metadata": {},
   "outputs": [
    {
     "name": "stdout",
     "output_type": "stream",
     "text": [
      "[1, 3, 6, 10, 15, 21, 28]\n"
     ]
    }
   ],
   "source": [
    "# Function to calculate triangular numbers\n",
    "def triangular_numbers(n):\n",
    "    return [i * (i + 1) // 2 for i in range(1, n + 1)]\n",
    "\n",
    "## Calling the function with n value\n",
    "print(triangular_numbers(7))"
   ]
  },
  {
   "cell_type": "markdown",
   "id": "e483f9e7",
   "metadata": {},
   "source": [
    "### 49. Check if a list contains another list as a subsequence."
   ]
  },
  {
   "cell_type": "code",
   "execution_count": 103,
   "id": "2080d36f",
   "metadata": {},
   "outputs": [
    {
     "name": "stdout",
     "output_type": "stream",
     "text": [
      "List contains the subsequence.\n"
     ]
    }
   ],
   "source": [
    "## Assuming user input\n",
    "my_lst = [3,4,8,7,11,5,16,21]\n",
    "subseq = [8,7,5]\n",
    "\n",
    "sub_index = 0\n",
    "check = False\n",
    "for element in my_lst:\n",
    "    if element in subseq:\n",
    "        sub_index +=1\n",
    "    if sub_index == len(subseq):\n",
    "        check = True\n",
    "\n",
    "if check:\n",
    "    print(\"List contains the subsequence.\")\n",
    "\n",
    "else:\n",
    "    print(\"List doesn't contain the subsequence.\")"
   ]
  },
  {
   "cell_type": "markdown",
   "id": "658c90a8",
   "metadata": {},
   "source": [
    "### 50. Swap two elements in a list by their indices"
   ]
  },
  {
   "cell_type": "code",
   "execution_count": 104,
   "id": "dbcb24aa",
   "metadata": {},
   "outputs": [
    {
     "name": "stdout",
     "output_type": "stream",
     "text": [
      "[3, 21, 8, 7, 8, 4]\n"
     ]
    }
   ],
   "source": [
    "## Assuming list input\n",
    "my_lst = [3,4,8,7,8,21]\n",
    "\n",
    "indices1 = 1\n",
    "indices2 = 5\n",
    "\n",
    "# Code to swap the list values\n",
    "temp = my_lst[indices1]\n",
    "my_lst[indices1] = my_lst[indices2]\n",
    "my_lst[indices2] = temp\n",
    "\n",
    "## Print the final list\n",
    "print(my_lst)"
   ]
  },
  {
   "cell_type": "markdown",
   "id": "b78e64ce",
   "metadata": {},
   "source": [
    "## Tuple Based Pratice Problem"
   ]
  },
  {
   "cell_type": "markdown",
   "id": "c3011596",
   "metadata": {},
   "source": [
    "### 1. Create a tuple with integers from 1 to 5."
   ]
  },
  {
   "cell_type": "code",
   "execution_count": 105,
   "id": "28127ce4",
   "metadata": {},
   "outputs": [
    {
     "name": "stdout",
     "output_type": "stream",
     "text": [
      "(1, 2, 3, 4, 5)\n"
     ]
    }
   ],
   "source": [
    "#Defining the tuple\n",
    "tup = (1,2,3,4,5)\n",
    "\n",
    "print(tup)"
   ]
  },
  {
   "cell_type": "markdown",
   "id": "d5792fd1",
   "metadata": {},
   "source": [
    "### 2. Access the third element of a tuple."
   ]
  },
  {
   "cell_type": "code",
   "execution_count": 106,
   "id": "d70b2633",
   "metadata": {},
   "outputs": [
    {
     "data": {
      "text/plain": [
       "3"
      ]
     },
     "execution_count": 106,
     "metadata": {},
     "output_type": "execute_result"
    }
   ],
   "source": [
    "## Using the above tuple we will access third element i.e. 2nd index\n",
    "tup[2]"
   ]
  },
  {
   "cell_type": "markdown",
   "id": "21dd9bab",
   "metadata": {},
   "source": [
    "### 3. Find the length of a tuple without using the `len()` function."
   ]
  },
  {
   "cell_type": "code",
   "execution_count": 107,
   "id": "78c65e96",
   "metadata": {},
   "outputs": [
    {
     "name": "stdout",
     "output_type": "stream",
     "text": [
      "The length of tuple is :  5\n"
     ]
    }
   ],
   "source": [
    "#Defining the tuple\n",
    "tup = (1,2,3,4,5)\n",
    "\n",
    "#define the count variable for counting\n",
    "count = 0 \n",
    "\n",
    "# logic to count the element\n",
    "for element in tup:\n",
    "    count +=1\n",
    "\n",
    "print(\"The length of tuple is : \",count)\n"
   ]
  },
  {
   "cell_type": "markdown",
   "id": "a4d33bfd",
   "metadata": {},
   "source": [
    "### 4. Count the occurrences of an element in a tuple."
   ]
  },
  {
   "cell_type": "code",
   "execution_count": 108,
   "id": "4e038a83",
   "metadata": {},
   "outputs": [
    {
     "name": "stdout",
     "output_type": "stream",
     "text": [
      "The occurrence of an element is : 2\n"
     ]
    }
   ],
   "source": [
    "#Defining the tuple\n",
    "tup = (1,2,3,4,3)\n",
    "\n",
    "#element to count\n",
    "element = 3\n",
    "\n",
    "# variable to store the count\n",
    "count = 0\n",
    "\n",
    "for word in tup:\n",
    "    if element == word:\n",
    "        count+=1\n",
    "\n",
    "print(\"The occurrence of an element is :\",count)"
   ]
  },
  {
   "cell_type": "markdown",
   "id": "5744646e",
   "metadata": {},
   "source": [
    "### 5. Find the index of the first occurrence of an element in a tuple."
   ]
  },
  {
   "cell_type": "code",
   "execution_count": 109,
   "id": "5113ee6a",
   "metadata": {},
   "outputs": [
    {
     "name": "stdout",
     "output_type": "stream",
     "text": [
      "2\n"
     ]
    }
   ],
   "source": [
    "#Defining the tuple\n",
    "tup = (1,2,3,4,3)\n",
    "\n",
    "# Element to search in tuple\n",
    "element = 3 \n",
    "\n",
    "## use the index method of tuple to find the first occurrence\n",
    "print(tup.index(element))"
   ]
  },
  {
   "cell_type": "markdown",
   "id": "75dd2d55",
   "metadata": {},
   "source": [
    "### 6. Check if an element exists in a tuple."
   ]
  },
  {
   "cell_type": "code",
   "execution_count": 110,
   "id": "867b55c9",
   "metadata": {},
   "outputs": [
    {
     "name": "stdout",
     "output_type": "stream",
     "text": [
      "Element exists in tuple.\n"
     ]
    }
   ],
   "source": [
    "#Defining the tuple\n",
    "tup = (1,2,3,4,3)\n",
    "\n",
    "# Element to check\n",
    "element = 2\n",
    "\n",
    "if element in tup:\n",
    "    print(\"Element exists in tuple.\")\n",
    "\n",
    "else:\n",
    "    print(\"Element doesn't exists in tuple.\")"
   ]
  },
  {
   "cell_type": "markdown",
   "id": "e6e3706f",
   "metadata": {},
   "source": [
    "\n",
    "### 7. Convert a tuple to a list."
   ]
  },
  {
   "cell_type": "code",
   "execution_count": 111,
   "id": "50e05d3e",
   "metadata": {},
   "outputs": [
    {
     "name": "stdout",
     "output_type": "stream",
     "text": [
      "[1, 2, 3, 4, 3]\n"
     ]
    }
   ],
   "source": [
    "#Defining the tuple\n",
    "tup = (1,2,3,4,3)\n",
    "\n",
    "## Use the list to convert the tuple\n",
    "my_list = list(tup)\n",
    "\n",
    "print(my_list)"
   ]
  },
  {
   "cell_type": "markdown",
   "id": "156614ba",
   "metadata": {},
   "source": [
    "### 8. Convert a list to a tuple."
   ]
  },
  {
   "cell_type": "code",
   "execution_count": 112,
   "id": "c3e99ef6",
   "metadata": {},
   "outputs": [
    {
     "name": "stdout",
     "output_type": "stream",
     "text": [
      "(1, 2, 3, 4, 3)\n"
     ]
    }
   ],
   "source": [
    "## Assuming the list input \n",
    "my_list = [1, 2, 3, 4, 3]\n",
    "\n",
    "## Use the tuple to convert the tuple\n",
    "tup = tuple(my_list)\n",
    "\n",
    "print(tup)"
   ]
  },
  {
   "cell_type": "markdown",
   "id": "00d30129",
   "metadata": {},
   "source": [
    "### 9. Unpack the elements of a tuple into variables."
   ]
  },
  {
   "cell_type": "code",
   "execution_count": 113,
   "id": "fe9dd96a",
   "metadata": {},
   "outputs": [
    {
     "name": "stdout",
     "output_type": "stream",
     "text": [
      "1\n",
      "2\n",
      "3\n",
      "4\n",
      "3\n"
     ]
    }
   ],
   "source": [
    "#Defining the tuple\n",
    "tup = (1,2,3,4,3)\n",
    "\n",
    "tup1,tup2,tup3,tup4,tup5 = tup\n",
    "\n",
    "print(tup1)\n",
    "print(tup2)\n",
    "print(tup3)\n",
    "print(tup4)\n",
    "print(tup5)"
   ]
  },
  {
   "cell_type": "markdown",
   "id": "e90d9350",
   "metadata": {},
   "source": [
    "### 10. Create a tuple of even numbers from 1 to 10."
   ]
  },
  {
   "cell_type": "code",
   "execution_count": 114,
   "id": "3e55f252",
   "metadata": {},
   "outputs": [
    {
     "name": "stdout",
     "output_type": "stream",
     "text": [
      "(2, 4, 6, 8, 10)\n"
     ]
    }
   ],
   "source": [
    "#Creating a even \n",
    "even_list = [i for i in range(2,11,2)]\n",
    "\n",
    "## Create the tuple of even list\n",
    "even_tup = tuple(even_list)\n",
    "\n",
    "print(even_tup)"
   ]
  },
  {
   "cell_type": "markdown",
   "id": "0e52bb86",
   "metadata": {},
   "source": [
    "### 11. Create a tuple of odd numbers from 1 to 10."
   ]
  },
  {
   "cell_type": "code",
   "execution_count": 115,
   "id": "752f8a80",
   "metadata": {},
   "outputs": [
    {
     "name": "stdout",
     "output_type": "stream",
     "text": [
      "(1, 3, 5, 7, 9)\n"
     ]
    }
   ],
   "source": [
    "#Creating a even \n",
    "odd_list = [i for i in range(1,10,2)]\n",
    "\n",
    "# Create a tuple of odd list\n",
    "odd_tup = tuple(odd_list)\n",
    "\n",
    "print(odd_tup)"
   ]
  },
  {
   "cell_type": "markdown",
   "id": "08acdce3",
   "metadata": {},
   "source": [
    "### 12. Concatenate two tuples."
   ]
  },
  {
   "cell_type": "code",
   "execution_count": 116,
   "id": "5b5751f5",
   "metadata": {},
   "outputs": [
    {
     "name": "stdout",
     "output_type": "stream",
     "text": [
      "(1, 2, 3, 4, 3, 4, 3, 2, 1, 6)\n"
     ]
    }
   ],
   "source": [
    "#Defining the tuple\n",
    "tup1 = (1,2,3,4,3)\n",
    "tup2 = (4,3,2,1,6)\n",
    "\n",
    "## concatenate the tuple\n",
    "final_tup = tup1 + tup2\n",
    "\n",
    "print(final_tup)"
   ]
  },
  {
   "cell_type": "markdown",
   "id": "080fca75",
   "metadata": {},
   "source": [
    "### 13. Repeat a tuple three times."
   ]
  },
  {
   "cell_type": "code",
   "execution_count": 117,
   "id": "4027aa65",
   "metadata": {},
   "outputs": [
    {
     "name": "stdout",
     "output_type": "stream",
     "text": [
      "(1, 2, 3, 4, 3, 1, 2, 3, 4, 3, 1, 2, 3, 4, 3)\n"
     ]
    }
   ],
   "source": [
    "#Defining the tuple\n",
    "tup = (1,2,3,4,3)\n",
    "\n",
    "## Repeat the tuple 3 times means multiply the tuple by 3\n",
    "print(tup*3)"
   ]
  },
  {
   "cell_type": "markdown",
   "id": "1394bd4b",
   "metadata": {},
   "source": [
    "### 14. Check if a tuple is empty."
   ]
  },
  {
   "cell_type": "code",
   "execution_count": 118,
   "id": "fd271d2e",
   "metadata": {},
   "outputs": [
    {
     "name": "stdout",
     "output_type": "stream",
     "text": [
      "Tuple is Empty.\n"
     ]
    }
   ],
   "source": [
    "tup = ()\n",
    "\n",
    "if not tup:\n",
    "    print(\"Tuple is Empty.\")\n",
    "else:\n",
    "    print(\"Tuple is not empty.\")"
   ]
  },
  {
   "cell_type": "markdown",
   "id": "573e249d",
   "metadata": {},
   "source": [
    "### 15. Create a nested tuple."
   ]
  },
  {
   "cell_type": "code",
   "execution_count": 119,
   "id": "f1a52729",
   "metadata": {},
   "outputs": [
    {
     "name": "stdout",
     "output_type": "stream",
     "text": [
      "((1, 2, 3), ('a', 'b', 'c'), (True, False))\n"
     ]
    }
   ],
   "source": [
    "nested = ((1,2,3),('a','b','c'),(True,False))\n",
    "\n",
    "print(nested)"
   ]
  },
  {
   "cell_type": "markdown",
   "id": "f3a53a73",
   "metadata": {},
   "source": [
    "### 16. Access the first element of a nested tuple."
   ]
  },
  {
   "cell_type": "code",
   "execution_count": 120,
   "id": "5e02fc45",
   "metadata": {},
   "outputs": [
    {
     "name": "stdout",
     "output_type": "stream",
     "text": [
      "(1, 2, 3)\n"
     ]
    }
   ],
   "source": [
    "## Using the above nested tuple\n",
    "\n",
    "print(nested[0])"
   ]
  },
  {
   "cell_type": "markdown",
   "id": "3177964a",
   "metadata": {},
   "source": [
    "### 17. Create a tuple with a single element."
   ]
  },
  {
   "cell_type": "code",
   "execution_count": 121,
   "id": "39952bf7",
   "metadata": {},
   "outputs": [
    {
     "name": "stdout",
     "output_type": "stream",
     "text": [
      "(1,)\n"
     ]
    }
   ],
   "source": [
    "tup = (1,)\n",
    "\n",
    "print(tup)"
   ]
  },
  {
   "cell_type": "markdown",
   "id": "8eef0c0e",
   "metadata": {},
   "source": [
    "### 18. Compare two tuples."
   ]
  },
  {
   "cell_type": "code",
   "execution_count": 122,
   "id": "7f6ecaf0",
   "metadata": {},
   "outputs": [
    {
     "name": "stdout",
     "output_type": "stream",
     "text": [
      "tup1 == tup2 :  False\n",
      "tup1 != tup2 :  True\n",
      "tup1 <= tup2 :  True\n",
      "tup1 < tup2 :  True\n",
      "tup1 >= tup2 :  False\n",
      "tup1 > tup2 :  False\n"
     ]
    }
   ],
   "source": [
    "# declare two tuples\n",
    "\n",
    "tup1 = (1,2,3)\n",
    "tup2 = (1,4,6)\n",
    "\n",
    "## check for all the comparison operator\n",
    "print(\"tup1 == tup2 : \",tup1 == tup2)\n",
    "print(\"tup1 != tup2 : \",tup1 != tup2)\n",
    "print(\"tup1 <= tup2 : \",tup1 <= tup2)\n",
    "print(\"tup1 < tup2 : \",tup1 <= tup2)\n",
    "print(\"tup1 >= tup2 : \",tup1 >= tup2)\n",
    "print(\"tup1 > tup2 : \",tup1 > tup2)"
   ]
  },
  {
   "cell_type": "markdown",
   "id": "1f069228",
   "metadata": {},
   "source": [
    "### 19. Delete a tuple."
   ]
  },
  {
   "cell_type": "code",
   "execution_count": 123,
   "id": "4dd3ddc7",
   "metadata": {},
   "outputs": [],
   "source": [
    "# Declare the tuple\n",
    "tup = (1,2,3)\n",
    "\n",
    "del tup"
   ]
  },
  {
   "cell_type": "markdown",
   "id": "81f48144",
   "metadata": {},
   "source": [
    "### 20. Slice a tuple."
   ]
  },
  {
   "cell_type": "code",
   "execution_count": 124,
   "id": "753a46fc",
   "metadata": {},
   "outputs": [
    {
     "name": "stdout",
     "output_type": "stream",
     "text": [
      "(3, 4)\n"
     ]
    }
   ],
   "source": [
    "#Defining the tuple\n",
    "tup = (1,2,3,4,3)\n",
    "\n",
    "print(tup[2:4])"
   ]
  },
  {
   "cell_type": "markdown",
   "id": "40ed49d8",
   "metadata": {},
   "source": [
    "### 21. Find the maximum value in a tuple."
   ]
  },
  {
   "cell_type": "code",
   "execution_count": 125,
   "id": "be86e4e0",
   "metadata": {},
   "outputs": [
    {
     "name": "stdout",
     "output_type": "stream",
     "text": [
      "Maximum value in the tuple : 4\n"
     ]
    }
   ],
   "source": [
    "#Defining the tuple\n",
    "tup = (1,2,3,4,3)\n",
    "\n",
    "print(\"Maximum value in the tuple :\",max(tup))"
   ]
  },
  {
   "cell_type": "markdown",
   "id": "36bda168",
   "metadata": {},
   "source": [
    "### 22. Find the minimum value in a tuple."
   ]
  },
  {
   "cell_type": "code",
   "execution_count": 126,
   "id": "b7f03bf6",
   "metadata": {},
   "outputs": [
    {
     "name": "stdout",
     "output_type": "stream",
     "text": [
      "Minimum value in the tuple : 1\n"
     ]
    }
   ],
   "source": [
    "#Defining the tuple\n",
    "tup = (1,2,3,4,3)\n",
    "\n",
    "print(\"Minimum value in the tuple :\",min(tup))"
   ]
  },
  {
   "cell_type": "markdown",
   "id": "eeb09807",
   "metadata": {},
   "source": [
    "### 23. Convert a string to a tuple of characters."
   ]
  },
  {
   "cell_type": "code",
   "execution_count": 127,
   "id": "a2a0a7ff",
   "metadata": {},
   "outputs": [
    {
     "name": "stdout",
     "output_type": "stream",
     "text": [
      "('D', 'a', 't', 'a', ' ', 'S', 'c', 'i', 'e', 'n', 'c', 'e')\n"
     ]
    }
   ],
   "source": [
    "# declare a sting \n",
    "string = 'Data Science'\n",
    "\n",
    "print(tuple(string))"
   ]
  },
  {
   "cell_type": "markdown",
   "id": "ba37c384",
   "metadata": {},
   "source": [
    "### 24. Convert a tuple of characters to a string."
   ]
  },
  {
   "cell_type": "code",
   "execution_count": 128,
   "id": "470ba862",
   "metadata": {},
   "outputs": [
    {
     "name": "stdout",
     "output_type": "stream",
     "text": [
      "Data Science\n"
     ]
    }
   ],
   "source": [
    "# Define a tuple\n",
    "tup = ('D', 'a', 't', 'a', ' ', 'S', 'c', 'i', 'e', 'n', 'c', 'e')\n",
    "\n",
    "final = \"\"\n",
    "\n",
    "# logic to join the tuple \n",
    "for char in tup:\n",
    "    final +=char\n",
    "    \n",
    "print(final)"
   ]
  },
  {
   "cell_type": "markdown",
   "id": "11529b6c",
   "metadata": {},
   "source": [
    "### 25. Create a tuple from multiple data types."
   ]
  },
  {
   "cell_type": "code",
   "execution_count": 129,
   "id": "e081ecd7",
   "metadata": {},
   "outputs": [
    {
     "name": "stdout",
     "output_type": "stream",
     "text": [
      "('a', 1, True, 3.87)\n"
     ]
    }
   ],
   "source": [
    "tup = ('a',1,True,3.87)\n",
    "\n",
    "print(tup)"
   ]
  },
  {
   "cell_type": "markdown",
   "id": "8d5f52b5",
   "metadata": {},
   "source": [
    "### 26. Check if two tuples are identical."
   ]
  },
  {
   "cell_type": "code",
   "execution_count": 130,
   "id": "a790103f",
   "metadata": {},
   "outputs": [
    {
     "name": "stdout",
     "output_type": "stream",
     "text": [
      "The two tuples are identical : True\n"
     ]
    }
   ],
   "source": [
    "## Declare the tuple\n",
    "tup1 = (1,2,3)\n",
    "tup2 = (1,2,3)\n",
    "\n",
    "print(\"The two tuples are identical :\",tup1==tup2)"
   ]
  },
  {
   "cell_type": "markdown",
   "id": "0510bd0e",
   "metadata": {},
   "source": [
    "### 27. Sort the elements of a tuple."
   ]
  },
  {
   "cell_type": "code",
   "execution_count": 131,
   "id": "03c01970",
   "metadata": {},
   "outputs": [
    {
     "name": "stdout",
     "output_type": "stream",
     "text": [
      "(2, 5, 14, 19, 23, 45, 67)\n"
     ]
    }
   ],
   "source": [
    "## Declare the tuple\n",
    "tup = (45,23,2,14,5,67,19)\n",
    "\n",
    "# Sort the tuple using sorted and convert the resulted list again into tuple\n",
    "print(tuple(sorted(tup)))"
   ]
  },
  {
   "cell_type": "markdown",
   "id": "4b1969b8",
   "metadata": {},
   "source": [
    "### 28. Convert a tuple of integers to a tuple of strings."
   ]
  },
  {
   "cell_type": "code",
   "execution_count": 132,
   "id": "4d55a863",
   "metadata": {},
   "outputs": [
    {
     "name": "stdout",
     "output_type": "stream",
     "text": [
      "('1', '2', '3')\n"
     ]
    }
   ],
   "source": [
    "## Declare the tuple\n",
    "tup = (1,2,3)\n",
    "\n",
    "# loop over tuple element and covert it into string. Finally convert the result again into tuple.\n",
    "string = tuple(str(item) for item in tup)\n",
    "\n",
    "print(string)"
   ]
  },
  {
   "cell_type": "markdown",
   "id": "0fc67f82",
   "metadata": {},
   "source": [
    "### 29. Convert a tuple of strings to a tuple of integers."
   ]
  },
  {
   "cell_type": "code",
   "execution_count": 133,
   "id": "f31269f7",
   "metadata": {},
   "outputs": [
    {
     "name": "stdout",
     "output_type": "stream",
     "text": [
      "(1, 2, 3)\n"
     ]
    }
   ],
   "source": [
    "## Declare the tuple\n",
    "tup = ('1', '2', '3')\n",
    "\n",
    "# loop over tuple element and covert it into integer. Finally convert the result again into tuple.\n",
    "integer = tuple(int(item) for item in tup)\n",
    "\n",
    "print(integer)"
   ]
  },
  {
   "cell_type": "markdown",
   "id": "76d1c2fc",
   "metadata": {},
   "source": [
    "### 30. Merge two tuples."
   ]
  },
  {
   "cell_type": "code",
   "execution_count": 134,
   "id": "438451ac",
   "metadata": {},
   "outputs": [
    {
     "name": "stdout",
     "output_type": "stream",
     "text": [
      "(3, 4, 5, 6, 7, 8)\n"
     ]
    }
   ],
   "source": [
    "## declare the tuple\n",
    "tup1 = (3,4,5)\n",
    "tup2 = (6,7,8)\n",
    "\n",
    "## Merge the tuple using the + operator\n",
    "final = tup1 + tup2\n",
    "\n",
    "print(final)"
   ]
  },
  {
   "cell_type": "markdown",
   "id": "f7cd33d3",
   "metadata": {},
   "source": [
    "### 31. Flatten a nested tuple."
   ]
  },
  {
   "cell_type": "code",
   "execution_count": 135,
   "id": "738e63d9",
   "metadata": {},
   "outputs": [
    {
     "data": {
      "text/plain": [
       "[2, 3, 5, 7, 5, 8, 9, 11, 13, 4, 12]"
      ]
     },
     "execution_count": 135,
     "metadata": {},
     "output_type": "execute_result"
    }
   ],
   "source": [
    "## Assuming the nested tuple\n",
    "nested_tup = ((2,3,5,7),5,8,9,(11,13,4,12))\n",
    "\n",
    "## checking whether the element is list and then extending the list for flattening and if normal element exist then add it to resulted list\n",
    "def flatten_tup(nested_tup):\n",
    "    flattened_tup = []\n",
    "    for element in nested_tup:\n",
    "        if isinstance(element, tuple):\n",
    "            flattened_tup.extend(flatten_tup(element))\n",
    "        else:\n",
    "            flattened_tup.append(element)\n",
    "    return flattened_tup\n",
    "flatten_tup(nested_tup)"
   ]
  },
  {
   "cell_type": "markdown",
   "id": "1e82ee8b",
   "metadata": {},
   "source": [
    "### 32. Create a tuple of the first 5 prime numbers."
   ]
  },
  {
   "cell_type": "code",
   "execution_count": 136,
   "id": "aeb46ffa",
   "metadata": {},
   "outputs": [
    {
     "name": "stdout",
     "output_type": "stream",
     "text": [
      "(2, 3, 5, 7, 11)\n"
     ]
    }
   ],
   "source": [
    "## Function to check for prime\n",
    "def is_prime(num):\n",
    "    if num <= 1:\n",
    "        return False\n",
    "    for i in range(2, int(num ** 0.5) + 1):\n",
    "        if num % i == 0:\n",
    "            return False\n",
    "    return True\n",
    "\n",
    "## Create tuple by looping on numbers and check if number is prime\n",
    "tup = tuple(i for i in range(1,20) if is_prime(i))\n",
    "\n",
    "print(tup[:5])"
   ]
  },
  {
   "cell_type": "markdown",
   "id": "cf1ec266",
   "metadata": {},
   "source": [
    "### 33. Check if a tuple is a palindrome."
   ]
  },
  {
   "cell_type": "code",
   "execution_count": 137,
   "id": "64c35cf3",
   "metadata": {},
   "outputs": [
    {
     "name": "stdout",
     "output_type": "stream",
     "text": [
      "Tuple is palindrome :  True\n"
     ]
    }
   ],
   "source": [
    "## Declare the tuple\n",
    "tup1 = (1,2,3,4)\n",
    "tup2 = (4,3,2,1)\n",
    "\n",
    "result = tup2[::-1]\n",
    "\n",
    "print(\"Tuple is palindrome : \",tup1 == result)"
   ]
  },
  {
   "cell_type": "markdown",
   "id": "bc91940e",
   "metadata": {},
   "source": [
    "### 34. Create a tuple of squares of numbers from 1 to 5."
   ]
  },
  {
   "cell_type": "code",
   "execution_count": 138,
   "id": "49415d6c",
   "metadata": {},
   "outputs": [
    {
     "name": "stdout",
     "output_type": "stream",
     "text": [
      "(1, 4, 9, 16, 25)\n"
     ]
    }
   ],
   "source": [
    "## Declare the tuple \n",
    "tup = (1,2,3,4,5)\n",
    "\n",
    "# logic to calculate the square tuple\n",
    "square = tuple(i**2 for i in tup)\n",
    "\n",
    "print(square)"
   ]
  },
  {
   "cell_type": "markdown",
   "id": "d2d48df5",
   "metadata": {},
   "source": [
    "### 35. Filter out all even numbers from a tuple."
   ]
  },
  {
   "cell_type": "code",
   "execution_count": 139,
   "id": "b8849a69",
   "metadata": {},
   "outputs": [
    {
     "name": "stdout",
     "output_type": "stream",
     "text": [
      "(2, 4)\n"
     ]
    }
   ],
   "source": [
    "## Declare the tuple \n",
    "tup = (1,2,3,4,5)\n",
    "\n",
    "## Logic to filter the tuple\n",
    "filter = tuple( i for i in tup if i%2==0)\n",
    "\n",
    "print(filter)"
   ]
  },
  {
   "cell_type": "markdown",
   "id": "741d102d",
   "metadata": {},
   "source": [
    "### 36. Multiply all elements in a tuple by 2."
   ]
  },
  {
   "cell_type": "code",
   "execution_count": 140,
   "id": "7c856429",
   "metadata": {},
   "outputs": [
    {
     "name": "stdout",
     "output_type": "stream",
     "text": [
      "(2, 4, 6, 8, 10)\n"
     ]
    }
   ],
   "source": [
    "## Declare the tuple \n",
    "tup = (1,2,3,4,5)\n",
    "\n",
    "## logic to multiply by 2\n",
    "multiply = tuple(i*2 for i in tup)\n",
    "\n",
    "print(multiply)"
   ]
  },
  {
   "cell_type": "markdown",
   "id": "1262ff0e",
   "metadata": {},
   "source": [
    "### 37. Create a tuple of random numbers."
   ]
  },
  {
   "cell_type": "code",
   "execution_count": 141,
   "id": "521908d9",
   "metadata": {},
   "outputs": [
    {
     "name": "stdout",
     "output_type": "stream",
     "text": [
      "(5, 99, 51, 20, 15, 78, 35, 1, 4, 2)\n"
     ]
    }
   ],
   "source": [
    "import random \n",
    "\n",
    "# Create a random tuple\n",
    "tup = tuple(random.randint(1,100) for i in range(10))\n",
    "\n",
    "print(tup)"
   ]
  },
  {
   "cell_type": "markdown",
   "id": "5b80cbc0",
   "metadata": {},
   "source": [
    "### 38. Check if a tuple is sorted."
   ]
  },
  {
   "cell_type": "code",
   "execution_count": 142,
   "id": "501d0e91",
   "metadata": {},
   "outputs": [
    {
     "name": "stdout",
     "output_type": "stream",
     "text": [
      "Not Sorted\n"
     ]
    }
   ],
   "source": [
    "## Assumption we are checking for ascending order\n",
    "\n",
    "## Declare the tuple\n",
    "tup = (95, 75, 49, 38, 66, 5, 46, 70, 40, 28)\n",
    "\n",
    "check = True\n",
    "for i in range(1, len(tup)):\n",
    "    if tup[i-1] > tup[i]:\n",
    "        check = False\n",
    "\n",
    "if check:\n",
    "    print(\"Sorted.\")\n",
    "    \n",
    "else:\n",
    "    print(\"Not Sorted\")"
   ]
  },
  {
   "cell_type": "markdown",
   "id": "9c52a69e",
   "metadata": {},
   "source": [
    "### 39. Rotate a tuple to the left by `n` positions."
   ]
  },
  {
   "cell_type": "code",
   "execution_count": 143,
   "id": "7f0b911d",
   "metadata": {},
   "outputs": [
    {
     "name": "stdout",
     "output_type": "stream",
     "text": [
      "(3, 4, 5, 1, 2)\n"
     ]
    }
   ],
   "source": [
    "def rotate_left(tup, n):\n",
    "    if len(tup) == 0:\n",
    "        return tup\n",
    "\n",
    "    # Ensure n is within the length of the list\n",
    "    n = n % len(tup)\n",
    "    return tup[n:] + tup[:n]\n",
    "\n",
    "# Example\n",
    "original_tup = (1, 2, 3, 4, 5)\n",
    "n_positions = 2\n",
    "rotated_tup = rotate_left(original_tup, n_positions)\n",
    "print(rotated_tup)"
   ]
  },
  {
   "cell_type": "markdown",
   "id": "ec6e4ea6",
   "metadata": {},
   "source": [
    "### 40. Rotate a tuple to the right by `n` positions."
   ]
  },
  {
   "cell_type": "code",
   "execution_count": 144,
   "id": "3d79fcd4",
   "metadata": {},
   "outputs": [
    {
     "name": "stdout",
     "output_type": "stream",
     "text": [
      "(4, 5, 1, 2, 3)\n"
     ]
    }
   ],
   "source": [
    "def rotate_left(tup, n):\n",
    "    if len(tup) == 0:\n",
    "        return tup\n",
    "\n",
    "    # Ensure n is within the length of the list\n",
    "    n = n % len(tup)\n",
    "    return tup[-n:] + tup[:-n]\n",
    "\n",
    "# Example\n",
    "original_tup = (1, 2, 3, 4, 5)\n",
    "n_positions = 2\n",
    "rotated_tup = rotate_left(original_tup, n_positions)\n",
    "print(rotated_tup)"
   ]
  },
  {
   "cell_type": "markdown",
   "id": "7162e4ee",
   "metadata": {},
   "source": [
    "### 41. Create a tuple of the first 5 Fibonacci numbers."
   ]
  },
  {
   "cell_type": "code",
   "execution_count": 145,
   "id": "a11ec5b4",
   "metadata": {},
   "outputs": [
    {
     "name": "stdout",
     "output_type": "stream",
     "text": [
      "(0, 1, 1, 2, 3)\n"
     ]
    }
   ],
   "source": [
    "def generate_fibonacci(n):\n",
    "    # Initialize the list with the first two Fibonacci numbers\n",
    "    fibonacci_list = [0, 1]  \n",
    "\n",
    "    # Logic for generating fibonacci number\n",
    "    while len(fibonacci_list) < n:\n",
    "        next_fibonacci = fibonacci_list[-1] + fibonacci_list[-2]\n",
    "        fibonacci_list.append(next_fibonacci)\n",
    "\n",
    "    return tuple(fibonacci_list[:n])\n",
    "\n",
    "# Generate the first 10 Fibonacci numbers\n",
    "fibonacci_sequence = generate_fibonacci(5)\n",
    "print(fibonacci_sequence)"
   ]
  },
  {
   "cell_type": "markdown",
   "id": "01a94e82",
   "metadata": {},
   "source": [
    "### 42. Create a tuple from user input."
   ]
  },
  {
   "cell_type": "code",
   "execution_count": 146,
   "id": "e5a68363",
   "metadata": {},
   "outputs": [
    {
     "name": "stdout",
     "output_type": "stream",
     "text": [
      "Enter the values for tuple seperated by comma.1,2,3,4,5\n",
      "('1', '2', '3', '4', '5')\n"
     ]
    }
   ],
   "source": [
    "## Getting the user input\n",
    "input_string = input(\"Enter the values for tuple seperated by comma.\")\n",
    "\n",
    "## Convert the input string into list\n",
    "input_list = input_string.split(\",\")\n",
    "\n",
    "## Get the final tuple\n",
    "print(tuple(input_list))"
   ]
  },
  {
   "cell_type": "markdown",
   "id": "219c4b68",
   "metadata": {},
   "source": [
    "### 43. Swap two elements in a tuple."
   ]
  },
  {
   "cell_type": "code",
   "execution_count": 147,
   "id": "87a92000",
   "metadata": {},
   "outputs": [
    {
     "name": "stdout",
     "output_type": "stream",
     "text": [
      "(1, 4, 8, 7, 2, 6)\n"
     ]
    }
   ],
   "source": [
    "## Declare the tuple\n",
    "tup = (1,4,6,7,2,8)\n",
    "\n",
    "index1 = 2\n",
    "index2 = 5\n",
    "\n",
    "swapped_list = []\n",
    "\n",
    "for i in range(len(tup)):\n",
    "    if i == index2:\n",
    "        swapped_list.append(tup[index1])\n",
    "    elif i==index1:\n",
    "        swapped_list.append(tup[index2])\n",
    "    else:\n",
    "        swapped_list.append(tup[i])\n",
    "    \n",
    "print(tuple(swapped_list))"
   ]
  },
  {
   "cell_type": "markdown",
   "id": "51e4f164",
   "metadata": {},
   "source": [
    "### 44. Reverse the elements of a tuple."
   ]
  },
  {
   "cell_type": "code",
   "execution_count": 148,
   "id": "bb28a2f9",
   "metadata": {},
   "outputs": [
    {
     "name": "stdout",
     "output_type": "stream",
     "text": [
      "(8, 2, 7, 6, 4, 1)\n"
     ]
    }
   ],
   "source": [
    "## Declare the tuple\n",
    "tup = (1,4,6,7,2,8)\n",
    "\n",
    "reverse_tup = tup[::-1]\n",
    "\n",
    "print(reverse_tup)"
   ]
  },
  {
   "cell_type": "markdown",
   "id": "2a363e10",
   "metadata": {},
   "source": [
    "### 45. Create a tuple of the first `n` powers of 2."
   ]
  },
  {
   "cell_type": "code",
   "execution_count": 149,
   "id": "a1493d95",
   "metadata": {},
   "outputs": [
    {
     "name": "stdout",
     "output_type": "stream",
     "text": [
      "(1, 2, 4, 8, 16, 32)\n"
     ]
    }
   ],
   "source": [
    "## Assuming the value of n \n",
    "n =6\n",
    "\n",
    "## logic for power tuple\n",
    "power_tup = tuple(2 ** i for i in range(n))\n",
    "\n",
    "#print the final output\n",
    "print(power_tup)"
   ]
  },
  {
   "cell_type": "markdown",
   "id": "bb6d5ce4",
   "metadata": {},
   "source": [
    "### 46. Find the longest string in a tuple of strings."
   ]
  },
  {
   "cell_type": "code",
   "execution_count": 150,
   "id": "c83c89a1",
   "metadata": {},
   "outputs": [
    {
     "name": "stdout",
     "output_type": "stream",
     "text": [
      "three\n"
     ]
    }
   ],
   "source": [
    "## Assuming the input string \n",
    "\n",
    "input_tup = ('one','two','three','four','five')\n",
    "\n",
    "# Logic for getting the longest string\n",
    "longest = max(input_tup,key = len)\n",
    "\n",
    "print(longest)"
   ]
  },
  {
   "cell_type": "markdown",
   "id": "ff011234",
   "metadata": {},
   "source": [
    "### 47. Find the shortest string in a tuple of strings."
   ]
  },
  {
   "cell_type": "code",
   "execution_count": 151,
   "id": "484a77ef",
   "metadata": {},
   "outputs": [
    {
     "name": "stdout",
     "output_type": "stream",
     "text": [
      "one\n"
     ]
    }
   ],
   "source": [
    "## Assuming the input string \n",
    "\n",
    "input_tup = ('one','three','four','five')\n",
    "\n",
    "# Logic for getting the shortest string\n",
    "shortest = min(input_tup,key = len)\n",
    "\n",
    "print(shortest)"
   ]
  },
  {
   "cell_type": "markdown",
   "id": "483a07fa",
   "metadata": {},
   "source": [
    "### 48. Create a tuple of the first `n` triangular numbers."
   ]
  },
  {
   "cell_type": "code",
   "execution_count": 152,
   "id": "3530700f",
   "metadata": {},
   "outputs": [
    {
     "name": "stdout",
     "output_type": "stream",
     "text": [
      "(1, 3, 6, 10, 15)\n"
     ]
    }
   ],
   "source": [
    "# Define the value of n\n",
    "n = 5\n",
    "\n",
    "# Create a tuple using list comphrension\n",
    "triangular_numbers= tuple((i * (i + 1)) // 2 for i in range(1, n + 1))\n",
    "\n",
    "print(triangular_numbers)"
   ]
  },
  {
   "cell_type": "markdown",
   "id": "16caf396",
   "metadata": {},
   "source": [
    "### 49. Check if a tuple contains another tuple as a subsequence."
   ]
  },
  {
   "cell_type": "code",
   "execution_count": 153,
   "id": "022487a0",
   "metadata": {},
   "outputs": [
    {
     "name": "stdout",
     "output_type": "stream",
     "text": [
      "Tuples contains the subsequence.\n"
     ]
    }
   ],
   "source": [
    "## Assuming user input\n",
    "my_tup = (3,4,8,7,11,5,16,21)\n",
    "subseq = (8,7,5)\n",
    "\n",
    "sub_index = 0\n",
    "check = False\n",
    "for element in my_tup:\n",
    "    if element in subseq:\n",
    "        sub_index +=1\n",
    "    if sub_index == len(subseq):\n",
    "        check = True\n",
    "\n",
    "if check:\n",
    "    print(\"Tuples contains the subsequence.\")\n",
    "\n",
    "else:\n",
    "    print(\"Tuple doesn't contain the subsequence.\")"
   ]
  },
  {
   "cell_type": "markdown",
   "id": "0d3bbc92",
   "metadata": {},
   "source": [
    "### 50. Create a tuple of alternating 1s and 0s of length `n`."
   ]
  },
  {
   "cell_type": "code",
   "execution_count": 154,
   "id": "beabe4d6",
   "metadata": {},
   "outputs": [
    {
     "name": "stdout",
     "output_type": "stream",
     "text": [
      "(0, 1, 0, 1, 0)\n"
     ]
    }
   ],
   "source": [
    "## Assuming the value of n \n",
    "n = 5\n",
    "\n",
    "## Logic for creating the tuple\n",
    "alternate_tuple = tuple(i%2 for i in range(n))\n",
    "\n",
    "print(alternate_tuple)"
   ]
  },
  {
   "cell_type": "markdown",
   "id": "128f15c1",
   "metadata": {},
   "source": [
    "## Set Based Practice Problem"
   ]
  },
  {
   "cell_type": "markdown",
   "id": "688a4eb8",
   "metadata": {},
   "source": [
    "### 1. Create a set with integers from 1 to 5."
   ]
  },
  {
   "cell_type": "code",
   "execution_count": 155,
   "id": "b427fd60",
   "metadata": {},
   "outputs": [
    {
     "name": "stdout",
     "output_type": "stream",
     "text": [
      "{1, 2, 3, 4, 5}\n"
     ]
    }
   ],
   "source": [
    "## Initialize the empty set\n",
    "my_set = set()\n",
    "\n",
    "## Adding the integer from 1 to 5\n",
    "my_set.add(1)\n",
    "my_set.add(2)\n",
    "my_set.add(3)\n",
    "my_set.add(4)\n",
    "my_set.add(5)\n",
    "\n",
    "print(my_set)"
   ]
  },
  {
   "cell_type": "markdown",
   "id": "a189d93f",
   "metadata": {},
   "source": [
    "### 2. Add an element to a set."
   ]
  },
  {
   "cell_type": "code",
   "execution_count": 156,
   "id": "9c536e26",
   "metadata": {},
   "outputs": [
    {
     "name": "stdout",
     "output_type": "stream",
     "text": [
      "{1, 2, 3, 4, 5}\n"
     ]
    }
   ],
   "source": [
    "# Initial set\n",
    "my_set = {1,2,3,4}\n",
    "\n",
    "## Adding an element to set\n",
    "my_set.add(5)\n",
    "\n",
    "print(my_set)"
   ]
  },
  {
   "cell_type": "markdown",
   "id": "af1d530b",
   "metadata": {},
   "source": [
    "### 3. Remove an element from a set."
   ]
  },
  {
   "cell_type": "code",
   "execution_count": 157,
   "id": "c6e2d761",
   "metadata": {},
   "outputs": [
    {
     "name": "stdout",
     "output_type": "stream",
     "text": [
      "{1, 3, 4}\n"
     ]
    }
   ],
   "source": [
    "# Initial set\n",
    "my_set = {1,2,3,4}\n",
    "\n",
    "## Remove an element \n",
    "my_set.remove(2)\n",
    "\n",
    "print(my_set)"
   ]
  },
  {
   "cell_type": "markdown",
   "id": "58f81ced",
   "metadata": {},
   "source": [
    "### 4. Check if an element exists in a set."
   ]
  },
  {
   "cell_type": "code",
   "execution_count": 158,
   "id": "0399c8bd",
   "metadata": {},
   "outputs": [
    {
     "name": "stdout",
     "output_type": "stream",
     "text": [
      "Element exist in the set\n"
     ]
    }
   ],
   "source": [
    "# Initial set\n",
    "my_set = {1,2,3,4}\n",
    "\n",
    "element = 3\n",
    "\n",
    "## Logic for element exists\n",
    "if element in my_set:\n",
    "    print(\"Element exist in the set\")\n",
    "\n",
    "else:\n",
    "    print(\"Element doesn't exist in the set.\")"
   ]
  },
  {
   "cell_type": "markdown",
   "id": "343307b7",
   "metadata": {},
   "source": [
    "### 5. Find the length of a set without using the `len()` function."
   ]
  },
  {
   "cell_type": "code",
   "execution_count": 159,
   "id": "0ba2ef8f",
   "metadata": {},
   "outputs": [
    {
     "name": "stdout",
     "output_type": "stream",
     "text": [
      "4\n"
     ]
    }
   ],
   "source": [
    "# Initial set\n",
    "my_set = {1,2,3,4}\n",
    "\n",
    "## initialize the count variable\n",
    "count = 0\n",
    "\n",
    "## Logic to count the element\n",
    "for element in my_set:\n",
    "    count +=1\n",
    "    \n",
    "print(count)"
   ]
  },
  {
   "cell_type": "markdown",
   "id": "c3e26009",
   "metadata": {},
   "source": [
    "### 6. Clear all elements from a set."
   ]
  },
  {
   "cell_type": "code",
   "execution_count": 160,
   "id": "80957b5c",
   "metadata": {},
   "outputs": [
    {
     "data": {
      "text/plain": [
       "set()"
      ]
     },
     "execution_count": 160,
     "metadata": {},
     "output_type": "execute_result"
    }
   ],
   "source": [
    "# Initial set\n",
    "my_set = {1,2,3,4}\n",
    "\n",
    "## Use the clear method\n",
    "my_set.clear()\n",
    "\n",
    "my_set"
   ]
  },
  {
   "cell_type": "markdown",
   "id": "124bb52e",
   "metadata": {},
   "source": [
    "### 7. Create a set of even numbers from 1 to 10."
   ]
  },
  {
   "cell_type": "code",
   "execution_count": 161,
   "id": "b500e829",
   "metadata": {},
   "outputs": [
    {
     "name": "stdout",
     "output_type": "stream",
     "text": [
      "{0, 2, 4, 6, 8}\n"
     ]
    }
   ],
   "source": [
    "## Logic to create a set of even number\n",
    "my_set = set(i for i in range(0,10,2))\n",
    "\n",
    "    \n",
    "print(my_set)"
   ]
  },
  {
   "cell_type": "markdown",
   "id": "94534d40",
   "metadata": {},
   "source": [
    "### 8. Create a set of odd numbers from 1 to 10."
   ]
  },
  {
   "cell_type": "code",
   "execution_count": 162,
   "id": "04cc357f",
   "metadata": {},
   "outputs": [
    {
     "name": "stdout",
     "output_type": "stream",
     "text": [
      "{1, 3, 5, 7, 9}\n"
     ]
    }
   ],
   "source": [
    "## Logic to create a set of odd number\n",
    "my_set = set(i for i in range(1,10,2))\n",
    "\n",
    "    \n",
    "print(my_set)"
   ]
  },
  {
   "cell_type": "markdown",
   "id": "7df52725",
   "metadata": {},
   "source": [
    "### 9. Find the union of two sets."
   ]
  },
  {
   "cell_type": "code",
   "execution_count": 163,
   "id": "4c5f9669",
   "metadata": {},
   "outputs": [
    {
     "name": "stdout",
     "output_type": "stream",
     "text": [
      "{1, 2, 3, 4, 5, 6}\n"
     ]
    }
   ],
   "source": [
    "## defining a initial sets\n",
    "set1 = {1,2,3,4}\n",
    "set2 = {3,4,5,6}\n",
    "\n",
    "## use the union method of set\n",
    "union = set1.union(set2)\n",
    "\n",
    "print(union)"
   ]
  },
  {
   "cell_type": "markdown",
   "id": "434dc497",
   "metadata": {},
   "source": [
    "### 10. Find the intersection of two sets."
   ]
  },
  {
   "cell_type": "code",
   "execution_count": 164,
   "id": "659eb07c",
   "metadata": {},
   "outputs": [
    {
     "name": "stdout",
     "output_type": "stream",
     "text": [
      "{3, 4}\n"
     ]
    }
   ],
   "source": [
    "## defining a initial sets\n",
    "set1 = {1,2,3,4}\n",
    "set2 = {3,4,5,6}\n",
    "\n",
    "## use the intersection method of set\n",
    "intersection = set1.intersection(set2)\n",
    "\n",
    "print(intersection)"
   ]
  },
  {
   "cell_type": "markdown",
   "id": "e62825fc",
   "metadata": {},
   "source": [
    "### 11. Find the difference between two sets."
   ]
  },
  {
   "cell_type": "code",
   "execution_count": 165,
   "id": "7fab699b",
   "metadata": {},
   "outputs": [
    {
     "name": "stdout",
     "output_type": "stream",
     "text": [
      "{1, 2}\n"
     ]
    }
   ],
   "source": [
    "## defining a initial sets\n",
    "set1 = {1,2,3,4}\n",
    "set2 = {3,4,5,6}\n",
    "\n",
    "## use the difference method of set\n",
    "difference = set1.difference(set2)\n",
    "\n",
    "print(difference)"
   ]
  },
  {
   "cell_type": "markdown",
   "id": "42d11b8d",
   "metadata": {},
   "source": [
    "### 12. Check if a set is a subset of another set."
   ]
  },
  {
   "cell_type": "code",
   "execution_count": 166,
   "id": "21e95b0e",
   "metadata": {},
   "outputs": [
    {
     "name": "stdout",
     "output_type": "stream",
     "text": [
      "Set 1 is not a subset of Set 2.\n"
     ]
    }
   ],
   "source": [
    "## defining a initial sets\n",
    "set1 = {1,2,3,4}\n",
    "set2 = {3,4,5,6}\n",
    "\n",
    "## use the issubset method of set\n",
    "subset = set1.issubset(set2)\n",
    "\n",
    "if subset :\n",
    "    print(\"Set 1 is subset of Set 2.\")\n",
    "\n",
    "else:\n",
    "     print(\"Set 1 is not a subset of Set 2.\")"
   ]
  },
  {
   "cell_type": "markdown",
   "id": "fb159121",
   "metadata": {},
   "source": [
    "### 13. Check if a set is a superset of another set."
   ]
  },
  {
   "cell_type": "code",
   "execution_count": 167,
   "id": "4a90a07b",
   "metadata": {},
   "outputs": [
    {
     "name": "stdout",
     "output_type": "stream",
     "text": [
      "Set 1 is not a superset of Set 2.\n"
     ]
    }
   ],
   "source": [
    "## defining a initial sets\n",
    "set1 = {1,2,3,4}\n",
    "set2 = {3,4,5,6}\n",
    "\n",
    "## use the issuperset method of set\n",
    "superset = set1.issuperset(set2)\n",
    "\n",
    "if superset:\n",
    "     print(\"Set 1 is superset of Set 2.\")\n",
    "        \n",
    "else :\n",
    "    print(\"Set 1 is not a superset of Set 2.\")"
   ]
  },
  {
   "cell_type": "markdown",
   "id": "65970e83",
   "metadata": {},
   "source": [
    "### 14. Create a set from a list."
   ]
  },
  {
   "cell_type": "code",
   "execution_count": 168,
   "id": "6c7982c4",
   "metadata": {},
   "outputs": [
    {
     "name": "stdout",
     "output_type": "stream",
     "text": [
      "{1, 2, 3, 4}\n"
     ]
    }
   ],
   "source": [
    "my_list = [1,2,3,4]\n",
    "\n",
    "# Use the set method\n",
    "my_set = set(my_list)\n",
    "\n",
    "print(my_set)"
   ]
  },
  {
   "cell_type": "markdown",
   "id": "8190fcdb",
   "metadata": {},
   "source": [
    "### 15. Convert a set to a list."
   ]
  },
  {
   "cell_type": "code",
   "execution_count": 169,
   "id": "e8734776",
   "metadata": {},
   "outputs": [
    {
     "name": "stdout",
     "output_type": "stream",
     "text": [
      "[1, 2, 3, 4]\n"
     ]
    }
   ],
   "source": [
    "my_set = {1, 2, 3, 4}\n",
    "\n",
    "# Use the list method\n",
    "\n",
    "print(list(my_set))"
   ]
  },
  {
   "cell_type": "markdown",
   "id": "88668894",
   "metadata": {},
   "source": [
    "### 16. Remove a random element from a set."
   ]
  },
  {
   "cell_type": "code",
   "execution_count": 170,
   "id": "4f07d5ae",
   "metadata": {},
   "outputs": [
    {
     "name": "stdout",
     "output_type": "stream",
     "text": [
      "{1, 2, 4, 5, 6, 7, 8, 9}\n"
     ]
    }
   ],
   "source": [
    "import random \n",
    "\n",
    "# Define the initial set\n",
    "my_set = {1,2,3,4,5,6,7,8,9}\n",
    "\n",
    "#selecting the random number\n",
    "random_number = random.choice(list(my_set))\n",
    "\n",
    "# Remove the random number\n",
    "my_set.remove(random_number)\n",
    "\n",
    "print(my_set)"
   ]
  },
  {
   "cell_type": "markdown",
   "id": "bd9e81f2",
   "metadata": {},
   "source": [
    "### 17. Pop an element from a set."
   ]
  },
  {
   "cell_type": "code",
   "execution_count": 171,
   "id": "c9257425",
   "metadata": {},
   "outputs": [
    {
     "name": "stdout",
     "output_type": "stream",
     "text": [
      "The pop element is: 1\n"
     ]
    }
   ],
   "source": [
    "# Define the initial set\n",
    "my_set = {1,2,3,4,5,6,7,8,9}\n",
    "\n",
    "# Pop the element\n",
    "element = my_set.pop()\n",
    "\n",
    "print(\"The pop element is:\",element)"
   ]
  },
  {
   "cell_type": "markdown",
   "id": "61bf751f",
   "metadata": {},
   "source": [
    "### 18. Check if two sets have no elements in common."
   ]
  },
  {
   "cell_type": "code",
   "execution_count": 172,
   "id": "dcb4f6bc",
   "metadata": {},
   "outputs": [
    {
     "name": "stdout",
     "output_type": "stream",
     "text": [
      "Two sets have no element in common.\n"
     ]
    }
   ],
   "source": [
    "## declare the sets\n",
    "my_set1 = {1,2,3,4}\n",
    "my_set2 = {5,6,7,8}\n",
    "\n",
    "## To find common element we will find the intersection of two sets\n",
    "intersection = my_set1.intersection(my_set2)\n",
    "\n",
    "# check the lenght of result\n",
    "if len(intersection)==0:\n",
    "    print(\"Two sets have no element in common.\")\n",
    "\n",
    "else:\n",
    "    print(\"Two sets have some element in common.\")"
   ]
  },
  {
   "cell_type": "markdown",
   "id": "55f35bfb",
   "metadata": {},
   "source": [
    "### 19. Find the symmetric difference between two sets."
   ]
  },
  {
   "cell_type": "code",
   "execution_count": 173,
   "id": "eddc30e5",
   "metadata": {},
   "outputs": [
    {
     "name": "stdout",
     "output_type": "stream",
     "text": [
      "Symmetric Difference : {1, 2, 3, 6, 7, 8}\n"
     ]
    }
   ],
   "source": [
    "## declare the sets\n",
    "my_set1 = {1,2,3,4}\n",
    "my_set2 = {4,6,7,8}\n",
    "\n",
    "symmetric = my_set1 ^ my_set2\n",
    "\n",
    "print(\"Symmetric Difference :\",symmetric)"
   ]
  },
  {
   "cell_type": "markdown",
   "id": "477a1ee3",
   "metadata": {},
   "source": [
    "### 20. Update a set with elements from another set."
   ]
  },
  {
   "cell_type": "code",
   "execution_count": 174,
   "id": "d726e023",
   "metadata": {},
   "outputs": [
    {
     "name": "stdout",
     "output_type": "stream",
     "text": [
      "{1, 2, 3, 4, 5, 6, 7}\n"
     ]
    }
   ],
   "source": [
    "## declare the two sets\n",
    "\n",
    "my_set1 = {1,2,3,4}\n",
    "my_set2 = {4,5,6,7}\n",
    "\n",
    "## Update the set1 with elements of set2 using the update method\n",
    "my_set1.update(my_set2)\n",
    "print(my_set1)"
   ]
  },
  {
   "cell_type": "markdown",
   "id": "e8be339b",
   "metadata": {},
   "source": [
    "### 21. Create a set of the first 5 prime numbers."
   ]
  },
  {
   "cell_type": "code",
   "execution_count": 175,
   "id": "84f57dae",
   "metadata": {},
   "outputs": [
    {
     "name": "stdout",
     "output_type": "stream",
     "text": [
      "{2, 3, 5, 7, 11}\n"
     ]
    }
   ],
   "source": [
    "def is_prime(number):\n",
    "    if number <= 1:\n",
    "        return False\n",
    "    elif number <= 3:\n",
    "        return True\n",
    "    elif number % 2 == 0 or number % 3 == 0:\n",
    "        return False\n",
    "\n",
    "    i = 5\n",
    "    while i * i <= number:\n",
    "        if number % i == 0 or number % (i + 2) == 0:\n",
    "            return False\n",
    "        i += 6\n",
    "\n",
    "    return True\n",
    "\n",
    "prime_set = set()\n",
    "number = 2  # Start checking from the first prime number\n",
    "\n",
    "while len(prime_set) < 5:\n",
    "    if is_prime(number):\n",
    "        prime_set.add(number)\n",
    "    number += 1\n",
    "\n",
    "print(prime_set)"
   ]
  },
  {
   "cell_type": "markdown",
   "id": "8b9e00bc",
   "metadata": {},
   "source": [
    "### 22. Check if two sets are identical."
   ]
  },
  {
   "cell_type": "code",
   "execution_count": 176,
   "id": "9164b9ed",
   "metadata": {},
   "outputs": [
    {
     "name": "stdout",
     "output_type": "stream",
     "text": [
      "Sets are not identical.\n"
     ]
    }
   ],
   "source": [
    "## declare the sets\n",
    "my_set1 = {1,2,3,5}\n",
    "my_set2 = {3,4,5,6}\n",
    "\n",
    "## set identical check\n",
    "if my_set1 == my_set2:\n",
    "    print(\"Sets are identical.\")\n",
    "\n",
    "else:\n",
    "    print(\"Sets are not identical.\")"
   ]
  },
  {
   "cell_type": "markdown",
   "id": "66290f24",
   "metadata": {},
   "source": [
    "### 23. Create a frozen set."
   ]
  },
  {
   "cell_type": "code",
   "execution_count": 177,
   "id": "8b5ff889",
   "metadata": {},
   "outputs": [
    {
     "name": "stdout",
     "output_type": "stream",
     "text": [
      "frozenset({1, 3, 4, 6})\n"
     ]
    }
   ],
   "source": [
    "## define a list\n",
    "elements =[1,3,4,6]\n",
    "\n",
    "## creating a frozen set\n",
    "my_frozen_set = frozenset(elements)\n",
    "\n",
    "print(my_frozen_set)"
   ]
  },
  {
   "cell_type": "markdown",
   "id": "672d048e",
   "metadata": {},
   "source": [
    "### 24. Check if a set is disjoint with another set."
   ]
  },
  {
   "cell_type": "code",
   "execution_count": 178,
   "id": "8d55fe6b",
   "metadata": {},
   "outputs": [
    {
     "name": "stdout",
     "output_type": "stream",
     "text": [
      "Sets are not disjoint.\n"
     ]
    }
   ],
   "source": [
    "## declare the sets\n",
    "my_set1 = {1,2,3,5}\n",
    "my_set2 = {3,4,5,6}\n",
    "\n",
    "## check for disjoint\n",
    "disjoint = my_set1.isdisjoint(my_set2)\n",
    "\n",
    "if disjoint:\n",
    "    print(\"Sets are disjoint.\")\n",
    "\n",
    "else:\n",
    "    print(\"Sets are not disjoint.\")"
   ]
  },
  {
   "cell_type": "markdown",
   "id": "88d5d3b8",
   "metadata": {},
   "source": [
    "### 25. Create a set of squares of numbers from 1 to 5."
   ]
  },
  {
   "cell_type": "code",
   "execution_count": 179,
   "id": "1d73b610",
   "metadata": {},
   "outputs": [
    {
     "name": "stdout",
     "output_type": "stream",
     "text": [
      "{1, 4, 9, 16, 25}\n"
     ]
    }
   ],
   "source": [
    "## Square set \n",
    "square = set(i**2 for i in range(1,6))\n",
    "\n",
    "print(square)"
   ]
  },
  {
   "cell_type": "markdown",
   "id": "af36d090",
   "metadata": {},
   "source": [
    "### 26. Filter out all even numbers from a set."
   ]
  },
  {
   "cell_type": "code",
   "execution_count": 180,
   "id": "c789ea76",
   "metadata": {},
   "outputs": [
    {
     "name": "stdout",
     "output_type": "stream",
     "text": [
      "{2, 4, 6}\n"
     ]
    }
   ],
   "source": [
    "## Declare the set\n",
    "my_set = {1,2,3,4,5,6}\n",
    "\n",
    "## Even set \n",
    "even = set(i for i in my_set if i%2==0)\n",
    "\n",
    "print(even)"
   ]
  },
  {
   "cell_type": "markdown",
   "id": "0fe689d3",
   "metadata": {},
   "source": [
    "### 27. Multiply all elements in a set by 2."
   ]
  },
  {
   "cell_type": "code",
   "execution_count": 181,
   "id": "3499dc19",
   "metadata": {},
   "outputs": [
    {
     "name": "stdout",
     "output_type": "stream",
     "text": [
      "{2, 4, 6, 8, 10, 12}\n"
     ]
    }
   ],
   "source": [
    "## Declare the set\n",
    "my_set = {1,2,3,4,5,6}\n",
    "\n",
    "# mutplied set \n",
    "multiplied = set(i*2 for i in my_set)\n",
    "\n",
    "print(multiplied)"
   ]
  },
  {
   "cell_type": "markdown",
   "id": "1d5a3b3e",
   "metadata": {},
   "source": [
    "### 28. Create a set of random numbers."
   ]
  },
  {
   "cell_type": "code",
   "execution_count": 182,
   "id": "6873a847",
   "metadata": {},
   "outputs": [
    {
     "name": "stdout",
     "output_type": "stream",
     "text": [
      "{64, 2, 11, 23, 89}\n"
     ]
    }
   ],
   "source": [
    "import random \n",
    "\n",
    "## Assuming n \n",
    "n = 5\n",
    "\n",
    "# Generating the random set\n",
    "random_set = set(random.randint(1,100) for i in range(5))\n",
    "\n",
    "print(random_set)"
   ]
  },
  {
   "cell_type": "markdown",
   "id": "379d35dd",
   "metadata": {},
   "source": [
    "### 29. Check if a set is empty."
   ]
  },
  {
   "cell_type": "code",
   "execution_count": 183,
   "id": "5ffa4f31",
   "metadata": {},
   "outputs": [
    {
     "name": "stdout",
     "output_type": "stream",
     "text": [
      "Set is Empty.\n"
     ]
    }
   ],
   "source": [
    "# Declare the set\n",
    "my_set = set()\n",
    "\n",
    "if len(my_set)==0:\n",
    "    print(\"Set is Empty.\")\n",
    "\n",
    "else:\n",
    "    print(\"Set is not empty.\")"
   ]
  },
  {
   "cell_type": "markdown",
   "id": "d9fb71e1",
   "metadata": {},
   "source": [
    "### 30. Create a nested set (hint: use frozenset)."
   ]
  },
  {
   "cell_type": "code",
   "execution_count": 184,
   "id": "e72b049c",
   "metadata": {},
   "outputs": [
    {
     "name": "stdout",
     "output_type": "stream",
     "text": [
      "{frozenset({1, 2, 3, 4}), frozenset({8, 5, 6, 7})}\n"
     ]
    }
   ],
   "source": [
    "## Declare the set \n",
    "\n",
    "set1 = {1,2,3,4}\n",
    "set2 = {5,6,7,8}\n",
    "\n",
    "## Get frozen set\n",
    "frozen1 = frozenset(set1)\n",
    "frozen2 = frozenset(set2)\n",
    "\n",
    "## add the frozenset into new set\n",
    "nested = {frozen1,frozen2}\n",
    "\n",
    "print(nested)"
   ]
  },
  {
   "cell_type": "markdown",
   "id": "058932f6",
   "metadata": {},
   "source": [
    "### 31. Remove an element from a set using the discard method."
   ]
  },
  {
   "cell_type": "code",
   "execution_count": 185,
   "id": "c808de86",
   "metadata": {},
   "outputs": [
    {
     "name": "stdout",
     "output_type": "stream",
     "text": [
      "{1, 2, 3, 4, 5, 6, 8}\n"
     ]
    }
   ],
   "source": [
    "## Declare the set \n",
    "my_set = {1,2,3,4,5,6,7,8}\n",
    "\n",
    "## Element to remove\n",
    "element = 7\n",
    "\n",
    "## Remove the element using the discard method\n",
    "my_set.discard(element)\n",
    "\n",
    "print(my_set)"
   ]
  },
  {
   "cell_type": "markdown",
   "id": "0578827d",
   "metadata": {},
   "source": [
    "### 32. Compare two sets."
   ]
  },
  {
   "cell_type": "code",
   "execution_count": 186,
   "id": "866e475c",
   "metadata": {},
   "outputs": [
    {
     "name": "stdout",
     "output_type": "stream",
     "text": [
      "Is set1 is subset of set2 ? False\n",
      "Is set1 is superset of set2? False\n",
      "Intersection : set()\n",
      "union: {1, 2, 3, 4, 5, 6, 7, 8}\n",
      " Set1 - Set2 : {1, 2, 3, 4}\n",
      "Set2 - Set1 : {8, 5, 6, 7}\n"
     ]
    }
   ],
   "source": [
    "## Declare the set \n",
    "\n",
    "set1 = {1,2,3,4}\n",
    "set2 = {5,6,7,8}\n",
    "\n",
    "## Use all the operation to compare the sets\n",
    "is_subset = set1.issubset(set2)\n",
    "is_superset = set1.issuperset(set2)\n",
    "\n",
    "## find intersection, union and difference\n",
    "union = set1.union(set2)\n",
    "intersection = set1.intersection(set2)\n",
    "difference1 = set1.difference(set2)\n",
    "difference2 = set2.difference(set1)\n",
    "\n",
    "## Final Results\n",
    "print(\"Is set1 is subset of set2 ?\",is_subset)\n",
    "print(\"Is set1 is superset of set2?\",is_superset)\n",
    "print(\"Intersection :\",intersection)\n",
    "print(\"union:\",union)\n",
    "print(\" Set1 - Set2 :\",difference1)\n",
    "print(\"Set2 - Set1 :\",difference2)\n"
   ]
  },
  {
   "cell_type": "markdown",
   "id": "28172c35",
   "metadata": {},
   "source": [
    "### 33. Create a set from a string."
   ]
  },
  {
   "cell_type": "code",
   "execution_count": 187,
   "id": "09bb7f84",
   "metadata": {},
   "outputs": [
    {
     "name": "stdout",
     "output_type": "stream",
     "text": [
      "{'o', 'l', 'H', 'e'}\n"
     ]
    }
   ],
   "source": [
    "## Input String\n",
    "input_string = \"Hello\"\n",
    "\n",
    "myset = set(input_string)\n",
    "\n",
    "print(myset)"
   ]
  },
  {
   "cell_type": "markdown",
   "id": "757ee539",
   "metadata": {},
   "source": [
    "### 34. Convert a set of strings to a set of integers."
   ]
  },
  {
   "cell_type": "code",
   "execution_count": 188,
   "id": "a23a4ffd",
   "metadata": {},
   "outputs": [
    {
     "name": "stdout",
     "output_type": "stream",
     "text": [
      "{1, 2, 3, 4, 5}\n"
     ]
    }
   ],
   "source": [
    "## Input String\n",
    "my_set = {'1','2','3','4','5'}\n",
    "\n",
    "# Integer set\n",
    "int_set = set(int(i) for i in my_set)\n",
    "\n",
    "print(int_set)"
   ]
  },
  {
   "cell_type": "markdown",
   "id": "e4feaea7",
   "metadata": {},
   "source": [
    "### 35. Convert a set of integers to a set of strings."
   ]
  },
  {
   "cell_type": "code",
   "execution_count": 189,
   "id": "790b000d",
   "metadata": {},
   "outputs": [
    {
     "name": "stdout",
     "output_type": "stream",
     "text": [
      "{'4', '3', '5', '2', '1'}\n"
     ]
    }
   ],
   "source": [
    "## Integer set \n",
    "int_set = {1, 2, 3, 4, 5}\n",
    "\n",
    "# String set\n",
    "str_set = set(str(i) for i in int_set)\n",
    "\n",
    "print(str_set)"
   ]
  },
  {
   "cell_type": "markdown",
   "id": "285f1c6c",
   "metadata": {},
   "source": [
    "### 36. Create a set from a tuple."
   ]
  },
  {
   "cell_type": "code",
   "execution_count": 190,
   "id": "c81ad16a",
   "metadata": {},
   "outputs": [
    {
     "name": "stdout",
     "output_type": "stream",
     "text": [
      "{1, 2, 3, 4, 5, 6, 7}\n"
     ]
    }
   ],
   "source": [
    "## Input Tuple\n",
    "input_tup = (1,2,3,4,5,6,7)\n",
    "\n",
    "## Set \n",
    "myset = set(input_tup)\n",
    "\n",
    "print(myset)"
   ]
  },
  {
   "cell_type": "markdown",
   "id": "7875e896",
   "metadata": {},
   "source": [
    "### 37. Convert a set to a tuple."
   ]
  },
  {
   "cell_type": "code",
   "execution_count": 191,
   "id": "081b595a",
   "metadata": {},
   "outputs": [
    {
     "name": "stdout",
     "output_type": "stream",
     "text": [
      "(1, 2, 3, 4, 5, 6, 7)\n"
     ]
    }
   ],
   "source": [
    "## Input set \n",
    "myset = {1, 2, 3, 4, 5, 6, 7}\n",
    "\n",
    "# tuple\n",
    "mytup = tuple(myset)\n",
    "\n",
    "print(mytup)"
   ]
  },
  {
   "cell_type": "markdown",
   "id": "1d411fc3",
   "metadata": {},
   "source": [
    "### 38. Find the maximum value in a set."
   ]
  },
  {
   "cell_type": "code",
   "execution_count": 192,
   "id": "28e3fc41",
   "metadata": {},
   "outputs": [
    {
     "name": "stdout",
     "output_type": "stream",
     "text": [
      "7\n"
     ]
    }
   ],
   "source": [
    "## Input set \n",
    "myset = {1, 2, 3, 4, 5, 6, 7}\n",
    "\n",
    "## Print max\n",
    "print(max(myset))"
   ]
  },
  {
   "cell_type": "markdown",
   "id": "cc22bf73",
   "metadata": {},
   "source": [
    "### 39. Find the minimum value in a set."
   ]
  },
  {
   "cell_type": "code",
   "execution_count": 193,
   "id": "7f7ee86f",
   "metadata": {},
   "outputs": [
    {
     "name": "stdout",
     "output_type": "stream",
     "text": [
      "1\n"
     ]
    }
   ],
   "source": [
    "## Input set \n",
    "myset = {1, 2, 3, 4, 5, 6, 7}\n",
    "\n",
    "## Print min\n",
    "print(min(myset))"
   ]
  },
  {
   "cell_type": "markdown",
   "id": "c1341976",
   "metadata": {},
   "source": [
    "### 40. Create a set from user input."
   ]
  },
  {
   "cell_type": "code",
   "execution_count": 194,
   "id": "37e14d94",
   "metadata": {},
   "outputs": [
    {
     "name": "stdout",
     "output_type": "stream",
     "text": [
      "Enter the set values seperated by commas.1,2,3,4,5\n",
      "{'4', '3', '5', '2', '1'}\n"
     ]
    }
   ],
   "source": [
    "## Get user input\n",
    "user_input = input(\"Enter the set values seperated by commas.\")\n",
    "\n",
    "## split the input string into list\n",
    "lst = user_input.split(\",\")\n",
    "\n",
    "# Convert the list into set\n",
    "myset = set(lst)\n",
    "\n",
    "print(myset)"
   ]
  },
  {
   "cell_type": "markdown",
   "id": "24d4e0c1",
   "metadata": {},
   "source": [
    "### 41. Check if the intersection of two sets is empty."
   ]
  },
  {
   "cell_type": "code",
   "execution_count": 195,
   "id": "5cac03da",
   "metadata": {},
   "outputs": [
    {
     "name": "stdout",
     "output_type": "stream",
     "text": [
      "Intersection is empty.\n"
     ]
    }
   ],
   "source": [
    "## declare the sets\n",
    "my_set1 = {1,2,3,4}\n",
    "my_set2 = {5,6,7,8}\n",
    "\n",
    "## intersection check\n",
    "intersection = my_set1.intersection(my_set2)\n",
    "\n",
    "# check the lenght of result\n",
    "if len(intersection)==0:\n",
    "    print(\"Intersection is empty.\")\n",
    "\n",
    "else:\n",
    "    print(\"Intersection is not empty.\")"
   ]
  },
  {
   "cell_type": "markdown",
   "id": "8adbee79",
   "metadata": {},
   "source": [
    "### 42. Create a set of the first 5 Fibonacci numbers."
   ]
  },
  {
   "cell_type": "code",
   "execution_count": 196,
   "id": "4e0c37a4",
   "metadata": {},
   "outputs": [
    {
     "name": "stdout",
     "output_type": "stream",
     "text": [
      "{0, 1, 2, 3, 5}\n"
     ]
    }
   ],
   "source": [
    "## Create a set for  fibonacci\n",
    "fib_set = set()\n",
    "\n",
    "\n",
    "a, b = 0, 1\n",
    "\n",
    "# Loop to generate the Fibonacci series:\n",
    "for _ in range(6):\n",
    "    fib_set.add(a)\n",
    "    a, b = b, a + b\n",
    "\n",
    "print(fib_set)"
   ]
  },
  {
   "cell_type": "markdown",
   "id": "597cdd69",
   "metadata": {},
   "source": [
    "### 43. Remove duplicates from a list using sets."
   ]
  },
  {
   "cell_type": "code",
   "execution_count": 197,
   "id": "50f26b53",
   "metadata": {},
   "outputs": [
    {
     "name": "stdout",
     "output_type": "stream",
     "text": [
      "[1, 2, 3, 4, 5, 6, 7, 8, 9]\n"
     ]
    }
   ],
   "source": [
    "## Input list \n",
    "input_list = [1,2,3,4,5,6,7,8,9,2,3,4,5]\n",
    "\n",
    "## Unique set from list\n",
    "uni_set = set(input_list)\n",
    "\n",
    "## convert set back to list\n",
    "print(list(uni_set))"
   ]
  },
  {
   "cell_type": "markdown",
   "id": "37a5927e",
   "metadata": {},
   "source": [
    "### 44. Check if two sets have the same elements, regardless of their count."
   ]
  },
  {
   "cell_type": "code",
   "execution_count": 198,
   "id": "e7423c00",
   "metadata": {},
   "outputs": [
    {
     "name": "stdout",
     "output_type": "stream",
     "text": [
      "The sets have the same elements regardless of their count.\n"
     ]
    }
   ],
   "source": [
    "# Define two sets\n",
    "set1 = {1, 2, 3, 4, 5}\n",
    "set2 = {5, 4, 3, 2, 1} \n",
    "\n",
    "# Check if the sets have the same elements regardless of their count\n",
    "if set1 == set2:\n",
    "    print(\"The sets have the same elements regardless of their count.\")\n",
    "else:\n",
    "    print(\"The sets do not have the same elements regardless of their count.\")\n"
   ]
  },
  {
   "cell_type": "markdown",
   "id": "8f6bbe2c",
   "metadata": {},
   "source": [
    "### 45. Create a set of the first `n` powers of 2."
   ]
  },
  {
   "cell_type": "code",
   "execution_count": 199,
   "id": "e03d5dc7",
   "metadata": {},
   "outputs": [
    {
     "name": "stdout",
     "output_type": "stream",
     "text": [
      "{1, 2, 4, 8, 16}\n"
     ]
    }
   ],
   "source": [
    "## Assuming n \n",
    "\n",
    "n=5\n",
    "\n",
    "## power set \n",
    "power_set = set(2**i for i in range(n))\n",
    "\n",
    "print(power_set)"
   ]
  },
  {
   "cell_type": "markdown",
   "id": "e7dd61dd",
   "metadata": {},
   "source": [
    "### 46. Find the common elements between a set and a list."
   ]
  },
  {
   "cell_type": "code",
   "execution_count": 200,
   "id": "ea447e34",
   "metadata": {},
   "outputs": [
    {
     "name": "stdout",
     "output_type": "stream",
     "text": [
      "Common Elements : [3, 4, 6]\n"
     ]
    }
   ],
   "source": [
    "## Declare the list and the set\n",
    "my_list = [3,4,6,8,3]\n",
    "my_set = {1,2,3,4,5,6}\n",
    "\n",
    "## list to set\n",
    "my_set2 = set(my_list)\n",
    "\n",
    "## common list\n",
    "common = []\n",
    "\n",
    "## Logic for common elements\n",
    "for element in my_set:\n",
    "    if element in my_set2:\n",
    "        common.append(element)\n",
    "        \n",
    "print(\"Common Elements :\",common)"
   ]
  },
  {
   "cell_type": "markdown",
   "id": "559a5954",
   "metadata": {},
   "source": [
    "### 47. Create a set of the first `n` triangular numbers."
   ]
  },
  {
   "cell_type": "code",
   "execution_count": 201,
   "id": "c9d48a1a",
   "metadata": {},
   "outputs": [
    {
     "name": "stdout",
     "output_type": "stream",
     "text": [
      "{1, 3, 36, 6, 10, 45, 15, 21, 55, 28}\n"
     ]
    }
   ],
   "source": [
    "## Assuming n \n",
    "n=10\n",
    "\n",
    "#triangular set \n",
    "triangular_numbers = set()\n",
    "\n",
    "sum = 0\n",
    "\n",
    "for i in range(1, n + 1):\n",
    "    sum += i\n",
    "    triangular_numbers.add(sum)\n",
    "\n",
    "print(triangular_numbers)"
   ]
  },
  {
   "cell_type": "markdown",
   "id": "fa2bb798",
   "metadata": {},
   "source": [
    "### 48. Check if a set contains another set as a subset."
   ]
  },
  {
   "cell_type": "code",
   "execution_count": 202,
   "id": "4c939c66",
   "metadata": {},
   "outputs": [
    {
     "name": "stdout",
     "output_type": "stream",
     "text": [
      "Set is subset.\n"
     ]
    }
   ],
   "source": [
    "## Declare set\n",
    "set2 = {1,2,3,4,5}\n",
    "set1 = {3,4}\n",
    "\n",
    "# check for subset\n",
    "is_subset = set1.issubset(set2)\n",
    "\n",
    "if is_subset:\n",
    "    print(\"Set is subset.\")\n",
    "\n",
    "else:\n",
    "    print(\"Set is not a subset.\")"
   ]
  },
  {
   "cell_type": "markdown",
   "id": "a56501b9",
   "metadata": {},
   "source": [
    "### 49. Create a set of alternating 1s and 0s of length `n`."
   ]
  },
  {
   "cell_type": "code",
   "execution_count": 203,
   "id": "8208fc5a",
   "metadata": {},
   "outputs": [
    {
     "name": "stdout",
     "output_type": "stream",
     "text": [
      "{0, 1}\n"
     ]
    }
   ],
   "source": [
    "## Declare the set \n",
    "alternate_set = set()\n",
    "\n",
    "## Assuming n \n",
    "n=5\n",
    "\n",
    "for i in range(5):\n",
    "    if i%2==0:\n",
    "        alternate_set.add(1)\n",
    "    else:\n",
    "        alternate_set.add(0)\n",
    "        \n",
    "print(alternate_set)"
   ]
  },
  {
   "cell_type": "markdown",
   "id": "e812d371",
   "metadata": {},
   "source": [
    "### 50. Merge multiple sets into one."
   ]
  },
  {
   "cell_type": "code",
   "execution_count": 204,
   "id": "9c473e26",
   "metadata": {},
   "outputs": [
    {
     "name": "stdout",
     "output_type": "stream",
     "text": [
      "{1, 2, 3, 4, 5, 6, 7, 8, 9}\n"
     ]
    }
   ],
   "source": [
    "## Declare multiple sets\n",
    "\n",
    "set1 = {1,2,3,4}\n",
    "set2 = {3,4,5,6}\n",
    "set3 = {5,6,7,8,9}\n",
    "\n",
    "## Merge the set\n",
    "final = set1.union(set2, set3)\n",
    "\n",
    "print(final)"
   ]
  }
 ],
 "metadata": {
  "kernelspec": {
   "display_name": "Python 3 (ipykernel)",
   "language": "python",
   "name": "python3"
  },
  "language_info": {
   "codemirror_mode": {
    "name": "ipython",
    "version": 3
   },
   "file_extension": ".py",
   "mimetype": "text/x-python",
   "name": "python",
   "nbconvert_exporter": "python",
   "pygments_lexer": "ipython3",
   "version": "3.9.17"
  }
 },
 "nbformat": 4,
 "nbformat_minor": 5
}
