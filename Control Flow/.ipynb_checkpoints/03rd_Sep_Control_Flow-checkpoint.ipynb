{
 "cells": [
  {
   "cell_type": "markdown",
   "id": "f8ef9867",
   "metadata": {},
   "source": [
    "## Basic If-Else Statements"
   ]
  },
  {
   "cell_type": "markdown",
   "id": "4ee7db0f",
   "metadata": {},
   "source": [
    "### 1. Write a Python program to check if a given number is positive or negative."
   ]
  },
  {
   "cell_type": "code",
   "execution_count": 1,
   "id": "2d54a414",
   "metadata": {},
   "outputs": [
    {
     "name": "stdout",
     "output_type": "stream",
     "text": [
      "Number is negative.\n"
     ]
    }
   ],
   "source": [
    "## Assuming the user input\n",
    "number =-4\n",
    "\n",
    "## logic to check positive and negative number\n",
    "if number<0:\n",
    "    print(\"Number is negative.\")\n",
    "    \n",
    "else:\n",
    "    print(\"Number is positive.\")"
   ]
  },
  {
   "cell_type": "markdown",
   "id": "5008b5d1",
   "metadata": {},
   "source": [
    "### 2. Create a program that determines if a person is eligible to vote based on their age."
   ]
  },
  {
   "cell_type": "code",
   "execution_count": 2,
   "id": "dd74ef0a",
   "metadata": {},
   "outputs": [
    {
     "name": "stdout",
     "output_type": "stream",
     "text": [
      "Person is eligible to vote.\n"
     ]
    }
   ],
   "source": [
    "## Assuming person age\n",
    "age = 34\n",
    "\n",
    "#if age is greater than 18 he/she can vote\n",
    "if age >= 18:\n",
    "    print(\"Person is eligible to vote.\")\n",
    "\n",
    "else:\n",
    "    print(\"Person is not eligible to vote.\")"
   ]
  },
  {
   "cell_type": "markdown",
   "id": "7b074b00",
   "metadata": {},
   "source": [
    "### 3. Develop a program to find the maximum of two numbers using if-else statements."
   ]
  },
  {
   "cell_type": "code",
   "execution_count": 3,
   "id": "de502b37",
   "metadata": {},
   "outputs": [
    {
     "name": "stdout",
     "output_type": "stream",
     "text": [
      "45 is greater than 24\n"
     ]
    }
   ],
   "source": [
    "## Assuming two user input \n",
    "number1 = 24\n",
    "number2 =45\n",
    "\n",
    "## Check for greater number\n",
    "if number1> number2:\n",
    "    print(number1,\"is greater than\",number2)\n",
    "\n",
    "else:\n",
    "    print(number2,\"is greater than\",number1)"
   ]
  },
  {
   "cell_type": "markdown",
   "id": "709017ce",
   "metadata": {},
   "source": [
    "### 4. Write a Python script to classify a given year as a leap year or not."
   ]
  },
  {
   "cell_type": "code",
   "execution_count": 4,
   "id": "14c0d37b",
   "metadata": {},
   "outputs": [
    {
     "name": "stdout",
     "output_type": "stream",
     "text": [
      "1996 is the leap year.\n"
     ]
    }
   ],
   "source": [
    "## Assuming the user input\n",
    "year = 1996\n",
    "\n",
    "# Logic to check for leap year\n",
    "if (year % 4 == 0 and year % 100 != 0) or (year % 400 == 0):\n",
    "    print(year,\"is the leap year.\")\n",
    "else:\n",
    "    print(year,\"is not the leap year\")"
   ]
  },
  {
   "cell_type": "markdown",
   "id": "3837638e",
   "metadata": {},
   "source": [
    "### 5. Create a program that checks whether a character is a vowel or a consonant."
   ]
  },
  {
   "cell_type": "code",
   "execution_count": 5,
   "id": "4616485d",
   "metadata": {},
   "outputs": [
    {
     "name": "stdout",
     "output_type": "stream",
     "text": [
      "Character is vowel.\n"
     ]
    }
   ],
   "source": [
    "## assuming input char \n",
    "input_char = 'e'\n",
    "\n",
    "## check for vowel\n",
    "if input_char in ['a','e','i','o','u']:\n",
    "    print(\"Character is vowel.\")\n",
    "\n",
    "else:\n",
    "    print(\"Character is consonant.\")"
   ]
  },
  {
   "cell_type": "markdown",
   "id": "d897818f",
   "metadata": {},
   "source": [
    "### 6. Implement a program to determine whether a given number is even or odd."
   ]
  },
  {
   "cell_type": "code",
   "execution_count": 6,
   "id": "8234d70e",
   "metadata": {},
   "outputs": [
    {
     "name": "stdout",
     "output_type": "stream",
     "text": [
      "18 is even.\n"
     ]
    }
   ],
   "source": [
    "## Assuming input number\n",
    "number = 18\n",
    "\n",
    "## If remainder is 0 after dividing by 2 then it is even\n",
    "if number%2==0:\n",
    "    print(number,\"is even.\")\n",
    "\n",
    "else:\n",
    "    print(number,\"is odd.\")"
   ]
  },
  {
   "cell_type": "markdown",
   "id": "d391ccac",
   "metadata": {},
   "source": [
    "### 7. Write a Python function to calculate the absolute value of a number without using the `abs()` function."
   ]
  },
  {
   "cell_type": "code",
   "execution_count": 7,
   "id": "2790868a",
   "metadata": {},
   "outputs": [
    {
     "name": "stdout",
     "output_type": "stream",
     "text": [
      "4\n"
     ]
    }
   ],
   "source": [
    "## Assuming number input\n",
    "number = -4\n",
    "\n",
    "## Code logic for absolute number\n",
    "if number<0:\n",
    "    print(-number)\n",
    "\n",
    "else:\n",
    "    print(number)"
   ]
  },
  {
   "cell_type": "markdown",
   "id": "dbc3fee2",
   "metadata": {},
   "source": [
    "### 8. Develop a program that determines the largest of three given numbers using if-else statements."
   ]
  },
  {
   "cell_type": "code",
   "execution_count": 8,
   "id": "74c6565b",
   "metadata": {},
   "outputs": [
    {
     "name": "stdout",
     "output_type": "stream",
     "text": [
      "54 is greatest.\n"
     ]
    }
   ],
   "source": [
    "## Assuming three number input\n",
    "number1 = 6\n",
    "number2 = 54\n",
    "number3 = 14\n",
    "\n",
    "## check for the number1 is greater than 2 and 3 and then for number2 accordingly\n",
    "if number1>number2 and number1>number3:\n",
    "    print(number1,\"is the greatest.\")\n",
    "\n",
    "elif number2>number1 and number2 > number3:\n",
    "    print(number2,\"is greatest.\")\n",
    "\n",
    "else:\n",
    "    print(number3,\"is greatest.\")"
   ]
  },
  {
   "cell_type": "markdown",
   "id": "015b6d77",
   "metadata": {},
   "source": [
    "### 9. Create a program that checks if a given string is a palindrome."
   ]
  },
  {
   "cell_type": "code",
   "execution_count": 9,
   "id": "4d587843",
   "metadata": {},
   "outputs": [
    {
     "name": "stdout",
     "output_type": "stream",
     "text": [
      "madam is palindrome.\n"
     ]
    }
   ],
   "source": [
    "## Assuming the user input \n",
    "user_input = \"madam\"\n",
    "\n",
    "## reverse the string and check for equalness\n",
    "if user_input == user_input[::-1]:\n",
    "    print(user_input,'is palindrome.')\n",
    "\n",
    "else:\n",
    "    print(user_input,'is not palindrome.')"
   ]
  },
  {
   "cell_type": "markdown",
   "id": "a5156401",
   "metadata": {},
   "source": [
    "### 10. Write a Python program to calculate the grade based on a student's score."
   ]
  },
  {
   "cell_type": "code",
   "execution_count": 10,
   "id": "a78f919f",
   "metadata": {},
   "outputs": [
    {
     "name": "stdout",
     "output_type": "stream",
     "text": [
      "Grade C.\n"
     ]
    }
   ],
   "source": [
    "## Assumption is above 90- Grade A, Above 80 - Grade B, Above 60 - Grade C and Below 60 is grade D\n",
    "score = 74\n",
    "\n",
    "## Use the if and then elif statement to check for score and then assign grade\n",
    "if score > 90:\n",
    "    print(\" Grade A.\")\n",
    "\n",
    "elif score > 80:\n",
    "    print(\"Grade B.\")\n",
    "\n",
    "elif score > 60:\n",
    "    print(\"Grade C.\")\n",
    "\n",
    "else:\n",
    "    print(\"Grade D.\")"
   ]
  },
  {
   "cell_type": "markdown",
   "id": "2c271147",
   "metadata": {},
   "source": [
    "## Nested If-Else Statements"
   ]
  },
  {
   "cell_type": "markdown",
   "id": "09c0c09c",
   "metadata": {},
   "source": [
    "### 11. Write a program to find the largest among three numbers using nested if-else statements."
   ]
  },
  {
   "cell_type": "code",
   "execution_count": 11,
   "id": "6bb05cd4",
   "metadata": {},
   "outputs": [
    {
     "name": "stdout",
     "output_type": "stream",
     "text": [
      "Largest number is : 99\n"
     ]
    }
   ],
   "source": [
    "## Assuming three number input\n",
    "num1 = 6\n",
    "num2 = 54\n",
    "num3 = 99\n",
    "\n",
    "## check for the number1 is greater than 2 and 3 and then for number2 accordingly\n",
    "if num1 >= num2:\n",
    "    if num1 >= num3:\n",
    "        largest = num1\n",
    "    else:\n",
    "        largest = num3\n",
    "else:\n",
    "    if num2 >= num3:\n",
    "        largest = num2\n",
    "    else:\n",
    "        largest = num3\n",
    "\n",
    "print(\"Largest number is :\",largest)"
   ]
  },
  {
   "cell_type": "markdown",
   "id": "23f101e7",
   "metadata": {},
   "source": [
    "### 12. Implement a program to determine if a triangle is equilateral, isosceles, or scalene."
   ]
  },
  {
   "cell_type": "code",
   "execution_count": 12,
   "id": "1729498c",
   "metadata": {},
   "outputs": [
    {
     "name": "stdout",
     "output_type": "stream",
     "text": [
      "Isosceles triangle.\n"
     ]
    }
   ],
   "source": [
    "## Assuming the user input\n",
    "side1 = 14\n",
    "side2 = 15\n",
    "side3 = 14\n",
    "\n",
    "## check for equalness for triangle sides\n",
    "if side1 == side2 == side3:\n",
    "    print(\"Equilateral triangle.\")\n",
    "\n",
    "if side1 == side2 or side2==side3 or side1==side3:\n",
    "    print(\"Isosceles triangle.\")\n",
    "\n",
    "else:\n",
    "    print(\"Scalene Triangle.\")"
   ]
  },
  {
   "cell_type": "markdown",
   "id": "989811f6",
   "metadata": {},
   "source": [
    "### 13. Develop a program that checks if a year is a leap year and also if it is a century year."
   ]
  },
  {
   "cell_type": "code",
   "execution_count": 13,
   "id": "000aea0e",
   "metadata": {},
   "outputs": [
    {
     "name": "stdout",
     "output_type": "stream",
     "text": [
      "2000 is a leap year.\n",
      "2000 is also a century year.\n"
     ]
    }
   ],
   "source": [
    "## Year input\n",
    "year = 2000\n",
    "\n",
    "# Check if it's a leap year\n",
    "if (year % 4 == 0 and year % 100 != 0) or (year % 400 == 0):\n",
    "    print(f\"{year} is a leap year.\")\n",
    "    \n",
    "    # Check if it's a century year\n",
    "    if year % 100 == 0:\n",
    "        print(f\"{year} is also a century year.\")\n",
    "else:\n",
    "    print(f\"{year} is not a leap year.\")"
   ]
  },
  {
   "cell_type": "markdown",
   "id": "c230b246",
   "metadata": {},
   "source": [
    "### 14. Write a Python script to determine if a number is positive, negative, or zero."
   ]
  },
  {
   "cell_type": "code",
   "execution_count": 14,
   "id": "43af5a5f",
   "metadata": {},
   "outputs": [
    {
     "name": "stdout",
     "output_type": "stream",
     "text": [
      "Number is Negative.\n"
     ]
    }
   ],
   "source": [
    "## Assuming the number \n",
    "number = -4\n",
    "\n",
    "## Check for positive, negative and zero.\n",
    "if number == 0:\n",
    "    print('Number is zero.')\n",
    "\n",
    "elif number >0 :\n",
    "    print(\"Number is positive.\")\n",
    "\n",
    "else:\n",
    "    print(\"Number is Negative.\")"
   ]
  },
  {
   "cell_type": "markdown",
   "id": "e0af38fa",
   "metadata": {},
   "source": [
    "### 15. Create a program to check if a person is a teenager (between 13 and 19 years old)."
   ]
  },
  {
   "cell_type": "code",
   "execution_count": 15,
   "id": "baadb2fe",
   "metadata": {},
   "outputs": [
    {
     "name": "stdout",
     "output_type": "stream",
     "text": [
      "Person is teenager.\n"
     ]
    }
   ],
   "source": [
    "## Assuming age\n",
    "age = 18\n",
    "\n",
    "## check for the range\n",
    "if age >=13 and age <=19:\n",
    "    print(\"Person is teenager.\")\n",
    "\n",
    "else:\n",
    "    print(\"Person is not a teenager.\")"
   ]
  },
  {
   "cell_type": "markdown",
   "id": "b0cd9524",
   "metadata": {},
   "source": [
    "### 16. Develop a program that determines the type of angle based on its measure (acute, obtuse, or right)."
   ]
  },
  {
   "cell_type": "code",
   "execution_count": 16,
   "id": "9e986ef4",
   "metadata": {},
   "outputs": [
    {
     "name": "stdout",
     "output_type": "stream",
     "text": [
      "Acute angle.\n"
     ]
    }
   ],
   "source": [
    "## Angle input\n",
    "angle = 56\n",
    "\n",
    "if angle == 90:\n",
    "    print(\"Right angle.\")\n",
    "\n",
    "elif angle <90:\n",
    "    print(\"Acute angle.\")\n",
    "\n",
    "else:\n",
    "    print(\"Obtuse Angle.\")"
   ]
  },
  {
   "cell_type": "markdown",
   "id": "961434a2",
   "metadata": {},
   "source": [
    "### 17. Write a Python program to calculate the roots of a quadratic equation."
   ]
  },
  {
   "cell_type": "code",
   "execution_count": 17,
   "id": "981c23c6",
   "metadata": {},
   "outputs": [
    {
     "name": "stdout",
     "output_type": "stream",
     "text": [
      "Root 1: -0.5857864376269049\n",
      "Root 2: -3.414213562373095\n"
     ]
    }
   ],
   "source": [
    "import math\n",
    "## Quadratic Equation as Input in form ax^2+bx+c = 0\n",
    "a = 1\n",
    "b = 4\n",
    "c = 2\n",
    "\n",
    "\n",
    "# Calculate the discriminant\n",
    "discriminant = b**2 - 4*a*c\n",
    "\n",
    "# Check the discriminant for the type of roots\n",
    "if discriminant > 0:\n",
    "    # Two real and distinct roots\n",
    "    root1 = (-b + math.sqrt(discriminant)) / (2*a)\n",
    "    root2 = (-b - math.sqrt(discriminant)) / (2*a)\n",
    "    print(f\"Root 1: {root1}\")\n",
    "    print(f\"Root 2: {root2}\")\n",
    "elif discriminant == 0:\n",
    "    # One real root (repeated)\n",
    "    root = -b / (2*a)\n",
    "    print(f\"Root: {root}\")\n",
    "else:\n",
    "    # Complex roots\n",
    "    realPart = -b / (2*a)\n",
    "    imaginaryPart = math.sqrt(abs(discriminant)) / (2*a)\n",
    "    print(f\"Root 1: {realPart} + {imaginaryPart}i\")\n",
    "    print(f\"Root 2: {realPart} - {imaginaryPart}i\")"
   ]
  },
  {
   "cell_type": "markdown",
   "id": "8d3ec154",
   "metadata": {},
   "source": [
    "### 18. Implement a program to determine the day of the week based on a user-provided number (1 for Monday, 2 for Tuesday, etc.)."
   ]
  },
  {
   "cell_type": "code",
   "execution_count": 18,
   "id": "76da1b5c",
   "metadata": {},
   "outputs": [
    {
     "name": "stdout",
     "output_type": "stream",
     "text": [
      "Wednesday\n"
     ]
    }
   ],
   "source": [
    "## User input\n",
    "day_input =3\n",
    "\n",
    "if day_input ==1:\n",
    "    print(\"Monday\")\n",
    "elif day_input ==2:\n",
    "    print(\"Tuesday\")\n",
    "elif day_input ==3:\n",
    "    print(\"Wednesday\")\n",
    "elif day_input ==4:\n",
    "    print(\"Thursday\")\n",
    "elif day_input ==5:\n",
    "    print(\"Friday\")\n",
    "elif day_input ==6:\n",
    "    print('Saturday')\n",
    "else:\n",
    "    print('Sunday')"
   ]
  },
  {
   "cell_type": "markdown",
   "id": "7d3fc8e7",
   "metadata": {},
   "source": [
    "### 19. Create a program that determines if a year is a leap year and also if it is evenly divisible by 400."
   ]
  },
  {
   "cell_type": "code",
   "execution_count": 19,
   "id": "8b579055",
   "metadata": {},
   "outputs": [
    {
     "name": "stdout",
     "output_type": "stream",
     "text": [
      "2000 is a leap year.\n",
      "2000 is also evenly divisible by 400.\n"
     ]
    }
   ],
   "source": [
    "## Year input\n",
    "year = 2000\n",
    "\n",
    "# Check if it's a leap year\n",
    "if (year % 4 == 0 and year % 100 != 0) or (year % 400 == 0):\n",
    "    print(f\"{year} is a leap year.\")\n",
    "    \n",
    "    # Check if it's a century year\n",
    "    if year % 400 == 0:\n",
    "        print(f\"{year} is also evenly divisible by 400.\")\n",
    "else:\n",
    "    print(f\"{year} is not a leap year.\")"
   ]
  },
  {
   "cell_type": "markdown",
   "id": "4b538434",
   "metadata": {},
   "source": [
    "### 20. Develop a program that checks if a given number is prime or not using nested if-else statements."
   ]
  },
  {
   "cell_type": "code",
   "execution_count": 20,
   "id": "4ba70011",
   "metadata": {},
   "outputs": [
    {
     "name": "stdout",
     "output_type": "stream",
     "text": [
      "Prime Number.\n"
     ]
    }
   ],
   "source": [
    "## User input \n",
    "num = 17\n",
    "\n",
    "# Check if the number is less than 2 (not prime)\n",
    "if num < 2:\n",
    "    print(f\"{num} is not a prime number.\")\n",
    "else:\n",
    "    # Check for divisibility from 2 to the square root of the number\n",
    "    is_prime = True  # Assume the number is prime initially\n",
    "    for i in range(2, int(num**0.5) + 1):\n",
    "        if num % i == 0:\n",
    "            is_prime = False  # If the number is divisible, it's not prime\n",
    "            break\n",
    "if is_prime:\n",
    "    print(\"Prime Number.\")\n",
    "\n",
    "else:\n",
    "    print('Not a Prime Number.')"
   ]
  },
  {
   "cell_type": "markdown",
   "id": "b5910dce",
   "metadata": {},
   "source": [
    "## Elif Statements"
   ]
  },
  {
   "cell_type": "markdown",
   "id": "82538498",
   "metadata": {},
   "source": [
    "### 21. Write a Python program to assign grades based on different ranges of scores using elif statements."
   ]
  },
  {
   "cell_type": "code",
   "execution_count": 21,
   "id": "9d430842",
   "metadata": {},
   "outputs": [
    {
     "name": "stdout",
     "output_type": "stream",
     "text": [
      "C\n"
     ]
    }
   ],
   "source": [
    "## Score ranges : 90-100: A+, 80-90:A,70-80:B+ ,60-70-B, 40-60:C, below 40: D\n",
    "## Assuming the score input\n",
    "score = 54\n",
    "\n",
    "# Provide range in if and elif block\n",
    "if score<100 and score>=90:\n",
    "    print('A+')\n",
    "elif score<90 and score>=80:\n",
    "    print('A')\n",
    "elif score<80 and score>=70:\n",
    "    print('B+')\n",
    "elif score<70 and score>=60:\n",
    "    print('B')\n",
    "elif score<60 and score>=40:\n",
    "    print('C')\n",
    "else:\n",
    "    print('D')"
   ]
  },
  {
   "cell_type": "markdown",
   "id": "0d817d0c",
   "metadata": {},
   "source": [
    "### 22. Implement a program to determine the type of a triangle based on its angles."
   ]
  },
  {
   "cell_type": "code",
   "execution_count": 22,
   "id": "f69996f7",
   "metadata": {},
   "outputs": [
    {
     "name": "stdout",
     "output_type": "stream",
     "text": [
      "Acute Angle.\n"
     ]
    }
   ],
   "source": [
    "## Angle range, 0-90:Acute angle, 90: Right Angle, 90-360:Obtuse Angle\n",
    "## Assuming angle input\n",
    "angle = 56\n",
    "\n",
    "if angle >0 and angle<90:\n",
    "    print('Acute Angle.')\n",
    "elif angle==90:\n",
    "    print('Right Angle.')\n",
    "else:\n",
    "    print('Obtuse Angle')"
   ]
  },
  {
   "cell_type": "markdown",
   "id": "26d07ed4",
   "metadata": {},
   "source": [
    "### 23. Develop a program to categorize a given person's BMI into underweight, normal, overweight, or obese using elif statements."
   ]
  },
  {
   "cell_type": "code",
   "execution_count": 23,
   "id": "3b49e437",
   "metadata": {},
   "outputs": [
    {
     "name": "stdout",
     "output_type": "stream",
     "text": [
      "Healthy\n"
     ]
    }
   ],
   "source": [
    "## BMI < 18.5:underweight , BMI is 18.5 -24.9: Healthy Weight,BMI is 25.0-29.9: overweight, BMI is higher than 30.0: obese\n",
    "# BMI input\n",
    "BMI = 21.3\n",
    "\n",
    "if BMI <= 18.5:\n",
    "    print('Underweight')\n",
    "\n",
    "elif BMI > 18.5 and BMI <= 24.9:\n",
    "    print('Healthy')\n",
    "\n",
    "elif BMI >24.9 and BMI <= 29.9:\n",
    "    print('Overweight')\n",
    "\n",
    "else:\n",
    "    print('Obese')"
   ]
  },
  {
   "cell_type": "markdown",
   "id": "5aa5f23a",
   "metadata": {},
   "source": [
    "### 24. Create a program that determines whether a given number is positive, negative, or zero using elif statements."
   ]
  },
  {
   "cell_type": "code",
   "execution_count": 24,
   "id": "3cd88106",
   "metadata": {},
   "outputs": [
    {
     "name": "stdout",
     "output_type": "stream",
     "text": [
      "Negative\n"
     ]
    }
   ],
   "source": [
    "## Assuming user input\n",
    "user_input = -5\n",
    "\n",
    "if user_input>0:\n",
    "    print('Positive')\n",
    "\n",
    "elif user_input==0:\n",
    "    print('Zero')\n",
    "\n",
    "else:\n",
    "    print('Negative')"
   ]
  },
  {
   "cell_type": "markdown",
   "id": "f88b18cf",
   "metadata": {},
   "source": [
    "### 25. Write a Python script to determine the type of a character (uppercase, lowercase, or special) using elif statements."
   ]
  },
  {
   "cell_type": "code",
   "execution_count": 25,
   "id": "49f7928e",
   "metadata": {},
   "outputs": [
    {
     "name": "stdout",
     "output_type": "stream",
     "text": [
      "Special Character\n"
     ]
    }
   ],
   "source": [
    "## Assuming user input\n",
    "char = '@'\n",
    "\n",
    "if char.isupper():\n",
    "    print('Uppercase')\n",
    "\n",
    "elif char.islower():\n",
    "    print('Lowercase')\n",
    "\n",
    "else:\n",
    "    print('Special Character')"
   ]
  },
  {
   "cell_type": "markdown",
   "id": "220d2874",
   "metadata": {},
   "source": [
    "### 26. Implement a program to calculate the discounted price based on different purchase amounts using elif statements."
   ]
  },
  {
   "cell_type": "code",
   "execution_count": 26,
   "id": "d9b5928d",
   "metadata": {},
   "outputs": [
    {
     "name": "stdout",
     "output_type": "stream",
     "text": [
      "Discount is : 200.0\n"
     ]
    }
   ],
   "source": [
    "## Range Assumption\n",
    "## Above 500: 2%\n",
    "## Between 500-1000: 5%\n",
    "## Between 1000-5000: 10%\n",
    "## Above 5000: 15%\n",
    "\n",
    "purchase_amount = 2000\n",
    "\n",
    "if purchase_amount >0 and purchase_amount<500:\n",
    "    print(\"Discount is :\",purchase_amount*0.02)\n",
    "\n",
    "elif purchase_amount >500 and purchase_amount < 1000:\n",
    "    print(\"Discount is :\",purchase_amount * 0.05)\n",
    "    \n",
    "elif purchase_amount >1000 and purchase_amount < 5000:\n",
    "    print('Discount is :',purchase_amount * 0.1)\n",
    "    \n",
    "else:\n",
    "    print('Discount is :',purchase_amount*0.15)"
   ]
  },
  {
   "cell_type": "markdown",
   "id": "345dac59",
   "metadata": {},
   "source": [
    "### 27. Develop a program to calculate the electricity bill based on different consumption slabs using elif statements."
   ]
  },
  {
   "cell_type": "code",
   "execution_count": 27,
   "id": "a4f03c88",
   "metadata": {},
   "outputs": [
    {
     "name": "stdout",
     "output_type": "stream",
     "text": [
      "Electricity bill: 924.3000000000001\n"
     ]
    }
   ],
   "source": [
    "## Range, 0-50 units : 4.11 ruppee, 51-100 units :5.56 ruppee, 101-200 units : 7.11, Above 200 units :8.16\n",
    "units = 130\n",
    "\n",
    "if units > 0 and units<=50:\n",
    "    print(\"Electricity bill:\",units*4.11)\n",
    "\n",
    "elif units>50 and units <=100:\n",
    "    print(\"Electricity bill:\",units*5.56)\n",
    "\n",
    "elif units>100 and units <= 200:\n",
    "    print(\"Electricity bill:\",units*7.11)\n",
    "    \n",
    "else:\n",
    "    print(\"Electricity bill:\",units*8.16)"
   ]
  },
  {
   "cell_type": "markdown",
   "id": "7cdfd614",
   "metadata": {},
   "source": [
    "### 28. Create a program to determine the type of quadrilateral based on its angles and sides using elif statements."
   ]
  },
  {
   "cell_type": "code",
   "execution_count": 28,
   "id": "71c138af",
   "metadata": {},
   "outputs": [
    {
     "name": "stdout",
     "output_type": "stream",
     "text": [
      "It's a kite.\n"
     ]
    }
   ],
   "source": [
    "## User input for sides and angles\n",
    "sides1 = 30\n",
    "sides2 = 40\n",
    "sides3 = 40\n",
    "sides4 = 40\n",
    "\n",
    "angle1=60\n",
    "angle2=60\n",
    "angle3=60\n",
    "angle4=60\n",
    "\n",
    "# Check for different types of quadrilaterals\n",
    "if angle1 == angle2 == angle3 == angle4 == 90:\n",
    "    if side1 == side2 == side3 == side4:\n",
    "        print(\"It's a square.\")\n",
    "    else:\n",
    "        print(\"It's a rectangle.\")\n",
    "elif side1 == side2 == side3 == side4:\n",
    "    if angle1 == angle2 == angle3 == angle4:\n",
    "        print(\"It's a rhombus.\")\n",
    "    else:\n",
    "        print(\"It's a parallelogram.\")\n",
    "elif (angle1 == angle2 and angle3 == angle4) or (angle1 == angle3 and angle2 == angle4):\n",
    "    print(\"It's a kite.\")\n",
    "elif (angle1 == angle2 == angle3) or (angle2 == angle3 == angle4):\n",
    "    print(\"It's an isosceles trapezoid.\")\n",
    "else:\n",
    "    print(\"It's a general quadrilateral.\")"
   ]
  },
  {
   "cell_type": "markdown",
   "id": "cf42df8a",
   "metadata": {},
   "source": [
    "### 29. Write a Python script to determine the season based on a user-provided month using elif statements."
   ]
  },
  {
   "cell_type": "code",
   "execution_count": 29,
   "id": "ffeb4fa3",
   "metadata": {},
   "outputs": [
    {
     "name": "stdout",
     "output_type": "stream",
     "text": [
      "Monsoon\n"
     ]
    }
   ],
   "source": [
    "## User input of month\n",
    "month = 'July'\n",
    "\n",
    "## condition for month\n",
    "if month in ['December','January']:\n",
    "    print('Winter')\n",
    "elif month in ['Feburary','March']:\n",
    "    print('Spring')\n",
    "elif month in ['April','May','June']:\n",
    "    print('Summer')\n",
    "elif month in ['July','August','September']:\n",
    "    print('Monsoon')\n",
    "elif month in ['October','November']:\n",
    "    print('Autumn')\n",
    "else:\n",
    "    print('Incorrect Input')"
   ]
  },
  {
   "cell_type": "markdown",
   "id": "2fbf28e9",
   "metadata": {},
   "source": [
    "### 30. Implement a program to determine the type of a year (leap or common) and month (30 or 31 days) using elif statements."
   ]
  },
  {
   "cell_type": "code",
   "execution_count": 30,
   "id": "721453fd",
   "metadata": {},
   "outputs": [
    {
     "name": "stdout",
     "output_type": "stream",
     "text": [
      "Year is : leap\n",
      "Days in month: 30\n"
     ]
    }
   ],
   "source": [
    "## User input\n",
    "year = 2000\n",
    "month = 6\n",
    "\n",
    "# Check if it's a leap year\n",
    "if (year % 4 == 0 and year % 100 != 0) or (year % 400 == 0):\n",
    "    year_type = \"leap\"\n",
    "else:\n",
    "    year_type = \"Not a leap\"\n",
    "    \n",
    "# Check the number of days in the month\n",
    "if month == 2:\n",
    "    if year_type == \"leap\":\n",
    "        days_in_month = 29\n",
    "    else:\n",
    "        days_in_month = 28\n",
    "elif month in [4, 6, 9, 11]:\n",
    "    days_in_month = 30\n",
    "else:\n",
    "    days_in_month = 31\n",
    "\n",
    "print(\"Year is :\",year_type)\n",
    "print('Days in month:',days_in_month)"
   ]
  },
  {
   "cell_type": "markdown",
   "id": "adfda0cb",
   "metadata": {},
   "source": [
    "## Basic Level"
   ]
  },
  {
   "cell_type": "markdown",
   "id": "432c8020",
   "metadata": {},
   "source": [
    "### 1. Write a Python program that checks if a given number is positive, negative, or zero."
   ]
  },
  {
   "cell_type": "code",
   "execution_count": 31,
   "id": "8fb27f82",
   "metadata": {},
   "outputs": [
    {
     "name": "stdout",
     "output_type": "stream",
     "text": [
      "Negative\n"
     ]
    }
   ],
   "source": [
    "## Assuming user input\n",
    "user_input = -5\n",
    "\n",
    "if user_input>0:\n",
    "    print('Positive')\n",
    "\n",
    "elif user_input==0:\n",
    "    print('Zero')\n",
    "\n",
    "else:\n",
    "    print('Negative')"
   ]
  },
  {
   "cell_type": "markdown",
   "id": "27278ee5",
   "metadata": {},
   "source": [
    "### 2. Create a program to determine if a person is eligible to vote based on their age."
   ]
  },
  {
   "cell_type": "code",
   "execution_count": 32,
   "id": "b7798ed9",
   "metadata": {},
   "outputs": [
    {
     "name": "stdout",
     "output_type": "stream",
     "text": [
      "Person is eligible to vote.\n"
     ]
    }
   ],
   "source": [
    "## Assuming person age\n",
    "age = 34\n",
    "\n",
    "#if age is greater than 18 he/she can vote\n",
    "if age >= 18:\n",
    "    print(\"Person is eligible to vote.\")\n",
    "\n",
    "else:\n",
    "    print(\"Person is not eligible to vote.\")"
   ]
  },
  {
   "cell_type": "markdown",
   "id": "aaf0311a",
   "metadata": {},
   "source": [
    "### 3. Write a program to find the maximum of two given numbers using conditional statements."
   ]
  },
  {
   "cell_type": "code",
   "execution_count": 33,
   "id": "6b9dc787",
   "metadata": {},
   "outputs": [
    {
     "name": "stdout",
     "output_type": "stream",
     "text": [
      "45 is greater than 24\n"
     ]
    }
   ],
   "source": [
    "## Assuming two user input \n",
    "number1 = 24\n",
    "number2 =45\n",
    "\n",
    "## Check for greater number\n",
    "if number1> number2:\n",
    "    print(number1,\"is greater than\",number2)\n",
    "\n",
    "else:\n",
    "    print(number2,\"is greater than\",number1)"
   ]
  },
  {
   "cell_type": "markdown",
   "id": "df6c5eec",
   "metadata": {},
   "source": [
    "### 4. Develop a program that calculates the grade of a student based on their exam score."
   ]
  },
  {
   "cell_type": "code",
   "execution_count": 34,
   "id": "65bfe99c",
   "metadata": {},
   "outputs": [
    {
     "name": "stdout",
     "output_type": "stream",
     "text": [
      "C\n"
     ]
    }
   ],
   "source": [
    "## Score ranges : 90-100: A+, 80-90:A,70-80:B+ ,60-70-B, 40-60:C, below 40: D\n",
    "## Assuming the score input\n",
    "score = 54\n",
    "\n",
    "# Provide range in if and elif block\n",
    "if score<100 and score>=90:\n",
    "    print('A+')\n",
    "elif score<90 and score>=80:\n",
    "    print('A')\n",
    "elif score<80 and score>=70:\n",
    "    print('B+')\n",
    "elif score<70 and score>=60:\n",
    "    print('B')\n",
    "elif score<60 and score>=40:\n",
    "    print('C')\n",
    "else:\n",
    "    print('D')"
   ]
  },
  {
   "cell_type": "markdown",
   "id": "922553ec",
   "metadata": {},
   "source": [
    "### 5. Create a program that checks if a year is a leap year or not."
   ]
  },
  {
   "cell_type": "code",
   "execution_count": 35,
   "id": "4341559b",
   "metadata": {},
   "outputs": [
    {
     "name": "stdout",
     "output_type": "stream",
     "text": [
      "1996 is the leap year.\n"
     ]
    }
   ],
   "source": [
    "## Assuming the user input\n",
    "year = 1996\n",
    "\n",
    "# Logic to check for leap year\n",
    "if (year % 4 == 0 and year % 100 != 0) or (year % 400 == 0):\n",
    "    print(year,\"is the leap year.\")\n",
    "else:\n",
    "    print(year,\"is not the leap year\")"
   ]
  },
  {
   "cell_type": "markdown",
   "id": "808abce1",
   "metadata": {},
   "source": [
    "### 6. Write a program to classify a triangle based on its sides' lengths."
   ]
  },
  {
   "cell_type": "code",
   "execution_count": 36,
   "id": "b5a5f272",
   "metadata": {},
   "outputs": [
    {
     "name": "stdout",
     "output_type": "stream",
     "text": [
      "Isosceles triangle.\n"
     ]
    }
   ],
   "source": [
    "## Assuming the user input\n",
    "side1 = 14\n",
    "side2 = 15\n",
    "side3 = 14\n",
    "\n",
    "## check for equalness for triangle sides\n",
    "if side1 == side2 == side3:\n",
    "    print(\"Equilateral triangle.\")\n",
    "\n",
    "if side1 == side2 or side2==side3 or side1==side3:\n",
    "    print(\"Isosceles triangle.\")\n",
    "\n",
    "else:\n",
    "    print(\"Scalene Triangle.\")"
   ]
  },
  {
   "cell_type": "markdown",
   "id": "69183290",
   "metadata": {},
   "source": [
    "### 7. Build a program that determines the largest of three given numbers."
   ]
  },
  {
   "cell_type": "code",
   "execution_count": 37,
   "id": "fcf9a2c2",
   "metadata": {},
   "outputs": [
    {
     "name": "stdout",
     "output_type": "stream",
     "text": [
      "Largest number is : 99\n"
     ]
    }
   ],
   "source": [
    "## Assuming three number input\n",
    "num1 = 6\n",
    "num2 = 54\n",
    "num3 = 99\n",
    "\n",
    "## check for the number1 is greater than 2 and 3 and then for number2 accordingly\n",
    "if num1 >= num2:\n",
    "    if num1 >= num3:\n",
    "        largest = num1\n",
    "    else:\n",
    "        largest = num3\n",
    "else:\n",
    "    if num2 >= num3:\n",
    "        largest = num2\n",
    "    else:\n",
    "        largest = num3\n",
    "\n",
    "print(\"Largest number is :\",largest)"
   ]
  },
  {
   "cell_type": "markdown",
   "id": "0fa260f8",
   "metadata": {},
   "source": [
    "### 8. Develop a program that checks whether a character is a vowel or a consonant."
   ]
  },
  {
   "cell_type": "code",
   "execution_count": 38,
   "id": "829af522",
   "metadata": {},
   "outputs": [
    {
     "name": "stdout",
     "output_type": "stream",
     "text": [
      "Character is vowel.\n"
     ]
    }
   ],
   "source": [
    "## assuming input char \n",
    "input_char = 'e'\n",
    "\n",
    "## check for vowel\n",
    "if input_char in ['a','e','i','o','u']:\n",
    "    print(\"Character is vowel.\")\n",
    "\n",
    "else:\n",
    "    print(\"Character is consonant.\")"
   ]
  },
  {
   "cell_type": "markdown",
   "id": "f9a40e3e",
   "metadata": {},
   "source": [
    "### 9. Create a program to calculate the total cost of a shopping cart based on discounts."
   ]
  },
  {
   "cell_type": "code",
   "execution_count": 39,
   "id": "9e094f26",
   "metadata": {},
   "outputs": [
    {
     "name": "stdout",
     "output_type": "stream",
     "text": [
      "Total Cost is : 1800.0\n"
     ]
    }
   ],
   "source": [
    "## Range Assumption\n",
    "## Above 500: 2%\n",
    "## Between 500-1000: 5%\n",
    "## Between 1000-5000: 10%\n",
    "## Above 5000: 15%\n",
    "\n",
    "purchase_amount = 2000\n",
    "\n",
    "if purchase_amount >0 and purchase_amount<500:\n",
    "    print(\"Total Cost is :\",purchase_amount -(purchase_amount*0.02))\n",
    "\n",
    "elif purchase_amount >500 and purchase_amount < 1000:\n",
    "    print(\"Total Cost is :\",purchase_amount - (purchase_amount * 0.05))\n",
    "    \n",
    "elif purchase_amount >1000 and purchase_amount < 5000:\n",
    "    print('Total Cost is :',purchase_amount - (purchase_amount * 0.1))\n",
    "    \n",
    "else:\n",
    "    print('Total Cost is :',purchase_amount -(purchase_amount*0.15))"
   ]
  },
  {
   "cell_type": "markdown",
   "id": "31c5ecc6",
   "metadata": {},
   "source": [
    "### 10. Write a program that checks if a given number is even or odd."
   ]
  },
  {
   "cell_type": "code",
   "execution_count": 40,
   "id": "0be5b100",
   "metadata": {},
   "outputs": [
    {
     "name": "stdout",
     "output_type": "stream",
     "text": [
      "18 is even.\n"
     ]
    }
   ],
   "source": [
    "## Assuming input number\n",
    "number = 18\n",
    "\n",
    "## If remainder is 0 after dividing by 2 then it is even\n",
    "if number%2==0:\n",
    "    print(number,\"is even.\")\n",
    "\n",
    "else:\n",
    "    print(number,\"is odd.\")"
   ]
  },
  {
   "cell_type": "markdown",
   "id": "ee52adbd",
   "metadata": {},
   "source": [
    "## Intermediate Level"
   ]
  },
  {
   "cell_type": "markdown",
   "id": "7982e885",
   "metadata": {},
   "source": [
    "### 11. Write a program that calculates the roots of a quadratic equation ."
   ]
  },
  {
   "cell_type": "code",
   "execution_count": 41,
   "id": "eabdea0a",
   "metadata": {},
   "outputs": [
    {
     "name": "stdout",
     "output_type": "stream",
     "text": [
      "Root 1: -0.5857864376269049\n",
      "Root 2: -3.414213562373095\n"
     ]
    }
   ],
   "source": [
    "import math\n",
    "## Quadratic Equation as Input in form ax^2+bx+c = 0\n",
    "a = 1\n",
    "b = 4\n",
    "c = 2\n",
    "\n",
    "\n",
    "# Calculate the discriminant\n",
    "discriminant = b**2 - 4*a*c\n",
    "\n",
    "# Check the discriminant for the type of roots\n",
    "if discriminant > 0:\n",
    "    # Two real and distinct roots\n",
    "    root1 = (-b + math.sqrt(discriminant)) / (2*a)\n",
    "    root2 = (-b - math.sqrt(discriminant)) / (2*a)\n",
    "    print(f\"Root 1: {root1}\")\n",
    "    print(f\"Root 2: {root2}\")\n",
    "elif discriminant == 0:\n",
    "    # One real root (repeated)\n",
    "    root = -b / (2*a)\n",
    "    print(f\"Root: {root}\")\n",
    "else:\n",
    "    # Complex roots\n",
    "    realPart = -b / (2*a)\n",
    "    imaginaryPart = math.sqrt(abs(discriminant)) / (2*a)\n",
    "    print(f\"Root 1: {realPart} + {imaginaryPart}i\")\n",
    "    print(f\"Root 2: {realPart} - {imaginaryPart}i\")"
   ]
  },
  {
   "cell_type": "markdown",
   "id": "26549d91",
   "metadata": {},
   "source": [
    "### 12. Create a program that determines the day of the week based on the day number (1-7)."
   ]
  },
  {
   "cell_type": "code",
   "execution_count": 42,
   "id": "e7593d9d",
   "metadata": {},
   "outputs": [
    {
     "name": "stdout",
     "output_type": "stream",
     "text": [
      "Wednesday\n"
     ]
    }
   ],
   "source": [
    "## User input\n",
    "day_input =3\n",
    "\n",
    "if day_input ==1:\n",
    "    print(\"Monday\")\n",
    "elif day_input ==2:\n",
    "    print(\"Tuesday\")\n",
    "elif day_input ==3:\n",
    "    print(\"Wednesday\")\n",
    "elif day_input ==4:\n",
    "    print(\"Thursday\")\n",
    "elif day_input ==5:\n",
    "    print(\"Friday\")\n",
    "elif day_input ==6:\n",
    "    print('Saturday')\n",
    "else:\n",
    "    print('Sunday')"
   ]
  },
  {
   "cell_type": "markdown",
   "id": "0e8f192b",
   "metadata": {},
   "source": [
    "### 13. Develop a program that calculates the factorial of a given number using recursion."
   ]
  },
  {
   "cell_type": "code",
   "execution_count": 43,
   "id": "3b012e28",
   "metadata": {},
   "outputs": [
    {
     "name": "stdout",
     "output_type": "stream",
     "text": [
      "The factorial of 17 is 355687428096000\n"
     ]
    }
   ],
   "source": [
    "# Function to calculate the factorial of a number using recursion\n",
    "def factorial(n):\n",
    "    if n == 0:\n",
    "        return 1  # Base case: factorial of 0 is 1\n",
    "    else:\n",
    "        return n * factorial(n - 1)\n",
    "\n",
    "# Input a number from the user\n",
    "n = 6\n",
    "\n",
    "# Check if the input is valid\n",
    "if num < 0:\n",
    "    print(\"Factorial is not defined for negative numbers.\")\n",
    "else:\n",
    "    result = factorial(num)\n",
    "    print(f\"The factorial of {num} is {result}\")"
   ]
  },
  {
   "cell_type": "markdown",
   "id": "fcb85223",
   "metadata": {},
   "source": [
    "### 14. Write a program to find the largest among three numbers without using the `max()` function."
   ]
  },
  {
   "cell_type": "code",
   "execution_count": 44,
   "id": "88d111ba",
   "metadata": {},
   "outputs": [
    {
     "name": "stdout",
     "output_type": "stream",
     "text": [
      "Largest number is : 99\n"
     ]
    }
   ],
   "source": [
    "## Assuming three number input\n",
    "num1 = 6\n",
    "num2 = 54\n",
    "num3 = 99\n",
    "\n",
    "## check for the number1 is greater than 2 and 3 and then for number2 accordingly\n",
    "if num1 >= num2:\n",
    "    if num1 >= num3:\n",
    "        largest = num1\n",
    "    else:\n",
    "        largest = num3\n",
    "else:\n",
    "    if num2 >= num3:\n",
    "        largest = num2\n",
    "    else:\n",
    "        largest = num3\n",
    "\n",
    "print(\"Largest number is :\",largest)"
   ]
  },
  {
   "cell_type": "markdown",
   "id": "1d35c187",
   "metadata": {},
   "source": [
    "### 15. Create a program that simulates a basic ATM transaction menu."
   ]
  },
  {
   "cell_type": "code",
   "execution_count": 45,
   "id": "026a898f",
   "metadata": {},
   "outputs": [
    {
     "name": "stdout",
     "output_type": "stream",
     "text": [
      "*************************\n",
      "1. Check Balance\n",
      "2. Deposit Money\n",
      "3. Withdraw\n",
      "4. Quit\n",
      "Enter your choice :1\n",
      "Your Balance is : 0\n",
      "*************************\n",
      "1. Check Balance\n",
      "2. Deposit Money\n",
      "3. Withdraw\n",
      "4. Quit\n",
      "Enter your choice :2\n",
      "Enter the amount you want to deposit:10000\n",
      "Deposited  10000 in your account.\n",
      "Final Balance: 10000\n",
      "*************************\n",
      "1. Check Balance\n",
      "2. Deposit Money\n",
      "3. Withdraw\n",
      "4. Quit\n",
      "Enter your choice :3\n",
      "Enter the amount you want to withdraw:1200\n",
      "Amount Withdrawn: 1200\n",
      "Final Balance: 8800\n",
      "*************************\n",
      "1. Check Balance\n",
      "2. Deposit Money\n",
      "3. Withdraw\n",
      "4. Quit\n",
      "Enter your choice :4\n",
      "Thank you for your using the ATM.\n"
     ]
    }
   ],
   "source": [
    "## Initialize the balance to zero\n",
    "\n",
    "balance = 0\n",
    "\n",
    "while True:\n",
    "    ## ATM Transcation Menu\n",
    "    print('*'*25)\n",
    "    print('1. Check Balance')\n",
    "    print('2. Deposit Money')\n",
    "    print('3. Withdraw')\n",
    "    print('4. Quit')\n",
    "    \n",
    "    input_choice = int(input('Enter your choice :'))\n",
    "    \n",
    "    ## If else conditions for different transcations\n",
    "    if input_choice == 1:\n",
    "        print('Your Balance is :',balance)\n",
    "    \n",
    "    elif input_choice == 2:\n",
    "        amount = int(input(\"Enter the amount you want to deposit:\"))\n",
    "        balance +=amount\n",
    "        print('Deposited ',amount,'in your account.')\n",
    "        print('Final Balance:',balance)\n",
    "        \n",
    "    elif input_choice == 3:\n",
    "        amount = int(input('Enter the amount you want to withdraw:'))\n",
    "        if amount<=balance:\n",
    "            balance-=amount\n",
    "            print('Amount Withdrawn:',amount)\n",
    "            print('Final Balance:',balance)\n",
    "        else:\n",
    "            print(\"Don't have sufficient balance.\")\n",
    "    \n",
    "    elif input_choice ==4:\n",
    "        print(\"Thank you for your using the ATM.\")\n",
    "        break\n",
    "    else:\n",
    "        print('Invalid choice !!! Please select a valid option.')\n",
    "    "
   ]
  },
  {
   "cell_type": "markdown",
   "id": "d4dcc9eb",
   "metadata": {},
   "source": [
    "### 16. Build a program that checks if a given string is a palindrome or not."
   ]
  },
  {
   "cell_type": "code",
   "execution_count": 46,
   "id": "92276cf5",
   "metadata": {},
   "outputs": [
    {
     "name": "stdout",
     "output_type": "stream",
     "text": [
      "madam is palindrome.\n"
     ]
    }
   ],
   "source": [
    "## Assuming the user input \n",
    "user_input = \"madam\"\n",
    "\n",
    "## reverse the string and check for equalness\n",
    "if user_input == user_input[::-1]:\n",
    "    print(user_input,'is palindrome.')\n",
    "\n",
    "else:\n",
    "    print(user_input,'is not palindrome.')"
   ]
  },
  {
   "cell_type": "markdown",
   "id": "fc714d38",
   "metadata": {},
   "source": [
    "### 17. Write a program that calculates the average of a list of numbers, excluding the smallest and largest values."
   ]
  },
  {
   "cell_type": "code",
   "execution_count": 47,
   "id": "fee5a691",
   "metadata": {},
   "outputs": [
    {
     "name": "stdout",
     "output_type": "stream",
     "text": [
      "Average of list excluding smallest and largest number: 17.0\n"
     ]
    }
   ],
   "source": [
    "## Assuming the user input list\n",
    "input_list = [34,21,45,7,4,8,3,28]\n",
    "\n",
    "## Taking the smallest and largest number out of list\n",
    "input_list.remove(min(input_list))\n",
    "input_list.remove(max(input_list))\n",
    "\n",
    "## Calculating the average\n",
    "total = 0\n",
    "length = len(input_list)\n",
    "\n",
    "for element in input_list:\n",
    "        total+=element\n",
    "print('Average of list excluding smallest and largest number:',total/length)"
   ]
  },
  {
   "cell_type": "markdown",
   "id": "78248902",
   "metadata": {},
   "source": [
    "### 18. Develop a program that converts a given temperature from Celsius to Fahrenheit."
   ]
  },
  {
   "cell_type": "code",
   "execution_count": 48,
   "id": "aefcd720",
   "metadata": {},
   "outputs": [
    {
     "name": "stdout",
     "output_type": "stream",
     "text": [
      "Temperature in Fahrenheit: 89.6\n"
     ]
    }
   ],
   "source": [
    "## Assuming user input\n",
    "celsius = 32\n",
    "\n",
    "## Calculating the temperature in Fahrenheit\n",
    "fahrenheit = (celsius*9/5)+32\n",
    "\n",
    "print('Temperature in Fahrenheit:',fahrenheit)"
   ]
  },
  {
   "cell_type": "markdown",
   "id": "c9177505",
   "metadata": {},
   "source": [
    "### 19. Create a program that simulates a basic calculator for addition, subtraction, multiplication, and division."
   ]
  },
  {
   "cell_type": "code",
   "execution_count": 72,
   "id": "90e3c6ea",
   "metadata": {},
   "outputs": [
    {
     "name": "stdout",
     "output_type": "stream",
     "text": [
      "Enter the 1st number:7\n",
      "Enter the 2nd number:14\n",
      "Enter the operation (+,-,*,/):+\n",
      "Final Result : 21\n"
     ]
    }
   ],
   "source": [
    "## Asking the user input\n",
    "number1 = int(input('Enter the 1st number:'))\n",
    "number2 = int(input(\"Enter the 2nd number:\"))\n",
    "operation = input(\"Enter the operation (+,-,*,/):\")\n",
    "\n",
    "## Performing the operation based on user input inside the elif conditions\n",
    "if operation == '+':\n",
    "    result = number1 + number2\n",
    "\n",
    "elif operation =='-':\n",
    "    result = number1 - number2\n",
    "\n",
    "elif operation == '*':\n",
    "    result = number1*number2\n",
    "\n",
    "elif operation =='/':\n",
    "    result = number1/number2\n",
    "\n",
    "else:\n",
    "    print(\"Invalid Operation\")\n",
    "\n",
    "print('Final Result :',result)"
   ]
  },
  {
   "cell_type": "markdown",
   "id": "5042df02",
   "metadata": {},
   "source": [
    "### 20. Write a program that determines the roots of a cubic equation using the Cardano formula."
   ]
  },
  {
   "cell_type": "code",
   "execution_count": 50,
   "id": "973f7c2b",
   "metadata": {},
   "outputs": [
    {
     "name": "stdout",
     "output_type": "stream",
     "text": [
      "Roots: (3.0, 1.0, 1.9999999999999998)\n"
     ]
    }
   ],
   "source": [
    "import math\n",
    "\n",
    "def solve_cubic(a, b, c, d):\n",
    "    \n",
    "    # Calculate some intermediate values\n",
    "    p = (3 * a * c - b ** 2) / (3 * a ** 2)\n",
    "    \n",
    "    q = (2 * b ** 3 - 9 * a * b * c + 27 * a ** 2 * d) / (27 * a ** 3)\n",
    "    \n",
    "    discriminant = q ** 2 / 4 + p ** 3 / 27\n",
    "    \n",
    "    if discriminant > 0:\n",
    "        # Three real roots\n",
    "        u = (-q / 2 + math.sqrt(discriminant)) ** (1/3)\n",
    "        v = (-q / 2 - math.sqrt(discriminant)) ** (1/3)\n",
    "        root1 = u + v - b / (3 * a)\n",
    "        real_part = -(u + v) / 2 - b / (3 * a)\n",
    "        imaginary_part = (u - v) * math.sqrt(3) / 2\n",
    "        root2 = complex(real_part, imaginary_part)\n",
    "        root3 = complex(real_part, -imaginary_part)\n",
    "    elif discriminant == 0:\n",
    "        # One real root and two complex roots\n",
    "        if q >= 0:\n",
    "            root1 = (-(q / 2) ** (1/3) - b / (3 * a))\n",
    "        else:\n",
    "            root1 = (-(q / 2) ** (1/3) - b / (3 * a))\n",
    "        real_part = ((q / 2) ** (1/3) - b / (3 * a))\n",
    "        imaginary_part = 0\n",
    "        root2 = complex(real_part, imaginary_part)\n",
    "        root3 = complex(real_part, -imaginary_part)\n",
    "    else:\n",
    "        # Three real roots (all irrational)\n",
    "        phi = math.acos(-q / 2 * math.sqrt(-27 / (p ** 3)))\n",
    "        root1 = 2 * math.sqrt(-p / 3) * math.cos(phi / 3) - b / (3 * a)\n",
    "        root2 = 2 * math.sqrt(-p / 3) * math.cos((phi + 2 * math.pi) / 3) - b / (3 * a)\n",
    "        root3 = 2 * math.sqrt(-p / 3) * math.cos((phi + 4 * math.pi) / 3) - b / (3 * a)\n",
    "\n",
    "    return root1, root2, root3\n",
    "\n",
    "# Example usage:\n",
    "a = 1\n",
    "b = -6\n",
    "c = 11\n",
    "d = -6\n",
    "\n",
    "roots = solve_cubic(a, b, c, d)\n",
    "print(\"Roots:\", roots)\n"
   ]
  },
  {
   "cell_type": "markdown",
   "id": "62b7cff2",
   "metadata": {},
   "source": [
    "## Advanced Level"
   ]
  },
  {
   "cell_type": "markdown",
   "id": "299d2d98",
   "metadata": {},
   "source": [
    "### 21. Create a program that calculates the income tax based on the user's income and tax brackets."
   ]
  },
  {
   "cell_type": "code",
   "execution_count": 51,
   "id": "b7e7898a",
   "metadata": {},
   "outputs": [
    {
     "name": "stdout",
     "output_type": "stream",
     "text": [
      "Tax amount: 330000.0\n"
     ]
    }
   ],
   "source": [
    "'''\n",
    "    AMOUNT                              INCOME TAX RATE\n",
    "    Rs.0 - Rs.3 lakh                    0% (No Tax)\n",
    "    Rs.3 lakh - Rs.6 lakh               5% \n",
    "    Rs.6 lakh - Rs.9 lakh               10% + 5% of 3 lakhs (15000)\n",
    "    Rs.9 lakh - Rs.12 lakh              15% + 15000 + 30000 (45000)\n",
    "    Rs.12 lakh - Rs.15 lakh             20% + 15000 + 30000 + 45000 (90000)\n",
    "    Above Rs. 15 lakh                   30% + 15000 + 30000 + 45000  + 60000 (150000)\n",
    "'''\n",
    "\n",
    "## Assuming user taxable income input\n",
    "taxable_income = 2100000\n",
    "\n",
    "## Caluclating the tax amount\n",
    "\n",
    "if taxable_income <=300000:\n",
    "    tax = 0\n",
    "    \n",
    "elif taxable_income <=600000:\n",
    "    tax = (taxable_income-300000)*5/100\n",
    "\n",
    "elif taxable_income <=900000:\n",
    "    tax = (taxable_income-600000)*10/100+15000\n",
    "\n",
    "elif taxable_income <=1200000:\n",
    "    tax = (taxable_income-900000)*15/100+45000\n",
    "\n",
    "elif taxable_income <=1500000:\n",
    "    tax = (taxable_income-1200000)*20/100+90000\n",
    "\n",
    "else:\n",
    "    tax = (taxable_income-1500000)*30/100+150000\n",
    "\n",
    "print('Tax amount:',tax)"
   ]
  },
  {
   "cell_type": "markdown",
   "id": "86bbe839",
   "metadata": {},
   "source": [
    "### 22. Write a program that simulates a rock-paper-scissors game against the computer."
   ]
  },
  {
   "cell_type": "code",
   "execution_count": 52,
   "id": "e6772f89",
   "metadata": {},
   "outputs": [
    {
     "name": "stdout",
     "output_type": "stream",
     "text": [
      "Enter your choice among ['rock', 'paper', 'scissor']:rock\n",
      "Rock smashes scissor !!! You win.\n"
     ]
    }
   ],
   "source": [
    "import random\n",
    "\n",
    "## All the actions in the game\n",
    "actions = ['rock','paper','scissor']\n",
    "\n",
    "## Asking the user input\n",
    "user_input = input(f'Enter your choice among {actions}:').lower()\n",
    "\n",
    "computer_choice = random.choice(actions)\n",
    "\n",
    "## Compare for game winner\n",
    "if user_input == computer_choice:\n",
    "    print(f'Both player selected {user_input}. It is Tie !!!!')\n",
    "\n",
    "elif user_input == 'rock':\n",
    "    if computer_choice=='scissor':\n",
    "        print('Rock smashes scissor !!! You win.')\n",
    "    else:\n",
    "        print('Paper covers rock !!! You lose')\n",
    "        \n",
    "elif user_input =='paper':\n",
    "    if computer_choice=='rock':\n",
    "        print('Paper covers rock !!! You win.')\n",
    "    else:\n",
    "        print('Scissor cuts paper !!! You lose.')\n",
    "\n",
    "elif user_input == 'scissor':\n",
    "    if computer_choice =='paper':\n",
    "        print('Scissor cuts paper !!! You win.')\n",
    "    else:\n",
    "        print('Rock smashes scissor !!! You lose')\n"
   ]
  },
  {
   "cell_type": "markdown",
   "id": "32344725",
   "metadata": {},
   "source": [
    "### 23. Develop a program that generates a random password based on user preferences (length, complexity)."
   ]
  },
  {
   "cell_type": "code",
   "execution_count": 53,
   "id": "b6d8800e",
   "metadata": {},
   "outputs": [
    {
     "name": "stdout",
     "output_type": "stream",
     "text": [
      "Enter the password length: 8\n",
      "Use lowercase letters? (yes/no): yes\n",
      "Use uppercase letters? (yes/no): yes\n",
      "Use digits? (yes/no): yes\n",
      "Use special characters? (yes/no): yes\n",
      "Generated Password: }l[_xq~s\n"
     ]
    }
   ],
   "source": [
    "# User preferences\n",
    "    \n",
    "length = int(input(\"Enter the password length: \"))\n",
    "use_lowercase = input(\"Use lowercase letters? (yes/no): \").lower() == \"yes\"\n",
    "use_uppercase = input(\"Use uppercase letters? (yes/no): \").lower() == \"yes\"\n",
    "use_digits = input(\"Use digits? (yes/no): \").lower() == \"yes\"\n",
    "use_special_chars = input(\"Use special characters? (yes/no): \").lower() == \"yes\"\n",
    "\n",
    "import random\n",
    "import string\n",
    "\n",
    "password = ''\n",
    "\n",
    "# Define character sets based on complexity preferences\n",
    "characters = \"\"\n",
    "if use_lowercase:\n",
    "    characters += string.ascii_lowercase\n",
    "if use_uppercase:\n",
    "    characters += string.ascii_uppercase\n",
    "if use_digits:\n",
    "    characters += string.digits\n",
    "if use_special_chars:\n",
    "    characters += string.punctuation\n",
    "\n",
    "# Check if at least one character set is selected\n",
    "if not characters:\n",
    "    print(\"Please select at least one character set.\")\n",
    "\n",
    "else:\n",
    "    # Generate the password\n",
    "    for i in range(length):\n",
    "        password+=random.choice(characters)\n",
    "\n",
    "    print('Generated Password:',password)"
   ]
  },
  {
   "cell_type": "markdown",
   "id": "375087bd",
   "metadata": {},
   "source": [
    "### 24. Create a program that implements a simple text-based adventure game with branching scenarios."
   ]
  },
  {
   "cell_type": "code",
   "execution_count": 54,
   "id": "894e446f",
   "metadata": {},
   "outputs": [
    {
     "name": "stdout",
     "output_type": "stream",
     "text": [
      "Welcome to the Text-Based Adventure Game!\n",
      "You find yourself in a dark forest.\n",
      "You can go 'left' or 'right'.\n",
      "Enter your choice: left\n",
      "You go left and find a clearing with a river.\n",
      "Do you want to 'cross' the river or 'explore' the clearing?\n",
      "Enter your choice: explore\n",
      "You explore the clearing and find a treasure chest.\n",
      "You win the game! Congratulations!\n"
     ]
    }
   ],
   "source": [
    "import time\n",
    "\n",
    "# Function to display text with a typewriter effect\n",
    "def type_text(text):\n",
    "    for char in text:\n",
    "        print(char, end='', flush=True)\n",
    "        time.sleep(0.03)\n",
    "    print()\n",
    "\n",
    "# Function to get the player's choice\n",
    "def get_choice(options):\n",
    "    while True:\n",
    "        choice = input(\"Enter your choice: \").strip().lower()\n",
    "        if choice in options:\n",
    "            return choice\n",
    "        else:\n",
    "            print(\"Invalid choice. Try again.\")\n",
    "\n",
    "# Introduction\n",
    "type_text(\"Welcome to the Text-Based Adventure Game!\")\n",
    "type_text(\"You find yourself in a dark forest.\")\n",
    "type_text(\"You can go 'left' or 'right'.\")\n",
    "\n",
    "# Main game loop\n",
    "while True:\n",
    "    choice1 = get_choice(['left', 'right'])\n",
    "    \n",
    "    if choice1 == 'left':\n",
    "        type_text(\"You go left and find a clearing with a river.\")\n",
    "        type_text(\"Do you want to 'cross' the river or 'explore' the clearing?\")\n",
    "        choice2 = get_choice(['cross', 'explore'])\n",
    "        \n",
    "        if choice2 == 'cross':\n",
    "            type_text(\"You successfully cross the river.\")\n",
    "            type_text(\"You win the game! Congratulations!\")\n",
    "            break\n",
    "        elif choice2 == 'explore':\n",
    "            type_text(\"You explore the clearing and find a treasure chest.\")\n",
    "            type_text(\"You win the game! Congratulations!\")\n",
    "            break\n",
    "    elif choice1 == 'right':\n",
    "        type_text(\"You go right and encounter a hungry bear.\")\n",
    "        type_text(\"Do you want to 'fight' the bear or 'run' away?\")\n",
    "        choice3 = get_choice(['fight', 'run'])\n",
    "        \n",
    "        if choice3 == 'fight':\n",
    "            type_text(\"You bravely fight the bear, but unfortunately, you lose.\")\n",
    "            type_text(\"Game Over!\")\n",
    "            break\n",
    "        elif choice3 == 'run':\n",
    "            type_text(\"You run away from the bear and find a hidden cave.\")\n",
    "            type_text(\"You enter the cave and discover a treasure chest.\")\n",
    "            type_text(\"You win the game! Congratulations!\")\n",
    "            break"
   ]
  },
  {
   "cell_type": "markdown",
   "id": "23ed6601",
   "metadata": {},
   "source": [
    "### 25. Build a program that solves a linear equation for x, considering different cases."
   ]
  },
  {
   "cell_type": "code",
   "execution_count": 55,
   "id": "08df74d4",
   "metadata": {},
   "outputs": [
    {
     "name": "stdout",
     "output_type": "stream",
     "text": [
      "Enter the a and b for equation ax+b=0\n",
      "Enter the coefficient 'a': 4\n",
      "Enter the coefficient 'b': 8\n",
      "The solution is x = -2.0\n"
     ]
    }
   ],
   "source": [
    "def solve_linear_equation(a, b):\n",
    "    if a == 0:\n",
    "        if b == 0:\n",
    "            return \"Infinite solutions (any x will work)\"\n",
    "        else:\n",
    "            return \"No solution (contradiction)\"\n",
    "    else:\n",
    "        x = -b / a\n",
    "        return f\"The solution is x = {x}\"\n",
    "\n",
    "# Get user input for coefficients\n",
    "print('Enter the a and b for equation ax+b=0')\n",
    "a = float(input(\"Enter the coefficient 'a': \"))\n",
    "b = float(input(\"Enter the coefficient 'b': \"))\n",
    "\n",
    "# Solve the linear equation and display the result\n",
    "result = solve_linear_equation(a, b)\n",
    "print(result)"
   ]
  },
  {
   "cell_type": "markdown",
   "id": "48c2173e",
   "metadata": {},
   "source": [
    "### 26. Write a program that simulates a basic quiz game with multiple-choice questions and scoring."
   ]
  },
  {
   "cell_type": "code",
   "execution_count": 56,
   "id": "4a507bd3",
   "metadata": {},
   "outputs": [
    {
     "name": "stdout",
     "output_type": "stream",
     "text": [
      "Welcome to the Quiz !!!!\n",
      "What is the captial of India?\n",
      "1. Mumbai\n",
      "2. New Delhi\n",
      "3. Kolkata\n",
      "4. Bangalore\n",
      "Enter the correct option(1,2,3,4):2\n",
      "Correct Answer !!! . Your current score is :1\n",
      "Which planet is known as Red Planet ?\n",
      "1. Mars\n",
      "2. Venus\n",
      "3. Earth\n",
      "4. Jupiter\n",
      "Enter the correct option(1,2,3,4):1\n",
      "Correct Answer !!! . Your current score is :2\n",
      "Which is our national bird?\n",
      "1. Ostrich\n",
      "2. Parrot\n",
      "3. Peacock\n",
      "4. Eagle\n",
      "Enter the correct option(1,2,3,4):3\n",
      "Correct Answer !!! . Your current score is :3\n",
      "When India got independence ?\n",
      "1. 1945\n",
      "2. 1942\n",
      "3. 1946\n",
      "4. 1947\n",
      "Enter the correct option(1,2,3,4):4\n",
      "Correct Answer !!! . Your current score is :4\n",
      "Quiz Completed !!! Your final score is :4\n"
     ]
    }
   ],
   "source": [
    "import time\n",
    "## Question List\n",
    "Questions = []\n",
    "Questions.append(['What is the captial of India?',('Mumbai','New Delhi','Kolkata','Bangalore'),2])\n",
    "Questions.append(['Which planet is known as Red Planet ?',('Mars','Venus','Earth','Jupiter'),1])\n",
    "Questions.append(['Which is our national bird?',('Ostrich','Parrot','Peacock','Eagle'),3])\n",
    "Questions.append(['When India got independence ?',('1945','1942','1946','1947'),4])\n",
    "\n",
    "def print_text(text):\n",
    "    for char in text:\n",
    "        print(char,end='',flush=True)\n",
    "        time.sleep(0.03)\n",
    "    print()\n",
    "    \n",
    "\n",
    "## Scoring \n",
    "score = 0\n",
    "    \n",
    "print_text('Welcome to the Quiz !!!!')\n",
    "for question in Questions:\n",
    "    print_text(question[0])\n",
    "    print_text('1. '+question[1][0])\n",
    "    print_text('2. '+question[1][1])\n",
    "    print_text('3. '+question[1][2])\n",
    "    print_text('4. '+question[1][3])\n",
    "    choice = input(\"Enter the correct option(1,2,3,4):\")\n",
    "    \n",
    "    if question[2]== int(choice):\n",
    "        score+=1\n",
    "        print_text('Correct Answer !!! . Your current score is :'+str(score))\n",
    "    \n",
    "    else:\n",
    "        print_text('Wrong Answer !!! Your current score is :'+str(score))\n",
    "\n",
    "print_text(\"Quiz Completed !!! Your final score is :\"+str(score))"
   ]
  },
  {
   "cell_type": "markdown",
   "id": "2dbb8093",
   "metadata": {},
   "source": [
    "### 27. Develop a program that determines whether a given year is a prime number or not."
   ]
  },
  {
   "cell_type": "code",
   "execution_count": 57,
   "id": "aff0ffb9",
   "metadata": {},
   "outputs": [
    {
     "name": "stdout",
     "output_type": "stream",
     "text": [
      "Enter a year: 2023\n",
      "2023 is not a prime year.\n"
     ]
    }
   ],
   "source": [
    "def is_prime(n):\n",
    "    if n <= 1:\n",
    "        return False\n",
    "    elif n <= 3:\n",
    "        return True\n",
    "    elif n % 2 == 0 or n % 3 == 0:\n",
    "        return False\n",
    "    i = 5\n",
    "    while i * i <= n:\n",
    "        if n % i == 0 or n % (i + 2) == 0:\n",
    "            return False\n",
    "        i += 6\n",
    "    return True\n",
    "\n",
    "# Input a year to check if it's prime or not\n",
    "number = int(input(\"Enter a year: \"))\n",
    "\n",
    "if is_prime(number):\n",
    "    print(f\"{number} is a prime year.\")\n",
    "else:\n",
    "    print(f\"{number} is not a prime year.\")\n"
   ]
  },
  {
   "cell_type": "markdown",
   "id": "cbb0dfd1",
   "metadata": {},
   "source": [
    "### 28. Create a program that sorts three numbers in ascending order using conditional statements."
   ]
  },
  {
   "cell_type": "code",
   "execution_count": 59,
   "id": "b9d46fc5",
   "metadata": {},
   "outputs": [
    {
     "name": "stdout",
     "output_type": "stream",
     "text": [
      "Enter the first number:6\n",
      "Enter the second number:14\n",
      "Enter the third number:2\n",
      "Sorted order: 2 6 14\n"
     ]
    }
   ],
   "source": [
    "## Input the three numbers\n",
    "num1 = int(input(\"Enter the first number:\"))\n",
    "num2 = int(input(\"Enter the second number:\"))\n",
    "num3 = int(input('Enter the third number:'))\n",
    "\n",
    "## Conditional check for numbers\n",
    "if num1 <=num2:\n",
    "    if num2<=num3:\n",
    "        print('Sorted order:',num1,num2,num3)\n",
    "    else:\n",
    "        if num1<=num3:\n",
    "            print('Sorted order:',num1,num3,num2)\n",
    "        else:\n",
    "            print('Sorted order:',num3,num1,num2)\n",
    "\n",
    "else:\n",
    "    if num1<=num3:\n",
    "        print('Sorted order:',num2,num1,num3)\n",
    "    else:\n",
    "        if num2<=num3:\n",
    "            print('Sorted order:',num2,num3,num1)\n",
    "        else:\n",
    "            print('Sorted order:',num3,num2,num1)"
   ]
  },
  {
   "cell_type": "markdown",
   "id": "1d5fc6df",
   "metadata": {},
   "source": [
    "### 29. Build a program that determines the roots of a quartic equation using numerical methods."
   ]
  },
  {
   "cell_type": "code",
   "execution_count": 60,
   "id": "0e5114b3",
   "metadata": {},
   "outputs": [
    {
     "name": "stdout",
     "output_type": "stream",
     "text": [
      "The solution are (-3+0j) and (-2+0j)\n"
     ]
    }
   ],
   "source": [
    "# Solve the quadratic equation ax**2 + bx + c = 0\n",
    "\n",
    "# import complex math module\n",
    "import cmath\n",
    "\n",
    "a = 1\n",
    "b = 5\n",
    "c = 6\n",
    "\n",
    "# calculate the discriminant\n",
    "d = (b**2) - (4*a*c)\n",
    "\n",
    "# find two solutions\n",
    "sol1 = (-b-cmath.sqrt(d))/(2*a)\n",
    "sol2 = (-b+cmath.sqrt(d))/(2*a)\n",
    "\n",
    "print('The solution are {0} and {1}'.format(sol1,sol2))"
   ]
  },
  {
   "cell_type": "markdown",
   "id": "089e6b8d",
   "metadata": {},
   "source": [
    "### 30. Write a program that calculates the BMI (Body Mass Index) and provides health recommendations based on the user's input."
   ]
  },
  {
   "cell_type": "code",
   "execution_count": 61,
   "id": "2bb15da1",
   "metadata": {},
   "outputs": [
    {
     "name": "stdout",
     "output_type": "stream",
     "text": [
      "Enter the weight in kgs : 77\n",
      "Enter the height in meters: 1.72\n",
      "Your BMI is : 26.027582477014604\n",
      "You are overweight. Consider doing more physical activity and improving your diet !!!!!\n"
     ]
    }
   ],
   "source": [
    "## Define the function to calculate the BMI\n",
    "def calculate_bmi(weight,height):\n",
    "    return weight/(height**2)\n",
    "\n",
    "def health_recommendation(bmi):\n",
    "    if bmi < 18.5:\n",
    "        return \"You are underweight !!! Please consult the dietition.\"\n",
    "    elif 18.5 <= bmi <24.9:\n",
    "        return \"Your BMI is within the healthy range. Keep up the good work !!!!\"\n",
    "    elif 25 <=bmi < 29.9:\n",
    "        return \"You are overweight. Consider doing more physical activity and improving your diet !!!!!\"\n",
    "    else:\n",
    "        return \"You are obese. It's important to consult the healthcare professional for correct guidance.\"\n",
    "\n",
    "#Take the user input\n",
    "weight = float(input(\"Enter the weight in kgs : \"))\n",
    "height = float(input(\"Enter the height in meters: \"))\n",
    "\n",
    "#Calculate the BMI\n",
    "bmi = calculate_bmi(weight,height)\n",
    "\n",
    "# Display the BMI and recommendations\n",
    "print(f'Your BMI is : {bmi}')\n",
    "print(health_recommendation(bmi))"
   ]
  },
  {
   "cell_type": "markdown",
   "id": "1524d921",
   "metadata": {},
   "source": [
    "## Challenge Level"
   ]
  },
  {
   "cell_type": "markdown",
   "id": "8ab5f756",
   "metadata": {},
   "source": [
    "### 31. Create a program that validates a password based on complexity rules (length, characters, etc.)."
   ]
  },
  {
   "cell_type": "code",
   "execution_count": 62,
   "id": "7f0bb0b4",
   "metadata": {},
   "outputs": [
    {
     "name": "stdout",
     "output_type": "stream",
     "text": [
      "Enter the password:ertrgsrA@1\n",
      "Password complexity is good.\n"
     ]
    }
   ],
   "source": [
    "## Assumptions are the length should be 8 characters, have at least one uppercase letter, atleast one lowercase letter\n",
    "## at least one digit, at least one special characters.\n",
    "\n",
    "\n",
    "import re\n",
    "\n",
    "## Function to validate the password\n",
    "def validate_password(password:str):\n",
    "\n",
    "    if len(password)<8:\n",
    "        return False\n",
    "    \n",
    "    if not re.search(r'[A-Z]',password):\n",
    "        return False\n",
    "    \n",
    "    if not re.search(r'[a-z]',password):\n",
    "        return False\n",
    "    \n",
    "    if not re.search(r'\\d',password):\n",
    "        return False\n",
    "    \n",
    "    if not re.search(r'[!@#$%^&*()_+{}\\[\\]:;<>,.?~\\\\|]',password):\n",
    "        return False\n",
    "    \n",
    "    return True\n",
    "\n",
    "## User input\n",
    "password = input(\"Enter the password:\")\n",
    "\n",
    "if validate_password(password):\n",
    "    print('Password complexity is good.')\n",
    "\n",
    "else:\n",
    "    print('Password is not valid')"
   ]
  },
  {
   "cell_type": "markdown",
   "id": "56925b09",
   "metadata": {},
   "source": [
    "### 32. Develop a program that performs matrix addition and subtraction based on user input."
   ]
  },
  {
   "cell_type": "code",
   "execution_count": 63,
   "id": "ff2f4258",
   "metadata": {},
   "outputs": [
    {
     "name": "stdout",
     "output_type": "stream",
     "text": [
      "Enter the number of rows:2\n",
      "Enter the number of columns:2\n",
      "Enter the elements for the first matrix\n",
      "Enter the matrix element at row 1, column 1 :1\n",
      "Enter the matrix element at row 1, column 2 :2\n",
      "Enter the matrix element at row 2, column 1 :3\n",
      "Enter the matrix element at row 2, column 2 :4\n",
      "Matrix1 : [[1.0, 2.0], [3.0, 4.0]]\n",
      "Enter the elements for the second matrix\n",
      "Enter the matrix element at row 1, column 1 :1\n",
      "Enter the matrix element at row 1, column 2 :2\n",
      "Enter the matrix element at row 2, column 1 :1\n",
      "Enter the matrix element at row 2, column 2 :2\n",
      "Matrix2 : [[1.0, 2.0], [1.0, 2.0]]\n",
      "Matrix Addition\n",
      "[[2.0, 4.0], [4.0, 6.0]]\n",
      "Matrix Subtraction\n",
      "[[0.0, 0.0], [2.0, 2.0]]\n"
     ]
    }
   ],
   "source": [
    "## Input for matrix\n",
    "\n",
    "## Create matrix input function\n",
    "\n",
    "def create_matrix(rows,cols):\n",
    "    matrix = []\n",
    "    \n",
    "    for i in range(rows):\n",
    "        row =[]\n",
    "        for j in range(cols):\n",
    "            element = float(input(f'Enter the matrix element at row {i+1}, column {j+1} :'))\n",
    "            row.append(element)\n",
    "        matrix.append(row)\n",
    "    \n",
    "    return matrix\n",
    "        \n",
    "## Function for matrix addition\n",
    "def matrix_add(matrix1, matrix2,rows,cols):\n",
    "    \n",
    "    addition = []\n",
    "    \n",
    "    for i in range(rows):\n",
    "        row = []\n",
    "        for j in range(cols):\n",
    "            row.append(matrix1[i][j]+matrix2[i][j])\n",
    "        addition.append(row)\n",
    "    return addition\n",
    "    \n",
    "## Function for matrix addition\n",
    "def matrix_subtract(matrix1, matrix2,rows,cols):\n",
    "    \n",
    "    subtract = []\n",
    "    \n",
    "    for i in range(rows):\n",
    "        row = []\n",
    "        for j in range(cols):\n",
    "            row.append(matrix1[i][j]-matrix2[i][j])\n",
    "        subtract.append(row)\n",
    "    return subtract\n",
    "\n",
    "rows = int(input(\"Enter the number of rows:\"))\n",
    "cols = int(input(\"Enter the number of columns:\"))\n",
    "\n",
    "\n",
    "## Matrix 1 input\n",
    "print(\"Enter the elements for the first matrix\")\n",
    "matrix1 = create_matrix(rows,cols)\n",
    "print(\"Matrix1 :\",matrix1)\n",
    "\n",
    "## Matrix 2 input\n",
    "print(\"Enter the elements for the second matrix\")\n",
    "matrix2 = create_matrix(rows,cols)\n",
    "print(\"Matrix2 :\",matrix2)\n",
    "\n",
    "\n",
    "# Matrix Addition\n",
    "print('Matrix Addition')\n",
    "addition = matrix_add(matrix1,matrix2,rows,cols)\n",
    "print(addition)\n",
    "\n",
    "# Matrix Subtraction\n",
    "print('Matrix Subtraction')\n",
    "subtract = matrix_subtract(matrix1,matrix2,rows,cols)\n",
    "print(subtract)"
   ]
  },
  {
   "cell_type": "markdown",
   "id": "03e6abac",
   "metadata": {},
   "source": [
    "### 33. Write a program that calculates the greatest common divisor (GCD) of two numbers using the Euclidean algorithm."
   ]
  },
  {
   "cell_type": "code",
   "execution_count": 64,
   "id": "1e0662ea",
   "metadata": {},
   "outputs": [
    {
     "name": "stdout",
     "output_type": "stream",
     "text": [
      "Enter the first number : 74\n",
      "Enter the second number : 3\n",
      "GCD of 74 and 3 is: 1\n"
     ]
    }
   ],
   "source": [
    "#function takes num1 and num2 as input and returns their gcd\n",
    "def gcd(num1, num2):\n",
    "    if num1 ==0:\n",
    "        return num2\n",
    "    elif num2 == 0:\n",
    "        return num1\n",
    "    else:\n",
    "        if num1<num2:\n",
    "            return gcd(num1,num2%num1)\n",
    "        else:\n",
    "            return gcd(num2, num1%num2)\n",
    "        \n",
    "#taking input from user\n",
    "num1 = int(input(\"Enter the first number : \"))\n",
    "num2 = int(input(\"Enter the second number : \"))\n",
    "\n",
    "#print the output\n",
    "print(\"GCD of {} and {} is: {}\".format(num1,num2,gcd(num1,num2)))"
   ]
  },
  {
   "cell_type": "markdown",
   "id": "012ffb65",
   "metadata": {},
   "source": [
    "### 34. Build a program that performs matrix multiplication using nested loops and conditional statements."
   ]
  },
  {
   "cell_type": "code",
   "execution_count": 65,
   "id": "ccc5e726",
   "metadata": {},
   "outputs": [
    {
     "name": "stdout",
     "output_type": "stream",
     "text": [
      "[[58, 64], [139, 154]]\n"
     ]
    }
   ],
   "source": [
    "# Function to multiply the matrices\n",
    "\n",
    "def multiply_matrix(A,B):\n",
    "    \n",
    "    if len(A[0]) != len(B):\n",
    "        print('Multiplication is not possible since no of columns in Matrix A is not equal to no of rows in Matrix B.')\n",
    "        return None\n",
    "    \n",
    "    result = [[0 for _ in range(len(B[0]))] for _ in range(len(A))]\n",
    "    \n",
    "    for i in range(len(A)):\n",
    "        for j in range(len(B[0])):\n",
    "            for k in range(len(B)):\n",
    "                result[i][j]+= A[i][k] * B[k][j]\n",
    "\n",
    "    print(result)\n",
    "\n",
    "## Example input matrices\n",
    "matrix1 = [[1, 2, 3],\n",
    "            [4, 5, 6]]\n",
    "\n",
    "matrix2 = [[7,8],\n",
    "           [9,10],\n",
    "          [11,12]]\n",
    "\n",
    "## Function call to multiply matrices\n",
    "multiply_matrix(matrix1,matrix2)"
   ]
  },
  {
   "cell_type": "markdown",
   "id": "79fd000d",
   "metadata": {},
   "source": [
    "### 35. Create a program that simulates a basic text-based tic-tac-toe game against the computer."
   ]
  },
  {
   "cell_type": "code",
   "execution_count": 66,
   "id": "d0c348c0",
   "metadata": {},
   "outputs": [
    {
     "name": "stdout",
     "output_type": "stream",
     "text": [
      "Welcome to Text-Based Tic-Tac-Toe!\n",
      "  |   |  \n",
      "---------\n",
      "  |   |  \n",
      "---------\n",
      "  |   |  \n",
      "---------\n",
      "Enter your move (1-9): 9\n",
      "  |   |  \n",
      "---------\n",
      "  |   |  \n",
      "---------\n",
      "  | O | X\n",
      "---------\n",
      "Enter your move (1-9): 3\n",
      "  |   | X\n",
      "---------\n",
      "  |   |  \n",
      "---------\n",
      "O | O | X\n",
      "---------\n",
      "Enter your move (1-9): 6\n",
      "  |   | X\n",
      "---------\n",
      "  |   | X\n",
      "---------\n",
      "O | O | X\n",
      "---------\n",
      "Congratulations! You win!\n"
     ]
    }
   ],
   "source": [
    "import random\n",
    "\n",
    "def print_board(board):\n",
    "    for row in board:\n",
    "        print(\" | \".join(row))\n",
    "        print(\"-\" * 9)\n",
    "\n",
    "def check_winner(board, player):\n",
    "    for row in board:\n",
    "        if all(cell == player for cell in row):\n",
    "            return True\n",
    "\n",
    "    for col in range(3):\n",
    "        if all(board[row][col] == player for row in range(3)):\n",
    "            return True\n",
    "\n",
    "    if all(board[i][i] == player for i in range(3)) or all(board[i][2 - i] == player for i in range(3)):\n",
    "        return True\n",
    "\n",
    "    return False\n",
    "\n",
    "def is_board_full(board):\n",
    "    return all(cell != \" \" for row in board for cell in row)\n",
    "\n",
    "def player_move(board):\n",
    "    while True:\n",
    "        try:\n",
    "            move = int(input(\"Enter your move (1-9): \"))\n",
    "            if 1 <= move <= 9:\n",
    "                row, col = divmod(move - 1, 3)\n",
    "                if board[row][col] == \" \":\n",
    "                    return row, col\n",
    "                else:\n",
    "                    print(\"That space is already taken. Try again.\")\n",
    "            else:\n",
    "                print(\"Invalid input. Enter a number between 1 and 9.\")\n",
    "        except ValueError:\n",
    "            print(\"Invalid input. Enter a number between 1 and 9.\")\n",
    "\n",
    "def computer_move(board):\n",
    "    empty_cells = [(row, col) for row in range(3) for col in range(3) if board[row][col] == \" \"]\n",
    "    return random.choice(empty_cells)\n",
    "\n",
    "def main():\n",
    "    board = [[\" \" for _ in range(3)] for _ in range(3)]\n",
    "    player_symbol = \"X\"\n",
    "    computer_symbol = \"O\"\n",
    "\n",
    "    print(\"Welcome to Text-Based Tic-Tac-Toe!\")\n",
    "\n",
    "    while True:\n",
    "        print_board(board)\n",
    "        player_row, player_col = player_move(board)\n",
    "        board[player_row][player_col] = player_symbol\n",
    "\n",
    "        if check_winner(board, player_symbol):\n",
    "            print_board(board)\n",
    "            print(\"Congratulations! You win!\")\n",
    "            break\n",
    "\n",
    "        if is_board_full(board):\n",
    "            print_board(board)\n",
    "            print(\"It's a tie!\")\n",
    "            break\n",
    "\n",
    "        computer_row, computer_col = computer_move(board)\n",
    "        board[computer_row][computer_col] = computer_symbol\n",
    "\n",
    "        if check_winner(board, computer_symbol):\n",
    "            print_board(board)\n",
    "            print(\"Computer wins! Better luck next time.\")\n",
    "            break\n",
    "\n",
    "        if is_board_full(board):\n",
    "            print_board(board)\n",
    "            print(\"It's a tie!\")\n",
    "            break\n",
    "\n",
    "if __name__ == \"__main__\":\n",
    "    main()"
   ]
  },
  {
   "cell_type": "markdown",
   "id": "60c15ad2",
   "metadata": {},
   "source": [
    "### 36. Write a program that generates Fibonacci numbers up to a specified term using iterative methods."
   ]
  },
  {
   "cell_type": "code",
   "execution_count": 67,
   "id": "45cc84f8",
   "metadata": {},
   "outputs": [
    {
     "name": "stdout",
     "output_type": "stream",
     "text": [
      "Fibonacci sequence up to 10 terms:\n",
      "[0, 1, 1, 2, 3, 5, 8, 13, 21, 34]\n"
     ]
    }
   ],
   "source": [
    "def generate_fibonacci(n):\n",
    "    if n <= 0:\n",
    "        return []\n",
    "\n",
    "    fibonacci_sequence = [0, 1]\n",
    "\n",
    "    while len(fibonacci_sequence) < n:\n",
    "        next_fibonacci = fibonacci_sequence[-1] + fibonacci_sequence[-2]\n",
    "        fibonacci_sequence.append(next_fibonacci)\n",
    "\n",
    "    return fibonacci_sequence\n",
    "\n",
    "## N terms\n",
    "n_terms = 10\n",
    "\n",
    "fibonacci_numbers = generate_fibonacci(n_terms)\n",
    "\n",
    "# Print the generated Fibonacci sequence\n",
    "print(f\"Fibonacci sequence up to {n_terms} terms:\")\n",
    "print(fibonacci_numbers)"
   ]
  },
  {
   "cell_type": "markdown",
   "id": "13ec3eb6",
   "metadata": {},
   "source": [
    "### 37. Develop a program that calculates the nth term of the Fibonacci sequence using memoization."
   ]
  },
  {
   "cell_type": "code",
   "execution_count": 68,
   "id": "21075a71",
   "metadata": {},
   "outputs": [
    {
     "name": "stdout",
     "output_type": "stream",
     "text": [
      "Enter the value whose fibo you want : 4\n",
      "F(n) = 3\n"
     ]
    }
   ],
   "source": [
    "# Function to find the nth Fibonacci number\n",
    "def fib(n, lookup):\n",
    " \n",
    "    if n <= 1:\n",
    "        return n\n",
    " \n",
    "    # if the subproblem is seen for the first time\n",
    "    if n not in lookup:\n",
    "        lookup[n] = fib(n - 1, lookup) + fib(n - 2, lookup)\n",
    " \n",
    "    return lookup[n]\n",
    " \n",
    " \n",
    "\n",
    " \n",
    "n = int(input(\"Enter the value whose fibo you want : \"))\n",
    "lookup = {}\n",
    " \n",
    "print('F(n) =', fib(n, lookup))"
   ]
  },
  {
   "cell_type": "markdown",
   "id": "ac5c66b3",
   "metadata": {},
   "source": [
    "### 38. Create a program that generates a calendar for a given month and year using conditional statements."
   ]
  },
  {
   "cell_type": "code",
   "execution_count": 69,
   "id": "acca76ee",
   "metadata": {},
   "outputs": [
    {
     "name": "stdout",
     "output_type": "stream",
     "text": [
      "Enter the year (e.g., 2023): 2023\n",
      "Enter the month (1-12): 10\n",
      "Calendar for 10/2023:\n",
      "    October 2023\n",
      "Mo Tu We Th Fr Sa Su\n",
      "                   1\n",
      " 2  3  4  5  6  7  8\n",
      " 9 10 11 12 13 14 15\n",
      "16 17 18 19 20 21 22\n",
      "23 24 25 26 27 28 29\n",
      "30 31\n",
      "\n"
     ]
    }
   ],
   "source": [
    "import calendar\n",
    "\n",
    "def generate_calendar(year, month):\n",
    "    # Create a calendar object for the specified month and year\n",
    "    cal = calendar.month(year, month)\n",
    "\n",
    "    # Print the calendar\n",
    "    print(\"Calendar for {}/{}:\".format(month, year))\n",
    "    print(cal)\n",
    "\n",
    "\n",
    "try:\n",
    "    year = int(input(\"Enter the year (e.g., 2023): \"))\n",
    "    month = int(input(\"Enter the month (1-12): \"))\n",
    "\n",
    "    if 1 <= month <= 12:\n",
    "        generate_calendar(year, month)\n",
    "    else:\n",
    "        print(\"Invalid month. Please enter a number between 1 and 12.\")\n",
    "except ValueError:\n",
    "    print(\"Invalid input. Please enter valid year and month.\")"
   ]
  },
  {
   "cell_type": "markdown",
   "id": "c413bdc9",
   "metadata": {},
   "source": [
    "### 39. Build a program that simulates a basic text-based blackjack game against the computer."
   ]
  },
  {
   "cell_type": "code",
   "execution_count": 70,
   "id": "dc22bad7",
   "metadata": {},
   "outputs": [
    {
     "name": "stdout",
     "output_type": "stream",
     "text": [
      "\n",
      "Your hand: ['K', '7'] Value: 17\n",
      "Dealer's hand: Q Value: ?\n",
      "\n",
      "Do you want to 'hit' or 'stand'? hit\n",
      "\n",
      "Your hand: ['K', '7', 'J'] Value: 27\n",
      "Dealer's hand: Q Value: ?\n",
      "\n",
      "Bust! You lose.\n"
     ]
    }
   ],
   "source": [
    "import random\n",
    "\n",
    "# Function to calculate the total value of a hand\n",
    "def calculate_hand_value(hand):\n",
    "    value = 0\n",
    "    num_aces = 0\n",
    "\n",
    "    for card in hand:\n",
    "        if card in ['J', 'Q', 'K']:\n",
    "            value += 10\n",
    "        elif card == 'A':\n",
    "            value += 11\n",
    "            num_aces += 1\n",
    "        else:\n",
    "            value += int(card)\n",
    "\n",
    "    while value > 21 and num_aces > 0:\n",
    "        value -= 10\n",
    "        num_aces -= 1\n",
    "\n",
    "    return value\n",
    "\n",
    "# Function to display the current status of the game\n",
    "def display_game(player_hand, dealer_hand):\n",
    "    print(\"\\nYour hand:\", player_hand, \"Value:\", calculate_hand_value(player_hand))\n",
    "    print(\"Dealer's hand:\", dealer_hand[0], \"Value: ?\\n\")\n",
    "\n",
    "# Function to determine the game outcome\n",
    "def determine_winner(player_hand, dealer_hand):\n",
    "    player_value = calculate_hand_value(player_hand)\n",
    "    dealer_value = calculate_hand_value(dealer_hand)\n",
    "\n",
    "    if player_value > 21:\n",
    "        return \"Dealer\"\n",
    "    elif dealer_value > 21:\n",
    "        return \"Player\"\n",
    "    elif player_value == dealer_value:\n",
    "        return \"Tie\"\n",
    "    elif player_value > dealer_value:\n",
    "        return \"Player\"\n",
    "    else:\n",
    "        return \"Dealer\"\n",
    "\n",
    "# Initialize the deck of cards\n",
    "suits = ['Hearts', 'Diamonds', 'Clubs', 'Spades']\n",
    "ranks = ['2', '3', '4', '5', '6', '7', '8', '9', '10', 'J', 'Q', 'K', 'A']\n",
    "\n",
    "deck = [rank for rank in ranks for _ in suits]\n",
    "\n",
    "# Shuffle the deck\n",
    "random.shuffle(deck)\n",
    "\n",
    "# Deal two initial cards to the player and the dealer\n",
    "player_hand = [deck.pop(), deck.pop()]\n",
    "dealer_hand = [deck.pop(), deck.pop()]\n",
    "\n",
    "# Main game loop\n",
    "while True:\n",
    "    display_game(player_hand, dealer_hand)\n",
    "\n",
    "    if calculate_hand_value(player_hand) == 21:\n",
    "        print(\"Blackjack! You win!\")\n",
    "        break\n",
    "\n",
    "    action = input(\"Do you want to 'hit' or 'stand'? \").lower()\n",
    "\n",
    "    if action == 'hit':\n",
    "        player_hand.append(deck.pop())\n",
    "        if calculate_hand_value(player_hand) > 21:\n",
    "            display_game(player_hand, dealer_hand)\n",
    "            print(\"Bust! You lose.\")\n",
    "            break\n",
    "    elif action == 'stand':\n",
    "        while calculate_hand_value(dealer_hand) < 17:\n",
    "            dealer_hand.append(deck.pop())\n",
    "        display_game(player_hand, dealer_hand)\n",
    "        winner = determine_winner(player_hand, dealer_hand)\n",
    "        print(f\"{winner} wins!\")\n",
    "        break\n",
    "    else:\n",
    "        print(\"Invalid input. Please enter 'hit' or 'stand'.\")\n",
    "\n",
    "    if len(deck) < 4:\n",
    "        print(\"Not enough cards in the deck. Game over.\")\n",
    "        break"
   ]
  },
  {
   "cell_type": "markdown",
   "id": "0b100f01",
   "metadata": {},
   "source": [
    "### 40. Write a program that generates the prime factors of a given number using trial division."
   ]
  },
  {
   "cell_type": "code",
   "execution_count": 71,
   "id": "e07e4d0f",
   "metadata": {},
   "outputs": [
    {
     "name": "stdout",
     "output_type": "stream",
     "text": [
      "Enter a positive integer: 56\n",
      "The prime factors of 56 are: 2, 2, 2, 7\n"
     ]
    }
   ],
   "source": [
    "def prime_factors(n):\n",
    "    factors = []\n",
    "    divisor = 2\n",
    "\n",
    "    while n > 1:\n",
    "        while n % divisor == 0:\n",
    "            factors.append(divisor)\n",
    "            n //= divisor\n",
    "        divisor += 1\n",
    "\n",
    "    return factors\n",
    "\n",
    "\n",
    "try:\n",
    "    num = int(input(\"Enter a positive integer: \"))\n",
    "    if num <= 0:\n",
    "        print(\"Please enter a positive integer.\")\n",
    "    else:\n",
    "        factors = prime_factors(num)\n",
    "        if len(factors) == 1:\n",
    "            print(f\"{num} is a prime number.\")\n",
    "        else:\n",
    "            print(f\"The prime factors of {num} are: {', '.join(map(str, factors))}\")\n",
    "except ValueError:\n",
    "    print(\"Invalid input. Please enter a valid positive integer.\")"
   ]
  },
  {
   "cell_type": "code",
   "execution_count": null,
   "id": "9b43539d",
   "metadata": {},
   "outputs": [],
   "source": []
  }
 ],
 "metadata": {
  "kernelspec": {
   "display_name": "Python 3 (ipykernel)",
   "language": "python",
   "name": "python3"
  },
  "language_info": {
   "codemirror_mode": {
    "name": "ipython",
    "version": 3
   },
   "file_extension": ".py",
   "mimetype": "text/x-python",
   "name": "python",
   "nbconvert_exporter": "python",
   "pygments_lexer": "ipython3",
   "version": "3.9.7"
  }
 },
 "nbformat": 4,
 "nbformat_minor": 5
}
